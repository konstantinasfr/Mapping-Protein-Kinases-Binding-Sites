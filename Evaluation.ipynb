{
 "cells": [
  {
   "cell_type": "code",
   "execution_count": 34,
   "metadata": {},
   "outputs": [],
   "source": [
    "import re\n",
    "import requests\n",
    "import urllib\n",
    "import pandas as pd\n",
    "import difflib\n",
    "from statistics import mean\n",
    "\n",
    "filename = \"scPDB_Proteins_BindingSites.txt\"\n",
    "doc = open(filename, \"r\")\n",
    "Lines = doc.readlines()"
   ]
  },
  {
   "cell_type": "code",
   "execution_count": 50,
   "metadata": {},
   "outputs": [],
   "source": [
    "amino_acids = ['VAL', 'ILE', 'LEU', 'GLU', 'GLN', 'ASP', 'ASN', 'HIS', 'TRP', 'PHE', 'TYR',  'ARG', 'LYS', 'SER', 'THR', 'MET', 'ALA', 'GLY', 'PRO', 'CYS']"
   ]
  },
  {
   "cell_type": "markdown",
   "metadata": {},
   "source": [
    "## scPDB"
   ]
  },
  {
   "cell_type": "code",
   "execution_count": 51,
   "metadata": {},
   "outputs": [],
   "source": [
    "scPDB = {}\n",
    "for i in range(len(Lines)):\n",
    "    words = Lines[i].split('||')\n",
    "    # we store only the first 4 letters of the first word which is the PDB id \n",
    "    idPDB = words[0][:4]\n",
    "    # for the rest of the words we store only the positions on the animoacids so we ignore the first 3 letters\n",
    "    positions = []\n",
    "    for j in range(1,len(words)-1):\n",
    "#         positions.append(words[j][3:6])\n",
    "        if words[j][:3] in amino_acids:\n",
    "            res = ''.join(filter(lambda i: i.isdigit(), words[j]))\n",
    "            positions.append(res)\n",
    "    # we store the list with the positions in a dictionary, idPDB will be the key \n",
    "    scPDB[idPDB] = [ int(x) for x in positions ]"
   ]
  },
  {
   "cell_type": "markdown",
   "metadata": {},
   "source": [
    "## Similarity predictions with scPDB"
   ]
  },
  {
   "cell_type": "code",
   "execution_count": 59,
   "metadata": {},
   "outputs": [],
   "source": [
    "import os\n",
    "# loading all prediction files\n",
    "files_pred = os.listdir('test_output/predictions/')\n",
    "total_files = len(files_pred)\n",
    "counter = 1\n",
    "total_max_sim = []"
   ]
  },
  {
   "cell_type": "code",
   "execution_count": 60,
   "metadata": {},
   "outputs": [],
   "source": [
    "def calc_similarity(l1,l2):\n",
    "    count_com = 0\n",
    "    for item in l1:\n",
    "        if item in l2:\n",
    "            count_com +=1\n",
    "    return count_com/len(l2)*100"
   ]
  },
  {
   "cell_type": "code",
   "execution_count": 61,
   "metadata": {},
   "outputs": [
    {
     "name": "stdout",
     "output_type": "stream",
     "text": [
      "2960/2960\r"
     ]
    }
   ],
   "source": [
    "with os.scandir('test_output/predictions/') as entries:\n",
    "    for entry in entries:\n",
    "        \n",
    "        # just a counter to track the iteration we are and be less impatient\n",
    "        print(str(counter)+\"/\"+str(total_files),end=\"\\r\")\n",
    "        counter += 1\n",
    "        \n",
    "        # we read the all pockets as dataframe\n",
    "        p = pd.read_csv('test_output/predictions/'+entry.name)\n",
    "        \n",
    "        # we will keep the maximum similarity, so we need a max value to store it \n",
    "        max_sim = 0\n",
    "        \n",
    "        # we retrieve the pocket that is stored in scPDB\n",
    "        idPDB = entry.name[:4]\n",
    "        pocket_scPDB = scPDB[idPDB]\n",
    "        \n",
    "        # we read all pockets one by one and check the similarity with the pocket stored in scPDB\n",
    "        for index, row in p.iterrows() :\n",
    "            pocket = row[\" residue_ids\"]\n",
    "            pocket_list = pocket.split()\n",
    "            pocket_list = [ ''.join(filter(lambda i: i.isdigit(), x)) for x in pocket_list ]\n",
    "            pocket_list =  [ int(x) for x in pocket_list ]\n",
    "            simil = calc_similarity(pocket_list,pocket_scPDB)\n",
    "            if simil>max_sim:\n",
    "                max_sim = simil\n",
    "        total_max_sim.append(max_sim)"
   ]
  },
  {
   "cell_type": "code",
   "execution_count": 62,
   "metadata": {},
   "outputs": [
    {
     "data": {
      "text/plain": [
       "71.54275842790325"
      ]
     },
     "execution_count": 62,
     "metadata": {},
     "output_type": "execute_result"
    }
   ],
   "source": [
    "mean(total_max_sim)"
   ]
  }
 ],
 "metadata": {
  "kernelspec": {
   "display_name": "Python 3",
   "language": "python",
   "name": "python3"
  },
  "language_info": {
   "codemirror_mode": {
    "name": "ipython",
    "version": 3
   },
   "file_extension": ".py",
   "mimetype": "text/x-python",
   "name": "python",
   "nbconvert_exporter": "python",
   "pygments_lexer": "ipython3",
   "version": "3.7.6"
  }
 },
 "nbformat": 4,
 "nbformat_minor": 4
}
