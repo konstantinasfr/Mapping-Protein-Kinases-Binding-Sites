{
 "cells": [
  {
   "cell_type": "markdown",
   "metadata": {},
   "source": [
    "## Kinome Atlas"
   ]
  },
  {
   "cell_type": "code",
   "execution_count": 2,
   "metadata": {},
   "outputs": [],
   "source": [
    "import requests\n",
    "import urllib.request\n",
    "import time\n",
    "from bs4 import BeautifulSoup\n",
    "import re\n",
    "import urllib\n",
    "import numpy as np"
   ]
  },
  {
   "cell_type": "code",
   "execution_count": 3,
   "metadata": {},
   "outputs": [
    {
     "name": "stdout",
     "output_type": "stream",
     "text": [
      "page 16\r"
     ]
    }
   ],
   "source": [
    "kinome = []\n",
    "total_kinome = []\n",
    "for page in range(1,17):\n",
    "    print(\"page \"+str(page),end=\"\\r\")\n",
    "    url = 'https://kinase-atlas.bu.edu/uniprot/index?page='+str(page)\n",
    "    response = requests.get(url)\n",
    "    soup = BeautifulSoup(response.text, \"html.parser\")\n",
    "    for row in soup.table.select(\"tbody tr\"):\n",
    "        tds = [td.get_text(strip=True) for td in row.select(\"td\")]\n",
    "    #     print(tds)\n",
    "        if tds[2] == \"Homo sapiens\":\n",
    "            kinome.append([tds[0],tds[1]])\n",
    "        total_kinome.append(tds)"
   ]
  },
  {
   "cell_type": "code",
   "execution_count": 4,
   "metadata": {},
   "outputs": [
    {
     "data": {
      "text/plain": [
       "240"
      ]
     },
     "execution_count": 4,
     "metadata": {},
     "output_type": "execute_result"
    }
   ],
   "source": [
    "len(kinome)"
   ]
  },
  {
   "cell_type": "markdown",
   "metadata": {},
   "source": [
    "## Uniprot"
   ]
  },
  {
   "cell_type": "code",
   "execution_count": 5,
   "metadata": {},
   "outputs": [],
   "source": [
    "def word_break(text_br):\n",
    "    words = re.findall(r'\\b\\S+\\b', text_br) \n",
    "    return words\n",
    "\n",
    "# homo sapiens, reviewed, family=kinases\n",
    "filename = \"uniprot-family_kinase.txt\"\n",
    "doc = open(filename, \"r\")\n",
    "text_string = doc.read()\n",
    "match_word=word_break(text_string)\n"
   ]
  },
  {
   "cell_type": "code",
   "execution_count": 6,
   "metadata": {},
   "outputs": [],
   "source": [
    "kinases = []\n",
    "kinases_pdb = []\n",
    "ac_uniprot = \"\"\n",
    "id_uniprot = \"\"\n",
    "method = \"\"\n",
    "resolution = 10000\n",
    "pdb = \"\"\n",
    "first_time = False\n",
    "for i in range(len(match_word)):\n",
    "    \n",
    "        if match_word[i] == \"ID\":\n",
    "            kinases.append([ ac_uniprot,id_uniprot,method,pdb,resolution])\n",
    "            if pdb != \"\" :\n",
    "                kinases_pdb.append([ ac_uniprot,id_uniprot,method,pdb,resolution])\n",
    "            first_time = True\n",
    "            # from previous protein\n",
    "            method = \"\"\n",
    "            pdb = \"\"\n",
    "            resolution = 10000\n",
    "            \n",
    "            id_uniprot =  match_word[i+1] \n",
    "        \n",
    "        \n",
    "        if match_word[i] == \"AC\":\n",
    "            if first_time:\n",
    "                ac_uniprot =  match_word[i+1]\n",
    "                first_time = False\n",
    "#                 kinases.append([ ac_uniprot,id_uniprot])\n",
    "            \n",
    "        if match_word[i] == \"PDB\" and match_word[i+1] != \"data\":\n",
    "            if method == \"\":\n",
    "                method = match_word[i+2]\n",
    "                pdb = match_word[i+1]\n",
    "                if method != \"NMR\" and method != \"Model\" and method != \"Other\":\n",
    "#                     print(match_word[i+1],match_word[i+2],match_word[i+3])\n",
    "                    resolution = float(match_word[i+3])\n",
    "                    \n",
    "            elif match_word[i+2] != \"NMR\" and match_word[i+2] != \"Model\" and match_word[i+2] != \"Other\":\n",
    "#                 print(match_word[i+1],match_word[i+2],match_word[i+3])\n",
    "                if resolution < float(match_word[i+3]):\n",
    "                    method = match_word[i+2]\n",
    "                    pdb = match_word[i+1]  \n",
    "                    resolution = float(match_word[i+3])\n",
    "\n",
    "\n",
    "       "
   ]
  },
  {
   "cell_type": "code",
   "execution_count": 7,
   "metadata": {},
   "outputs": [
    {
     "data": {
      "text/plain": [
       "402"
      ]
     },
     "execution_count": 7,
     "metadata": {},
     "output_type": "execute_result"
    }
   ],
   "source": [
    "len(kinases_pdb)"
   ]
  },
  {
   "cell_type": "markdown",
   "metadata": {},
   "source": [
    "## Comparison Kinome Atlas, Uniprot"
   ]
  },
  {
   "cell_type": "code",
   "execution_count": 8,
   "metadata": {},
   "outputs": [],
   "source": [
    "kinases_pdb = np.array(kinases_pdb)\n",
    "uniprot_kinases = kinases_pdb[:,0]\n",
    "\n",
    "kinome = np.array(kinome)\n",
    "atlas_kinases = kinome[:,0]"
   ]
  },
  {
   "cell_type": "code",
   "execution_count": 9,
   "metadata": {},
   "outputs": [
    {
     "data": {
      "text/plain": [
       "240"
      ]
     },
     "execution_count": 9,
     "metadata": {},
     "output_type": "execute_result"
    }
   ],
   "source": [
    "len(atlas_kinases)"
   ]
  },
  {
   "cell_type": "code",
   "execution_count": 10,
   "metadata": {},
   "outputs": [
    {
     "data": {
      "text/plain": [
       "402"
      ]
     },
     "execution_count": 10,
     "metadata": {},
     "output_type": "execute_result"
    }
   ],
   "source": [
    "len(uniprot_kinases)"
   ]
  },
  {
   "cell_type": "code",
   "execution_count": 11,
   "metadata": {},
   "outputs": [
    {
     "name": "stdout",
     "output_type": "stream",
     "text": [
      "D3DSX2\n",
      "239/240\n"
     ]
    }
   ],
   "source": [
    "counter = 0\n",
    "for kinase in atlas_kinases:\n",
    "    if kinase in uniprot_kinases:\n",
    "        counter += 1\n",
    "    else:\n",
    "        print(kinase)\n",
    "print(str(counter)+\"/\"+str(len(atlas_kinases)))"
   ]
  },
  {
   "cell_type": "code",
   "execution_count": null,
   "metadata": {},
   "outputs": [],
   "source": [
    "# https://www.uniprot.org/uniprot/D3DSX2\n",
    "    \n",
    "# https://www.uniprot.org/uniprot/P11362\n",
    "\n"
   ]
  },
  {
   "cell_type": "markdown",
   "metadata": {},
   "source": [
    "### Check for duplicates"
   ]
  },
  {
   "cell_type": "code",
   "execution_count": 14,
   "metadata": {},
   "outputs": [],
   "source": [
    "kinases_pdb_uniq = np.array(kinases_pdb)\n",
    "uniprot_kinases_uniq = kinases_pdb_uniq[:,3]"
   ]
  },
  {
   "cell_type": "code",
   "execution_count": 16,
   "metadata": {},
   "outputs": [],
   "source": [
    "def checkIfDuplicates(listOfElems):\n",
    "    ''' Check if given list contains any duplicates '''    \n",
    "    for elem in listOfElems:\n",
    "        if listOfElems.count(elem) > 1:\n",
    "            print()\n",
    "            return True\n",
    "    return False"
   ]
  },
  {
   "cell_type": "code",
   "execution_count": 20,
   "metadata": {},
   "outputs": [
    {
     "data": {
      "text/plain": [
       "True"
      ]
     },
     "execution_count": 20,
     "metadata": {},
     "output_type": "execute_result"
    }
   ],
   "source": [
    "checkIfDuplicates(list(uniprot_kinases_uniq))"
   ]
  },
  {
   "cell_type": "markdown",
   "metadata": {},
   "source": [
    "There are duplicates"
   ]
  },
  {
   "cell_type": "code",
   "execution_count": 23,
   "metadata": {},
   "outputs": [
    {
     "name": "stdout",
     "output_type": "stream",
     "text": [
      "396\n"
     ]
    }
   ],
   "source": [
    "mylist = list(uniprot_kinases_uniq)\n",
    "mylist = list(dict.fromkeys(mylist))\n",
    "print(len(mylist))"
   ]
  },
  {
   "cell_type": "code",
   "execution_count": null,
   "metadata": {},
   "outputs": [],
   "source": []
  }
 ],
 "metadata": {
  "kernelspec": {
   "display_name": "Python 3",
   "language": "python",
   "name": "python3"
  },
  "language_info": {
   "codemirror_mode": {
    "name": "ipython",
    "version": 3
   },
   "file_extension": ".py",
   "mimetype": "text/x-python",
   "name": "python",
   "nbconvert_exporter": "python",
   "pygments_lexer": "ipython3",
   "version": "3.7.6"
  }
 },
 "nbformat": 4,
 "nbformat_minor": 4
}
