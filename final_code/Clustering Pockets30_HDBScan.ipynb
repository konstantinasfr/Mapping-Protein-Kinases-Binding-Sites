{
 "cells": [
  {
   "cell_type": "code",
   "execution_count": 1,
   "metadata": {},
   "outputs": [],
   "source": [
    "import subprocess\n",
    "import os \n",
    "import re\n",
    "import numpy as np\n",
    "import pandas as pd\n",
    "import plotly.express as px\n",
    "import hdbscan\n",
    "from sklearn.cluster import AgglomerativeClustering\n",
    "from sklearn.cluster import DBSCAN\n",
    "from sklearn.metrics.cluster import adjusted_rand_score, contingency_matrix"
   ]
  },
  {
   "cell_type": "code",
   "execution_count": 2,
   "metadata": {},
   "outputs": [],
   "source": [
    "class color:\n",
    "   PURPLE = '\\033[95m'\n",
    "   CYAN = '\\033[96m'\n",
    "   DARKCYAN = '\\033[36m'\n",
    "   BLUE = '\\033[94m'\n",
    "   GREEN = '\\033[92m'\n",
    "   YELLOW = '\\033[93m'\n",
    "   RED = '\\033[91m'\n",
    "   BOLD = '\\033[1m'\n",
    "   UNDERLINE = '\\033[4m'\n",
    "   END = '\\033[0m'"
   ]
  },
  {
   "cell_type": "code",
   "execution_count": 3,
   "metadata": {
    "scrolled": true
   },
   "outputs": [],
   "source": [
    "pockets_order = pd.read_excel('pockets_order.xlsx')\n",
    "total_pocks=list(pockets_order[0])"
   ]
  },
  {
   "cell_type": "code",
   "execution_count": 4,
   "metadata": {},
   "outputs": [
    {
     "data": {
      "text/html": [
       "<div>\n",
       "<style scoped>\n",
       "    .dataframe tbody tr th:only-of-type {\n",
       "        vertical-align: middle;\n",
       "    }\n",
       "\n",
       "    .dataframe tbody tr th {\n",
       "        vertical-align: top;\n",
       "    }\n",
       "\n",
       "    .dataframe thead th {\n",
       "        text-align: right;\n",
       "    }\n",
       "</style>\n",
       "<table border=\"1\" class=\"dataframe\">\n",
       "  <thead>\n",
       "    <tr style=\"text-align: right;\">\n",
       "      <th></th>\n",
       "      <th>Unnamed: 0</th>\n",
       "      <th>0</th>\n",
       "    </tr>\n",
       "  </thead>\n",
       "  <tbody>\n",
       "    <tr>\n",
       "      <th>0</th>\n",
       "      <td>0</td>\n",
       "      <td>1blx_pocket1.pdb</td>\n",
       "    </tr>\n",
       "    <tr>\n",
       "      <th>1</th>\n",
       "      <td>1</td>\n",
       "      <td>1byg_pocket1.pdb</td>\n",
       "    </tr>\n",
       "    <tr>\n",
       "      <th>2</th>\n",
       "      <td>2</td>\n",
       "      <td>1fmk_pocket1.pdb</td>\n",
       "    </tr>\n",
       "    <tr>\n",
       "      <th>3</th>\n",
       "      <td>3</td>\n",
       "      <td>1fmk_pocket2.pdb</td>\n",
       "    </tr>\n",
       "    <tr>\n",
       "      <th>4</th>\n",
       "      <td>4</td>\n",
       "      <td>1j1b_pocket1.pdb</td>\n",
       "    </tr>\n",
       "    <tr>\n",
       "      <th>...</th>\n",
       "      <td>...</td>\n",
       "      <td>...</td>\n",
       "    </tr>\n",
       "    <tr>\n",
       "      <th>271</th>\n",
       "      <td>271</td>\n",
       "      <td>6fyr_pocket1.pdb</td>\n",
       "    </tr>\n",
       "    <tr>\n",
       "      <th>272</th>\n",
       "      <td>272</td>\n",
       "      <td>6fyv_pocket1.pdb</td>\n",
       "    </tr>\n",
       "    <tr>\n",
       "      <th>273</th>\n",
       "      <td>273</td>\n",
       "      <td>6gzm_pocket1.pdb</td>\n",
       "    </tr>\n",
       "    <tr>\n",
       "      <th>274</th>\n",
       "      <td>274</td>\n",
       "      <td>6op9_pocket1.pdb</td>\n",
       "    </tr>\n",
       "    <tr>\n",
       "      <th>275</th>\n",
       "      <td>275</td>\n",
       "      <td>7aqb_pocket1.pdb</td>\n",
       "    </tr>\n",
       "  </tbody>\n",
       "</table>\n",
       "<p>276 rows × 2 columns</p>\n",
       "</div>"
      ],
      "text/plain": [
       "     Unnamed: 0                 0\n",
       "0             0  1blx_pocket1.pdb\n",
       "1             1  1byg_pocket1.pdb\n",
       "2             2  1fmk_pocket1.pdb\n",
       "3             3  1fmk_pocket2.pdb\n",
       "4             4  1j1b_pocket1.pdb\n",
       "..          ...               ...\n",
       "271         271  6fyr_pocket1.pdb\n",
       "272         272  6fyv_pocket1.pdb\n",
       "273         273  6gzm_pocket1.pdb\n",
       "274         274  6op9_pocket1.pdb\n",
       "275         275  7aqb_pocket1.pdb\n",
       "\n",
       "[276 rows x 2 columns]"
      ]
     },
     "execution_count": 4,
     "metadata": {},
     "output_type": "execute_result"
    }
   ],
   "source": [
    "pockets_order"
   ]
  },
  {
   "cell_type": "code",
   "execution_count": 5,
   "metadata": {},
   "outputs": [
    {
     "data": {
      "text/plain": [
       "276"
      ]
     },
     "execution_count": 5,
     "metadata": {},
     "output_type": "execute_result"
    }
   ],
   "source": [
    "len(total_pocks)"
   ]
  },
  {
   "cell_type": "code",
   "execution_count": 6,
   "metadata": {},
   "outputs": [],
   "source": [
    "# simil_matrix = np.ones((len(total_pocks),len(total_pocks)))\n",
    "# simil_matrix = np.ones((len(total_pocks),len(total_pocks)))\n",
    "# for i in range(len(total_pocks)):\n",
    "#     for j in range(i+1,len(total_pocks)):\n",
    "#         print(str(i) +\" \"+ str(j)+\"   \"+str(total_pocks[i])+\" \"+str(total_pocks[j]),end=\"\\r\")\n",
    "#         command = \"./find_similarities.sh pockets70/\"+str(total_pocks[i])+\" pockets70/\"+str(total_pocks[j])\n",
    "# #         print(sp.getoutput(command))\n",
    "#         simil_matrix[i,j] = simil_matrix[j,i] = float(sp.getoutput(command))\n",
    "# #         simil_matrix[i,j] = simil_matrix[j,i] = float(sp.getoutput(\"./find_similarities.sh pocket10.pdb pocket8.pdb\"))"
   ]
  },
  {
   "cell_type": "code",
   "execution_count": 7,
   "metadata": {},
   "outputs": [],
   "source": [
    "simil_matrix = pd.read_excel('simil_matrix30_final.xlsx')\n",
    "simil_matrix = simil_matrix.drop(['Unnamed: 0'], axis=1)"
   ]
  },
  {
   "cell_type": "code",
   "execution_count": 8,
   "metadata": {},
   "outputs": [],
   "source": [
    "disim_conversion = lambda t: 1 - t\n",
    "disimil_matrix = disim_conversion(simil_matrix)"
   ]
  },
  {
   "cell_type": "code",
   "execution_count": 9,
   "metadata": {},
   "outputs": [
    {
     "data": {
      "text/html": [
       "<div>\n",
       "<style scoped>\n",
       "    .dataframe tbody tr th:only-of-type {\n",
       "        vertical-align: middle;\n",
       "    }\n",
       "\n",
       "    .dataframe tbody tr th {\n",
       "        vertical-align: top;\n",
       "    }\n",
       "\n",
       "    .dataframe thead th {\n",
       "        text-align: right;\n",
       "    }\n",
       "</style>\n",
       "<table border=\"1\" class=\"dataframe\">\n",
       "  <thead>\n",
       "    <tr style=\"text-align: right;\">\n",
       "      <th></th>\n",
       "      <th>0</th>\n",
       "      <th>1</th>\n",
       "      <th>2</th>\n",
       "      <th>3</th>\n",
       "      <th>4</th>\n",
       "      <th>5</th>\n",
       "      <th>6</th>\n",
       "      <th>7</th>\n",
       "      <th>8</th>\n",
       "      <th>9</th>\n",
       "      <th>...</th>\n",
       "      <th>266</th>\n",
       "      <th>267</th>\n",
       "      <th>268</th>\n",
       "      <th>269</th>\n",
       "      <th>270</th>\n",
       "      <th>271</th>\n",
       "      <th>272</th>\n",
       "      <th>273</th>\n",
       "      <th>274</th>\n",
       "      <th>275</th>\n",
       "    </tr>\n",
       "  </thead>\n",
       "  <tbody>\n",
       "    <tr>\n",
       "      <th>0</th>\n",
       "      <td>0.00000</td>\n",
       "      <td>0.81243</td>\n",
       "      <td>1.00000</td>\n",
       "      <td>0.85563</td>\n",
       "      <td>0.64824</td>\n",
       "      <td>0.75064</td>\n",
       "      <td>0.90988</td>\n",
       "      <td>0.68283</td>\n",
       "      <td>0.88259</td>\n",
       "      <td>0.86237</td>\n",
       "      <td>...</td>\n",
       "      <td>0.72379</td>\n",
       "      <td>0.73411</td>\n",
       "      <td>0.74061</td>\n",
       "      <td>0.87213</td>\n",
       "      <td>0.74235</td>\n",
       "      <td>0.70489</td>\n",
       "      <td>0.73853</td>\n",
       "      <td>0.75480</td>\n",
       "      <td>0.83235</td>\n",
       "      <td>0.72857</td>\n",
       "    </tr>\n",
       "    <tr>\n",
       "      <th>1</th>\n",
       "      <td>0.81243</td>\n",
       "      <td>0.00000</td>\n",
       "      <td>1.00000</td>\n",
       "      <td>0.84858</td>\n",
       "      <td>0.53176</td>\n",
       "      <td>0.61954</td>\n",
       "      <td>0.82821</td>\n",
       "      <td>0.60849</td>\n",
       "      <td>0.63961</td>\n",
       "      <td>0.83274</td>\n",
       "      <td>...</td>\n",
       "      <td>0.64579</td>\n",
       "      <td>0.59641</td>\n",
       "      <td>0.58089</td>\n",
       "      <td>1.00000</td>\n",
       "      <td>0.61287</td>\n",
       "      <td>0.60338</td>\n",
       "      <td>0.60151</td>\n",
       "      <td>0.67830</td>\n",
       "      <td>0.53244</td>\n",
       "      <td>0.61692</td>\n",
       "    </tr>\n",
       "    <tr>\n",
       "      <th>2</th>\n",
       "      <td>1.00000</td>\n",
       "      <td>1.00000</td>\n",
       "      <td>0.00000</td>\n",
       "      <td>0.84614</td>\n",
       "      <td>0.53596</td>\n",
       "      <td>0.51079</td>\n",
       "      <td>0.88530</td>\n",
       "      <td>1.00000</td>\n",
       "      <td>1.00000</td>\n",
       "      <td>0.79435</td>\n",
       "      <td>...</td>\n",
       "      <td>1.00000</td>\n",
       "      <td>1.00000</td>\n",
       "      <td>1.00000</td>\n",
       "      <td>0.50646</td>\n",
       "      <td>0.54051</td>\n",
       "      <td>0.58036</td>\n",
       "      <td>0.55496</td>\n",
       "      <td>1.00000</td>\n",
       "      <td>0.45071</td>\n",
       "      <td>1.00000</td>\n",
       "    </tr>\n",
       "    <tr>\n",
       "      <th>3</th>\n",
       "      <td>0.85563</td>\n",
       "      <td>0.84858</td>\n",
       "      <td>0.84614</td>\n",
       "      <td>0.00000</td>\n",
       "      <td>0.87495</td>\n",
       "      <td>0.82614</td>\n",
       "      <td>0.86552</td>\n",
       "      <td>0.83795</td>\n",
       "      <td>0.86961</td>\n",
       "      <td>0.87979</td>\n",
       "      <td>...</td>\n",
       "      <td>0.81617</td>\n",
       "      <td>0.82969</td>\n",
       "      <td>0.88110</td>\n",
       "      <td>0.85302</td>\n",
       "      <td>0.83548</td>\n",
       "      <td>0.86876</td>\n",
       "      <td>0.83688</td>\n",
       "      <td>0.82378</td>\n",
       "      <td>0.83978</td>\n",
       "      <td>0.87588</td>\n",
       "    </tr>\n",
       "    <tr>\n",
       "      <th>4</th>\n",
       "      <td>0.64824</td>\n",
       "      <td>0.53176</td>\n",
       "      <td>0.53596</td>\n",
       "      <td>0.87495</td>\n",
       "      <td>0.00000</td>\n",
       "      <td>0.41628</td>\n",
       "      <td>0.86974</td>\n",
       "      <td>0.56940</td>\n",
       "      <td>0.57650</td>\n",
       "      <td>0.84392</td>\n",
       "      <td>...</td>\n",
       "      <td>0.47961</td>\n",
       "      <td>0.60347</td>\n",
       "      <td>0.55960</td>\n",
       "      <td>0.40710</td>\n",
       "      <td>0.37040</td>\n",
       "      <td>0.32514</td>\n",
       "      <td>0.30593</td>\n",
       "      <td>0.61885</td>\n",
       "      <td>0.47749</td>\n",
       "      <td>0.84222</td>\n",
       "    </tr>\n",
       "    <tr>\n",
       "      <th>...</th>\n",
       "      <td>...</td>\n",
       "      <td>...</td>\n",
       "      <td>...</td>\n",
       "      <td>...</td>\n",
       "      <td>...</td>\n",
       "      <td>...</td>\n",
       "      <td>...</td>\n",
       "      <td>...</td>\n",
       "      <td>...</td>\n",
       "      <td>...</td>\n",
       "      <td>...</td>\n",
       "      <td>...</td>\n",
       "      <td>...</td>\n",
       "      <td>...</td>\n",
       "      <td>...</td>\n",
       "      <td>...</td>\n",
       "      <td>...</td>\n",
       "      <td>...</td>\n",
       "      <td>...</td>\n",
       "      <td>...</td>\n",
       "      <td>...</td>\n",
       "    </tr>\n",
       "    <tr>\n",
       "      <th>271</th>\n",
       "      <td>0.70489</td>\n",
       "      <td>0.60338</td>\n",
       "      <td>0.58036</td>\n",
       "      <td>0.86876</td>\n",
       "      <td>0.32514</td>\n",
       "      <td>0.39888</td>\n",
       "      <td>0.84216</td>\n",
       "      <td>0.54635</td>\n",
       "      <td>0.64744</td>\n",
       "      <td>0.87102</td>\n",
       "      <td>...</td>\n",
       "      <td>0.49362</td>\n",
       "      <td>0.54557</td>\n",
       "      <td>0.50186</td>\n",
       "      <td>0.40550</td>\n",
       "      <td>0.28839</td>\n",
       "      <td>0.00000</td>\n",
       "      <td>0.26356</td>\n",
       "      <td>0.56338</td>\n",
       "      <td>0.50601</td>\n",
       "      <td>0.61857</td>\n",
       "    </tr>\n",
       "    <tr>\n",
       "      <th>272</th>\n",
       "      <td>0.73853</td>\n",
       "      <td>0.60151</td>\n",
       "      <td>0.55496</td>\n",
       "      <td>0.83688</td>\n",
       "      <td>0.30593</td>\n",
       "      <td>0.27159</td>\n",
       "      <td>0.86403</td>\n",
       "      <td>0.60205</td>\n",
       "      <td>0.56354</td>\n",
       "      <td>0.81008</td>\n",
       "      <td>...</td>\n",
       "      <td>0.45742</td>\n",
       "      <td>0.64318</td>\n",
       "      <td>0.52827</td>\n",
       "      <td>0.21865</td>\n",
       "      <td>0.15904</td>\n",
       "      <td>0.26356</td>\n",
       "      <td>0.00000</td>\n",
       "      <td>0.63106</td>\n",
       "      <td>0.52621</td>\n",
       "      <td>0.83999</td>\n",
       "    </tr>\n",
       "    <tr>\n",
       "      <th>273</th>\n",
       "      <td>0.75480</td>\n",
       "      <td>0.67830</td>\n",
       "      <td>1.00000</td>\n",
       "      <td>0.82378</td>\n",
       "      <td>0.61885</td>\n",
       "      <td>0.79128</td>\n",
       "      <td>0.85971</td>\n",
       "      <td>0.66940</td>\n",
       "      <td>0.74250</td>\n",
       "      <td>0.85558</td>\n",
       "      <td>...</td>\n",
       "      <td>0.72470</td>\n",
       "      <td>0.73384</td>\n",
       "      <td>0.72319</td>\n",
       "      <td>1.00000</td>\n",
       "      <td>0.67997</td>\n",
       "      <td>0.56338</td>\n",
       "      <td>0.63106</td>\n",
       "      <td>0.00000</td>\n",
       "      <td>0.65285</td>\n",
       "      <td>0.73147</td>\n",
       "    </tr>\n",
       "    <tr>\n",
       "      <th>274</th>\n",
       "      <td>0.83235</td>\n",
       "      <td>0.53244</td>\n",
       "      <td>0.45071</td>\n",
       "      <td>0.83978</td>\n",
       "      <td>0.47749</td>\n",
       "      <td>0.51073</td>\n",
       "      <td>0.88741</td>\n",
       "      <td>0.57022</td>\n",
       "      <td>0.55299</td>\n",
       "      <td>0.84032</td>\n",
       "      <td>...</td>\n",
       "      <td>0.59369</td>\n",
       "      <td>0.60493</td>\n",
       "      <td>0.54736</td>\n",
       "      <td>0.51898</td>\n",
       "      <td>0.53704</td>\n",
       "      <td>0.50601</td>\n",
       "      <td>0.52621</td>\n",
       "      <td>0.65285</td>\n",
       "      <td>0.00000</td>\n",
       "      <td>0.55936</td>\n",
       "    </tr>\n",
       "    <tr>\n",
       "      <th>275</th>\n",
       "      <td>0.72857</td>\n",
       "      <td>0.61692</td>\n",
       "      <td>1.00000</td>\n",
       "      <td>0.87588</td>\n",
       "      <td>0.84222</td>\n",
       "      <td>0.82291</td>\n",
       "      <td>0.83564</td>\n",
       "      <td>0.54906</td>\n",
       "      <td>0.83463</td>\n",
       "      <td>0.85849</td>\n",
       "      <td>...</td>\n",
       "      <td>0.57642</td>\n",
       "      <td>0.69925</td>\n",
       "      <td>0.58345</td>\n",
       "      <td>0.65848</td>\n",
       "      <td>0.82645</td>\n",
       "      <td>0.61857</td>\n",
       "      <td>0.83999</td>\n",
       "      <td>0.73147</td>\n",
       "      <td>0.55936</td>\n",
       "      <td>0.00000</td>\n",
       "    </tr>\n",
       "  </tbody>\n",
       "</table>\n",
       "<p>276 rows × 276 columns</p>\n",
       "</div>"
      ],
      "text/plain": [
       "         0        1        2        3        4        5        6        7    \\\n",
       "0    0.00000  0.81243  1.00000  0.85563  0.64824  0.75064  0.90988  0.68283   \n",
       "1    0.81243  0.00000  1.00000  0.84858  0.53176  0.61954  0.82821  0.60849   \n",
       "2    1.00000  1.00000  0.00000  0.84614  0.53596  0.51079  0.88530  1.00000   \n",
       "3    0.85563  0.84858  0.84614  0.00000  0.87495  0.82614  0.86552  0.83795   \n",
       "4    0.64824  0.53176  0.53596  0.87495  0.00000  0.41628  0.86974  0.56940   \n",
       "..       ...      ...      ...      ...      ...      ...      ...      ...   \n",
       "271  0.70489  0.60338  0.58036  0.86876  0.32514  0.39888  0.84216  0.54635   \n",
       "272  0.73853  0.60151  0.55496  0.83688  0.30593  0.27159  0.86403  0.60205   \n",
       "273  0.75480  0.67830  1.00000  0.82378  0.61885  0.79128  0.85971  0.66940   \n",
       "274  0.83235  0.53244  0.45071  0.83978  0.47749  0.51073  0.88741  0.57022   \n",
       "275  0.72857  0.61692  1.00000  0.87588  0.84222  0.82291  0.83564  0.54906   \n",
       "\n",
       "         8        9    ...      266      267      268      269      270  \\\n",
       "0    0.88259  0.86237  ...  0.72379  0.73411  0.74061  0.87213  0.74235   \n",
       "1    0.63961  0.83274  ...  0.64579  0.59641  0.58089  1.00000  0.61287   \n",
       "2    1.00000  0.79435  ...  1.00000  1.00000  1.00000  0.50646  0.54051   \n",
       "3    0.86961  0.87979  ...  0.81617  0.82969  0.88110  0.85302  0.83548   \n",
       "4    0.57650  0.84392  ...  0.47961  0.60347  0.55960  0.40710  0.37040   \n",
       "..       ...      ...  ...      ...      ...      ...      ...      ...   \n",
       "271  0.64744  0.87102  ...  0.49362  0.54557  0.50186  0.40550  0.28839   \n",
       "272  0.56354  0.81008  ...  0.45742  0.64318  0.52827  0.21865  0.15904   \n",
       "273  0.74250  0.85558  ...  0.72470  0.73384  0.72319  1.00000  0.67997   \n",
       "274  0.55299  0.84032  ...  0.59369  0.60493  0.54736  0.51898  0.53704   \n",
       "275  0.83463  0.85849  ...  0.57642  0.69925  0.58345  0.65848  0.82645   \n",
       "\n",
       "         271      272      273      274      275  \n",
       "0    0.70489  0.73853  0.75480  0.83235  0.72857  \n",
       "1    0.60338  0.60151  0.67830  0.53244  0.61692  \n",
       "2    0.58036  0.55496  1.00000  0.45071  1.00000  \n",
       "3    0.86876  0.83688  0.82378  0.83978  0.87588  \n",
       "4    0.32514  0.30593  0.61885  0.47749  0.84222  \n",
       "..       ...      ...      ...      ...      ...  \n",
       "271  0.00000  0.26356  0.56338  0.50601  0.61857  \n",
       "272  0.26356  0.00000  0.63106  0.52621  0.83999  \n",
       "273  0.56338  0.63106  0.00000  0.65285  0.73147  \n",
       "274  0.50601  0.52621  0.65285  0.00000  0.55936  \n",
       "275  0.61857  0.83999  0.73147  0.55936  0.00000  \n",
       "\n",
       "[276 rows x 276 columns]"
      ]
     },
     "execution_count": 9,
     "metadata": {},
     "output_type": "execute_result"
    }
   ],
   "source": [
    "disimil_matrix"
   ]
  },
  {
   "cell_type": "markdown",
   "metadata": {},
   "source": [
    "## Clustering - Searching for number of clusters"
   ]
  },
  {
   "cell_type": "code",
   "execution_count": 10,
   "metadata": {},
   "outputs": [],
   "source": [
    "kinase_names = []\n",
    "count = 0\n",
    "for kinase in total_pocks:\n",
    "    kin_name = str(kinase[:4])+\"_\"+re.findall(r'[0-9]+', total_pocks[count][4:])[0]\n",
    "    kinase_names.append(kin_name)\n",
    "    count = count + 1"
   ]
  },
  {
   "cell_type": "code",
   "execution_count": 11,
   "metadata": {},
   "outputs": [],
   "source": [
    "def create_manifold(labels):\n",
    "    final_clusters = []\n",
    "    final_clusters.append(kinase_names)\n",
    "    final_clusters.append(list(labels))\n",
    "    final_clusters = np.transpose(final_clusters)\n",
    "    data_pockets_manifold = pd.DataFrame(final_clusters, columns= ['Pockets', 'Clusters'])\n",
    "    data_pockets_manifold[\"x\"] = mds_coords[:,0]\n",
    "    data_pockets_manifold[\"y\"] = mds_coords[:,1]\n",
    "#     data_pockets_manifold[\"z\"] = mds_coords[:,2]\n",
    "    return data_pockets_manifold"
   ]
  },
  {
   "cell_type": "code",
   "execution_count": 12,
   "metadata": {},
   "outputs": [],
   "source": [
    "import numpy as np  \n",
    "from sklearn import metrics\n",
    "import scipy\n",
    "import matplotlib.pyplot as plt\n",
    "from sklearn import manifold  # multidimensional scaling\n",
    "from matplotlib.pyplot import figure\n",
    "\n"
   ]
  },
  {
   "cell_type": "code",
   "execution_count": 13,
   "metadata": {},
   "outputs": [],
   "source": [
    "def create_clusters_file(labels,clusters,e,s):\n",
    "    \n",
    "    final_clusters = []\n",
    "    final_clusters.append(kinase_names)\n",
    "    final_clusters.append(list(labels))\n",
    "    final_clusters = np.transpose(final_clusters)\n",
    "    df = pd.DataFrame(final_clusters, columns= ['Kinase', 'Cluster'])\n",
    "    num_clust = len(np.unique(np.array(labels)))\n",
    "    \n",
    "\n",
    "  \n",
    "    for i in range(num_clust):\n",
    "        df1 = df[df[\"Cluster\"] == str(i)]\n",
    "        df1.to_excel(\"Pockets30_HDBScan/Cluster\"+str(num_clusters)+\"_min_cluster\"+str(e)+\"_min_sample\"+str(s)+\"/Clusters_\"+str(i)+\".xlsx\", index = False, header=True)\n",
    "        \n",
    "    df.to_excel(\"Pockets30_HDBScan/Pockets30_Clusters_\"+str(clusters)+\"_min_cluster\"+str(e)+\"_min_sample\"+str(s)+\".xlsx\", index = False, header=True)\n"
   ]
  },
  {
   "cell_type": "code",
   "execution_count": 14,
   "metadata": {},
   "outputs": [],
   "source": [
    "def create_histogram(labels,i):\n",
    "# a histogram returns 3 objects : n (i.e. frequncies), bins, patches\n",
    "    freq, bins, patches = plt.hist(labels, edgecolor='white', label='kinases', bins=i)\n",
    "\n",
    "    # x coordinate for labels\n",
    "    bin_centers = np.diff(bins)*0.5 + bins[:-1]\n",
    "\n",
    "    n = 0\n",
    "    for fr, x, patch in zip(freq, bin_centers, patches):\n",
    "      height = int(freq[n])\n",
    "      plt.annotate(\"{}\".format(height),\n",
    "                   xy = (x, height),             # top left corner of the histogram bar\n",
    "                   xytext = (0,0.2),             # offsetting label position above its bar\n",
    "                   textcoords = \"offset points\", # Offset (in points) from the *xy* value\n",
    "                   ha = 'center', va = 'bottom'\n",
    "                   )\n",
    "      n = n+1\n",
    "\n",
    "    plt.legend()\n",
    "    plt.gca().set(title=str(i)+' Clusters Frequency Histogram', ylabel='Frequency');\n",
    "    plt.show"
   ]
  },
  {
   "cell_type": "code",
   "execution_count": 15,
   "metadata": {},
   "outputs": [],
   "source": [
    "def funk(df, method):\n",
    "    import warnings\n",
    "    warnings.filterwarnings('ignore')  \n",
    "    global data_leaf, data_eom\n",
    "    n = df.shape[0]\n",
    "    print(n)\n",
    "    list_name =[]\n",
    "    for gamma in range (1, int(np.log(n))):\n",
    "        for ms in range(1, int(2 * np.log(n))):\n",
    "            clust_alg = hdbscan.HDBSCAN(algorithm='best', alpha=1.0,\n",
    "                                    approx_min_span_tree=True,\n",
    "                                    gen_min_span_tree=True, \n",
    "                                    leaf_size=40,\n",
    "                                    cluster_selection_method=method,\n",
    "                                    metric='precomputed', \n",
    "                                    min_cluster_size=int(gamma * np.sqrt(n)), \n",
    "                                    min_samples=ms,\n",
    "                                    allow_single_cluster=False).fit(df)\n",
    " \n",
    "            min_cluster_size = clust_alg.min_cluster_size \n",
    "            min_samples = clust_alg.min_samples\n",
    "            validity_score = clust_alg.relative_validity_\n",
    "            n_clusters = np.max(clust_alg.labels_) \n",
    "            list_name.append((min_cluster_size, min_samples, validity_score, n_clusters))\n",
    "            if validity_score >= .5:\n",
    "                print (f'min_cluster_size = {min_cluster_size},  min_samples = {min_samples}, validity_score = {validity_score} n_clusters = {n_clusters}')\n",
    "    return list_name\n",
    "def best_validity(source):\n",
    "    cols = ['min_cluster_size', 'min_samples', 'validity_score', 'n_clusters']\n",
    "    df =  pd.DataFrame(source, columns = cols)\n",
    "    best_validity = df.loc[df['validity_score'].idxmax()]\n",
    "    return best_validity\n",
    "\n",
    "\n",
    "data_leaf = []\n",
    "data_eom = []"
   ]
  },
  {
   "cell_type": "code",
   "execution_count": 18,
   "metadata": {},
   "outputs": [
    {
     "data": {
      "text/plain": [
       "<AxesSubplot:ylabel='$\\\\lambda$ value'>"
      ]
     },
     "execution_count": 18,
     "metadata": {},
     "output_type": "execute_result"
    },
    {
     "data": {
      "image/png": "[encoded data removed]",
      "text/plain": [
       "<Figure size 432x288 with 2 Axes>"
      ]
     },
     "metadata": {
      "needs_background": "light"
     },
     "output_type": "display_data"
    }
   ],
   "source": [
    "cluster.condensed_tree_.plot(select_clusters=True)"
   ]
  },
  {
   "cell_type": "code",
   "execution_count": 19,
   "metadata": {},
   "outputs": [
    {
     "name": "stdout",
     "output_type": "stream",
     "text": [
      "276\n"
     ]
    }
   ],
   "source": [
    "atp_pocks = pd.read_excel('atp_pockets.xlsx', columns= ['Pockets', 'Clusters'])\n",
    "atp_pocks = atp_pocks.drop(['Unnamed: 0'], axis=1)\n",
    "atp_pocks.columns = ['Kinase', 'atp']\n",
    "atp_pocks_dic = atp_pocks.set_index('Kinase').T.to_dict('list')\n",
    "print(len(atp_pocks_dic))"
   ]
  },
  {
   "cell_type": "code",
   "execution_count": 20,
   "metadata": {},
   "outputs": [],
   "source": [
    "atp_pocks_array = np.array(atp_pocks)"
   ]
  },
  {
   "cell_type": "code",
   "execution_count": 21,
   "metadata": {},
   "outputs": [
    {
     "data": {
      "text/plain": [
       "276"
      ]
     },
     "execution_count": 21,
     "metadata": {},
     "output_type": "execute_result"
    }
   ],
   "source": [
    "len(atp_pocks_array)"
   ]
  },
  {
   "cell_type": "code",
   "execution_count": 22,
   "metadata": {},
   "outputs": [
    {
     "data": {
      "text/plain": [
       "array([['1blx_1', 'atp'],\n",
       "       ['1byg_1', 'atp'],\n",
       "       ['1fmk_1', 'atp'],\n",
       "       ['1fmk_2', 'non_atp'],\n",
       "       ['1j1b_1', 'atp'],\n",
       "       ['1o6l_1', 'atp'],\n",
       "       ['1p4o_1', 'atp'],\n",
       "       ['1qpc_1', 'atp'],\n",
       "       ['1s9i_1', 'atp'],\n",
       "       ['1tki_1', 'non_atp'],\n",
       "       ['1u59_1', 'atp'],\n",
       "       ['1u59_2', 'non_atp'],\n",
       "       ['1ua2_1', 'atp'],\n",
       "       ['1vzo_1', 'atp'],\n",
       "       ['1wak_1', 'non_atp'],\n",
       "       ['1x8b_1', 'non_atp'],\n",
       "       ['1xjd_1', 'atp'],\n",
       "       ['1xjd_2', 'non_atp'],\n",
       "       ['2a2a_1', 'atp'],\n",
       "       ['2ac3_1', 'non_atp'],\n",
       "       ['2acx_1', 'non_atp'],\n",
       "       ['2acx_2', 'non_atp'],\n",
       "       ['2buj_1', 'non_atp'],\n",
       "       ['2cmw_1', 'atp'],\n",
       "       ['2dq7_1', 'atp'],\n",
       "       ['2dq7_2', 'atp'],\n",
       "       ['2eva_1', 'atp'],\n",
       "       ['2f57_1', 'atp'],\n",
       "       ['2fst_1', 'non_atp'],\n",
       "       ['2h6d_1', 'atp'],\n",
       "       ['2hw6_1', 'non_atp'],\n",
       "       ['2i0e_1', 'atp'],\n",
       "       ['2izr_1', 'non_atp'],\n",
       "       ['2j0i_1', 'atp'],\n",
       "       ['2jam_1', 'atp'],\n",
       "       ['2jc6_1', 'non_atp'],\n",
       "       ['2qlu_1', 'atp'],\n",
       "       ['2qol_1', 'non_atp'],\n",
       "       ['2r2p_1', 'atp'],\n",
       "       ['2r4b_1', 'atp'],\n",
       "       ['2r5t_1', 'atp'],\n",
       "       ['2rei_1', 'atp'],\n",
       "       ['2rku_1', 'atp'],\n",
       "       ['2vd5_1', 'atp'],\n",
       "       ['2vz6_1', 'atp'],\n",
       "       ['2vz6_2', 'non_atp'],\n",
       "       ['2w4o_1', 'non_atp'],\n",
       "       ['2wel_1', 'atp'],\n",
       "       ['2wel_2', 'non_atp'],\n",
       "       ['2x7g_1', 'non_atp'],\n",
       "       ['2xik_1', 'atp'],\n",
       "       ['2xir_1', 'atp'],\n",
       "       ['2xir_2', 'atp'],\n",
       "       ['2xrw_1', 'atp'],\n",
       "       ['2y4i_1', 'atp'],\n",
       "       ['2y4i_2', 'non_atp'],\n",
       "       ['2y4i_3', 'non_atp'],\n",
       "       ['2y7j_1', 'atp'],\n",
       "       ['2ycf_1', 'atp'],\n",
       "       ['2yex_1', 'atp'],\n",
       "       ['3a7i_1', 'atp'],\n",
       "       ['3a99_1', 'atp'],\n",
       "       ['3aln_1', 'atp'],\n",
       "       ['3aln_2', 'non_atp'],\n",
       "       ['3b2t_1', 'atp'],\n",
       "       ['3bhh_1', 'atp'],\n",
       "       ['3bhy_1', 'atp'],\n",
       "       ['3brb_1', 'atp'],\n",
       "       ['3bu3_1', 'atp'],\n",
       "       ['3c0i_1', 'non_atp'],\n",
       "       ['3cbl_1', 'atp'],\n",
       "       ['3cc6_1', 'atp'],\n",
       "       ['3cok_1', 'atp'],\n",
       "       ['3com_1', 'atp'],\n",
       "       ['3dls_1', 'atp'],\n",
       "       ['3dtc_1', 'atp'],\n",
       "       ['3dtc_2', 'non_atp'],\n",
       "       ['3e7o_1', 'non_atp'],\n",
       "       ['3eqc_1', 'atp'],\n",
       "       ['3fe3_1', 'atp'],\n",
       "       ['3fhr_1', 'atp'],\n",
       "       ['3fme_1', 'non_atp'],\n",
       "       ['3fxz_1', 'atp'],\n",
       "       ['3g2f_1', 'atp'],\n",
       "       ['3ggf_1', 'atp'],\n",
       "       ['3gp0_1', 'atp'],\n",
       "       ['3gp0_2', 'atp'],\n",
       "       ['3hmi_1', 'non_atp'],\n",
       "       ['3hmi_2', 'non_atp'],\n",
       "       ['3hng_1', 'atp'],\n",
       "       ['3hng_2', 'atp'],\n",
       "       ['3iec_1', 'atp'],\n",
       "       ['3iec_2', 'non_atp'],\n",
       "       ['3kmu_1', 'non_atp'],\n",
       "       ['3kmu_2', 'non_atp'],\n",
       "       ['3kul_1', 'atp'],\n",
       "       ['3lco_1', 'atp'],\n",
       "       ['3lm5_1', 'atp'],\n",
       "       ['3lm5_2', 'atp'],\n",
       "       ['3lxp_1', 'atp'],\n",
       "       ['3m2w_1', 'atp'],\n",
       "       ['3mdy_1', 'non_atp'],\n",
       "       ['3mi9_1', 'atp'],\n",
       "       ['3my0_1', 'non_atp'],\n",
       "       ['3omv_1', 'atp'],\n",
       "       ['3pls_1', 'atp'],\n",
       "       ['3pp0_1', 'atp'],\n",
       "       ['3q4u_1', 'non_atp'],\n",
       "       ['3q4u_2', 'non_atp'],\n",
       "       ['3s95_1', 'atp'],\n",
       "       ['3soc_1', 'atp'],\n",
       "       ['3soc_2', 'atp'],\n",
       "       ['3sxs_1', 'non_atp'],\n",
       "       ['3txo_1', 'atp'],\n",
       "       ['3ugc_1', 'atp'],\n",
       "       ['3v5w_1', 'non_atp'],\n",
       "       ['3v5w_2', 'non_atp'],\n",
       "       ['3v5w_3', 'non_atp'],\n",
       "       ['3war_1', 'non_atp'],\n",
       "       ['3zdu_1', 'atp'],\n",
       "       ['3zfm_1', 'non_atp'],\n",
       "       ['4aaa_1', 'atp'],\n",
       "       ['4af3_1', 'non_atp'],\n",
       "       ['4agu_1', 'atp'],\n",
       "       ['4agu_2', 'non_atp'],\n",
       "       ['4asz_1', 'atp'],\n",
       "       ['4asz_2', 'atp'],\n",
       "       ['4asz_3', 'non_atp'],\n",
       "       ['4b6l_1', 'atp'],\n",
       "       ['4b9d_1', 'non_atp'],\n",
       "       ['4bgq_1', 'atp'],\n",
       "       ['4bkj_1', 'atp'],\n",
       "       ['4ckj_1', 'atp'],\n",
       "       ['4crs_1', 'atp'],\n",
       "       ['4crs_2', 'non_atp'],\n",
       "       ['4euu_1', 'atp'],\n",
       "       ['4f9c_1', 'atp'],\n",
       "       ['4fg8_1', 'non_atp'],\n",
       "       ['4fkl_1', 'atp'],\n",
       "       ['4fr4_1', 'non_atp'],\n",
       "       ['4gv1_1', 'atp'],\n",
       "       ['4hcu_1', 'atp'],\n",
       "       ['4hni_1', 'atp'],\n",
       "       ['4hvs_1', 'atp'],\n",
       "       ['4hzr_1', 'atp'],\n",
       "       ['4i4e_1', 'non_atp'],\n",
       "       ['4i5p_1', 'atp'],\n",
       "       ['4idt_1', 'atp'],\n",
       "       ['4iir_1', 'atp'],\n",
       "       ['4itj_1', 'non_atp'],\n",
       "       ['4js8_1', 'atp'],\n",
       "       ['4k33_1', 'atp'],\n",
       "       ['4kik_1', 'non_atp'],\n",
       "       ['4kik_2', 'non_atp'],\n",
       "       ['4ks7_1', 'atp'],\n",
       "       ['4l00_1', 'non_atp'],\n",
       "       ['4l00_2', 'non_atp'],\n",
       "       ['4l42_1', 'atp'],\n",
       "       ['4l42_2', 'atp'],\n",
       "       ['4l6q_1', 'atp'],\n",
       "       ['4lg4_1', 'atp'],\n",
       "       ['4mwi_1', 'non_atp'],\n",
       "       ['4nfn_1', 'atp'],\n",
       "       ['4nst_1', 'atp'],\n",
       "       ['4nw6_1', 'atp'],\n",
       "       ['4oth_1', 'atp'],\n",
       "       ['4pf4_1', 'atp'],\n",
       "       ['4pwn_1', 'non_atp'],\n",
       "       ['4qpm_1', 'non_atp'],\n",
       "       ['4qpm_2', 'non_atp'],\n",
       "       ['4qqt_1', 'atp'],\n",
       "       ['4qtb_1', 'atp'],\n",
       "       ['4qtb_2', 'non_atp'],\n",
       "       ['4qtc_1', 'non_atp'],\n",
       "       ['4r1v_1', 'atp'],\n",
       "       ['4ra4_1', 'atp'],\n",
       "       ['4tnd_1', 'non_atp'],\n",
       "       ['4tnd_2', 'non_atp'],\n",
       "       ['4tnd_3', 'non_atp'],\n",
       "       ['4tnd_4', 'non_atp'],\n",
       "       ['4usf_1', 'atp'],\n",
       "       ['4w9w_1', 'atp'],\n",
       "       ['4wb8_1', 'atp'],\n",
       "       ['4wno_1', 'atp'],\n",
       "       ['4x7k_1', 'atp'],\n",
       "       ['4x7q_1', 'atp'],\n",
       "       ['4y85_1', 'atp'],\n",
       "       ['4y85_2', 'non_atp'],\n",
       "       ['4y8d_1', 'atp'],\n",
       "       ['4yfi_1', 'atp'],\n",
       "       ['4yfi_2', 'non_atp'],\n",
       "       ['4yhj_1', 'non_atp'],\n",
       "       ['4yhj_2', 'non_atp'],\n",
       "       ['4yhj_3', 'non_atp'],\n",
       "       ['4yjr_1', 'atp'],\n",
       "       ['4ylk_1', 'atp'],\n",
       "       ['4ymj_1', 'atp'],\n",
       "       ['4yno_1', 'atp'],\n",
       "       ['4yz9_1', 'atp'],\n",
       "       ['4z55_1', 'atp'],\n",
       "       ['4z55_2', 'atp'],\n",
       "       ['4zzn_1', 'atp'],\n",
       "       ['4zzn_2', 'non_atp'],\n",
       "       ['5ax9_1', 'atp'],\n",
       "       ['5b2l_1', 'atp'],\n",
       "       ['5byz_1', 'atp'],\n",
       "       ['5cen_1', 'atp'],\n",
       "       ['5e8s_1', 'non_atp'],\n",
       "       ['5e8v_1', 'atp'],\n",
       "       ['5efq_1', 'atp'],\n",
       "       ['5ew8_1', 'atp'],\n",
       "       ['5g6v_1', 'atp'],\n",
       "       ['5grn_1', 'atp'],\n",
       "       ['5grn_2', 'atp'],\n",
       "       ['5h0b_1', 'atp'],\n",
       "       ['5hu9_1', 'atp'],\n",
       "       ['5hu9_2', 'atp'],\n",
       "       ['5ita_1', 'atp'],\n",
       "       ['5j5t_1', 'atp'],\n",
       "       ['5j5t_2', 'non_atp'],\n",
       "       ['5jfw_1', 'atp'],\n",
       "       ['5jga_1', 'atp'],\n",
       "       ['5jzj_1', 'atp'],\n",
       "       ['5k00_1', 'non_atp'],\n",
       "       ['5k00_2', 'atp'],\n",
       "       ['5l6o_1', 'atp'],\n",
       "       ['5l8l_1', 'atp'],\n",
       "       ['5li9_1', 'non_atp'],\n",
       "       ['5li9_2', 'non_atp'],\n",
       "       ['5lqf_1', 'atp'],\n",
       "       ['5lvo_1', 'atp'],\n",
       "       ['5lwm_1', 'atp'],\n",
       "       ['5lxc_1', 'atp'],\n",
       "       ['5mja_1', 'atp'],\n",
       "       ['5ng0_1', 'atp'],\n",
       "       ['5nxd_1', 'non_atp'],\n",
       "       ['5o0y_1', 'atp'],\n",
       "       ['5o1v_1', 'non_atp'],\n",
       "       ['5ote_1', 'atp'],\n",
       "       ['5p9j_1', 'atp'],\n",
       "       ['5te0_1', 'atp'],\n",
       "       ['5te0_2', 'atp'],\n",
       "       ['5u6b_1', 'atp'],\n",
       "       ['5ug9_1', 'non_atp'],\n",
       "       ['5uit_1', 'atp'],\n",
       "       ['5uyj_1', 'atp'],\n",
       "       ['5vcz_1', 'atp'],\n",
       "       ['5vdk_1', 'non_atp'],\n",
       "       ['5wne_1', 'atp'],\n",
       "       ['5x5o_1', 'atp'],\n",
       "       ['5xs2_1', 'non_atp'],\n",
       "       ['5xs2_2', 'non_atp'],\n",
       "       ['5y86_1', 'atp'],\n",
       "       ['5yf9_1', 'non_atp'],\n",
       "       ['5yks_1', 'atp'],\n",
       "       ['6bfn_1', 'atp'],\n",
       "       ['6bru_1', 'non_atp'],\n",
       "       ['6bxi_1', 'atp'],\n",
       "       ['6c0t_1', 'atp'],\n",
       "       ['6c9d_1', 'atp'],\n",
       "       ['6ccf_1', 'atp'],\n",
       "       ['6cz4_1', 'atp'],\n",
       "       ['6cz4_2', 'non_atp'],\n",
       "       ['6eim_1', 'atp'],\n",
       "       ['6eim_2', 'non_atp'],\n",
       "       ['6fd3_1', 'atp'],\n",
       "       ['6fdy_1', 'atp'],\n",
       "       ['6fng_1', 'atp'],\n",
       "       ['6fnk_1', 'atp'],\n",
       "       ['6ft8_1', 'atp'],\n",
       "       ['6fyl_1', 'atp'],\n",
       "       ['6fyr_1', 'atp'],\n",
       "       ['6fyv_1', 'atp'],\n",
       "       ['6gzm_1', 'atp'],\n",
       "       ['6op9_1', 'atp'],\n",
       "       ['7aqb_1', 'atp']], dtype=object)"
      ]
     },
     "execution_count": 22,
     "metadata": {},
     "output_type": "execute_result"
    }
   ],
   "source": [
    "atp_pocks_array"
   ]
  },
  {
   "cell_type": "code",
   "execution_count": null,
   "metadata": {},
   "outputs": [],
   "source": []
  },
  {
   "cell_type": "code",
   "execution_count": null,
   "metadata": {},
   "outputs": [],
   "source": []
  },
  {
   "cell_type": "code",
   "execution_count": 23,
   "metadata": {},
   "outputs": [],
   "source": [
    "mds_model = manifold.MDS(n_components = 2, random_state = 6867,\n",
    "    dissimilarity = 'precomputed')\n",
    "mds_fit = mds_model.fit(disimil_matrix)  \n",
    "mds_coords = mds_model.fit_transform(disimil_matrix)"
   ]
  },
  {
   "cell_type": "code",
   "execution_count": 25,
   "metadata": {
    "scrolled": false
   },
   "outputs": [
    {
     "name": "stdout",
     "output_type": "stream",
     "text": [
      "Successfully created the directory /home/user/Documents/algorithms_in_structural_biology/Final/Pockets30_HDBScan\n",
      "~~~~~~~~~~~~~~~~~~~~~~~ Cluster Outliers ~~~~~~~~~~~~~~~~~~~~~~~~~~~~~~~~~~~~~~~~~~~\n",
      "\u001b[96mOutliers 0.0\u001b[0m\n",
      "1byg_1    0.0    12    ['atp']\n",
      "1j1b_1    0.0    12    ['atp']\n",
      "1o6l_1    0.0    12    ['atp']\n",
      "1u59_2    0.0    7    ['non_atp']\n",
      "1wak_1    0.0    12    ['non_atp']\n",
      "1x8b_1    0.0    12    ['non_atp']\n",
      "1xjd_2    0.0    4    ['non_atp']\n",
      "2acx_2    0.0    10    ['non_atp']\n",
      "2qol_1    0.0    12    ['non_atp']\n",
      "2r4b_1    0.0    12    ['atp']\n",
      "2rei_1    0.0    12    ['atp']\n",
      "2vd5_1    0.0    12    ['atp']\n",
      "2vz6_2    0.0    6    ['non_atp']\n",
      "2wel_2    0.0    6    ['non_atp']\n",
      "2x7g_1    0.0    12    ['non_atp']\n",
      "2xir_1    0.0    12    ['atp']\n",
      "2xir_2    0.0    11    ['atp']\n",
      "2xrw_1    0.0    12    ['atp']\n",
      "2ycf_1    0.0    12    ['atp']\n",
      "3b2t_1    0.0    12    ['atp']\n",
      "3bhy_1    0.0    12    ['atp']\n",
      "3cbl_1    0.0    12    ['atp']\n",
      "3com_1    0.0    12    ['atp']\n",
      "3e7o_1    0.0    7    ['non_atp']\n",
      "3eqc_1    0.0    12    ['atp']\n",
      "3fe3_1    0.0    12    ['atp']\n",
      "3g2f_1    0.0    12    ['atp']\n",
      "3gp0_2    0.0    11    ['atp']\n",
      "3iec_1    0.0    12    ['atp']\n",
      "3lxp_1    0.0    12    ['atp']\n",
      "3my0_1    0.0    12    ['non_atp']\n",
      "3pp0_1    0.0    12    ['atp']\n",
      "3q4u_1    0.0    12    ['non_atp']\n",
      "3ugc_1    0.0    12    ['atp']\n",
      "3zfm_1    0.0    12    ['non_atp']\n",
      "4agu_1    0.0    12    ['atp']\n",
      "4agu_2    0.0    8    ['non_atp']\n",
      "4ckj_1    0.0    12    ['atp']\n",
      "4hcu_1    0.0    12    ['atp']\n",
      "4hni_1    0.0    13    ['atp']\n",
      "4l00_1    0.0    9    ['non_atp']\n",
      "4l6q_1    0.0    12    ['atp']\n",
      "4lg4_1    0.0    12    ['atp']\n",
      "4nst_1    0.0    12    ['atp']\n",
      "4qtb_2    0.0    2    ['non_atp']\n",
      "4tnd_1    0.0    1    ['non_atp']\n",
      "4tnd_3    0.0    10    ['non_atp']\n",
      "4tnd_4    0.0    5    ['non_atp']\n",
      "4w9w_1    0.0    12    ['atp']\n",
      "4y85_2    0.0    8    ['non_atp']\n",
      "4yhj_2    0.0    5    ['non_atp']\n",
      "4yhj_3    0.0    1    ['non_atp']\n",
      "4zzn_2    0.0    2    ['non_atp']\n",
      "5e8v_1    0.0    12    ['atp']\n",
      "5efq_1    0.0    12    ['atp']\n",
      "5h0b_1    0.0    12    ['atp']\n",
      "5hu9_1    0.0    12    ['atp']\n",
      "5j5t_2    0.0    3    ['non_atp']\n",
      "5jzj_1    0.0    12    ['atp']\n",
      "5k00_1    0.0    4    ['non_atp']\n",
      "5l8l_1    0.0    12    ['atp']\n",
      "5lxc_1    0.0    12    ['atp']\n",
      "5mja_1    0.0    12    ['atp']\n",
      "5o0y_1    0.0    12    ['atp']\n",
      "5ote_1    0.0    12    ['atp']\n",
      "5p9j_1    0.0    12    ['atp']\n",
      "5uyj_1    0.0    12    ['atp']\n",
      "5vcz_1    0.0    12    ['atp']\n",
      "5wne_1    0.0    12    ['atp']\n",
      "6cz4_2    0.0    9    ['non_atp']\n",
      "6eim_2    0.0    3    ['non_atp']\n",
      "6fng_1    0.0    12    ['atp']\n",
      "6fyv_1    0.0    12    ['atp']\n",
      "6gzm_1    0.0    13    ['atp']\n",
      "\u001b[96mOutliers 0.1 - 0.2\u001b[0m\n",
      "2r2p_1    0.10102338050679241    12    ['atp']\n",
      "2rku_1    0.12560194213395942    12    ['atp']\n",
      "2vz6_1    0.1260888588361641    12    ['atp']\n",
      "2wel_1    0.13368688760522848    12    ['atp']\n",
      "3kmu_1    0.1315981897590958    12    ['non_atp']\n",
      "4asz_1    0.12026605944391185    0    ['atp']\n",
      "4k33_1    0.1103542700667466    12    ['atp']\n",
      "4l42_2    0.13452296541400766    12    ['atp']\n",
      "4mwi_1    0.10111855485105879    12    ['non_atp']\n",
      "4usf_1    0.13194128918828163    12    ['atp']\n",
      "4yz9_1    0.11917082902098426    0    ['atp']\n",
      "5g6v_1    0.12700903943578018    12    ['atp']\n",
      "5lvo_1    0.10069899519440806    12    ['atp']\n",
      "5u6b_1    0.11713413164027968    12    ['atp']\n",
      "6eim_1    0.12040354705046322    12    ['atp']\n",
      "\u001b[36mOutliers > 0.2\u001b[0m\n",
      "1qpc_1    0.32511102787736085    12    ['atp']\n",
      "2fst_1    0.468977372671304    2    ['non_atp']\n",
      "3cok_1    0.3692161419818295    12    ['atp']\n",
      "3v5w_3    0.4226305744019839    1    ['non_atp']\n",
      "4yfi_2    0.35735332351156934    3    ['non_atp']\n",
      "5e8s_1    0.3453063766837092    12    ['non_atp']\n",
      "5o1v_1    0.36507430151261383    12    ['non_atp']\n",
      "5y86_1    0.2514488871572594    12    ['atp']\n",
      "max_score 0.468977372671304 min_score 0.0\n",
      "~~~~~~~~~~~~~~~~~~~~~~~ Cluster 14 min_cluster = 2 min_sample = 1~~~~~~~~~~~~~~~~~~~~~~~~~~~~~~~~~~~~~~~~~~~\n"
     ]
    },
    {
     "data": {
      "application/vnd.plotly.v1+json": {
       "config": {
        "plotlyServerURL": "https://plot.ly"
       },
       "data": [
        {
         "customdata": [
          [
           "1blx_1"
          ],
          [
           "1p4o_1"
          ],
          [
           "1tki_1"
          ],
          [
           "1vzo_1"
          ],
          [
           "2ac3_1"
          ],
          [
           "2dq7_2"
          ],
          [
           "2f57_1"
          ],
          [
           "2h6d_1"
          ],
          [
           "2hw6_1"
          ],
          [
           "2jam_1"
          ],
          [
           "2jc6_1"
          ],
          [
           "2y4i_1"
          ],
          [
           "2y4i_2"
          ],
          [
           "2y4i_3"
          ],
          [
           "3aln_2"
          ],
          [
           "3cc6_1"
          ],
          [
           "3dls_1"
          ],
          [
           "3dtc_2"
          ],
          [
           "3fxz_1"
          ],
          [
           "3hng_2"
          ],
          [
           "3iec_2"
          ],
          [
           "3kmu_2"
          ],
          [
           "3q4u_2"
          ],
          [
           "3soc_2"
          ],
          [
           "3v5w_2"
          ],
          [
           "4asz_1"
          ],
          [
           "4asz_2"
          ],
          [
           "4asz_3"
          ],
          [
           "4crs_2"
          ],
          [
           "4itj_1"
          ],
          [
           "4js8_1"
          ],
          [
           "4kik_1"
          ],
          [
           "4l00_2"
          ],
          [
           "4l42_1"
          ],
          [
           "4pwn_1"
          ],
          [
           "4qpm_2"
          ],
          [
           "4r1v_1"
          ],
          [
           "4ra4_1"
          ],
          [
           "4y85_1"
          ],
          [
           "4ymj_1"
          ],
          [
           "4yz9_1"
          ],
          [
           "4z55_2"
          ],
          [
           "5b2l_1"
          ],
          [
           "5grn_2"
          ],
          [
           "5li9_2"
          ],
          [
           "5xs2_2"
          ],
          [
           "6bru_1"
          ]
         ],
         "hovertemplate": "Clusters=0<br>x=%{x}<br>y=%{y}<br>Pockets=%{customdata[0]}<extra></extra>",
         "legendgroup": "0",
         "marker": {
          "color": "#636efa",
          "symbol": "circle"
         },
         "mode": "markers",
         "name": "0",
         "orientation": "v",
         "showlegend": true,
         "type": "scatter",
         "x": [
          0.3248980430020819,
          -0.5365592556553951,
          -0.6039597398308599,
          -0.42627393203887515,
          0.29063963270488075,
          -0.12743621100331132,
          -0.74813132991671,
          -0.4849422563251625,
          0.2832078019189778,
          0.2622602717644325,
          -0.23852137154178535,
          -0.17156271956545338,
          -0.013996037007589482,
          0.09536826795770226,
          -0.03807324590604188,
          0.07380017888284808,
          0.3048887152801674,
          -0.7444988526510059,
          0.04437647454722059,
          -0.5439881228443878,
          -0.5729581768601345,
          -0.09500913077268233,
          -0.1986444392931919,
          -0.7832271083683078,
          -0.6954268134689711,
          -0.24286637133427483,
          -0.5113196753082825,
          -0.36898063921854785,
          -0.3734842949738005,
          -0.051860465769821645,
          0.3320851519775751,
          -0.4726874625402899,
          0.5871934619678071,
          -0.45950253611401093,
          0.3760940964121626,
          -0.43647409416611715,
          0.25815902821445097,
          0.32627612128188127,
          0.07098007730147478,
          -0.4253505564171739,
          -0.01936281805184764,
          -0.5962544954364525,
          0.13472222872954467,
          -0.3689085739899851,
          0.011625755693256292,
          -0.6319251121450827,
          -0.4407003322111048
         ],
         "xaxis": "x",
         "y": [
          0.5909705587197034,
          -0.46643322445879387,
          0.2719016486199503,
          -0.5169928550558184,
          -0.6325213501633001,
          0.6243909764952079,
          0.46499771546933344,
          -0.23676572816154495,
          0.6151161397459453,
          -0.5720791431657142,
          0.30166543441242094,
          -0.37397663279042676,
          -0.7319427023490368,
          -0.7549894723259757,
          -0.725698430930564,
          0.5115096768799199,
          0.46980461472780366,
          0.2562598084318404,
          0.487505056785156,
          -0.38542910085645055,
          0.32693323638758176,
          -0.7084114192121658,
          -0.6872520328030889,
          0.2180591571280268,
          0.48603278984531045,
          0.867654729735753,
          0.7357126844397683,
          0.8199396535543177,
          0.5364748740729585,
          0.7066921140049596,
          0.3860016938663616,
          0.44832099244002466,
          -0.1946603042425095,
          -0.47352179144680817,
          -0.5159332188157553,
          0.5395633332242301,
          -0.5469708695261958,
          -0.44821643781278186,
          0.552152572940471,
          -0.795298116403901,
          0.7324381374929511,
          0.20828627509160239,
          -0.5099407289283362,
          -0.6156619786084926,
          0.7104082758036279,
          -0.32076756700676423,
          0.46917939516956053
         ],
         "yaxis": "y"
        },
        {
         "customdata": [
          [
           "1byg_1"
          ],
          [
           "1fmk_1"
          ],
          [
           "1j1b_1"
          ],
          [
           "1o6l_1"
          ],
          [
           "1qpc_1"
          ],
          [
           "1s9i_1"
          ],
          [
           "1u59_1"
          ],
          [
           "1ua2_1"
          ],
          [
           "1wak_1"
          ],
          [
           "1x8b_1"
          ],
          [
           "1xjd_1"
          ],
          [
           "2a2a_1"
          ],
          [
           "2buj_1"
          ],
          [
           "2cmw_1"
          ],
          [
           "2dq7_1"
          ],
          [
           "2eva_1"
          ],
          [
           "2i0e_1"
          ],
          [
           "2izr_1"
          ],
          [
           "2j0i_1"
          ],
          [
           "2qlu_1"
          ],
          [
           "2qol_1"
          ],
          [
           "2r2p_1"
          ],
          [
           "2r4b_1"
          ],
          [
           "2r5t_1"
          ],
          [
           "2rei_1"
          ],
          [
           "2rku_1"
          ],
          [
           "2vd5_1"
          ],
          [
           "2vz6_1"
          ],
          [
           "2w4o_1"
          ],
          [
           "2wel_1"
          ],
          [
           "2x7g_1"
          ],
          [
           "2xik_1"
          ],
          [
           "2xir_1"
          ],
          [
           "2xrw_1"
          ],
          [
           "2y7j_1"
          ],
          [
           "2ycf_1"
          ],
          [
           "2yex_1"
          ],
          [
           "3a7i_1"
          ],
          [
           "3a99_1"
          ],
          [
           "3aln_1"
          ],
          [
           "3b2t_1"
          ],
          [
           "3bhh_1"
          ],
          [
           "3bhy_1"
          ],
          [
           "3brb_1"
          ],
          [
           "3bu3_1"
          ],
          [
           "3c0i_1"
          ],
          [
           "3cbl_1"
          ],
          [
           "3cok_1"
          ],
          [
           "3com_1"
          ],
          [
           "3dtc_1"
          ],
          [
           "3eqc_1"
          ],
          [
           "3fe3_1"
          ],
          [
           "3fhr_1"
          ],
          [
           "3fme_1"
          ],
          [
           "3g2f_1"
          ],
          [
           "3ggf_1"
          ],
          [
           "3gp0_1"
          ],
          [
           "3hmi_1"
          ],
          [
           "3hng_1"
          ],
          [
           "3iec_1"
          ],
          [
           "3kmu_1"
          ],
          [
           "3kul_1"
          ],
          [
           "3lco_1"
          ],
          [
           "3lm5_1"
          ],
          [
           "3lm5_2"
          ],
          [
           "3lxp_1"
          ],
          [
           "3m2w_1"
          ],
          [
           "3mdy_1"
          ],
          [
           "3mi9_1"
          ],
          [
           "3my0_1"
          ],
          [
           "3omv_1"
          ],
          [
           "3pls_1"
          ],
          [
           "3pp0_1"
          ],
          [
           "3q4u_1"
          ],
          [
           "3s95_1"
          ],
          [
           "3soc_1"
          ],
          [
           "3sxs_1"
          ],
          [
           "3txo_1"
          ],
          [
           "3ugc_1"
          ],
          [
           "3v5w_1"
          ],
          [
           "3war_1"
          ],
          [
           "3zdu_1"
          ],
          [
           "3zfm_1"
          ],
          [
           "4aaa_1"
          ],
          [
           "4af3_1"
          ],
          [
           "4agu_1"
          ],
          [
           "4b6l_1"
          ],
          [
           "4b9d_1"
          ],
          [
           "4bgq_1"
          ],
          [
           "4bkj_1"
          ],
          [
           "4ckj_1"
          ],
          [
           "4crs_1"
          ],
          [
           "4euu_1"
          ],
          [
           "4f9c_1"
          ],
          [
           "4fg8_1"
          ],
          [
           "4fkl_1"
          ],
          [
           "4fr4_1"
          ],
          [
           "4gv1_1"
          ],
          [
           "4hcu_1"
          ],
          [
           "4hvs_1"
          ],
          [
           "4hzr_1"
          ],
          [
           "4i4e_1"
          ],
          [
           "4i5p_1"
          ],
          [
           "4idt_1"
          ],
          [
           "4iir_1"
          ],
          [
           "4k33_1"
          ],
          [
           "4kik_2"
          ],
          [
           "4ks7_1"
          ],
          [
           "4l42_2"
          ],
          [
           "4l6q_1"
          ],
          [
           "4lg4_1"
          ],
          [
           "4mwi_1"
          ],
          [
           "4nfn_1"
          ],
          [
           "4nst_1"
          ],
          [
           "4nw6_1"
          ],
          [
           "4oth_1"
          ],
          [
           "4pf4_1"
          ],
          [
           "4qpm_1"
          ],
          [
           "4qqt_1"
          ],
          [
           "4qtb_1"
          ],
          [
           "4qtc_1"
          ],
          [
           "4tnd_2"
          ],
          [
           "4usf_1"
          ],
          [
           "4w9w_1"
          ],
          [
           "4wb8_1"
          ],
          [
           "4wno_1"
          ],
          [
           "4x7k_1"
          ],
          [
           "4x7q_1"
          ],
          [
           "4y8d_1"
          ],
          [
           "4yfi_1"
          ],
          [
           "4yhj_1"
          ],
          [
           "4yjr_1"
          ],
          [
           "4ylk_1"
          ],
          [
           "4yno_1"
          ],
          [
           "4z55_1"
          ],
          [
           "4zzn_1"
          ],
          [
           "5ax9_1"
          ],
          [
           "5byz_1"
          ],
          [
           "5cen_1"
          ],
          [
           "5e8s_1"
          ],
          [
           "5e8v_1"
          ],
          [
           "5efq_1"
          ],
          [
           "5ew8_1"
          ],
          [
           "5g6v_1"
          ],
          [
           "5grn_1"
          ],
          [
           "5h0b_1"
          ],
          [
           "5hu9_1"
          ],
          [
           "5hu9_2"
          ],
          [
           "5ita_1"
          ],
          [
           "5j5t_1"
          ],
          [
           "5jfw_1"
          ],
          [
           "5jga_1"
          ],
          [
           "5jzj_1"
          ],
          [
           "5k00_2"
          ],
          [
           "5l6o_1"
          ],
          [
           "5l8l_1"
          ],
          [
           "5li9_1"
          ],
          [
           "5lqf_1"
          ],
          [
           "5lvo_1"
          ],
          [
           "5lwm_1"
          ],
          [
           "5lxc_1"
          ],
          [
           "5mja_1"
          ],
          [
           "5ng0_1"
          ],
          [
           "5nxd_1"
          ],
          [
           "5o0y_1"
          ],
          [
           "5o1v_1"
          ],
          [
           "5ote_1"
          ],
          [
           "5p9j_1"
          ],
          [
           "5te0_1"
          ],
          [
           "5te0_2"
          ],
          [
           "5u6b_1"
          ],
          [
           "5ug9_1"
          ],
          [
           "5uit_1"
          ],
          [
           "5uyj_1"
          ],
          [
           "5vcz_1"
          ],
          [
           "5vdk_1"
          ],
          [
           "5wne_1"
          ],
          [
           "5x5o_1"
          ],
          [
           "5xs2_1"
          ],
          [
           "5y86_1"
          ],
          [
           "5yf9_1"
          ],
          [
           "5yks_1"
          ],
          [
           "6bfn_1"
          ],
          [
           "6bxi_1"
          ],
          [
           "6c0t_1"
          ],
          [
           "6c9d_1"
          ],
          [
           "6ccf_1"
          ],
          [
           "6cz4_1"
          ],
          [
           "6eim_1"
          ],
          [
           "6fd3_1"
          ],
          [
           "6fdy_1"
          ],
          [
           "6fng_1"
          ],
          [
           "6fnk_1"
          ],
          [
           "6ft8_1"
          ],
          [
           "6fyl_1"
          ],
          [
           "6fyr_1"
          ],
          [
           "6fyv_1"
          ],
          [
           "6op9_1"
          ],
          [
           "7aqb_1"
          ]
         ],
         "hovertemplate": "Clusters=12<br>x=%{x}<br>y=%{y}<br>Pockets=%{customdata[0]}<extra></extra>",
         "legendgroup": "12",
         "marker": {
          "color": "#EF553B",
          "symbol": "circle"
         },
         "mode": "markers",
         "name": "12",
         "orientation": "v",
         "showlegend": true,
         "type": "scatter",
         "x": [
          0.31768063813280883,
          -0.6527755320666833,
          -0.0013017119807524117,
          -0.24416665544019014,
          0.3881037284668726,
          0.06209154143120225,
          0.16034577905489933,
          0.06939835480938854,
          -0.32816405065808124,
          0.03821161504547769,
          0.3589985756140481,
          -0.2115919059069358,
          0.40969734719188905,
          -0.08420990457066477,
          0.36188964385007893,
          0.4499153223675266,
          0.27149576668166053,
          0.09844061627572227,
          0.1683043072090021,
          0.5333272413901903,
          0.4014724728428225,
          0.2321915157930426,
          0.25402942098613035,
          -0.13470551263307312,
          0.2698762699132662,
          0.3626648108228737,
          -0.13177143879854136,
          0.48010107684847325,
          0.16964849172836183,
          0.17299652916316738,
          -0.22015177109634865,
          0.3343362724694115,
          0.2820268226381549,
          -0.03938427659780015,
          0.06999475864671366,
          0.0105763114616465,
          0.310485511494994,
          0.2467764503359875,
          -0.07861938922424487,
          -0.2388735978867527,
          0.07783870918387101,
          0.31701768234229716,
          -0.0645227024105635,
          0.4207299560984199,
          0.4290299548984729,
          -0.08007748275969247,
          0.3073886937564007,
          0.10551154054197033,
          0.5973178891516902,
          0.20504814080127254,
          -0.12734201216849333,
          0.18829410313037226,
          -0.20132835941862107,
          0.5867848045667646,
          -0.009478686472567437,
          0.022344019691518797,
          0.37663643637010547,
          0.31821656697090395,
          0.11080876357152382,
          0.4052298496960134,
          -0.20858090618092368,
          0.45468558787308644,
          0.2274454975702931,
          0.21376670309836848,
          -0.3648552644618365,
          0.43647877776754546,
          -0.029731295337509647,
          0.2910801334763434,
          0.4990408261122791,
          -0.694475414537457,
          0.4939278103352023,
          0.15324344209177834,
          0.4448186919142138,
          -0.0928122933832965,
          -0.8297446228678504,
          -0.7284067820063345,
          0.4791766816932165,
          -0.033273595718144484,
          0.31977420575667037,
          -0.4726677829204078,
          -0.2332700490254854,
          0.16039937840333182,
          0.6218143981751231,
          0.40054344754815846,
          0.5850885067541635,
          0.14814873896914213,
          -0.08106993524282446,
          0.5810791301075445,
          0.37968945069136956,
          -0.10572150552263672,
          -0.010926825708249578,
          -0.208240511393221,
          -0.043543247107327626,
          0.5071900400478865,
          0.010145106877240156,
          0.016383837429946917,
          0.09230484215852847,
          -0.14502442053868117,
          0.0947760634178353,
          0.13218881611676667,
          0.5275338382454969,
          0.34573241184569636,
          -0.15446178011395637,
          -0.07026730216038377,
          0.46152551176662826,
          0.021058212391193747,
          0.25394161963482953,
          -0.11340233411973465,
          0.16293490044795703,
          -0.18617258884991322,
          0.16538995992699537,
          0.08382416907033582,
          -0.14999115330663373,
          -0.12702006461864132,
          0.522208168567321,
          0.0317637900001754,
          -0.26891766975188736,
          -0.17701813995910867,
          0.09989284719564356,
          0.046001017671077546,
          -0.14539142018634324,
          -0.6535649503478483,
          0.5706929496238733,
          0.01290907151138707,
          -0.18390884295027876,
          0.02762028127149609,
          -0.369660148149612,
          0.35982787858576837,
          0.4294326881737453,
          0.2787545025084063,
          -0.45896955923508764,
          0.5025549140100738,
          -0.04041401938687038,
          0.22794123292994775,
          0.376881762005171,
          0.28522222638533035,
          0.4865226817903254,
          0.5358948337672538,
          0.6069539971675739,
          0.35316374548997437,
          0.1410132016413693,
          -0.06434824369442833,
          0.1897122474080075,
          0.506977160125297,
          -0.015543163131112188,
          -0.5931832729438362,
          0.4869867107567474,
          -0.1789868910513263,
          0.31992781641356915,
          0.3057331085916001,
          -0.09169160553263192,
          0.4056286592080998,
          -0.19620849041916558,
          0.5235795568097583,
          0.5355861410941292,
          0.0612713096195458,
          -0.17070374836555557,
          0.12367127804024283,
          -0.015041341404395116,
          -0.2737486830814085,
          -0.11834248534336371,
          0.3597977964424737,
          0.4061339911304106,
          0.4461667231280859,
          -0.257890094062264,
          0.15878564728938918,
          -0.2329504372160924,
          0.2934351325840622,
          0.2917466602037579,
          -0.32043055953638794,
          0.25808278525423173,
          0.1696824670707284,
          0.46907048264190426,
          0.13079636635397288,
          -0.07302718901937019,
          0.23019696113211913,
          -0.15324677563967357,
          0.115455348404921,
          -0.26706269582010544,
          -0.07561475246569577,
          0.5228138322387145,
          0.24547163474911515,
          0.4343081142328202,
          -0.357364106960942,
          -0.24056926509092463,
          -0.2966412999913342,
          0.1859901777538029,
          -0.06603740311300446,
          0.22541960826817817,
          -0.030413621802424212,
          -0.029137584239696528,
          0.23692628437725002,
          0.1254367050524015,
          -0.38223273440934485,
          -0.06556631617696215,
          -0.0245997494912739,
          -0.09172266660039073,
          0.02850065731327043,
          0.5336829025876707
         ],
         "xaxis": "x",
         "y": [
          -0.24614837333321185,
          0.05542119721964187,
          0.07576710461015043,
          0.01222262834771048,
          -0.06277329998492981,
          -0.4626911813501775,
          0.03419491581284209,
          -0.38393875334914856,
          -0.1325345205968529,
          0.026084035955432107,
          0.22594734124583327,
          0.03519090881188916,
          -0.03595410495121631,
          -0.31595059905452594,
          0.10122998250319894,
          -0.14230037250077207,
          0.3845909151423502,
          -0.3473303610876455,
          -0.16422362421848544,
          0.055033804271280226,
          -0.20231334977766366,
          -0.31104038566540365,
          -0.009438148525779943,
          0.22296307989375425,
          -0.2744523453623924,
          -0.4171821894710979,
          0.055933423479444466,
          0.25566802774777697,
          -0.4158625064891461,
          -0.5167148826485942,
          -0.12210071035373718,
          0.026610213850550006,
          0.282738470926605,
          -0.372900929339933,
          -0.09353119558307933,
          -0.2782331061940562,
          0.15428363275423052,
          -0.06574573828320122,
          0.19764276211918505,
          -0.2947387520956437,
          -0.045069623283484496,
          0.4411583418927028,
          -0.0015428078974634863,
          -0.4141968225245802,
          -0.31857801823254484,
          0.15968638773568297,
          -0.11912080597590997,
          -0.28400588522188297,
          0.018440535677835726,
          -0.11154764614133764,
          -0.24718467870792238,
          0.5130092302102598,
          0.25097544892089907,
          0.1346715943491245,
          -0.4093853414923204,
          0.258215773668066,
          0.4118607923040516,
          0.27589715906010903,
          0.3861032407592064,
          0.16359383759717103,
          -0.44352339341029645,
          0.03313572554652832,
          0.3154768703786804,
          0.24521135307771041,
          0.4344465947001502,
          0.09688060404254284,
          0.3399843967999798,
          0.04557230603852395,
          0.14318960245506263,
          0.11623790954714228,
          0.08897708615214178,
          -0.25262684783761086,
          -0.08014953241041876,
          -0.18622949342914022,
          0.1999292128663959,
          0.16791949980762175,
          -0.20115084075278494,
          0.273080459439454,
          -0.21426959666584602,
          -0.01754290545412601,
          0.08064546084842988,
          0.14838035899134533,
          -0.027366850948288675,
          0.358392588912472,
          -0.08064735103501226,
          0.08716317580439807,
          -0.10430618268150064,
          0.23668320926938613,
          0.18732389333330532,
          0.5199826685933466,
          -0.06290285194416581,
          -0.02542810649220542,
          0.1274557732846694,
          0.1696471157172057,
          -0.4979374011163437,
          -0.34337450135366715,
          0.30906001687517826,
          0.011936304005951654,
          -0.2227923619478214,
          0.5433352762142234,
          -0.189956672774839,
          -0.32813461545276085,
          -0.1574760223392407,
          0.34817482409362316,
          -0.015908248802247033,
          -0.07142665513342329,
          0.21504934158130343,
          -0.10445543709898254,
          0.4678076196300946,
          -0.021659578454542614,
          0.26878526826280896,
          -0.1410305153136315,
          0.265787055605733,
          -0.17596066703584515,
          -0.1054599483919443,
          0.17831754671507585,
          -0.029609746515201634,
          0.13063537383308785,
          0.24247380952249953,
          -0.03588145935125195,
          0.10942080363134736,
          -0.012858106735806375,
          0.3044189945889178,
          8.765674058123278e-05,
          0.06609494863909282,
          0.04364426263034658,
          0.0037739022349239865,
          0.3344334668005942,
          0.24273688809184832,
          0.15367201267811076,
          0.11839977795692942,
          -0.23502810118296874,
          -0.1497589895953386,
          -0.22756068211705646,
          -0.22646393168614634,
          -0.34099943584748654,
          -0.1171586030249361,
          -0.07680130275056928,
          -0.18823840308309264,
          -0.006208035018614426,
          -0.03445906058969593,
          -0.18974183026001976,
          0.39876994868922216,
          -0.3986933732773736,
          0.43659409462325993,
          0.017832384893415532,
          0.21281754585769136,
          -0.6121976218993995,
          0.12339027302578791,
          0.040761538565578945,
          -0.4064916953069706,
          -0.11620001265994062,
          -0.2534307576341474,
          0.04133842707369357,
          -0.3325401583588423,
          -0.26092573226960614,
          -0.10434628288395785,
          0.0973329292108141,
          -0.1036273468509695,
          -0.1533599877583432,
          -0.02990545106073262,
          -0.2952835508397612,
          0.0964372304248684,
          0.36402583236809416,
          0.20338282733898752,
          -0.21544907958836085,
          0.12547946570445345,
          -0.1871102841721228,
          0.2233021940990331,
          0.5801273960710724,
          -0.45332221651888244,
          -0.08421773497383289,
          -0.3030528484738767,
          0.36723388360073295,
          0.08645574565661147,
          0.02400125773839056,
          0.02206520259252988,
          0.3155875493103636,
          -0.23947102673092388,
          0.026841007899039305,
          0.33255047877321803,
          0.4243969910949019,
          -0.38400428914875784,
          -0.17995184712619822,
          0.027928261173934595,
          0.03374557419942365,
          0.044826836132139454,
          0.4309205770816162,
          0.4704118739049304,
          -0.03925454764663733,
          -0.2540336440950192,
          -0.37529592641264414,
          -0.2637630608966872,
          -0.03509548838802051,
          -0.04053857993872623,
          0.07973991136752528,
          -0.013838404668353661,
          -0.17717239041053098,
          0.0025909658816867308
         ],
         "yaxis": "y"
        },
        {
         "customdata": [
          [
           "1fmk_2"
          ],
          [
           "1xjd_2"
          ],
          [
           "5k00_1"
          ]
         ],
         "hovertemplate": "Clusters=4<br>x=%{x}<br>y=%{y}<br>Pockets=%{customdata[0]}<extra></extra>",
         "legendgroup": "4",
         "marker": {
          "color": "#00cc96",
          "symbol": "circle"
         },
         "mode": "markers",
         "name": "4",
         "orientation": "v",
         "showlegend": true,
         "type": "scatter",
         "x": [
          -0.40660282993689967,
          -0.5841155179668998,
          -0.36280259595316633
         ],
         "xaxis": "x",
         "y": [
          -0.5421705902798124,
          -0.42228141059575725,
          0.5852112682083801
         ],
         "yaxis": "y"
        },
        {
         "customdata": [
          [
           "1u59_2"
          ],
          [
           "3e7o_1"
          ],
          [
           "3hmi_2"
          ]
         ],
         "hovertemplate": "Clusters=7<br>x=%{x}<br>y=%{y}<br>Pockets=%{customdata[0]}<extra></extra>",
         "legendgroup": "7",
         "marker": {
          "color": "#ab63fa",
          "symbol": "circle"
         },
         "mode": "markers",
         "name": "7",
         "orientation": "v",
         "showlegend": true,
         "type": "scatter",
         "x": [
          -0.6002970102152781,
          -0.6325465011675263,
          -0.5852570185758111
         ],
         "xaxis": "x",
         "y": [
          -0.2857854288027289,
          -0.24169634362906836,
          -0.3359549699586604
         ],
         "yaxis": "y"
        },
        {
         "customdata": [
          [
           "2acx_1"
          ],
          [
           "4tnd_4"
          ],
          [
           "4yhj_2"
          ]
         ],
         "hovertemplate": "Clusters=5<br>x=%{x}<br>y=%{y}<br>Pockets=%{customdata[0]}<extra></extra>",
         "legendgroup": "5",
         "marker": {
          "color": "#FFA15A",
          "symbol": "circle"
         },
         "mode": "markers",
         "name": "5",
         "orientation": "v",
         "showlegend": true,
         "type": "scatter",
         "x": [
          -0.5674189047365763,
          -0.5073380666725832,
          -0.5121500504350283
         ],
         "xaxis": "x",
         "y": [
          0.3853121636977453,
          0.35985566996134255,
          0.32446652622501765
         ],
         "yaxis": "y"
        },
        {
         "customdata": [
          [
           "2acx_2"
          ],
          [
           "4tnd_3"
          ]
         ],
         "hovertemplate": "Clusters=10<br>x=%{x}<br>y=%{y}<br>Pockets=%{customdata[0]}<extra></extra>",
         "legendgroup": "10",
         "marker": {
          "color": "#19d3f3",
          "symbol": "circle"
         },
         "mode": "markers",
         "name": "10",
         "orientation": "v",
         "showlegend": true,
         "type": "scatter",
         "x": [
          -0.7929177184758585,
          -0.7503935291986763
         ],
         "xaxis": "x",
         "y": [
          -0.08050037499447689,
          -0.07224630962130588
         ],
         "yaxis": "y"
        },
        {
         "customdata": [
          [
           "2fst_1"
          ],
          [
           "4qtb_2"
          ],
          [
           "4zzn_2"
          ]
         ],
         "hovertemplate": "Clusters=2<br>x=%{x}<br>y=%{y}<br>Pockets=%{customdata[0]}<extra></extra>",
         "legendgroup": "2",
         "marker": {
          "color": "#FF6692",
          "symbol": "circle"
         },
         "mode": "markers",
         "name": "2",
         "orientation": "v",
         "showlegend": true,
         "type": "scatter",
         "x": [
          -0.7907924542227106,
          -0.7260150614920495,
          -0.7156055652612343
         ],
         "xaxis": "x",
         "y": [
          -0.1688772023309015,
          -0.2512712405052634,
          -0.20862509040139143
         ],
         "yaxis": "y"
        },
        {
         "customdata": [
          [
           "2vz6_2"
          ],
          [
           "2wel_2"
          ]
         ],
         "hovertemplate": "Clusters=6<br>x=%{x}<br>y=%{y}<br>Pockets=%{customdata[0]}<extra></extra>",
         "legendgroup": "6",
         "marker": {
          "color": "#B6E880",
          "symbol": "circle"
         },
         "mode": "markers",
         "name": "6",
         "orientation": "v",
         "showlegend": true,
         "type": "scatter",
         "x": [
          -0.5019310893590898,
          -0.5187129098605459
         ],
         "xaxis": "x",
         "y": [
          -0.49241417283009814,
          0.4518366281880265
         ],
         "yaxis": "y"
        },
        {
         "customdata": [
          [
           "2xir_2"
          ],
          [
           "3gp0_2"
          ]
         ],
         "hovertemplate": "Clusters=11<br>x=%{x}<br>y=%{y}<br>Pockets=%{customdata[0]}<extra></extra>",
         "legendgroup": "11",
         "marker": {
          "color": "#FF97FF",
          "symbol": "circle"
         },
         "mode": "markers",
         "name": "11",
         "orientation": "v",
         "showlegend": true,
         "type": "scatter",
         "x": [
          -0.3791940953370479,
          -0.27375167968196995
         ],
         "xaxis": "x",
         "y": [
          -0.5683603350073122,
          -0.6327873503386322
         ],
         "yaxis": "y"
        },
        {
         "customdata": [
          [
           "3v5w_3"
          ],
          [
           "4tnd_1"
          ],
          [
           "4yhj_3"
          ]
         ],
         "hovertemplate": "Clusters=1<br>x=%{x}<br>y=%{y}<br>Pockets=%{customdata[0]}<extra></extra>",
         "legendgroup": "1",
         "marker": {
          "color": "#FECB52",
          "symbol": "circle"
         },
         "mode": "markers",
         "name": "1",
         "orientation": "v",
         "showlegend": true,
         "type": "scatter",
         "x": [
          -0.8034059592839625,
          -0.6384080992707069,
          -0.8095877825333446
         ],
         "xaxis": "x",
         "y": [
          0.0335602777878382,
          -0.09739217943147829,
          0.05879695064855419
         ],
         "yaxis": "y"
        },
        {
         "customdata": [
          [
           "4agu_2"
          ],
          [
           "4y85_2"
          ]
         ],
         "hovertemplate": "Clusters=8<br>x=%{x}<br>y=%{y}<br>Pockets=%{customdata[0]}<extra></extra>",
         "legendgroup": "8",
         "marker": {
          "color": "#636efa",
          "symbol": "circle"
         },
         "mode": "markers",
         "name": "8",
         "orientation": "v",
         "showlegend": true,
         "type": "scatter",
         "x": [
          0.1484203790644065,
          -0.14011550949291046
         ],
         "xaxis": "x",
         "y": [
          -0.7175138285346127,
          0.6538475541461773
         ],
         "yaxis": "y"
        },
        {
         "customdata": [
          [
           "4hni_1"
          ],
          [
           "6gzm_1"
          ]
         ],
         "hovertemplate": "Clusters=13<br>x=%{x}<br>y=%{y}<br>Pockets=%{customdata[0]}<extra></extra>",
         "legendgroup": "13",
         "marker": {
          "color": "#EF553B",
          "symbol": "circle"
         },
         "mode": "markers",
         "name": "13",
         "orientation": "v",
         "showlegend": true,
         "type": "scatter",
         "x": [
          0.42331153363615154,
          0.43906352856969866
         ],
         "xaxis": "x",
         "y": [
          0.41833859009480906,
          0.4005208494074846
         ],
         "yaxis": "y"
        },
        {
         "customdata": [
          [
           "4l00_1"
          ],
          [
           "6cz4_2"
          ]
         ],
         "hovertemplate": "Clusters=9<br>x=%{x}<br>y=%{y}<br>Pockets=%{customdata[0]}<extra></extra>",
         "legendgroup": "9",
         "marker": {
          "color": "#00cc96",
          "symbol": "circle"
         },
         "mode": "markers",
         "name": "9",
         "orientation": "v",
         "showlegend": true,
         "type": "scatter",
         "x": [
          -0.2433972842798258,
          -0.3113137952421759
         ],
         "xaxis": "x",
         "y": [
          -0.6503292951658779,
          -0.6283442063302489
         ],
         "yaxis": "y"
        },
        {
         "customdata": [
          [
           "4yfi_2"
          ],
          [
           "5j5t_2"
          ],
          [
           "6eim_2"
          ]
         ],
         "hovertemplate": "Clusters=3<br>x=%{x}<br>y=%{y}<br>Pockets=%{customdata[0]}<extra></extra>",
         "legendgroup": "3",
         "marker": {
          "color": "#ab63fa",
          "symbol": "circle"
         },
         "mode": "markers",
         "name": "3",
         "orientation": "v",
         "showlegend": true,
         "type": "scatter",
         "x": [
          -0.5137697254660588,
          -0.28104767986988133,
          -0.24395265013540987
         ],
         "xaxis": "x",
         "y": [
          -0.46047059574250043,
          0.644708418028851,
          0.650062246245402
         ],
         "yaxis": "y"
        }
       ],
       "layout": {
        "legend": {
         "title": {
          "text": "Clusters"
         },
         "tracegroupgap": 0
        },
        "template": {
         "data": {
          "bar": [
           {
            "error_x": {
             "color": "#2a3f5f"
            },
            "error_y": {
             "color": "#2a3f5f"
            },
            "marker": {
             "line": {
              "color": "#E5ECF6",
              "width": 0.5
             }
            },
            "type": "bar"
           }
          ],
          "barpolar": [
           {
            "marker": {
             "line": {
              "color": "#E5ECF6",
              "width": 0.5
             }
            },
            "type": "barpolar"
           }
          ],
          "carpet": [
           {
            "aaxis": {
             "endlinecolor": "#2a3f5f",
             "gridcolor": "white",
             "linecolor": "white",
             "minorgridcolor": "white",
             "startlinecolor": "#2a3f5f"
            },
            "baxis": {
             "endlinecolor": "#2a3f5f",
             "gridcolor": "white",
             "linecolor": "white",
             "minorgridcolor": "white",
             "startlinecolor": "#2a3f5f"
            },
            "type": "carpet"
           }
          ],
          "choropleth": [
           {
            "colorbar": {
             "outlinewidth": 0,
             "ticks": ""
            },
            "type": "choropleth"
           }
          ],
          "contour": [
           {
            "colorbar": {
             "outlinewidth": 0,
             "ticks": ""
            },
            "colorscale": [
             [
              0,
              "#0d0887"
             ],
             [
              0.1111111111111111,
              "#46039f"
             ],
             [
              0.2222222222222222,
              "#7201a8"
             ],
             [
              0.3333333333333333,
              "#9c179e"
             ],
             [
              0.4444444444444444,
              "#bd3786"
             ],
             [
              0.5555555555555556,
              "#d8576b"
             ],
             [
              0.6666666666666666,
              "#ed7953"
             ],
             [
              0.7777777777777778,
              "#fb9f3a"
             ],
             [
              0.8888888888888888,
              "#fdca26"
             ],
             [
              1,
              "#f0f921"
             ]
            ],
            "type": "contour"
           }
          ],
          "contourcarpet": [
           {
            "colorbar": {
             "outlinewidth": 0,
             "ticks": ""
            },
            "type": "contourcarpet"
           }
          ],
          "heatmap": [
           {
            "colorbar": {
             "outlinewidth": 0,
             "ticks": ""
            },
            "colorscale": [
             [
              0,
              "#0d0887"
             ],
             [
              0.1111111111111111,
              "#46039f"
             ],
             [
              0.2222222222222222,
              "#7201a8"
             ],
             [
              0.3333333333333333,
              "#9c179e"
             ],
             [
              0.4444444444444444,
              "#bd3786"
             ],
             [
              0.5555555555555556,
              "#d8576b"
             ],
             [
              0.6666666666666666,
              "#ed7953"
             ],
             [
              0.7777777777777778,
              "#fb9f3a"
             ],
             [
              0.8888888888888888,
              "#fdca26"
             ],
             [
              1,
              "#f0f921"
             ]
            ],
            "type": "heatmap"
           }
          ],
          "heatmapgl": [
           {
            "colorbar": {
             "outlinewidth": 0,
             "ticks": ""
            },
            "colorscale": [
             [
              0,
              "#0d0887"
             ],
             [
              0.1111111111111111,
              "#46039f"
             ],
             [
              0.2222222222222222,
              "#7201a8"
             ],
             [
              0.3333333333333333,
              "#9c179e"
             ],
             [
              0.4444444444444444,
              "#bd3786"
             ],
             [
              0.5555555555555556,
              "#d8576b"
             ],
             [
              0.6666666666666666,
              "#ed7953"
             ],
             [
              0.7777777777777778,
              "#fb9f3a"
             ],
             [
              0.8888888888888888,
              "#fdca26"
             ],
             [
              1,
              "#f0f921"
             ]
            ],
            "type": "heatmapgl"
           }
          ],
          "histogram": [
           {
            "marker": {
             "colorbar": {
              "outlinewidth": 0,
              "ticks": ""
             }
            },
            "type": "histogram"
           }
          ],
          "histogram2d": [
           {
            "colorbar": {
             "outlinewidth": 0,
             "ticks": ""
            },
            "colorscale": [
             [
              0,
              "#0d0887"
             ],
             [
              0.1111111111111111,
              "#46039f"
             ],
             [
              0.2222222222222222,
              "#7201a8"
             ],
             [
              0.3333333333333333,
              "#9c179e"
             ],
             [
              0.4444444444444444,
              "#bd3786"
             ],
             [
              0.5555555555555556,
              "#d8576b"
             ],
             [
              0.6666666666666666,
              "#ed7953"
             ],
             [
              0.7777777777777778,
              "#fb9f3a"
             ],
             [
              0.8888888888888888,
              "#fdca26"
             ],
             [
              1,
              "#f0f921"
             ]
            ],
            "type": "histogram2d"
           }
          ],
          "histogram2dcontour": [
           {
            "colorbar": {
             "outlinewidth": 0,
             "ticks": ""
            },
            "colorscale": [
             [
              0,
              "#0d0887"
             ],
             [
              0.1111111111111111,
              "#46039f"
             ],
             [
              0.2222222222222222,
              "#7201a8"
             ],
             [
              0.3333333333333333,
              "#9c179e"
             ],
             [
              0.4444444444444444,
              "#bd3786"
             ],
             [
              0.5555555555555556,
              "#d8576b"
             ],
             [
              0.6666666666666666,
              "#ed7953"
             ],
             [
              0.7777777777777778,
              "#fb9f3a"
             ],
             [
              0.8888888888888888,
              "#fdca26"
             ],
             [
              1,
              "#f0f921"
             ]
            ],
            "type": "histogram2dcontour"
           }
          ],
          "mesh3d": [
           {
            "colorbar": {
             "outlinewidth": 0,
             "ticks": ""
            },
            "type": "mesh3d"
           }
          ],
          "parcoords": [
           {
            "line": {
             "colorbar": {
              "outlinewidth": 0,
              "ticks": ""
             }
            },
            "type": "parcoords"
           }
          ],
          "pie": [
           {
            "automargin": true,
            "type": "pie"
           }
          ],
          "scatter": [
           {
            "marker": {
             "colorbar": {
              "outlinewidth": 0,
              "ticks": ""
             }
            },
            "type": "scatter"
           }
          ],
          "scatter3d": [
           {
            "line": {
             "colorbar": {
              "outlinewidth": 0,
              "ticks": ""
             }
            },
            "marker": {
             "colorbar": {
              "outlinewidth": 0,
              "ticks": ""
             }
            },
            "type": "scatter3d"
           }
          ],
          "scattercarpet": [
           {
            "marker": {
             "colorbar": {
              "outlinewidth": 0,
              "ticks": ""
             }
            },
            "type": "scattercarpet"
           }
          ],
          "scattergeo": [
           {
            "marker": {
             "colorbar": {
              "outlinewidth": 0,
              "ticks": ""
             }
            },
            "type": "scattergeo"
           }
          ],
          "scattergl": [
           {
            "marker": {
             "colorbar": {
              "outlinewidth": 0,
              "ticks": ""
             }
            },
            "type": "scattergl"
           }
          ],
          "scattermapbox": [
           {
            "marker": {
             "colorbar": {
              "outlinewidth": 0,
              "ticks": ""
             }
            },
            "type": "scattermapbox"
           }
          ],
          "scatterpolar": [
           {
            "marker": {
             "colorbar": {
              "outlinewidth": 0,
              "ticks": ""
             }
            },
            "type": "scatterpolar"
           }
          ],
          "scatterpolargl": [
           {
            "marker": {
             "colorbar": {
              "outlinewidth": 0,
              "ticks": ""
             }
            },
            "type": "scatterpolargl"
           }
          ],
          "scatterternary": [
           {
            "marker": {
             "colorbar": {
              "outlinewidth": 0,
              "ticks": ""
             }
            },
            "type": "scatterternary"
           }
          ],
          "surface": [
           {
            "colorbar": {
             "outlinewidth": 0,
             "ticks": ""
            },
            "colorscale": [
             [
              0,
              "#0d0887"
             ],
             [
              0.1111111111111111,
              "#46039f"
             ],
             [
              0.2222222222222222,
              "#7201a8"
             ],
             [
              0.3333333333333333,
              "#9c179e"
             ],
             [
              0.4444444444444444,
              "#bd3786"
             ],
             [
              0.5555555555555556,
              "#d8576b"
             ],
             [
              0.6666666666666666,
              "#ed7953"
             ],
             [
              0.7777777777777778,
              "#fb9f3a"
             ],
             [
              0.8888888888888888,
              "#fdca26"
             ],
             [
              1,
              "#f0f921"
             ]
            ],
            "type": "surface"
           }
          ],
          "table": [
           {
            "cells": {
             "fill": {
              "color": "#EBF0F8"
             },
             "line": {
              "color": "white"
             }
            },
            "header": {
             "fill": {
              "color": "#C8D4E3"
             },
             "line": {
              "color": "white"
             }
            },
            "type": "table"
           }
          ]
         },
         "layout": {
          "annotationdefaults": {
           "arrowcolor": "#2a3f5f",
           "arrowhead": 0,
           "arrowwidth": 1
          },
          "autotypenumbers": "strict",
          "coloraxis": {
           "colorbar": {
            "outlinewidth": 0,
            "ticks": ""
           }
          },
          "colorscale": {
           "diverging": [
            [
             0,
             "#8e0152"
            ],
            [
             0.1,
             "#c51b7d"
            ],
            [
             0.2,
             "#de77ae"
            ],
            [
             0.3,
             "#f1b6da"
            ],
            [
             0.4,
             "#fde0ef"
            ],
            [
             0.5,
             "#f7f7f7"
            ],
            [
             0.6,
             "#e6f5d0"
            ],
            [
             0.7,
             "#b8e186"
            ],
            [
             0.8,
             "#7fbc41"
            ],
            [
             0.9,
             "#4d9221"
            ],
            [
             1,
             "#276419"
            ]
           ],
           "sequential": [
            [
             0,
             "#0d0887"
            ],
            [
             0.1111111111111111,
             "#46039f"
            ],
            [
             0.2222222222222222,
             "#7201a8"
            ],
            [
             0.3333333333333333,
             "#9c179e"
            ],
            [
             0.4444444444444444,
             "#bd3786"
            ],
            [
             0.5555555555555556,
             "#d8576b"
            ],
            [
             0.6666666666666666,
             "#ed7953"
            ],
            [
             0.7777777777777778,
             "#fb9f3a"
            ],
            [
             0.8888888888888888,
             "#fdca26"
            ],
            [
             1,
             "#f0f921"
            ]
           ],
           "sequentialminus": [
            [
             0,
             "#0d0887"
            ],
            [
             0.1111111111111111,
             "#46039f"
            ],
            [
             0.2222222222222222,
             "#7201a8"
            ],
            [
             0.3333333333333333,
             "#9c179e"
            ],
            [
             0.4444444444444444,
             "#bd3786"
            ],
            [
             0.5555555555555556,
             "#d8576b"
            ],
            [
             0.6666666666666666,
             "#ed7953"
            ],
            [
             0.7777777777777778,
             "#fb9f3a"
            ],
            [
             0.8888888888888888,
             "#fdca26"
            ],
            [
             1,
             "#f0f921"
            ]
           ]
          },
          "colorway": [
           "#636efa",
           "#EF553B",
           "#00cc96",
           "#ab63fa",
           "#FFA15A",
           "#19d3f3",
           "#FF6692",
           "#B6E880",
           "#FF97FF",
           "#FECB52"
          ],
          "font": {
           "color": "#2a3f5f"
          },
          "geo": {
           "bgcolor": "white",
           "lakecolor": "white",
           "landcolor": "#E5ECF6",
           "showlakes": true,
           "showland": true,
           "subunitcolor": "white"
          },
          "hoverlabel": {
           "align": "left"
          },
          "hovermode": "closest",
          "mapbox": {
           "style": "light"
          },
          "paper_bgcolor": "white",
          "plot_bgcolor": "#E5ECF6",
          "polar": {
           "angularaxis": {
            "gridcolor": "white",
            "linecolor": "white",
            "ticks": ""
           },
           "bgcolor": "#E5ECF6",
           "radialaxis": {
            "gridcolor": "white",
            "linecolor": "white",
            "ticks": ""
           }
          },
          "scene": {
           "xaxis": {
            "backgroundcolor": "#E5ECF6",
            "gridcolor": "white",
            "gridwidth": 2,
            "linecolor": "white",
            "showbackground": true,
            "ticks": "",
            "zerolinecolor": "white"
           },
           "yaxis": {
            "backgroundcolor": "#E5ECF6",
            "gridcolor": "white",
            "gridwidth": 2,
            "linecolor": "white",
            "showbackground": true,
            "ticks": "",
            "zerolinecolor": "white"
           },
           "zaxis": {
            "backgroundcolor": "#E5ECF6",
            "gridcolor": "white",
            "gridwidth": 2,
            "linecolor": "white",
            "showbackground": true,
            "ticks": "",
            "zerolinecolor": "white"
           }
          },
          "shapedefaults": {
           "line": {
            "color": "#2a3f5f"
           }
          },
          "ternary": {
           "aaxis": {
            "gridcolor": "white",
            "linecolor": "white",
            "ticks": ""
           },
           "baxis": {
            "gridcolor": "white",
            "linecolor": "white",
            "ticks": ""
           },
           "bgcolor": "#E5ECF6",
           "caxis": {
            "gridcolor": "white",
            "linecolor": "white",
            "ticks": ""
           }
          },
          "title": {
           "x": 0.05
          },
          "xaxis": {
           "automargin": true,
           "gridcolor": "white",
           "linecolor": "white",
           "ticks": "",
           "title": {
            "standoff": 15
           },
           "zerolinecolor": "white",
           "zerolinewidth": 2
          },
          "yaxis": {
           "automargin": true,
           "gridcolor": "white",
           "linecolor": "white",
           "ticks": "",
           "title": {
            "standoff": 15
           },
           "zerolinecolor": "white",
           "zerolinewidth": 2
          }
         }
        },
        "title": {
         "text": "14 Clusters"
        },
        "xaxis": {
         "anchor": "y",
         "domain": [
          0,
          1
         ],
         "title": {
          "text": "x"
         }
        },
        "yaxis": {
         "anchor": "x",
         "domain": [
          0,
          1
         ],
         "title": {
          "text": "y"
         }
        }
       }
      },
      "text/html": [
       "<div>                            <div id=\"5a2671de-e43e-4e07-9835-70c80d173e76\" class=\"plotly-graph-div\" style=\"height:525px; width:100%;\"></div>            <script type=\"text/javascript\">                require([\"plotly\"], function(Plotly) {                    window.PLOTLYENV=window.PLOTLYENV || {};                                    if (document.getElementById(\"5a2671de-e43e-4e07-9835-70c80d173e76\")) {                    Plotly.newPlot(                        \"5a2671de-e43e-4e07-9835-70c80d173e76\",                        [{\"customdata\": [[\"1blx_1\"], [\"1p4o_1\"], [\"1tki_1\"], [\"1vzo_1\"], [\"2ac3_1\"], [\"2dq7_2\"], [\"2f57_1\"], [\"2h6d_1\"], [\"2hw6_1\"], [\"2jam_1\"], [\"2jc6_1\"], [\"2y4i_1\"], [\"2y4i_2\"], [\"2y4i_3\"], [\"3aln_2\"], [\"3cc6_1\"], [\"3dls_1\"], [\"3dtc_2\"], [\"3fxz_1\"], [\"3hng_2\"], [\"3iec_2\"], [\"3kmu_2\"], [\"3q4u_2\"], [\"3soc_2\"], [\"3v5w_2\"], [\"4asz_1\"], [\"4asz_2\"], [\"4asz_3\"], [\"4crs_2\"], [\"4itj_1\"], [\"4js8_1\"], [\"4kik_1\"], [\"4l00_2\"], [\"4l42_1\"], [\"4pwn_1\"], [\"4qpm_2\"], [\"4r1v_1\"], [\"4ra4_1\"], [\"4y85_1\"], [\"4ymj_1\"], [\"4yz9_1\"], [\"4z55_2\"], [\"5b2l_1\"], [\"5grn_2\"], [\"5li9_2\"], [\"5xs2_2\"], [\"6bru_1\"]], \"hovertemplate\": \"Clusters=0<br>x=%{x}<br>y=%{y}<br>Pockets=%{customdata[0]}<extra></extra>\", \"legendgroup\": \"0\", \"marker\": {\"color\": \"#636efa\", \"symbol\": \"circle\"}, \"mode\": \"markers\", \"name\": \"0\", \"orientation\": \"v\", \"showlegend\": true, \"type\": \"scatter\", \"x\": [0.3248980430020819, -0.5365592556553951, -0.6039597398308599, -0.42627393203887515, 0.29063963270488075, -0.12743621100331132, -0.74813132991671, -0.4849422563251625, 0.2832078019189778, 0.2622602717644325, -0.23852137154178535, -0.17156271956545338, -0.013996037007589482, 0.09536826795770226, -0.03807324590604188, 0.07380017888284808, 0.3048887152801674, -0.7444988526510059, 0.04437647454722059, -0.5439881228443878, -0.5729581768601345, -0.09500913077268233, -0.1986444392931919, -0.7832271083683078, -0.6954268134689711, -0.24286637133427483, -0.5113196753082825, -0.36898063921854785, -0.3734842949738005, -0.051860465769821645, 0.3320851519775751, -0.4726874625402899, 0.5871934619678071, -0.45950253611401093, 0.3760940964121626, -0.43647409416611715, 0.25815902821445097, 0.32627612128188127, 0.07098007730147478, -0.4253505564171739, -0.01936281805184764, -0.5962544954364525, 0.13472222872954467, -0.3689085739899851, 0.011625755693256292, -0.6319251121450827, -0.4407003322111048], \"xaxis\": \"x\", \"y\": [0.5909705587197034, -0.46643322445879387, 0.2719016486199503, -0.5169928550558184, -0.6325213501633001, 0.6243909764952079, 0.46499771546933344, -0.23676572816154495, 0.6151161397459453, -0.5720791431657142, 0.30166543441242094, -0.37397663279042676, -0.7319427023490368, -0.7549894723259757, -0.725698430930564, 0.5115096768799199, 0.46980461472780366, 0.2562598084318404, 0.487505056785156, -0.38542910085645055, 0.32693323638758176, -0.7084114192121658, -0.6872520328030889, 0.2180591571280268, 0.48603278984531045, 0.867654729735753, 0.7357126844397683, 0.8199396535543177, 0.5364748740729585, 0.7066921140049596, 0.3860016938663616, 0.44832099244002466, -0.1946603042425095, -0.47352179144680817, -0.5159332188157553, 0.5395633332242301, -0.5469708695261958, -0.44821643781278186, 0.552152572940471, -0.795298116403901, 0.7324381374929511, 0.20828627509160239, -0.5099407289283362, -0.6156619786084926, 0.7104082758036279, -0.32076756700676423, 0.46917939516956053], \"yaxis\": \"y\"}, {\"customdata\": [[\"1byg_1\"], [\"1fmk_1\"], [\"1j1b_1\"], [\"1o6l_1\"], [\"1qpc_1\"], [\"1s9i_1\"], [\"1u59_1\"], [\"1ua2_1\"], [\"1wak_1\"], [\"1x8b_1\"], [\"1xjd_1\"], [\"2a2a_1\"], [\"2buj_1\"], [\"2cmw_1\"], [\"2dq7_1\"], [\"2eva_1\"], [\"2i0e_1\"], [\"2izr_1\"], [\"2j0i_1\"], [\"2qlu_1\"], [\"2qol_1\"], [\"2r2p_1\"], [\"2r4b_1\"], [\"2r5t_1\"], [\"2rei_1\"], [\"2rku_1\"], [\"2vd5_1\"], [\"2vz6_1\"], [\"2w4o_1\"], [\"2wel_1\"], [\"2x7g_1\"], [\"2xik_1\"], [\"2xir_1\"], [\"2xrw_1\"], [\"2y7j_1\"], [\"2ycf_1\"], [\"2yex_1\"], [\"3a7i_1\"], [\"3a99_1\"], [\"3aln_1\"], [\"3b2t_1\"], [\"3bhh_1\"], [\"3bhy_1\"], [\"3brb_1\"], [\"3bu3_1\"], [\"3c0i_1\"], [\"3cbl_1\"], [\"3cok_1\"], [\"3com_1\"], [\"3dtc_1\"], [\"3eqc_1\"], [\"3fe3_1\"], [\"3fhr_1\"], [\"3fme_1\"], [\"3g2f_1\"], [\"3ggf_1\"], [\"3gp0_1\"], [\"3hmi_1\"], [\"3hng_1\"], [\"3iec_1\"], [\"3kmu_1\"], [\"3kul_1\"], [\"3lco_1\"], [\"3lm5_1\"], [\"3lm5_2\"], [\"3lxp_1\"], [\"3m2w_1\"], [\"3mdy_1\"], [\"3mi9_1\"], [\"3my0_1\"], [\"3omv_1\"], [\"3pls_1\"], [\"3pp0_1\"], [\"3q4u_1\"], [\"3s95_1\"], [\"3soc_1\"], [\"3sxs_1\"], [\"3txo_1\"], [\"3ugc_1\"], [\"3v5w_1\"], [\"3war_1\"], [\"3zdu_1\"], [\"3zfm_1\"], [\"4aaa_1\"], [\"4af3_1\"], [\"4agu_1\"], [\"4b6l_1\"], [\"4b9d_1\"], [\"4bgq_1\"], [\"4bkj_1\"], [\"4ckj_1\"], [\"4crs_1\"], [\"4euu_1\"], [\"4f9c_1\"], [\"4fg8_1\"], [\"4fkl_1\"], [\"4fr4_1\"], [\"4gv1_1\"], [\"4hcu_1\"], [\"4hvs_1\"], [\"4hzr_1\"], [\"4i4e_1\"], [\"4i5p_1\"], [\"4idt_1\"], [\"4iir_1\"], [\"4k33_1\"], [\"4kik_2\"], [\"4ks7_1\"], [\"4l42_2\"], [\"4l6q_1\"], [\"4lg4_1\"], [\"4mwi_1\"], [\"4nfn_1\"], [\"4nst_1\"], [\"4nw6_1\"], [\"4oth_1\"], [\"4pf4_1\"], [\"4qpm_1\"], [\"4qqt_1\"], [\"4qtb_1\"], [\"4qtc_1\"], [\"4tnd_2\"], [\"4usf_1\"], [\"4w9w_1\"], [\"4wb8_1\"], [\"4wno_1\"], [\"4x7k_1\"], [\"4x7q_1\"], [\"4y8d_1\"], [\"4yfi_1\"], [\"4yhj_1\"], [\"4yjr_1\"], [\"4ylk_1\"], [\"4yno_1\"], [\"4z55_1\"], [\"4zzn_1\"], [\"5ax9_1\"], [\"5byz_1\"], [\"5cen_1\"], [\"5e8s_1\"], [\"5e8v_1\"], [\"5efq_1\"], [\"5ew8_1\"], [\"5g6v_1\"], [\"5grn_1\"], [\"5h0b_1\"], [\"5hu9_1\"], [\"5hu9_2\"], [\"5ita_1\"], [\"5j5t_1\"], [\"5jfw_1\"], [\"5jga_1\"], [\"5jzj_1\"], [\"5k00_2\"], [\"5l6o_1\"], [\"5l8l_1\"], [\"5li9_1\"], [\"5lqf_1\"], [\"5lvo_1\"], [\"5lwm_1\"], [\"5lxc_1\"], [\"5mja_1\"], [\"5ng0_1\"], [\"5nxd_1\"], [\"5o0y_1\"], [\"5o1v_1\"], [\"5ote_1\"], [\"5p9j_1\"], [\"5te0_1\"], [\"5te0_2\"], [\"5u6b_1\"], [\"5ug9_1\"], [\"5uit_1\"], [\"5uyj_1\"], [\"5vcz_1\"], [\"5vdk_1\"], [\"5wne_1\"], [\"5x5o_1\"], [\"5xs2_1\"], [\"5y86_1\"], [\"5yf9_1\"], [\"5yks_1\"], [\"6bfn_1\"], [\"6bxi_1\"], [\"6c0t_1\"], [\"6c9d_1\"], [\"6ccf_1\"], [\"6cz4_1\"], [\"6eim_1\"], [\"6fd3_1\"], [\"6fdy_1\"], [\"6fng_1\"], [\"6fnk_1\"], [\"6ft8_1\"], [\"6fyl_1\"], [\"6fyr_1\"], [\"6fyv_1\"], [\"6op9_1\"], [\"7aqb_1\"]], \"hovertemplate\": \"Clusters=12<br>x=%{x}<br>y=%{y}<br>Pockets=%{customdata[0]}<extra></extra>\", \"legendgroup\": \"12\", \"marker\": {\"color\": \"#EF553B\", \"symbol\": \"circle\"}, \"mode\": \"markers\", \"name\": \"12\", \"orientation\": \"v\", \"showlegend\": true, \"type\": \"scatter\", \"x\": [0.31768063813280883, -0.6527755320666833, -0.0013017119807524117, -0.24416665544019014, 0.3881037284668726, 0.06209154143120225, 0.16034577905489933, 0.06939835480938854, -0.32816405065808124, 0.03821161504547769, 0.3589985756140481, -0.2115919059069358, 0.40969734719188905, -0.08420990457066477, 0.36188964385007893, 0.4499153223675266, 0.27149576668166053, 0.09844061627572227, 0.1683043072090021, 0.5333272413901903, 0.4014724728428225, 0.2321915157930426, 0.25402942098613035, -0.13470551263307312, 0.2698762699132662, 0.3626648108228737, -0.13177143879854136, 0.48010107684847325, 0.16964849172836183, 0.17299652916316738, -0.22015177109634865, 0.3343362724694115, 0.2820268226381549, -0.03938427659780015, 0.06999475864671366, 0.0105763114616465, 0.310485511494994, 0.2467764503359875, -0.07861938922424487, -0.2388735978867527, 0.07783870918387101, 0.31701768234229716, -0.0645227024105635, 0.4207299560984199, 0.4290299548984729, -0.08007748275969247, 0.3073886937564007, 0.10551154054197033, 0.5973178891516902, 0.20504814080127254, -0.12734201216849333, 0.18829410313037226, -0.20132835941862107, 0.5867848045667646, -0.009478686472567437, 0.022344019691518797, 0.37663643637010547, 0.31821656697090395, 0.11080876357152382, 0.4052298496960134, -0.20858090618092368, 0.45468558787308644, 0.2274454975702931, 0.21376670309836848, -0.3648552644618365, 0.43647877776754546, -0.029731295337509647, 0.2910801334763434, 0.4990408261122791, -0.694475414537457, 0.4939278103352023, 0.15324344209177834, 0.4448186919142138, -0.0928122933832965, -0.8297446228678504, -0.7284067820063345, 0.4791766816932165, -0.033273595718144484, 0.31977420575667037, -0.4726677829204078, -0.2332700490254854, 0.16039937840333182, 0.6218143981751231, 0.40054344754815846, 0.5850885067541635, 0.14814873896914213, -0.08106993524282446, 0.5810791301075445, 0.37968945069136956, -0.10572150552263672, -0.010926825708249578, -0.208240511393221, -0.043543247107327626, 0.5071900400478865, 0.010145106877240156, 0.016383837429946917, 0.09230484215852847, -0.14502442053868117, 0.0947760634178353, 0.13218881611676667, 0.5275338382454969, 0.34573241184569636, -0.15446178011395637, -0.07026730216038377, 0.46152551176662826, 0.021058212391193747, 0.25394161963482953, -0.11340233411973465, 0.16293490044795703, -0.18617258884991322, 0.16538995992699537, 0.08382416907033582, -0.14999115330663373, -0.12702006461864132, 0.522208168567321, 0.0317637900001754, -0.26891766975188736, -0.17701813995910867, 0.09989284719564356, 0.046001017671077546, -0.14539142018634324, -0.6535649503478483, 0.5706929496238733, 0.01290907151138707, -0.18390884295027876, 0.02762028127149609, -0.369660148149612, 0.35982787858576837, 0.4294326881737453, 0.2787545025084063, -0.45896955923508764, 0.5025549140100738, -0.04041401938687038, 0.22794123292994775, 0.376881762005171, 0.28522222638533035, 0.4865226817903254, 0.5358948337672538, 0.6069539971675739, 0.35316374548997437, 0.1410132016413693, -0.06434824369442833, 0.1897122474080075, 0.506977160125297, -0.015543163131112188, -0.5931832729438362, 0.4869867107567474, -0.1789868910513263, 0.31992781641356915, 0.3057331085916001, -0.09169160553263192, 0.4056286592080998, -0.19620849041916558, 0.5235795568097583, 0.5355861410941292, 0.0612713096195458, -0.17070374836555557, 0.12367127804024283, -0.015041341404395116, -0.2737486830814085, -0.11834248534336371, 0.3597977964424737, 0.4061339911304106, 0.4461667231280859, -0.257890094062264, 0.15878564728938918, -0.2329504372160924, 0.2934351325840622, 0.2917466602037579, -0.32043055953638794, 0.25808278525423173, 0.1696824670707284, 0.46907048264190426, 0.13079636635397288, -0.07302718901937019, 0.23019696113211913, -0.15324677563967357, 0.115455348404921, -0.26706269582010544, -0.07561475246569577, 0.5228138322387145, 0.24547163474911515, 0.4343081142328202, -0.357364106960942, -0.24056926509092463, -0.2966412999913342, 0.1859901777538029, -0.06603740311300446, 0.22541960826817817, -0.030413621802424212, -0.029137584239696528, 0.23692628437725002, 0.1254367050524015, -0.38223273440934485, -0.06556631617696215, -0.0245997494912739, -0.09172266660039073, 0.02850065731327043, 0.5336829025876707], \"xaxis\": \"x\", \"y\": [-0.24614837333321185, 0.05542119721964187, 0.07576710461015043, 0.01222262834771048, -0.06277329998492981, -0.4626911813501775, 0.03419491581284209, -0.38393875334914856, -0.1325345205968529, 0.026084035955432107, 0.22594734124583327, 0.03519090881188916, -0.03595410495121631, -0.31595059905452594, 0.10122998250319894, -0.14230037250077207, 0.3845909151423502, -0.3473303610876455, -0.16422362421848544, 0.055033804271280226, -0.20231334977766366, -0.31104038566540365, -0.009438148525779943, 0.22296307989375425, -0.2744523453623924, -0.4171821894710979, 0.055933423479444466, 0.25566802774777697, -0.4158625064891461, -0.5167148826485942, -0.12210071035373718, 0.026610213850550006, 0.282738470926605, -0.372900929339933, -0.09353119558307933, -0.2782331061940562, 0.15428363275423052, -0.06574573828320122, 0.19764276211918505, -0.2947387520956437, -0.045069623283484496, 0.4411583418927028, -0.0015428078974634863, -0.4141968225245802, -0.31857801823254484, 0.15968638773568297, -0.11912080597590997, -0.28400588522188297, 0.018440535677835726, -0.11154764614133764, -0.24718467870792238, 0.5130092302102598, 0.25097544892089907, 0.1346715943491245, -0.4093853414923204, 0.258215773668066, 0.4118607923040516, 0.27589715906010903, 0.3861032407592064, 0.16359383759717103, -0.44352339341029645, 0.03313572554652832, 0.3154768703786804, 0.24521135307771041, 0.4344465947001502, 0.09688060404254284, 0.3399843967999798, 0.04557230603852395, 0.14318960245506263, 0.11623790954714228, 0.08897708615214178, -0.25262684783761086, -0.08014953241041876, -0.18622949342914022, 0.1999292128663959, 0.16791949980762175, -0.20115084075278494, 0.273080459439454, -0.21426959666584602, -0.01754290545412601, 0.08064546084842988, 0.14838035899134533, -0.027366850948288675, 0.358392588912472, -0.08064735103501226, 0.08716317580439807, -0.10430618268150064, 0.23668320926938613, 0.18732389333330532, 0.5199826685933466, -0.06290285194416581, -0.02542810649220542, 0.1274557732846694, 0.1696471157172057, -0.4979374011163437, -0.34337450135366715, 0.30906001687517826, 0.011936304005951654, -0.2227923619478214, 0.5433352762142234, -0.189956672774839, -0.32813461545276085, -0.1574760223392407, 0.34817482409362316, -0.015908248802247033, -0.07142665513342329, 0.21504934158130343, -0.10445543709898254, 0.4678076196300946, -0.021659578454542614, 0.26878526826280896, -0.1410305153136315, 0.265787055605733, -0.17596066703584515, -0.1054599483919443, 0.17831754671507585, -0.029609746515201634, 0.13063537383308785, 0.24247380952249953, -0.03588145935125195, 0.10942080363134736, -0.012858106735806375, 0.3044189945889178, 8.765674058123278e-05, 0.06609494863909282, 0.04364426263034658, 0.0037739022349239865, 0.3344334668005942, 0.24273688809184832, 0.15367201267811076, 0.11839977795692942, -0.23502810118296874, -0.1497589895953386, -0.22756068211705646, -0.22646393168614634, -0.34099943584748654, -0.1171586030249361, -0.07680130275056928, -0.18823840308309264, -0.006208035018614426, -0.03445906058969593, -0.18974183026001976, 0.39876994868922216, -0.3986933732773736, 0.43659409462325993, 0.017832384893415532, 0.21281754585769136, -0.6121976218993995, 0.12339027302578791, 0.040761538565578945, -0.4064916953069706, -0.11620001265994062, -0.2534307576341474, 0.04133842707369357, -0.3325401583588423, -0.26092573226960614, -0.10434628288395785, 0.0973329292108141, -0.1036273468509695, -0.1533599877583432, -0.02990545106073262, -0.2952835508397612, 0.0964372304248684, 0.36402583236809416, 0.20338282733898752, -0.21544907958836085, 0.12547946570445345, -0.1871102841721228, 0.2233021940990331, 0.5801273960710724, -0.45332221651888244, -0.08421773497383289, -0.3030528484738767, 0.36723388360073295, 0.08645574565661147, 0.02400125773839056, 0.02206520259252988, 0.3155875493103636, -0.23947102673092388, 0.026841007899039305, 0.33255047877321803, 0.4243969910949019, -0.38400428914875784, -0.17995184712619822, 0.027928261173934595, 0.03374557419942365, 0.044826836132139454, 0.4309205770816162, 0.4704118739049304, -0.03925454764663733, -0.2540336440950192, -0.37529592641264414, -0.2637630608966872, -0.03509548838802051, -0.04053857993872623, 0.07973991136752528, -0.013838404668353661, -0.17717239041053098, 0.0025909658816867308], \"yaxis\": \"y\"}, {\"customdata\": [[\"1fmk_2\"], [\"1xjd_2\"], [\"5k00_1\"]], \"hovertemplate\": \"Clusters=4<br>x=%{x}<br>y=%{y}<br>Pockets=%{customdata[0]}<extra></extra>\", \"legendgroup\": \"4\", \"marker\": {\"color\": \"#00cc96\", \"symbol\": \"circle\"}, \"mode\": \"markers\", \"name\": \"4\", \"orientation\": \"v\", \"showlegend\": true, \"type\": \"scatter\", \"x\": [-0.40660282993689967, -0.5841155179668998, -0.36280259595316633], \"xaxis\": \"x\", \"y\": [-0.5421705902798124, -0.42228141059575725, 0.5852112682083801], \"yaxis\": \"y\"}, {\"customdata\": [[\"1u59_2\"], [\"3e7o_1\"], [\"3hmi_2\"]], \"hovertemplate\": \"Clusters=7<br>x=%{x}<br>y=%{y}<br>Pockets=%{customdata[0]}<extra></extra>\", \"legendgroup\": \"7\", \"marker\": {\"color\": \"#ab63fa\", \"symbol\": \"circle\"}, \"mode\": \"markers\", \"name\": \"7\", \"orientation\": \"v\", \"showlegend\": true, \"type\": \"scatter\", \"x\": [-0.6002970102152781, -0.6325465011675263, -0.5852570185758111], \"xaxis\": \"x\", \"y\": [-0.2857854288027289, -0.24169634362906836, -0.3359549699586604], \"yaxis\": \"y\"}, {\"customdata\": [[\"2acx_1\"], [\"4tnd_4\"], [\"4yhj_2\"]], \"hovertemplate\": \"Clusters=5<br>x=%{x}<br>y=%{y}<br>Pockets=%{customdata[0]}<extra></extra>\", \"legendgroup\": \"5\", \"marker\": {\"color\": \"#FFA15A\", \"symbol\": \"circle\"}, \"mode\": \"markers\", \"name\": \"5\", \"orientation\": \"v\", \"showlegend\": true, \"type\": \"scatter\", \"x\": [-0.5674189047365763, -0.5073380666725832, -0.5121500504350283], \"xaxis\": \"x\", \"y\": [0.3853121636977453, 0.35985566996134255, 0.32446652622501765], \"yaxis\": \"y\"}, {\"customdata\": [[\"2acx_2\"], [\"4tnd_3\"]], \"hovertemplate\": \"Clusters=10<br>x=%{x}<br>y=%{y}<br>Pockets=%{customdata[0]}<extra></extra>\", \"legendgroup\": \"10\", \"marker\": {\"color\": \"#19d3f3\", \"symbol\": \"circle\"}, \"mode\": \"markers\", \"name\": \"10\", \"orientation\": \"v\", \"showlegend\": true, \"type\": \"scatter\", \"x\": [-0.7929177184758585, -0.7503935291986763], \"xaxis\": \"x\", \"y\": [-0.08050037499447689, -0.07224630962130588], \"yaxis\": \"y\"}, {\"customdata\": [[\"2fst_1\"], [\"4qtb_2\"], [\"4zzn_2\"]], \"hovertemplate\": \"Clusters=2<br>x=%{x}<br>y=%{y}<br>Pockets=%{customdata[0]}<extra></extra>\", \"legendgroup\": \"2\", \"marker\": {\"color\": \"#FF6692\", \"symbol\": \"circle\"}, \"mode\": \"markers\", \"name\": \"2\", \"orientation\": \"v\", \"showlegend\": true, \"type\": \"scatter\", \"x\": [-0.7907924542227106, -0.7260150614920495, -0.7156055652612343], \"xaxis\": \"x\", \"y\": [-0.1688772023309015, -0.2512712405052634, -0.20862509040139143], \"yaxis\": \"y\"}, {\"customdata\": [[\"2vz6_2\"], [\"2wel_2\"]], \"hovertemplate\": \"Clusters=6<br>x=%{x}<br>y=%{y}<br>Pockets=%{customdata[0]}<extra></extra>\", \"legendgroup\": \"6\", \"marker\": {\"color\": \"#B6E880\", \"symbol\": \"circle\"}, \"mode\": \"markers\", \"name\": \"6\", \"orientation\": \"v\", \"showlegend\": true, \"type\": \"scatter\", \"x\": [-0.5019310893590898, -0.5187129098605459], \"xaxis\": \"x\", \"y\": [-0.49241417283009814, 0.4518366281880265], \"yaxis\": \"y\"}, {\"customdata\": [[\"2xir_2\"], [\"3gp0_2\"]], \"hovertemplate\": \"Clusters=11<br>x=%{x}<br>y=%{y}<br>Pockets=%{customdata[0]}<extra></extra>\", \"legendgroup\": \"11\", \"marker\": {\"color\": \"#FF97FF\", \"symbol\": \"circle\"}, \"mode\": \"markers\", \"name\": \"11\", \"orientation\": \"v\", \"showlegend\": true, \"type\": \"scatter\", \"x\": [-0.3791940953370479, -0.27375167968196995], \"xaxis\": \"x\", \"y\": [-0.5683603350073122, -0.6327873503386322], \"yaxis\": \"y\"}, {\"customdata\": [[\"3v5w_3\"], [\"4tnd_1\"], [\"4yhj_3\"]], \"hovertemplate\": \"Clusters=1<br>x=%{x}<br>y=%{y}<br>Pockets=%{customdata[0]}<extra></extra>\", \"legendgroup\": \"1\", \"marker\": {\"color\": \"#FECB52\", \"symbol\": \"circle\"}, \"mode\": \"markers\", \"name\": \"1\", \"orientation\": \"v\", \"showlegend\": true, \"type\": \"scatter\", \"x\": [-0.8034059592839625, -0.6384080992707069, -0.8095877825333446], \"xaxis\": \"x\", \"y\": [0.0335602777878382, -0.09739217943147829, 0.05879695064855419], \"yaxis\": \"y\"}, {\"customdata\": [[\"4agu_2\"], [\"4y85_2\"]], \"hovertemplate\": \"Clusters=8<br>x=%{x}<br>y=%{y}<br>Pockets=%{customdata[0]}<extra></extra>\", \"legendgroup\": \"8\", \"marker\": {\"color\": \"#636efa\", \"symbol\": \"circle\"}, \"mode\": \"markers\", \"name\": \"8\", \"orientation\": \"v\", \"showlegend\": true, \"type\": \"scatter\", \"x\": [0.1484203790644065, -0.14011550949291046], \"xaxis\": \"x\", \"y\": [-0.7175138285346127, 0.6538475541461773], \"yaxis\": \"y\"}, {\"customdata\": [[\"4hni_1\"], [\"6gzm_1\"]], \"hovertemplate\": \"Clusters=13<br>x=%{x}<br>y=%{y}<br>Pockets=%{customdata[0]}<extra></extra>\", \"legendgroup\": \"13\", \"marker\": {\"color\": \"#EF553B\", \"symbol\": \"circle\"}, \"mode\": \"markers\", \"name\": \"13\", \"orientation\": \"v\", \"showlegend\": true, \"type\": \"scatter\", \"x\": [0.42331153363615154, 0.43906352856969866], \"xaxis\": \"x\", \"y\": [0.41833859009480906, 0.4005208494074846], \"yaxis\": \"y\"}, {\"customdata\": [[\"4l00_1\"], [\"6cz4_2\"]], \"hovertemplate\": \"Clusters=9<br>x=%{x}<br>y=%{y}<br>Pockets=%{customdata[0]}<extra></extra>\", \"legendgroup\": \"9\", \"marker\": {\"color\": \"#00cc96\", \"symbol\": \"circle\"}, \"mode\": \"markers\", \"name\": \"9\", \"orientation\": \"v\", \"showlegend\": true, \"type\": \"scatter\", \"x\": [-0.2433972842798258, -0.3113137952421759], \"xaxis\": \"x\", \"y\": [-0.6503292951658779, -0.6283442063302489], \"yaxis\": \"y\"}, {\"customdata\": [[\"4yfi_2\"], [\"5j5t_2\"], [\"6eim_2\"]], \"hovertemplate\": \"Clusters=3<br>x=%{x}<br>y=%{y}<br>Pockets=%{customdata[0]}<extra></extra>\", \"legendgroup\": \"3\", \"marker\": {\"color\": \"#ab63fa\", \"symbol\": \"circle\"}, \"mode\": \"markers\", \"name\": \"3\", \"orientation\": \"v\", \"showlegend\": true, \"type\": \"scatter\", \"x\": [-0.5137697254660588, -0.28104767986988133, -0.24395265013540987], \"xaxis\": \"x\", \"y\": [-0.46047059574250043, 0.644708418028851, 0.650062246245402], \"yaxis\": \"y\"}],                        {\"legend\": {\"title\": {\"text\": \"Clusters\"}, \"tracegroupgap\": 0}, \"template\": {\"data\": {\"bar\": [{\"error_x\": {\"color\": \"#2a3f5f\"}, \"error_y\": {\"color\": \"#2a3f5f\"}, \"marker\": {\"line\": {\"color\": \"#E5ECF6\", \"width\": 0.5}}, \"type\": \"bar\"}], \"barpolar\": [{\"marker\": {\"line\": {\"color\": \"#E5ECF6\", \"width\": 0.5}}, \"type\": \"barpolar\"}], \"carpet\": [{\"aaxis\": {\"endlinecolor\": \"#2a3f5f\", \"gridcolor\": \"white\", \"linecolor\": \"white\", \"minorgridcolor\": \"white\", \"startlinecolor\": \"#2a3f5f\"}, \"baxis\": {\"endlinecolor\": \"#2a3f5f\", \"gridcolor\": \"white\", \"linecolor\": \"white\", \"minorgridcolor\": \"white\", \"startlinecolor\": \"#2a3f5f\"}, \"type\": \"carpet\"}], \"choropleth\": [{\"colorbar\": {\"outlinewidth\": 0, \"ticks\": \"\"}, \"type\": \"choropleth\"}], \"contour\": [{\"colorbar\": {\"outlinewidth\": 0, \"ticks\": \"\"}, \"colorscale\": [[0.0, \"#0d0887\"], [0.1111111111111111, \"#46039f\"], [0.2222222222222222, \"#7201a8\"], [0.3333333333333333, \"#9c179e\"], [0.4444444444444444, \"#bd3786\"], [0.5555555555555556, \"#d8576b\"], [0.6666666666666666, \"#ed7953\"], [0.7777777777777778, \"#fb9f3a\"], [0.8888888888888888, \"#fdca26\"], [1.0, \"#f0f921\"]], \"type\": \"contour\"}], \"contourcarpet\": [{\"colorbar\": {\"outlinewidth\": 0, \"ticks\": \"\"}, \"type\": \"contourcarpet\"}], \"heatmap\": [{\"colorbar\": {\"outlinewidth\": 0, \"ticks\": \"\"}, \"colorscale\": [[0.0, \"#0d0887\"], [0.1111111111111111, \"#46039f\"], [0.2222222222222222, \"#7201a8\"], [0.3333333333333333, \"#9c179e\"], [0.4444444444444444, \"#bd3786\"], [0.5555555555555556, \"#d8576b\"], [0.6666666666666666, \"#ed7953\"], [0.7777777777777778, \"#fb9f3a\"], [0.8888888888888888, \"#fdca26\"], [1.0, \"#f0f921\"]], \"type\": \"heatmap\"}], \"heatmapgl\": [{\"colorbar\": {\"outlinewidth\": 0, \"ticks\": \"\"}, \"colorscale\": [[0.0, \"#0d0887\"], [0.1111111111111111, \"#46039f\"], [0.2222222222222222, \"#7201a8\"], [0.3333333333333333, \"#9c179e\"], [0.4444444444444444, \"#bd3786\"], [0.5555555555555556, \"#d8576b\"], [0.6666666666666666, \"#ed7953\"], [0.7777777777777778, \"#fb9f3a\"], [0.8888888888888888, \"#fdca26\"], [1.0, \"#f0f921\"]], \"type\": \"heatmapgl\"}], \"histogram\": [{\"marker\": {\"colorbar\": {\"outlinewidth\": 0, \"ticks\": \"\"}}, \"type\": \"histogram\"}], \"histogram2d\": [{\"colorbar\": {\"outlinewidth\": 0, \"ticks\": \"\"}, \"colorscale\": [[0.0, \"#0d0887\"], [0.1111111111111111, \"#46039f\"], [0.2222222222222222, \"#7201a8\"], [0.3333333333333333, \"#9c179e\"], [0.4444444444444444, \"#bd3786\"], [0.5555555555555556, \"#d8576b\"], [0.6666666666666666, \"#ed7953\"], [0.7777777777777778, \"#fb9f3a\"], [0.8888888888888888, \"#fdca26\"], [1.0, \"#f0f921\"]], \"type\": \"histogram2d\"}], \"histogram2dcontour\": [{\"colorbar\": {\"outlinewidth\": 0, \"ticks\": \"\"}, \"colorscale\": [[0.0, \"#0d0887\"], [0.1111111111111111, \"#46039f\"], [0.2222222222222222, \"#7201a8\"], [0.3333333333333333, \"#9c179e\"], [0.4444444444444444, \"#bd3786\"], [0.5555555555555556, \"#d8576b\"], [0.6666666666666666, \"#ed7953\"], [0.7777777777777778, \"#fb9f3a\"], [0.8888888888888888, \"#fdca26\"], [1.0, \"#f0f921\"]], \"type\": \"histogram2dcontour\"}], \"mesh3d\": [{\"colorbar\": {\"outlinewidth\": 0, \"ticks\": \"\"}, \"type\": \"mesh3d\"}], \"parcoords\": [{\"line\": {\"colorbar\": {\"outlinewidth\": 0, \"ticks\": \"\"}}, \"type\": \"parcoords\"}], \"pie\": [{\"automargin\": true, \"type\": \"pie\"}], \"scatter\": [{\"marker\": {\"colorbar\": {\"outlinewidth\": 0, \"ticks\": \"\"}}, \"type\": \"scatter\"}], \"scatter3d\": [{\"line\": {\"colorbar\": {\"outlinewidth\": 0, \"ticks\": \"\"}}, \"marker\": {\"colorbar\": {\"outlinewidth\": 0, \"ticks\": \"\"}}, \"type\": \"scatter3d\"}], \"scattercarpet\": [{\"marker\": {\"colorbar\": {\"outlinewidth\": 0, \"ticks\": \"\"}}, \"type\": \"scattercarpet\"}], \"scattergeo\": [{\"marker\": {\"colorbar\": {\"outlinewidth\": 0, \"ticks\": \"\"}}, \"type\": \"scattergeo\"}], \"scattergl\": [{\"marker\": {\"colorbar\": {\"outlinewidth\": 0, \"ticks\": \"\"}}, \"type\": \"scattergl\"}], \"scattermapbox\": [{\"marker\": {\"colorbar\": {\"outlinewidth\": 0, \"ticks\": \"\"}}, \"type\": \"scattermapbox\"}], \"scatterpolar\": [{\"marker\": {\"colorbar\": {\"outlinewidth\": 0, \"ticks\": \"\"}}, \"type\": \"scatterpolar\"}], \"scatterpolargl\": [{\"marker\": {\"colorbar\": {\"outlinewidth\": 0, \"ticks\": \"\"}}, \"type\": \"scatterpolargl\"}], \"scatterternary\": [{\"marker\": {\"colorbar\": {\"outlinewidth\": 0, \"ticks\": \"\"}}, \"type\": \"scatterternary\"}], \"surface\": [{\"colorbar\": {\"outlinewidth\": 0, \"ticks\": \"\"}, \"colorscale\": [[0.0, \"#0d0887\"], [0.1111111111111111, \"#46039f\"], [0.2222222222222222, \"#7201a8\"], [0.3333333333333333, \"#9c179e\"], [0.4444444444444444, \"#bd3786\"], [0.5555555555555556, \"#d8576b\"], [0.6666666666666666, \"#ed7953\"], [0.7777777777777778, \"#fb9f3a\"], [0.8888888888888888, \"#fdca26\"], [1.0, \"#f0f921\"]], \"type\": \"surface\"}], \"table\": [{\"cells\": {\"fill\": {\"color\": \"#EBF0F8\"}, \"line\": {\"color\": \"white\"}}, \"header\": {\"fill\": {\"color\": \"#C8D4E3\"}, \"line\": {\"color\": \"white\"}}, \"type\": \"table\"}]}, \"layout\": {\"annotationdefaults\": {\"arrowcolor\": \"#2a3f5f\", \"arrowhead\": 0, \"arrowwidth\": 1}, \"autotypenumbers\": \"strict\", \"coloraxis\": {\"colorbar\": {\"outlinewidth\": 0, \"ticks\": \"\"}}, \"colorscale\": {\"diverging\": [[0, \"#8e0152\"], [0.1, \"#c51b7d\"], [0.2, \"#de77ae\"], [0.3, \"#f1b6da\"], [0.4, \"#fde0ef\"], [0.5, \"#f7f7f7\"], [0.6, \"#e6f5d0\"], [0.7, \"#b8e186\"], [0.8, \"#7fbc41\"], [0.9, \"#4d9221\"], [1, \"#276419\"]], \"sequential\": [[0.0, \"#0d0887\"], [0.1111111111111111, \"#46039f\"], [0.2222222222222222, \"#7201a8\"], [0.3333333333333333, \"#9c179e\"], [0.4444444444444444, \"#bd3786\"], [0.5555555555555556, \"#d8576b\"], [0.6666666666666666, \"#ed7953\"], [0.7777777777777778, \"#fb9f3a\"], [0.8888888888888888, \"#fdca26\"], [1.0, \"#f0f921\"]], \"sequentialminus\": [[0.0, \"#0d0887\"], [0.1111111111111111, \"#46039f\"], [0.2222222222222222, \"#7201a8\"], [0.3333333333333333, \"#9c179e\"], [0.4444444444444444, \"#bd3786\"], [0.5555555555555556, \"#d8576b\"], [0.6666666666666666, \"#ed7953\"], [0.7777777777777778, \"#fb9f3a\"], [0.8888888888888888, \"#fdca26\"], [1.0, \"#f0f921\"]]}, \"colorway\": [\"#636efa\", \"#EF553B\", \"#00cc96\", \"#ab63fa\", \"#FFA15A\", \"#19d3f3\", \"#FF6692\", \"#B6E880\", \"#FF97FF\", \"#FECB52\"], \"font\": {\"color\": \"#2a3f5f\"}, \"geo\": {\"bgcolor\": \"white\", \"lakecolor\": \"white\", \"landcolor\": \"#E5ECF6\", \"showlakes\": true, \"showland\": true, \"subunitcolor\": \"white\"}, \"hoverlabel\": {\"align\": \"left\"}, \"hovermode\": \"closest\", \"mapbox\": {\"style\": \"light\"}, \"paper_bgcolor\": \"white\", \"plot_bgcolor\": \"#E5ECF6\", \"polar\": {\"angularaxis\": {\"gridcolor\": \"white\", \"linecolor\": \"white\", \"ticks\": \"\"}, \"bgcolor\": \"#E5ECF6\", \"radialaxis\": {\"gridcolor\": \"white\", \"linecolor\": \"white\", \"ticks\": \"\"}}, \"scene\": {\"xaxis\": {\"backgroundcolor\": \"#E5ECF6\", \"gridcolor\": \"white\", \"gridwidth\": 2, \"linecolor\": \"white\", \"showbackground\": true, \"ticks\": \"\", \"zerolinecolor\": \"white\"}, \"yaxis\": {\"backgroundcolor\": \"#E5ECF6\", \"gridcolor\": \"white\", \"gridwidth\": 2, \"linecolor\": \"white\", \"showbackground\": true, \"ticks\": \"\", \"zerolinecolor\": \"white\"}, \"zaxis\": {\"backgroundcolor\": \"#E5ECF6\", \"gridcolor\": \"white\", \"gridwidth\": 2, \"linecolor\": \"white\", \"showbackground\": true, \"ticks\": \"\", \"zerolinecolor\": \"white\"}}, \"shapedefaults\": {\"line\": {\"color\": \"#2a3f5f\"}}, \"ternary\": {\"aaxis\": {\"gridcolor\": \"white\", \"linecolor\": \"white\", \"ticks\": \"\"}, \"baxis\": {\"gridcolor\": \"white\", \"linecolor\": \"white\", \"ticks\": \"\"}, \"bgcolor\": \"#E5ECF6\", \"caxis\": {\"gridcolor\": \"white\", \"linecolor\": \"white\", \"ticks\": \"\"}}, \"title\": {\"x\": 0.05}, \"xaxis\": {\"automargin\": true, \"gridcolor\": \"white\", \"linecolor\": \"white\", \"ticks\": \"\", \"title\": {\"standoff\": 15}, \"zerolinecolor\": \"white\", \"zerolinewidth\": 2}, \"yaxis\": {\"automargin\": true, \"gridcolor\": \"white\", \"linecolor\": \"white\", \"ticks\": \"\", \"title\": {\"standoff\": 15}, \"zerolinecolor\": \"white\", \"zerolinewidth\": 2}}}, \"title\": {\"text\": \"14 Clusters\"}, \"xaxis\": {\"anchor\": \"y\", \"domain\": [0.0, 1.0], \"title\": {\"text\": \"x\"}}, \"yaxis\": {\"anchor\": \"x\", \"domain\": [0.0, 1.0], \"title\": {\"text\": \"y\"}}},                        {\"responsive\": true}                    ).then(function(){\n",
       "                            \n",
       "var gd = document.getElementById('5a2671de-e43e-4e07-9835-70c80d173e76');\n",
       "var x = new MutationObserver(function (mutations, observer) {{\n",
       "        var display = window.getComputedStyle(gd).display;\n",
       "        if (!display || display === 'none') {{\n",
       "            console.log([gd, 'removed!']);\n",
       "            Plotly.purge(gd);\n",
       "            observer.disconnect();\n",
       "        }}\n",
       "}});\n",
       "\n",
       "// Listen for the removal of the full notebook cells\n",
       "var notebookContainer = gd.closest('#notebook-container');\n",
       "if (notebookContainer) {{\n",
       "    x.observe(notebookContainer, {childList: true});\n",
       "}}\n",
       "\n",
       "// Listen for the clearing of the current output cell\n",
       "var outputEl = gd.closest('.output');\n",
       "if (outputEl) {{\n",
       "    x.observe(outputEl, {childList: true});\n",
       "}}\n",
       "\n",
       "                        })                };                });            </script>        </div>"
      ]
     },
     "metadata": {},
     "output_type": "display_data"
    },
    {
     "data": {
      "image/png": "[encoded data removed]",
      "text/plain": [
       "<Figure size 432x288 with 1 Axes>"
      ]
     },
     "metadata": {
      "needs_background": "light"
     },
     "output_type": "display_data"
    },
    {
     "data": {
      "image/png": "[encoded data removed]",
      "text/plain": [
       "<Figure size 800x640 with 1 Axes>"
      ]
     },
     "metadata": {
      "needs_background": "light"
     },
     "output_type": "display_data"
    }
   ],
   "source": [
    "silhouette_totals = []\n",
    "path = \"/home/user/Documents/algorithms_in_structural_biology/Final/Pockets30_HDBScan\"\n",
    "try:\n",
    "    os.makedirs(path, exist_ok=True)\n",
    "except OSError:\n",
    "    print (\"Creation of the directory %s failed\" % path)\n",
    "else:\n",
    "    print(\"Successfully created the directory %s\" % path)\n",
    "    \n",
    "for i in range(2,3):\n",
    "    for j in range(1,2):\n",
    "    #     eps=0.5, min_samples=3  4 clusters\n",
    "    # eps=0.5, min_samples=5 2 clusters\n",
    "        cluster = hdbscan.HDBSCAN(metric='precomputed',min_cluster_size=i, min_samples=j).fit(disimil_matrix)\n",
    "        new_labels_ = [x+1 for x in cluster.labels_]\n",
    "#         print(new_labels_)\n",
    "        unique_labels = np.unique(np.array(new_labels_))\n",
    "        num_clusters = len(unique_labels)\n",
    "        if num_clusters > 1 and num_clusters<30:\n",
    "#             create_histogram(new_labels_,num_clusters)\n",
    "            path = \"/home/user/Documents/algorithms_in_structural_biology/Final/Pockets30_HDBScan/Cluster\"+str(num_clusters)+\"_min_cluster\"+str(i)+\"_min_sample\"+str(j)\n",
    "            try:\n",
    "                os.makedirs(path, exist_ok=True)\n",
    "            except OSError:\n",
    "                print (\"Creation of the directory %s failed\" % path)\n",
    "                \n",
    "            max_score = max(cluster.outlier_scores_)\n",
    "            min_score = min(cluster.outlier_scores_)\n",
    "            create_histogram(cluster.outlier_scores_,14)\n",
    "            print(\"~~~~~~~~~~~~~~~~~~~~~~~ Cluster Outliers ~~~~~~~~~~~~~~~~~~~~~~~~~~~~~~~~~~~~~~~~~~~\")\n",
    "            \n",
    "            print(color.CYAN + \"Outliers 0.0\"+ color.END)\n",
    "            for out1 in range(len(cluster.outlier_scores_)):\n",
    "                if cluster.outlier_scores_[out1]== 0.0:\n",
    "                    print(str(kinase_names[out1])+\"    \"+str(cluster.outlier_scores_[out1])+\"    \"+str(new_labels_[out1])+\"    \"+str(atp_pocks_dic[kinase_names[out1]]))\n",
    "                    \n",
    "            print(color.CYAN + \"Outliers 0.1 - 0.2\"+ color.END)\n",
    "            for out1 in range(len(cluster.outlier_scores_)):\n",
    "                if cluster.outlier_scores_[out1]>0.1 and cluster.outlier_scores_[out1]<0.2:\n",
    "                    print(str(kinase_names[out1])+\"    \"+str(cluster.outlier_scores_[out1])+\"    \"+str(new_labels_[out1])+\"    \"+str(atp_pocks_dic[kinase_names[out1]]))\n",
    "            print(color.DARKCYAN + \"Outliers > 0.2\"+ color.END)\n",
    "            for out2 in range(len(cluster.outlier_scores_)):\n",
    "                if cluster.outlier_scores_[out2]>0.2:\n",
    "                    print(str(kinase_names[out2])+\"    \"+str(cluster.outlier_scores_[out2])+\"    \"+str(new_labels_[out2])+\"    \"+str(atp_pocks_dic[kinase_names[out2]]))\n",
    "                \n",
    "            print(\"max_score \"+str(max_score)+\" min_score \"+str(min_score))\n",
    "            create_clusters_file(new_labels_,num_clusters,i,j)\n",
    "            print(\"~~~~~~~~~~~~~~~~~~~~~~~ Cluster \"+str(num_clusters)+\" min_cluster = \"+str(i)+\" min_sample = \"+str(j)+\"~~~~~~~~~~~~~~~~~~~~~~~~~~~~~~~~~~~~~~~~~~~\")\n",
    "            ########## plot 4 #################\n",
    "#             cluster.condensed_tree_.plot(select_clusters=True)\n",
    "#             cluster.single_linkage_tree_.plot(cmap='viridis', colorbar=True)\n",
    "#             plt.show\n",
    "            ###### plot 1 ################\n",
    "            data_kinases_manifold = create_manifold(new_labels_)\n",
    "            fig = px.scatter(data_kinases_manifold, x=\"x\", y=\"y\", color=\"Clusters\", hover_data=[\"Pockets\"],title=str(num_clusters)+' Clusters')\n",
    "            fig.write_html(\"hdbscan2D.html\")\n",
    "            fig.show()\n",
    "            ###### plot 2 ################\n",
    "        #     fig = px.scatter_3d(data_kinases_manifold, x='x', y='y', z='z',\n",
    "        #               color=\"Clusters\",range_z = (0, 300),hover_data=[\"Pockets\"], title=str(i)+' Clusters')\n",
    "        #     fig.show()\n",
    "            ##### plot 3 ###############\n",
    "            plt.figure(figsize=(10, 8), dpi=80)\n",
    "            plt.scatter(mds_coords[:,0],mds_coords[:,1], c=new_labels_, cmap='rainbow')\n",
    "            #     facecolors = 'red', edgecolors = 'none')  # points in white (invisible)\n",
    "            labels = kinase_names\n",
    "            for label, x, y in zip(labels, mds_coords[:,0], mds_coords[:,1]):\n",
    "                plt.annotate(label, (x,y), xycoords = 'data')\n",
    "            plt.xlabel('First Dimension')\n",
    "            plt.ylabel('Second Dimension')\n",
    "            plt.title(str(num_clusters)+\" Clusters\")   \n",
    "            plt.show()\n",
    "\n",
    "        #     silhouette_totals.append(metrics.silhouette_score(disimil_matrix, cluster.labels_, metric='precomputed'))"
   ]
  },
  {
   "cell_type": "code",
   "execution_count": 73,
   "metadata": {
    "scrolled": true
   },
   "outputs": [
    {
     "name": "stdout",
     "output_type": "stream",
     "text": [
      "\u001b[36mCluster 0\u001b[0m\n",
      "1blx_1    0.09410095026533377    0    ['atp']\n",
      "1p4o_1    0.008902618830302713    0    ['atp']\n",
      "1tki_1    0.027107386956017953    0    ['non_atp']\n",
      "1vzo_1    0.02245949436182806    0    ['atp']\n",
      "2ac3_1    0.07151327335683903    0    ['non_atp']\n",
      "2dq7_2    0.075270849080373    0    ['atp']\n",
      "2f57_1    0.026611823225559314    0    ['atp']\n",
      "2h6d_1    0.02487686145236406    0    ['atp']\n",
      "2hw6_1    0.02377231771785748    0    ['non_atp']\n",
      "2jam_1    0.028536452215917545    0    ['atp']\n",
      "2jc6_1    0.03983770522740138    0    ['non_atp']\n",
      "2y4i_1    0.023248224227298633    0    ['atp']\n",
      "2y4i_2    0.017955747268309626    0    ['non_atp']\n",
      "2y4i_3    0.008958283604094341    0    ['non_atp']\n",
      "3aln_2    0.012786210790970374    0    ['non_atp']\n",
      "3cc6_1    0.0353478554250222    0    ['atp']\n",
      "3dls_1    0.06816724968407159    0    ['atp']\n",
      "3dtc_2    0.001270946440659261    0    ['non_atp']\n",
      "3fxz_1    0.029822855290505643    0    ['atp']\n",
      "3hng_2    0.08507462686567158    0    ['atp']\n",
      "3iec_2    0.0016378501895415228    0    ['non_atp']\n",
      "3kmu_2    0.02904825181819474    0    ['non_atp']\n",
      "3q4u_2    0.010897824476325224    0    ['non_atp']\n",
      "3soc_2    0.019296054598863868    0    ['atp']\n",
      "3v5w_2    0.00013238720610046146    0    ['non_atp']\n",
      "4asz_1    0.12026605944391185    0    ['atp']\n",
      "4asz_2    0.006418185316511319    0    ['atp']\n",
      "4asz_3    0.0594435180806849    0    ['non_atp']\n",
      "4crs_2    0.011688311688311689    0    ['non_atp']\n",
      "4itj_1    0.04092764984484744    0    ['non_atp']\n",
      "4js8_1    0.011520826857320445    0    ['atp']\n",
      "4kik_1    0.012657731797162773    0    ['non_atp']\n",
      "4l00_2    0.021143560737234914    0    ['non_atp']\n",
      "4l42_1    0.013185733200475046    0    ['atp']\n",
      "4pwn_1    0.0011465835393601673    0    ['non_atp']\n",
      "4qpm_2    0.0023099081471817957    0    ['non_atp']\n",
      "4r1v_1    0.004558616371889055    0    ['atp']\n",
      "4ra4_1    0.04875951165703795    0    ['atp']\n",
      "4y85_1    0.025381196843153805    0    ['atp']\n",
      "4ymj_1    0.031190811308624194    0    ['atp']\n",
      "4yz9_1    0.11917082902098426    0    ['atp']\n",
      "4z55_2    0.060415999999999984    0    ['atp']\n",
      "5b2l_1    0.03879042824632796    0    ['atp']\n",
      "5grn_2    0.03416859402752387    0    ['atp']\n",
      "5li9_2    0.010045578373847317    0    ['non_atp']\n",
      "5xs2_2    0.02926898181444562    0    ['non_atp']\n",
      "6bru_1    0.09412889889859016    0    ['non_atp']\n",
      "\u001b[36mCluster 1\u001b[0m\n",
      "3v5w_3    0.4226305744019839    1    ['non_atp']\n",
      "4tnd_1    0.0    1    ['non_atp']\n",
      "4yhj_3    0.0    1    ['non_atp']\n",
      "\u001b[36mCluster 2\u001b[0m\n",
      "2fst_1    0.468977372671304    2    ['non_atp']\n",
      "4qtb_2    0.0    2    ['non_atp']\n",
      "4zzn_2    0.0    2    ['non_atp']\n",
      "\u001b[36mCluster 3\u001b[0m\n",
      "4yfi_2    0.35735332351156934    3    ['non_atp']\n",
      "5j5t_2    0.0    3    ['non_atp']\n",
      "6eim_2    0.0    3    ['non_atp']\n",
      "\u001b[36mCluster 4\u001b[0m\n",
      "1fmk_2    0.035027929010818054    4    ['non_atp']\n",
      "1xjd_2    0.0    4    ['non_atp']\n",
      "5k00_1    0.0    4    ['non_atp']\n",
      "\u001b[36mCluster 5\u001b[0m\n",
      "2acx_1    0.030453122873860455    5    ['non_atp']\n",
      "4tnd_4    0.0    5    ['non_atp']\n",
      "4yhj_2    0.0    5    ['non_atp']\n",
      "\u001b[36mCluster 6\u001b[0m\n",
      "2vz6_2    0.0    6    ['non_atp']\n",
      "2wel_2    0.0    6    ['non_atp']\n",
      "\u001b[36mCluster 7\u001b[0m\n",
      "1u59_2    0.0    7    ['non_atp']\n",
      "3e7o_1    0.0    7    ['non_atp']\n",
      "3hmi_2    0.002069190322992087    7    ['non_atp']\n",
      "\u001b[36mCluster 8\u001b[0m\n",
      "4agu_2    0.0    8    ['non_atp']\n",
      "4y85_2    0.0    8    ['non_atp']\n",
      "\u001b[36mCluster 9\u001b[0m\n",
      "4l00_1    0.0    9    ['non_atp']\n",
      "6cz4_2    0.0    9    ['non_atp']\n",
      "\u001b[36mCluster 10\u001b[0m\n",
      "2acx_2    0.0    10    ['non_atp']\n",
      "4tnd_3    0.0    10    ['non_atp']\n",
      "\u001b[36mCluster 11\u001b[0m\n",
      "2xir_2    0.0    11    ['atp']\n",
      "3gp0_2    0.0    11    ['atp']\n",
      "\u001b[36mCluster 12\u001b[0m\n",
      "1byg_1    0.0    12    ['atp']\n",
      "1fmk_1    0.042513077883108825    12    ['atp']\n",
      "1j1b_1    0.0    12    ['atp']\n",
      "1o6l_1    0.0    12    ['atp']\n",
      "1qpc_1    0.32511102787736085    12    ['atp']\n",
      "1s9i_1    0.02641024504807904    12    ['atp']\n",
      "1u59_1    0.027653309435411364    12    ['atp']\n",
      "1ua2_1    0.03375332585702666    12    ['atp']\n",
      "1wak_1    0.0    12    ['non_atp']\n",
      "1x8b_1    0.0    12    ['non_atp']\n",
      "1xjd_1    0.008260359303060372    12    ['atp']\n",
      "2a2a_1    0.004275672150155578    12    ['atp']\n",
      "2buj_1    0.024205009770829625    12    ['non_atp']\n",
      "2cmw_1    0.03119374513017544    12    ['atp']\n",
      "2dq7_1    0.012858900262284607    12    ['atp']\n",
      "2eva_1    0.009973564047103985    12    ['atp']\n",
      "2i0e_1    0.09418482406052238    12    ['atp']\n",
      "2izr_1    0.0007049037806341303    12    ['non_atp']\n",
      "2j0i_1    0.03461754705362641    12    ['atp']\n",
      "2qlu_1    0.038199513381995356    12    ['atp']\n",
      "2qol_1    0.0    12    ['non_atp']\n",
      "2r2p_1    0.10102338050679241    12    ['atp']\n",
      "2r4b_1    0.0    12    ['atp']\n",
      "2r5t_1    0.09353081937453568    12    ['atp']\n",
      "2rei_1    0.0    12    ['atp']\n",
      "2rku_1    0.12560194213395942    12    ['atp']\n",
      "2vd5_1    0.0    12    ['atp']\n",
      "2vz6_1    0.1260888588361641    12    ['atp']\n",
      "2w4o_1    0.09315667822354289    12    ['non_atp']\n",
      "2wel_1    0.13368688760522848    12    ['atp']\n",
      "2x7g_1    0.0    12    ['non_atp']\n",
      "2xik_1    0.046626954128995174    12    ['atp']\n",
      "2xir_1    0.0    12    ['atp']\n",
      "2xrw_1    0.0    12    ['atp']\n",
      "2y7j_1    0.008303431096349515    12    ['atp']\n",
      "2ycf_1    0.0    12    ['atp']\n",
      "2yex_1    0.02029615541366647    12    ['atp']\n",
      "3a7i_1    0.015110526187516743    12    ['atp']\n",
      "3a99_1    0.03112745098039237    12    ['atp']\n",
      "3aln_1    0.022011528788586934    12    ['atp']\n",
      "3b2t_1    0.0    12    ['atp']\n",
      "3bhh_1    0.08811322320909762    12    ['atp']\n",
      "3bhy_1    0.0    12    ['atp']\n",
      "3brb_1    0.0701089831763835    12    ['atp']\n",
      "3bu3_1    0.010884523958463595    12    ['atp']\n",
      "3c0i_1    0.02897877406428758    12    ['non_atp']\n",
      "3cbl_1    0.0    12    ['atp']\n",
      "3cok_1    0.3692161419818295    12    ['atp']\n",
      "3com_1    0.0    12    ['atp']\n",
      "3dtc_1    0.010320293972009986    12    ['atp']\n",
      "3eqc_1    0.0    12    ['atp']\n",
      "3fe3_1    0.0    12    ['atp']\n",
      "3fhr_1    0.015760240685026797    12    ['atp']\n",
      "3fme_1    0.08724190935150164    12    ['non_atp']\n",
      "3g2f_1    0.0    12    ['atp']\n",
      "3ggf_1    0.016215591024751418    12    ['atp']\n",
      "3gp0_1    0.0662161587827787    12    ['atp']\n",
      "3hmi_1    0.013747161996956206    12    ['non_atp']\n",
      "3hng_1    0.054461730467152844    12    ['atp']\n",
      "3iec_1    0.0    12    ['atp']\n",
      "3kmu_1    0.1315981897590958    12    ['non_atp']\n",
      "3kul_1    0.0060346995222532104    12    ['atp']\n",
      "3lco_1    0.009502294058737404    12    ['atp']\n",
      "3lm5_1    0.0029099074328661737    12    ['atp']\n",
      "3lm5_2    0.00018202502844139975    12    ['atp']\n",
      "3lxp_1    0.0    12    ['atp']\n",
      "3m2w_1    0.045776330076004276    12    ['atp']\n",
      "3mdy_1    0.0080960357342266    12    ['non_atp']\n",
      "3mi9_1    0.03796304404939144    12    ['atp']\n",
      "3my0_1    0.0    12    ['non_atp']\n",
      "3omv_1    0.01482721511419345    12    ['atp']\n",
      "3pls_1    0.0009902814241629732    12    ['atp']\n",
      "3pp0_1    0.0    12    ['atp']\n",
      "3q4u_1    0.0    12    ['non_atp']\n",
      "3s95_1    0.03285679800445232    12    ['atp']\n",
      "3soc_1    0.014528686625266799    12    ['atp']\n",
      "3sxs_1    0.004868990194080213    12    ['non_atp']\n",
      "3txo_1    0.016701191092697965    12    ['atp']\n",
      "3ugc_1    0.0    12    ['atp']\n",
      "3v5w_1    0.0049516908212560605    12    ['non_atp']\n",
      "3war_1    0.04502748306276346    12    ['non_atp']\n",
      "3zdu_1    0.01142871433215798    12    ['atp']\n",
      "3zfm_1    0.0    12    ['non_atp']\n",
      "4aaa_1    0.08992626957170091    12    ['atp']\n",
      "4af3_1    0.09649429423254846    12    ['non_atp']\n",
      "4agu_1    0.0    12    ['atp']\n",
      "4b6l_1    0.009919428397689311    12    ['atp']\n",
      "4b9d_1    0.0047114790842349066    12    ['non_atp']\n",
      "4bgq_1    0.009913929070343785    12    ['atp']\n",
      "4bkj_1    0.006812532605026479    12    ['atp']\n",
      "4ckj_1    0.0    12    ['atp']\n",
      "4crs_1    0.06016042780748667    12    ['atp']\n",
      "4euu_1    0.021810622983370866    12    ['atp']\n",
      "4f9c_1    0.09339990509397739    12    ['atp']\n",
      "4fg8_1    0.058533658996443506    12    ['non_atp']\n",
      "4fkl_1    0.04819459787293958    12    ['atp']\n",
      "4fr4_1    0.02837433645010923    12    ['non_atp']\n",
      "4gv1_1    0.006847830797902425    12    ['atp']\n",
      "4hcu_1    0.0    12    ['atp']\n",
      "4hvs_1    0.007888197341723113    12    ['atp']\n",
      "4hzr_1    0.005621186847336853    12    ['atp']\n",
      "4i4e_1    0.030598513093163252    12    ['non_atp']\n",
      "4i5p_1    0.040017224056265475    12    ['atp']\n",
      "4idt_1    0.023375453403190846    12    ['atp']\n",
      "4iir_1    0.018699380657455706    12    ['atp']\n",
      "4k33_1    0.1103542700667466    12    ['atp']\n",
      "4kik_2    0.01688676664428359    12    ['non_atp']\n",
      "4ks7_1    0.0037852236085800443    12    ['atp']\n",
      "4l42_2    0.13452296541400766    12    ['atp']\n",
      "4l6q_1    0.0    12    ['atp']\n",
      "4lg4_1    0.0    12    ['atp']\n",
      "4mwi_1    0.10111855485105879    12    ['non_atp']\n",
      "4nfn_1    0.026744158574904916    12    ['atp']\n",
      "4nst_1    0.0    12    ['atp']\n",
      "4nw6_1    0.018984985730239688    12    ['atp']\n",
      "4oth_1    0.001068376068376115    12    ['atp']\n",
      "4pf4_1    0.028810471628095243    12    ['atp']\n",
      "4qpm_1    0.002710476822657208    12    ['non_atp']\n",
      "4qqt_1    0.0073326302044098395    12    ['atp']\n",
      "4qtb_1    0.030380599528460842    12    ['atp']\n",
      "4qtc_1    0.006833827445857281    12    ['non_atp']\n",
      "4tnd_2    0.005666628584485353    12    ['non_atp']\n",
      "4usf_1    0.13194128918828163    12    ['atp']\n",
      "4w9w_1    0.0    12    ['atp']\n",
      "4wb8_1    0.07411677889493594    12    ['atp']\n",
      "4wno_1    0.0003211009174312216    12    ['atp']\n",
      "4x7k_1    0.00568934789562686    12    ['atp']\n",
      "4x7q_1    0.04699733240798969    12    ['atp']\n",
      "4y8d_1    0.0013646737723818348    12    ['atp']\n",
      "4yfi_1    0.011974243046992593    12    ['atp']\n",
      "4yhj_1    0.0015421442710488536    12    ['non_atp']\n",
      "4yjr_1    0.017950796223896056    12    ['atp']\n",
      "4ylk_1    0.0001411133846046933    12    ['atp']\n",
      "4yno_1    0.006358260505520739    12    ['atp']\n",
      "4z55_1    0.034015932750110126    12    ['atp']\n",
      "4zzn_1    0.01438042151785976    12    ['atp']\n",
      "5ax9_1    0.01570234975248071    12    ['atp']\n",
      "5byz_1    0.003097681988816633    12    ['atp']\n",
      "5cen_1    0.0053120849933597294    12    ['atp']\n",
      "5e8s_1    0.3453063766837092    12    ['non_atp']\n",
      "5e8v_1    0.0    12    ['atp']\n",
      "5efq_1    0.0    12    ['atp']\n",
      "5ew8_1    0.023722627737226193    12    ['atp']\n",
      "5g6v_1    0.12700903943578018    12    ['atp']\n",
      "5grn_1    0.027552430743344684    12    ['atp']\n",
      "5h0b_1    0.0    12    ['atp']\n",
      "5hu9_1    0.0    12    ['atp']\n",
      "5hu9_2    0.0328388431571069    12    ['atp']\n",
      "5ita_1    0.018456010452961656    12    ['atp']\n",
      "5j5t_1    0.005457068954640037    12    ['atp']\n",
      "5jfw_1    0.029678243698455144    12    ['atp']\n",
      "5jga_1    0.007423089991897188    12    ['atp']\n",
      "5jzj_1    0.0    12    ['atp']\n",
      "5k00_2    0.03870307816737248    12    ['atp']\n",
      "5l6o_1    0.06987278538619474    12    ['atp']\n",
      "5l8l_1    0.0    12    ['atp']\n",
      "5li9_1    0.0029219714362384084    12    ['non_atp']\n",
      "5lqf_1    0.048675665350821073    12    ['atp']\n",
      "5lvo_1    0.10069899519440806    12    ['atp']\n",
      "5lwm_1    0.02072187067162756    12    ['atp']\n",
      "5lxc_1    0.0    12    ['atp']\n",
      "5mja_1    0.0    12    ['atp']\n",
      "5ng0_1    0.0076619615533714104    12    ['atp']\n",
      "5nxd_1    0.09116856256463302    12    ['non_atp']\n",
      "5o0y_1    0.0    12    ['atp']\n",
      "5o1v_1    0.36507430151261383    12    ['non_atp']\n",
      "5ote_1    0.0    12    ['atp']\n",
      "5p9j_1    0.0    12    ['atp']\n",
      "5te0_1    0.03124999999999991    12    ['atp']\n",
      "5te0_2    0.06168990625867473    12    ['atp']\n",
      "5u6b_1    0.11713413164027968    12    ['atp']\n",
      "5ug9_1    0.019490107294024808    12    ['non_atp']\n",
      "5uit_1    0.016056266339680412    12    ['atp']\n",
      "5uyj_1    0.0    12    ['atp']\n",
      "5vcz_1    0.0    12    ['atp']\n",
      "5vdk_1    0.038637343682621964    12    ['non_atp']\n",
      "5wne_1    0.0    12    ['atp']\n",
      "5x5o_1    0.034708492596985885    12    ['atp']\n",
      "5xs2_1    0.011828730772690334    12    ['non_atp']\n",
      "5y86_1    0.2514488871572594    12    ['atp']\n",
      "5yf9_1    0.06714786116123551    12    ['non_atp']\n",
      "5yks_1    0.03323632272738389    12    ['atp']\n",
      "6bfn_1    0.06028528046876668    12    ['atp']\n",
      "6bxi_1    0.005369303300157185    12    ['atp']\n",
      "6c0t_1    0.032282415630550634    12    ['atp']\n",
      "6c9d_1    0.05065334358185996    12    ['atp']\n",
      "6ccf_1    0.023537498814828823    12    ['atp']\n",
      "6cz4_1    0.003911373430766553    12    ['atp']\n",
      "6eim_1    0.12040354705046322    12    ['atp']\n",
      "6fd3_1    0.02502794052900733    12    ['atp']\n",
      "6fdy_1    0.0008341126810404827    12    ['atp']\n",
      "6fng_1    0.0    12    ['atp']\n",
      "6fnk_1    0.0156981745197361    12    ['atp']\n",
      "6ft8_1    0.0032929339126461453    12    ['atp']\n",
      "6fyl_1    0.033576458752515276    12    ['atp']\n",
      "6fyr_1    0.06275610866595834    12    ['atp']\n",
      "6fyv_1    0.0    12    ['atp']\n",
      "6op9_1    0.018378741663650777    12    ['atp']\n",
      "7aqb_1    0.002567099864768885    12    ['atp']\n",
      "\u001b[36mCluster 13\u001b[0m\n",
      "4hni_1    0.0    13    ['atp']\n",
      "6gzm_1    0.0    13    ['atp']\n"
     ]
    }
   ],
   "source": [
    "for i in range(14):\n",
    "    print(color.DARKCYAN + \"Cluster \"+str(i)+ color.END)\n",
    "    for j in range(len(new_labels_)):\n",
    "        if new_labels_[j] == i:\n",
    "            print(str(kinase_names[j])+\"    \"+str(cluster.outlier_scores_[j])+\"    \"+str(new_labels_[j])+\"    \"+str(atp_pocks_dic[kinase_names[j]]))"
   ]
  },
  {
   "cell_type": "code",
   "execution_count": null,
   "metadata": {},
   "outputs": [],
   "source": [
    "silhouette_totals"
   ]
  },
  {
   "cell_type": "code",
   "execution_count": 25,
   "metadata": {},
   "outputs": [
    {
     "data": {
      "image/png": "[encoded data removed]",
      "text/plain": [
       "<Figure size 800x640 with 1 Axes>"
      ]
     },
     "metadata": {
      "needs_background": "light"
     },
     "output_type": "display_data"
    }
   ],
   "source": [
    "import numpy as np\n",
    "import matplotlib.pyplot as plt\n",
    "\n",
    "x = range(3, 20)\n",
    "plt.figure(figsize=(10, 8), dpi=80)\n",
    "plt.plot(x, silhouette_totals)\n",
    "plt.plot(x, silhouette_totals, 'o')\n",
    "plt.show()"
   ]
  },
  {
   "cell_type": "code",
   "execution_count": 44,
   "metadata": {},
   "outputs": [
    {
     "data": {
      "text/plain": [
       "<AxesSubplot:ylabel='$\\\\lambda$ value'>"
      ]
     },
     "execution_count": 44,
     "metadata": {},
     "output_type": "execute_result"
    },
    {
     "data": {
      "image/png": "[encoded data removed]",
      "text/plain": [
       "<Figure size 432x288 with 2 Axes>"
      ]
     },
     "metadata": {
      "needs_background": "light"
     },
     "output_type": "display_data"
    }
   ],
   "source": [
    "            ########## plot 4 #################\n",
    "cluster.condensed_tree_.plot(select_clusters=True)"
   ]
  }
 ],
 "metadata": {
  "kernelspec": {
   "display_name": "Python 3",
   "language": "python",
   "name": "python3"
  },
  "language_info": {
   "codemirror_mode": {
    "name": "ipython",
    "version": 3
   },
   "file_extension": ".py",
   "mimetype": "text/x-python",
   "name": "python",
   "nbconvert_exporter": "python",
   "pygments_lexer": "ipython3",
   "version": "3.7.6"
  }
 },
 "nbformat": 4,
 "nbformat_minor": 4
}
