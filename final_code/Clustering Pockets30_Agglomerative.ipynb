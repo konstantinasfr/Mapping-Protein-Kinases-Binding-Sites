{
 "cells": [
  {
   "cell_type": "code",
   "execution_count": 22,
   "metadata": {},
   "outputs": [],
   "source": [
    "import subprocess\n",
    "import os \n",
    "import re\n",
    "import numpy as np\n",
    "import pandas as pd\n",
    "import plotly.express as px\n",
    "from sklearn_extra.cluster import KMedoids\n",
    "from sklearn.cluster import AgglomerativeClustering\n",
    "from collections import Counter"
   ]
  },
  {
   "cell_type": "code",
   "execution_count": 23,
   "metadata": {},
   "outputs": [],
   "source": [
    "path = os.walk(\"convertions30\")\n",
    "total_pocks = []\n",
    "for root, directories, files in path:\n",
    "    for file in files:\n",
    "        total_pocks.append(file)\n",
    "    break"
   ]
  },
  {
   "cell_type": "code",
   "execution_count": 24,
   "metadata": {
    "scrolled": true
   },
   "outputs": [
    {
     "data": {
      "text/plain": [
       "['6fd3_pocket1.pdb',\n",
       " '2ycf_pocket1.pdb',\n",
       " '5lqf_pocket1.pdb',\n",
       " '5ew8_pocket1.pdb',\n",
       " '5yf9_pocket1.pdb',\n",
       " '3e7o_pocket1.pdb',\n",
       " '4z55_pocket2.pdb',\n",
       " '1u59_pocket1.pdb',\n",
       " '4ckj_pocket1.pdb',\n",
       " '4bkj_pocket1.pdb',\n",
       " '3sxs_pocket1.pdb',\n",
       " '4bgq_pocket1.pdb',\n",
       " '4z55_pocket1.pdb',\n",
       " '3aln_pocket2.pdb',\n",
       " '1u59_pocket2.pdb',\n",
       " '4asz_pocket1.pdb',\n",
       " '2wel_pocket2.pdb',\n",
       " '3v5w_pocket1.pdb',\n",
       " '3iec_pocket2.pdb',\n",
       " '4hcu_pocket1.pdb',\n",
       " '3dls_pocket1.pdb',\n",
       " '4hvs_pocket1.pdb',\n",
       " '2xrw_pocket1.pdb',\n",
       " '2dq7_pocket1.pdb',\n",
       " '5te0_pocket2.pdb',\n",
       " '1byg_pocket1.pdb',\n",
       " '4asz_pocket2.pdb',\n",
       " '3kmu_pocket2.pdb',\n",
       " '2eva_pocket1.pdb',\n",
       " '3kul_pocket1.pdb',\n",
       " '5uyj_pocket1.pdb',\n",
       " '1s9i_pocket1.pdb',\n",
       " '2ac3_pocket1.pdb',\n",
       " '2fst_pocket1.pdb',\n",
       " '2r4b_pocket1.pdb',\n",
       " '3omv_pocket1.pdb',\n",
       " '5mja_pocket1.pdb',\n",
       " '6cz4_pocket2.pdb',\n",
       " '5k00_pocket1.pdb',\n",
       " '6fnk_pocket1.pdb',\n",
       " '2vz6_pocket1.pdb',\n",
       " '4lg4_pocket1.pdb',\n",
       " '4qtc_pocket1.pdb',\n",
       " '4l6q_pocket1.pdb',\n",
       " '4pf4_pocket1.pdb',\n",
       " '4af3_pocket1.pdb',\n",
       " '2xir_pocket1.pdb',\n",
       " '3dtc_pocket1.pdb',\n",
       " '2buj_pocket1.pdb',\n",
       " '3fe3_pocket1.pdb',\n",
       " '4y85_pocket1.pdb',\n",
       " '4asz_pocket3.pdb',\n",
       " '2vz6_pocket2.pdb',\n",
       " '2j0i_pocket1.pdb',\n",
       " '2xik_pocket1.pdb',\n",
       " '5j5t_pocket1.pdb',\n",
       " '3my0_pocket1.pdb',\n",
       " '3fhr_pocket1.pdb',\n",
       " '5o1v_pocket1.pdb',\n",
       " '4hzr_pocket1.pdb',\n",
       " '6bru_pocket1.pdb',\n",
       " '5xs2_pocket2.pdb',\n",
       " '3kmu_pocket1.pdb',\n",
       " '4nst_pocket1.pdb',\n",
       " '4js8_pocket1.pdb',\n",
       " '6cz4_pocket1.pdb',\n",
       " '3lxp_pocket1.pdb',\n",
       " '4euu_pocket1.pdb',\n",
       " '2w4o_pocket1.pdb',\n",
       " '3s95_pocket1.pdb',\n",
       " '5te0_pocket1.pdb',\n",
       " '3fxz_pocket1.pdb',\n",
       " '5jzj_pocket1.pdb',\n",
       " '2y4i_pocket1.pdb',\n",
       " '4qpm_pocket1.pdb',\n",
       " '3a99_pocket1.pdb',\n",
       " '4fkl_pocket1.pdb',\n",
       " '4zzn_pocket2.pdb',\n",
       " '2acx_pocket1.pdb',\n",
       " '3mi9_pocket1.pdb',\n",
       " '4ra4_pocket1.pdb',\n",
       " '3soc_pocket1.pdb',\n",
       " '3g2f_pocket1.pdb',\n",
       " '4qtb_pocket1.pdb',\n",
       " '2y4i_pocket2.pdb',\n",
       " '3gp0_pocket1.pdb',\n",
       " '4yhj_pocket2.pdb',\n",
       " '3bhh_pocket1.pdb',\n",
       " '2cmw_pocket1.pdb',\n",
       " '2a2a_pocket1.pdb',\n",
       " '6fyv_pocket1.pdb',\n",
       " '6fng_pocket1.pdb',\n",
       " '4ylk_pocket1.pdb',\n",
       " '3hmi_pocket1.pdb',\n",
       " '3ggf_pocket1.pdb',\n",
       " '5l6o_pocket1.pdb',\n",
       " '1p4o_pocket1.pdb',\n",
       " '5yks_pocket1.pdb',\n",
       " '4l00_pocket2.pdb',\n",
       " '4yhj_pocket3.pdb',\n",
       " '3gp0_pocket2.pdb',\n",
       " '3zfm_pocket1.pdb',\n",
       " '4fr4_pocket1.pdb',\n",
       " '2rei_pocket1.pdb',\n",
       " '3cc6_pocket1.pdb',\n",
       " '4ymj_pocket1.pdb',\n",
       " '4zzn_pocket1.pdb',\n",
       " '5wne_pocket1.pdb',\n",
       " '3eqc_pocket1.pdb',\n",
       " '4i4e_pocket1.pdb',\n",
       " '4r1v_pocket1.pdb',\n",
       " '3hmi_pocket2.pdb',\n",
       " '4l42_pocket1.pdb',\n",
       " '6bxi_pocket1.pdb',\n",
       " '5o0y_pocket1.pdb',\n",
       " '7aqb_pocket1.pdb',\n",
       " '4yfi_pocket2.pdb',\n",
       " '2y4i_pocket3.pdb',\n",
       " '5nxd_pocket1.pdb',\n",
       " '4usf_pocket1.pdb',\n",
       " '1wak_pocket1.pdb',\n",
       " '3c0i_pocket1.pdb',\n",
       " '4y85_pocket2.pdb',\n",
       " '2qol_pocket1.pdb',\n",
       " '5x5o_pocket1.pdb',\n",
       " '5cen_pocket1.pdb',\n",
       " '1xjd_pocket1.pdb',\n",
       " '3cbl_pocket1.pdb',\n",
       " '2jam_pocket1.pdb',\n",
       " '2dq7_pocket2.pdb',\n",
       " '3hng_pocket1.pdb',\n",
       " '5b2l_pocket1.pdb',\n",
       " '1blx_pocket1.pdb',\n",
       " '1fmk_pocket2.pdb',\n",
       " '3hng_pocket2.pdb',\n",
       " '4iir_pocket1.pdb',\n",
       " '4wb8_pocket1.pdb',\n",
       " '2f57_pocket1.pdb',\n",
       " '5hu9_pocket2.pdb',\n",
       " '5g6v_pocket1.pdb',\n",
       " '5e8v_pocket1.pdb',\n",
       " '4tnd_pocket4.pdb',\n",
       " '3com_pocket1.pdb',\n",
       " '3lm5_pocket2.pdb',\n",
       " '5jga_pocket1.pdb',\n",
       " '3pls_pocket1.pdb',\n",
       " '3m2w_pocket1.pdb',\n",
       " '4qqt_pocket1.pdb',\n",
       " '4yjr_pocket1.pdb',\n",
       " '5ng0_pocket1.pdb',\n",
       " '6c9d_pocket1.pdb',\n",
       " '4kik_pocket1.pdb',\n",
       " '2hw6_pocket1.pdb',\n",
       " '5u6b_pocket1.pdb',\n",
       " '1tki_pocket1.pdb',\n",
       " '6op9_pocket1.pdb',\n",
       " '5vcz_pocket1.pdb',\n",
       " '4tnd_pocket1.pdb',\n",
       " '5j5t_pocket2.pdb',\n",
       " '3v5w_pocket2.pdb',\n",
       " '4wno_pocket1.pdb',\n",
       " '4mwi_pocket1.pdb',\n",
       " '5vdk_pocket1.pdb',\n",
       " '5li9_pocket2.pdb',\n",
       " '2rku_pocket1.pdb',\n",
       " '5uit_pocket1.pdb',\n",
       " '2acx_pocket2.pdb',\n",
       " '4crs_pocket2.pdb',\n",
       " '5e8s_pocket1.pdb',\n",
       " '3lm5_pocket1.pdb',\n",
       " '5ita_pocket1.pdb',\n",
       " '3ugc_pocket1.pdb',\n",
       " '4k33_pocket1.pdb',\n",
       " '5ug9_pocket1.pdb',\n",
       " '6fdy_pocket1.pdb',\n",
       " '6fyl_pocket1.pdb',\n",
       " '5k00_pocket2.pdb',\n",
       " '5lwm_pocket1.pdb',\n",
       " '1xjd_pocket2.pdb',\n",
       " '4l42_pocket2.pdb',\n",
       " '4yz9_pocket1.pdb',\n",
       " '5h0b_pocket1.pdb',\n",
       " '5ax9_pocket1.pdb',\n",
       " '6bfn_pocket1.pdb',\n",
       " '5lvo_pocket1.pdb',\n",
       " '6eim_pocket2.pdb',\n",
       " '4qtb_pocket2.pdb',\n",
       " '2qlu_pocket1.pdb',\n",
       " '3txo_pocket1.pdb',\n",
       " '3q4u_pocket1.pdb',\n",
       " '5grn_pocket1.pdb',\n",
       " '4yfi_pocket1.pdb',\n",
       " '2wel_pocket1.pdb',\n",
       " '4y8d_pocket1.pdb',\n",
       " '1qpc_pocket1.pdb',\n",
       " '3mdy_pocket1.pdb',\n",
       " '5lxc_pocket1.pdb',\n",
       " '4idt_pocket1.pdb',\n",
       " '1x8b_pocket1.pdb',\n",
       " '5hu9_pocket1.pdb',\n",
       " '4pwn_pocket1.pdb',\n",
       " '4l00_pocket1.pdb',\n",
       " '3dtc_pocket2.pdb',\n",
       " '5ote_pocket1.pdb',\n",
       " '4yhj_pocket1.pdb',\n",
       " '4w9w_pocket1.pdb',\n",
       " '4nw6_pocket1.pdb',\n",
       " '4yno_pocket1.pdb',\n",
       " '3b2t_pocket1.pdb',\n",
       " '5efq_pocket1.pdb',\n",
       " '2x7g_pocket1.pdb',\n",
       " '3bu3_pocket1.pdb',\n",
       " '6fyr_pocket1.pdb',\n",
       " '2r5t_pocket1.pdb',\n",
       " '5y86_pocket1.pdb',\n",
       " '6eim_pocket1.pdb',\n",
       " '4oth_pocket1.pdb',\n",
       " '6ccf_pocket1.pdb',\n",
       " '3iec_pocket1.pdb',\n",
       " '2izr_pocket1.pdb',\n",
       " '2vd5_pocket1.pdb',\n",
       " '1o6l_pocket1.pdb',\n",
       " '3a7i_pocket1.pdb',\n",
       " '2yex_pocket1.pdb',\n",
       " '4x7k_pocket1.pdb',\n",
       " '5jfw_pocket1.pdb',\n",
       " '2jc6_pocket1.pdb',\n",
       " '5p9j_pocket1.pdb',\n",
       " '3lco_pocket1.pdb',\n",
       " '1vzo_pocket1.pdb',\n",
       " '2i0e_pocket1.pdb',\n",
       " '4qpm_pocket2.pdb',\n",
       " '5xs2_pocket1.pdb',\n",
       " '2h6d_pocket1.pdb',\n",
       " '1j1b_pocket1.pdb',\n",
       " '4b9d_pocket1.pdb',\n",
       " '6ft8_pocket1.pdb',\n",
       " '3aln_pocket1.pdb',\n",
       " '2y7j_pocket1.pdb',\n",
       " '6gzm_pocket1.pdb',\n",
       " '4aaa_pocket1.pdb',\n",
       " '1ua2_pocket1.pdb',\n",
       " '4tnd_pocket2.pdb',\n",
       " '3fme_pocket1.pdb',\n",
       " '4crs_pocket1.pdb',\n",
       " '1fmk_pocket1.pdb',\n",
       " '5grn_pocket2.pdb',\n",
       " '6c0t_pocket1.pdb',\n",
       " '4fg8_pocket1.pdb',\n",
       " '3q4u_pocket2.pdb',\n",
       " '4itj_pocket1.pdb',\n",
       " '5byz_pocket1.pdb',\n",
       " '3war_pocket1.pdb',\n",
       " '3bhy_pocket1.pdb',\n",
       " '4kik_pocket2.pdb',\n",
       " '5l8l_pocket1.pdb',\n",
       " '4ks7_pocket1.pdb',\n",
       " '4agu_pocket2.pdb',\n",
       " '4nfn_pocket1.pdb',\n",
       " '4hni_pocket1.pdb',\n",
       " '4x7q_pocket1.pdb',\n",
       " '3brb_pocket1.pdb',\n",
       " '4tnd_pocket3.pdb',\n",
       " '3v5w_pocket3.pdb',\n",
       " '3pp0_pocket1.pdb',\n",
       " '3zdu_pocket1.pdb',\n",
       " '3soc_pocket2.pdb',\n",
       " '4i5p_pocket1.pdb',\n",
       " '4f9c_pocket1.pdb',\n",
       " '4agu_pocket1.pdb',\n",
       " '3cok_pocket1.pdb',\n",
       " '5li9_pocket1.pdb',\n",
       " '4gv1_pocket1.pdb',\n",
       " '4b6l_pocket1.pdb',\n",
       " '2r2p_pocket1.pdb',\n",
       " '2xir_pocket2.pdb']"
      ]
     },
     "execution_count": 24,
     "metadata": {},
     "output_type": "execute_result"
    }
   ],
   "source": [
    "total_pocks"
   ]
  },
  {
   "cell_type": "code",
   "execution_count": 25,
   "metadata": {},
   "outputs": [
    {
     "data": {
      "text/plain": [
       "276"
      ]
     },
     "execution_count": 25,
     "metadata": {},
     "output_type": "execute_result"
    }
   ],
   "source": [
    "len(total_pocks)"
   ]
  },
  {
   "cell_type": "code",
   "execution_count": 26,
   "metadata": {},
   "outputs": [],
   "source": [
    "pockets_order = pd.read_excel('pockets_order.xlsx')\n",
    "total_pocks=list(pockets_order[0])"
   ]
  },
  {
   "cell_type": "code",
   "execution_count": 27,
   "metadata": {},
   "outputs": [
    {
     "data": {
      "text/plain": [
       "['1blx_pocket1.pdb',\n",
       " '1byg_pocket1.pdb',\n",
       " '1fmk_pocket1.pdb',\n",
       " '1fmk_pocket2.pdb',\n",
       " '1j1b_pocket1.pdb',\n",
       " '1o6l_pocket1.pdb',\n",
       " '1p4o_pocket1.pdb',\n",
       " '1qpc_pocket1.pdb',\n",
       " '1s9i_pocket1.pdb',\n",
       " '1tki_pocket1.pdb',\n",
       " '1u59_pocket1.pdb',\n",
       " '1u59_pocket2.pdb',\n",
       " '1ua2_pocket1.pdb',\n",
       " '1vzo_pocket1.pdb',\n",
       " '1wak_pocket1.pdb',\n",
       " '1x8b_pocket1.pdb',\n",
       " '1xjd_pocket1.pdb',\n",
       " '1xjd_pocket2.pdb',\n",
       " '2a2a_pocket1.pdb',\n",
       " '2ac3_pocket1.pdb',\n",
       " '2acx_pocket1.pdb',\n",
       " '2acx_pocket2.pdb',\n",
       " '2buj_pocket1.pdb',\n",
       " '2cmw_pocket1.pdb',\n",
       " '2dq7_pocket1.pdb',\n",
       " '2dq7_pocket2.pdb',\n",
       " '2eva_pocket1.pdb',\n",
       " '2f57_pocket1.pdb',\n",
       " '2fst_pocket1.pdb',\n",
       " '2h6d_pocket1.pdb',\n",
       " '2hw6_pocket1.pdb',\n",
       " '2i0e_pocket1.pdb',\n",
       " '2izr_pocket1.pdb',\n",
       " '2j0i_pocket1.pdb',\n",
       " '2jam_pocket1.pdb',\n",
       " '2jc6_pocket1.pdb',\n",
       " '2qlu_pocket1.pdb',\n",
       " '2qol_pocket1.pdb',\n",
       " '2r2p_pocket1.pdb',\n",
       " '2r4b_pocket1.pdb',\n",
       " '2r5t_pocket1.pdb',\n",
       " '2rei_pocket1.pdb',\n",
       " '2rku_pocket1.pdb',\n",
       " '2vd5_pocket1.pdb',\n",
       " '2vz6_pocket1.pdb',\n",
       " '2vz6_pocket2.pdb',\n",
       " '2w4o_pocket1.pdb',\n",
       " '2wel_pocket1.pdb',\n",
       " '2wel_pocket2.pdb',\n",
       " '2x7g_pocket1.pdb',\n",
       " '2xik_pocket1.pdb',\n",
       " '2xir_pocket1.pdb',\n",
       " '2xir_pocket2.pdb',\n",
       " '2xrw_pocket1.pdb',\n",
       " '2y4i_pocket1.pdb',\n",
       " '2y4i_pocket2.pdb',\n",
       " '2y4i_pocket3.pdb',\n",
       " '2y7j_pocket1.pdb',\n",
       " '2ycf_pocket1.pdb',\n",
       " '2yex_pocket1.pdb',\n",
       " '3a7i_pocket1.pdb',\n",
       " '3a99_pocket1.pdb',\n",
       " '3aln_pocket1.pdb',\n",
       " '3aln_pocket2.pdb',\n",
       " '3b2t_pocket1.pdb',\n",
       " '3bhh_pocket1.pdb',\n",
       " '3bhy_pocket1.pdb',\n",
       " '3brb_pocket1.pdb',\n",
       " '3bu3_pocket1.pdb',\n",
       " '3c0i_pocket1.pdb',\n",
       " '3cbl_pocket1.pdb',\n",
       " '3cc6_pocket1.pdb',\n",
       " '3cok_pocket1.pdb',\n",
       " '3com_pocket1.pdb',\n",
       " '3dls_pocket1.pdb',\n",
       " '3dtc_pocket1.pdb',\n",
       " '3dtc_pocket2.pdb',\n",
       " '3e7o_pocket1.pdb',\n",
       " '3eqc_pocket1.pdb',\n",
       " '3fe3_pocket1.pdb',\n",
       " '3fhr_pocket1.pdb',\n",
       " '3fme_pocket1.pdb',\n",
       " '3fxz_pocket1.pdb',\n",
       " '3g2f_pocket1.pdb',\n",
       " '3ggf_pocket1.pdb',\n",
       " '3gp0_pocket1.pdb',\n",
       " '3gp0_pocket2.pdb',\n",
       " '3hmi_pocket1.pdb',\n",
       " '3hmi_pocket2.pdb',\n",
       " '3hng_pocket1.pdb',\n",
       " '3hng_pocket2.pdb',\n",
       " '3iec_pocket1.pdb',\n",
       " '3iec_pocket2.pdb',\n",
       " '3kmu_pocket1.pdb',\n",
       " '3kmu_pocket2.pdb',\n",
       " '3kul_pocket1.pdb',\n",
       " '3lco_pocket1.pdb',\n",
       " '3lm5_pocket1.pdb',\n",
       " '3lm5_pocket2.pdb',\n",
       " '3lxp_pocket1.pdb',\n",
       " '3m2w_pocket1.pdb',\n",
       " '3mdy_pocket1.pdb',\n",
       " '3mi9_pocket1.pdb',\n",
       " '3my0_pocket1.pdb',\n",
       " '3omv_pocket1.pdb',\n",
       " '3pls_pocket1.pdb',\n",
       " '3pp0_pocket1.pdb',\n",
       " '3q4u_pocket1.pdb',\n",
       " '3q4u_pocket2.pdb',\n",
       " '3s95_pocket1.pdb',\n",
       " '3soc_pocket1.pdb',\n",
       " '3soc_pocket2.pdb',\n",
       " '3sxs_pocket1.pdb',\n",
       " '3txo_pocket1.pdb',\n",
       " '3ugc_pocket1.pdb',\n",
       " '3v5w_pocket1.pdb',\n",
       " '3v5w_pocket2.pdb',\n",
       " '3v5w_pocket3.pdb',\n",
       " '3war_pocket1.pdb',\n",
       " '3zdu_pocket1.pdb',\n",
       " '3zfm_pocket1.pdb',\n",
       " '4aaa_pocket1.pdb',\n",
       " '4af3_pocket1.pdb',\n",
       " '4agu_pocket1.pdb',\n",
       " '4agu_pocket2.pdb',\n",
       " '4asz_pocket1.pdb',\n",
       " '4asz_pocket2.pdb',\n",
       " '4asz_pocket3.pdb',\n",
       " '4b6l_pocket1.pdb',\n",
       " '4b9d_pocket1.pdb',\n",
       " '4bgq_pocket1.pdb',\n",
       " '4bkj_pocket1.pdb',\n",
       " '4ckj_pocket1.pdb',\n",
       " '4crs_pocket1.pdb',\n",
       " '4crs_pocket2.pdb',\n",
       " '4euu_pocket1.pdb',\n",
       " '4f9c_pocket1.pdb',\n",
       " '4fg8_pocket1.pdb',\n",
       " '4fkl_pocket1.pdb',\n",
       " '4fr4_pocket1.pdb',\n",
       " '4gv1_pocket1.pdb',\n",
       " '4hcu_pocket1.pdb',\n",
       " '4hni_pocket1.pdb',\n",
       " '4hvs_pocket1.pdb',\n",
       " '4hzr_pocket1.pdb',\n",
       " '4i4e_pocket1.pdb',\n",
       " '4i5p_pocket1.pdb',\n",
       " '4idt_pocket1.pdb',\n",
       " '4iir_pocket1.pdb',\n",
       " '4itj_pocket1.pdb',\n",
       " '4js8_pocket1.pdb',\n",
       " '4k33_pocket1.pdb',\n",
       " '4kik_pocket1.pdb',\n",
       " '4kik_pocket2.pdb',\n",
       " '4ks7_pocket1.pdb',\n",
       " '4l00_pocket1.pdb',\n",
       " '4l00_pocket2.pdb',\n",
       " '4l42_pocket1.pdb',\n",
       " '4l42_pocket2.pdb',\n",
       " '4l6q_pocket1.pdb',\n",
       " '4lg4_pocket1.pdb',\n",
       " '4mwi_pocket1.pdb',\n",
       " '4nfn_pocket1.pdb',\n",
       " '4nst_pocket1.pdb',\n",
       " '4nw6_pocket1.pdb',\n",
       " '4oth_pocket1.pdb',\n",
       " '4pf4_pocket1.pdb',\n",
       " '4pwn_pocket1.pdb',\n",
       " '4qpm_pocket1.pdb',\n",
       " '4qpm_pocket2.pdb',\n",
       " '4qqt_pocket1.pdb',\n",
       " '4qtb_pocket1.pdb',\n",
       " '4qtb_pocket2.pdb',\n",
       " '4qtc_pocket1.pdb',\n",
       " '4r1v_pocket1.pdb',\n",
       " '4ra4_pocket1.pdb',\n",
       " '4tnd_pocket1.pdb',\n",
       " '4tnd_pocket2.pdb',\n",
       " '4tnd_pocket3.pdb',\n",
       " '4tnd_pocket4.pdb',\n",
       " '4usf_pocket1.pdb',\n",
       " '4w9w_pocket1.pdb',\n",
       " '4wb8_pocket1.pdb',\n",
       " '4wno_pocket1.pdb',\n",
       " '4x7k_pocket1.pdb',\n",
       " '4x7q_pocket1.pdb',\n",
       " '4y85_pocket1.pdb',\n",
       " '4y85_pocket2.pdb',\n",
       " '4y8d_pocket1.pdb',\n",
       " '4yfi_pocket1.pdb',\n",
       " '4yfi_pocket2.pdb',\n",
       " '4yhj_pocket1.pdb',\n",
       " '4yhj_pocket2.pdb',\n",
       " '4yhj_pocket3.pdb',\n",
       " '4yjr_pocket1.pdb',\n",
       " '4ylk_pocket1.pdb',\n",
       " '4ymj_pocket1.pdb',\n",
       " '4yno_pocket1.pdb',\n",
       " '4yz9_pocket1.pdb',\n",
       " '4z55_pocket1.pdb',\n",
       " '4z55_pocket2.pdb',\n",
       " '4zzn_pocket1.pdb',\n",
       " '4zzn_pocket2.pdb',\n",
       " '5ax9_pocket1.pdb',\n",
       " '5b2l_pocket1.pdb',\n",
       " '5byz_pocket1.pdb',\n",
       " '5cen_pocket1.pdb',\n",
       " '5e8s_pocket1.pdb',\n",
       " '5e8v_pocket1.pdb',\n",
       " '5efq_pocket1.pdb',\n",
       " '5ew8_pocket1.pdb',\n",
       " '5g6v_pocket1.pdb',\n",
       " '5grn_pocket1.pdb',\n",
       " '5grn_pocket2.pdb',\n",
       " '5h0b_pocket1.pdb',\n",
       " '5hu9_pocket1.pdb',\n",
       " '5hu9_pocket2.pdb',\n",
       " '5ita_pocket1.pdb',\n",
       " '5j5t_pocket1.pdb',\n",
       " '5j5t_pocket2.pdb',\n",
       " '5jfw_pocket1.pdb',\n",
       " '5jga_pocket1.pdb',\n",
       " '5jzj_pocket1.pdb',\n",
       " '5k00_pocket1.pdb',\n",
       " '5k00_pocket2.pdb',\n",
       " '5l6o_pocket1.pdb',\n",
       " '5l8l_pocket1.pdb',\n",
       " '5li9_pocket1.pdb',\n",
       " '5li9_pocket2.pdb',\n",
       " '5lqf_pocket1.pdb',\n",
       " '5lvo_pocket1.pdb',\n",
       " '5lwm_pocket1.pdb',\n",
       " '5lxc_pocket1.pdb',\n",
       " '5mja_pocket1.pdb',\n",
       " '5ng0_pocket1.pdb',\n",
       " '5nxd_pocket1.pdb',\n",
       " '5o0y_pocket1.pdb',\n",
       " '5o1v_pocket1.pdb',\n",
       " '5ote_pocket1.pdb',\n",
       " '5p9j_pocket1.pdb',\n",
       " '5te0_pocket1.pdb',\n",
       " '5te0_pocket2.pdb',\n",
       " '5u6b_pocket1.pdb',\n",
       " '5ug9_pocket1.pdb',\n",
       " '5uit_pocket1.pdb',\n",
       " '5uyj_pocket1.pdb',\n",
       " '5vcz_pocket1.pdb',\n",
       " '5vdk_pocket1.pdb',\n",
       " '5wne_pocket1.pdb',\n",
       " '5x5o_pocket1.pdb',\n",
       " '5xs2_pocket1.pdb',\n",
       " '5xs2_pocket2.pdb',\n",
       " '5y86_pocket1.pdb',\n",
       " '5yf9_pocket1.pdb',\n",
       " '5yks_pocket1.pdb',\n",
       " '6bfn_pocket1.pdb',\n",
       " '6bru_pocket1.pdb',\n",
       " '6bxi_pocket1.pdb',\n",
       " '6c0t_pocket1.pdb',\n",
       " '6c9d_pocket1.pdb',\n",
       " '6ccf_pocket1.pdb',\n",
       " '6cz4_pocket1.pdb',\n",
       " '6cz4_pocket2.pdb',\n",
       " '6eim_pocket1.pdb',\n",
       " '6eim_pocket2.pdb',\n",
       " '6fd3_pocket1.pdb',\n",
       " '6fdy_pocket1.pdb',\n",
       " '6fng_pocket1.pdb',\n",
       " '6fnk_pocket1.pdb',\n",
       " '6ft8_pocket1.pdb',\n",
       " '6fyl_pocket1.pdb',\n",
       " '6fyr_pocket1.pdb',\n",
       " '6fyv_pocket1.pdb',\n",
       " '6gzm_pocket1.pdb',\n",
       " '6op9_pocket1.pdb',\n",
       " '7aqb_pocket1.pdb']"
      ]
     },
     "execution_count": 27,
     "metadata": {},
     "output_type": "execute_result"
    }
   ],
   "source": [
    "total_pocks"
   ]
  },
  {
   "cell_type": "code",
   "execution_count": 7,
   "metadata": {},
   "outputs": [],
   "source": [
    "# simil_matrix = np.ones((len(total_pocks),len(total_pocks)))\n",
    "# simil_matrix = np.ones((len(total_pocks),len(total_pocks)))\n",
    "# for i in range(len(total_pocks)):\n",
    "#     for j in range(i+1,len(total_pocks)):\n",
    "#         print(str(i) +\" \"+ str(j)+\"   \"+str(total_pocks[i])+\" \"+str(total_pocks[j]),end=\"\\r\")\n",
    "#         command = \"./find_similarities.sh pockets70/\"+str(total_pocks[i])+\" pockets70/\"+str(total_pocks[j])\n",
    "# #         print(sp.getoutput(command))\n",
    "#         simil_matrix[i,j] = simil_matrix[j,i] = float(sp.getoutput(command))\n",
    "# #         simil_matrix[i,j] = simil_matrix[j,i] = float(sp.getoutput(\"./find_similarities.sh pocket10.pdb pocket8.pdb\"))"
   ]
  },
  {
   "cell_type": "code",
   "execution_count": 28,
   "metadata": {},
   "outputs": [],
   "source": [
    "simil_matrix = pd.read_excel('simil_matrix30_final.xlsx')\n",
    "simil_matrix = simil_matrix.drop(['Unnamed: 0'], axis=1)"
   ]
  },
  {
   "cell_type": "code",
   "execution_count": 29,
   "metadata": {},
   "outputs": [],
   "source": [
    "disim_conversion = lambda t: 1 - t\n",
    "disimil_matrix = disim_conversion(simil_matrix)"
   ]
  },
  {
   "cell_type": "code",
   "execution_count": 30,
   "metadata": {},
   "outputs": [
    {
     "data": {
      "text/html": [
       "<div>\n",
       "<style scoped>\n",
       "    .dataframe tbody tr th:only-of-type {\n",
       "        vertical-align: middle;\n",
       "    }\n",
       "\n",
       "    .dataframe tbody tr th {\n",
       "        vertical-align: top;\n",
       "    }\n",
       "\n",
       "    .dataframe thead th {\n",
       "        text-align: right;\n",
       "    }\n",
       "</style>\n",
       "<table border=\"1\" class=\"dataframe\">\n",
       "  <thead>\n",
       "    <tr style=\"text-align: right;\">\n",
       "      <th></th>\n",
       "      <th>0</th>\n",
       "      <th>1</th>\n",
       "      <th>2</th>\n",
       "      <th>3</th>\n",
       "      <th>4</th>\n",
       "      <th>5</th>\n",
       "      <th>6</th>\n",
       "      <th>7</th>\n",
       "      <th>8</th>\n",
       "      <th>9</th>\n",
       "      <th>...</th>\n",
       "      <th>266</th>\n",
       "      <th>267</th>\n",
       "      <th>268</th>\n",
       "      <th>269</th>\n",
       "      <th>270</th>\n",
       "      <th>271</th>\n",
       "      <th>272</th>\n",
       "      <th>273</th>\n",
       "      <th>274</th>\n",
       "      <th>275</th>\n",
       "    </tr>\n",
       "  </thead>\n",
       "  <tbody>\n",
       "    <tr>\n",
       "      <th>0</th>\n",
       "      <td>0.00000</td>\n",
       "      <td>0.81243</td>\n",
       "      <td>1.00000</td>\n",
       "      <td>0.85563</td>\n",
       "      <td>0.64824</td>\n",
       "      <td>0.75064</td>\n",
       "      <td>0.90988</td>\n",
       "      <td>0.68283</td>\n",
       "      <td>0.88259</td>\n",
       "      <td>0.86237</td>\n",
       "      <td>...</td>\n",
       "      <td>0.72379</td>\n",
       "      <td>0.73411</td>\n",
       "      <td>0.74061</td>\n",
       "      <td>0.87213</td>\n",
       "      <td>0.74235</td>\n",
       "      <td>0.70489</td>\n",
       "      <td>0.73853</td>\n",
       "      <td>0.75480</td>\n",
       "      <td>0.83235</td>\n",
       "      <td>0.72857</td>\n",
       "    </tr>\n",
       "    <tr>\n",
       "      <th>1</th>\n",
       "      <td>0.81243</td>\n",
       "      <td>0.00000</td>\n",
       "      <td>1.00000</td>\n",
       "      <td>0.84858</td>\n",
       "      <td>0.53176</td>\n",
       "      <td>0.61954</td>\n",
       "      <td>0.82821</td>\n",
       "      <td>0.60849</td>\n",
       "      <td>0.63961</td>\n",
       "      <td>0.83274</td>\n",
       "      <td>...</td>\n",
       "      <td>0.64579</td>\n",
       "      <td>0.59641</td>\n",
       "      <td>0.58089</td>\n",
       "      <td>1.00000</td>\n",
       "      <td>0.61287</td>\n",
       "      <td>0.60338</td>\n",
       "      <td>0.60151</td>\n",
       "      <td>0.67830</td>\n",
       "      <td>0.53244</td>\n",
       "      <td>0.61692</td>\n",
       "    </tr>\n",
       "    <tr>\n",
       "      <th>2</th>\n",
       "      <td>1.00000</td>\n",
       "      <td>1.00000</td>\n",
       "      <td>0.00000</td>\n",
       "      <td>0.84614</td>\n",
       "      <td>0.53596</td>\n",
       "      <td>0.51079</td>\n",
       "      <td>0.88530</td>\n",
       "      <td>1.00000</td>\n",
       "      <td>1.00000</td>\n",
       "      <td>0.79435</td>\n",
       "      <td>...</td>\n",
       "      <td>1.00000</td>\n",
       "      <td>1.00000</td>\n",
       "      <td>1.00000</td>\n",
       "      <td>0.50646</td>\n",
       "      <td>0.54051</td>\n",
       "      <td>0.58036</td>\n",
       "      <td>0.55496</td>\n",
       "      <td>1.00000</td>\n",
       "      <td>0.45071</td>\n",
       "      <td>1.00000</td>\n",
       "    </tr>\n",
       "    <tr>\n",
       "      <th>3</th>\n",
       "      <td>0.85563</td>\n",
       "      <td>0.84858</td>\n",
       "      <td>0.84614</td>\n",
       "      <td>0.00000</td>\n",
       "      <td>0.87495</td>\n",
       "      <td>0.82614</td>\n",
       "      <td>0.86552</td>\n",
       "      <td>0.83795</td>\n",
       "      <td>0.86961</td>\n",
       "      <td>0.87979</td>\n",
       "      <td>...</td>\n",
       "      <td>0.81617</td>\n",
       "      <td>0.82969</td>\n",
       "      <td>0.88110</td>\n",
       "      <td>0.85302</td>\n",
       "      <td>0.83548</td>\n",
       "      <td>0.86876</td>\n",
       "      <td>0.83688</td>\n",
       "      <td>0.82378</td>\n",
       "      <td>0.83978</td>\n",
       "      <td>0.87588</td>\n",
       "    </tr>\n",
       "    <tr>\n",
       "      <th>4</th>\n",
       "      <td>0.64824</td>\n",
       "      <td>0.53176</td>\n",
       "      <td>0.53596</td>\n",
       "      <td>0.87495</td>\n",
       "      <td>0.00000</td>\n",
       "      <td>0.41628</td>\n",
       "      <td>0.86974</td>\n",
       "      <td>0.56940</td>\n",
       "      <td>0.57650</td>\n",
       "      <td>0.84392</td>\n",
       "      <td>...</td>\n",
       "      <td>0.47961</td>\n",
       "      <td>0.60347</td>\n",
       "      <td>0.55960</td>\n",
       "      <td>0.40710</td>\n",
       "      <td>0.37040</td>\n",
       "      <td>0.32514</td>\n",
       "      <td>0.30593</td>\n",
       "      <td>0.61885</td>\n",
       "      <td>0.47749</td>\n",
       "      <td>0.84222</td>\n",
       "    </tr>\n",
       "    <tr>\n",
       "      <th>...</th>\n",
       "      <td>...</td>\n",
       "      <td>...</td>\n",
       "      <td>...</td>\n",
       "      <td>...</td>\n",
       "      <td>...</td>\n",
       "      <td>...</td>\n",
       "      <td>...</td>\n",
       "      <td>...</td>\n",
       "      <td>...</td>\n",
       "      <td>...</td>\n",
       "      <td>...</td>\n",
       "      <td>...</td>\n",
       "      <td>...</td>\n",
       "      <td>...</td>\n",
       "      <td>...</td>\n",
       "      <td>...</td>\n",
       "      <td>...</td>\n",
       "      <td>...</td>\n",
       "      <td>...</td>\n",
       "      <td>...</td>\n",
       "      <td>...</td>\n",
       "    </tr>\n",
       "    <tr>\n",
       "      <th>271</th>\n",
       "      <td>0.70489</td>\n",
       "      <td>0.60338</td>\n",
       "      <td>0.58036</td>\n",
       "      <td>0.86876</td>\n",
       "      <td>0.32514</td>\n",
       "      <td>0.39888</td>\n",
       "      <td>0.84216</td>\n",
       "      <td>0.54635</td>\n",
       "      <td>0.64744</td>\n",
       "      <td>0.87102</td>\n",
       "      <td>...</td>\n",
       "      <td>0.49362</td>\n",
       "      <td>0.54557</td>\n",
       "      <td>0.50186</td>\n",
       "      <td>0.40550</td>\n",
       "      <td>0.28839</td>\n",
       "      <td>0.00000</td>\n",
       "      <td>0.26356</td>\n",
       "      <td>0.56338</td>\n",
       "      <td>0.50601</td>\n",
       "      <td>0.61857</td>\n",
       "    </tr>\n",
       "    <tr>\n",
       "      <th>272</th>\n",
       "      <td>0.73853</td>\n",
       "      <td>0.60151</td>\n",
       "      <td>0.55496</td>\n",
       "      <td>0.83688</td>\n",
       "      <td>0.30593</td>\n",
       "      <td>0.27159</td>\n",
       "      <td>0.86403</td>\n",
       "      <td>0.60205</td>\n",
       "      <td>0.56354</td>\n",
       "      <td>0.81008</td>\n",
       "      <td>...</td>\n",
       "      <td>0.45742</td>\n",
       "      <td>0.64318</td>\n",
       "      <td>0.52827</td>\n",
       "      <td>0.21865</td>\n",
       "      <td>0.15904</td>\n",
       "      <td>0.26356</td>\n",
       "      <td>0.00000</td>\n",
       "      <td>0.63106</td>\n",
       "      <td>0.52621</td>\n",
       "      <td>0.83999</td>\n",
       "    </tr>\n",
       "    <tr>\n",
       "      <th>273</th>\n",
       "      <td>0.75480</td>\n",
       "      <td>0.67830</td>\n",
       "      <td>1.00000</td>\n",
       "      <td>0.82378</td>\n",
       "      <td>0.61885</td>\n",
       "      <td>0.79128</td>\n",
       "      <td>0.85971</td>\n",
       "      <td>0.66940</td>\n",
       "      <td>0.74250</td>\n",
       "      <td>0.85558</td>\n",
       "      <td>...</td>\n",
       "      <td>0.72470</td>\n",
       "      <td>0.73384</td>\n",
       "      <td>0.72319</td>\n",
       "      <td>1.00000</td>\n",
       "      <td>0.67997</td>\n",
       "      <td>0.56338</td>\n",
       "      <td>0.63106</td>\n",
       "      <td>0.00000</td>\n",
       "      <td>0.65285</td>\n",
       "      <td>0.73147</td>\n",
       "    </tr>\n",
       "    <tr>\n",
       "      <th>274</th>\n",
       "      <td>0.83235</td>\n",
       "      <td>0.53244</td>\n",
       "      <td>0.45071</td>\n",
       "      <td>0.83978</td>\n",
       "      <td>0.47749</td>\n",
       "      <td>0.51073</td>\n",
       "      <td>0.88741</td>\n",
       "      <td>0.57022</td>\n",
       "      <td>0.55299</td>\n",
       "      <td>0.84032</td>\n",
       "      <td>...</td>\n",
       "      <td>0.59369</td>\n",
       "      <td>0.60493</td>\n",
       "      <td>0.54736</td>\n",
       "      <td>0.51898</td>\n",
       "      <td>0.53704</td>\n",
       "      <td>0.50601</td>\n",
       "      <td>0.52621</td>\n",
       "      <td>0.65285</td>\n",
       "      <td>0.00000</td>\n",
       "      <td>0.55936</td>\n",
       "    </tr>\n",
       "    <tr>\n",
       "      <th>275</th>\n",
       "      <td>0.72857</td>\n",
       "      <td>0.61692</td>\n",
       "      <td>1.00000</td>\n",
       "      <td>0.87588</td>\n",
       "      <td>0.84222</td>\n",
       "      <td>0.82291</td>\n",
       "      <td>0.83564</td>\n",
       "      <td>0.54906</td>\n",
       "      <td>0.83463</td>\n",
       "      <td>0.85849</td>\n",
       "      <td>...</td>\n",
       "      <td>0.57642</td>\n",
       "      <td>0.69925</td>\n",
       "      <td>0.58345</td>\n",
       "      <td>0.65848</td>\n",
       "      <td>0.82645</td>\n",
       "      <td>0.61857</td>\n",
       "      <td>0.83999</td>\n",
       "      <td>0.73147</td>\n",
       "      <td>0.55936</td>\n",
       "      <td>0.00000</td>\n",
       "    </tr>\n",
       "  </tbody>\n",
       "</table>\n",
       "<p>276 rows × 276 columns</p>\n",
       "</div>"
      ],
      "text/plain": [
       "         0        1        2        3        4        5        6        7    \\\n",
       "0    0.00000  0.81243  1.00000  0.85563  0.64824  0.75064  0.90988  0.68283   \n",
       "1    0.81243  0.00000  1.00000  0.84858  0.53176  0.61954  0.82821  0.60849   \n",
       "2    1.00000  1.00000  0.00000  0.84614  0.53596  0.51079  0.88530  1.00000   \n",
       "3    0.85563  0.84858  0.84614  0.00000  0.87495  0.82614  0.86552  0.83795   \n",
       "4    0.64824  0.53176  0.53596  0.87495  0.00000  0.41628  0.86974  0.56940   \n",
       "..       ...      ...      ...      ...      ...      ...      ...      ...   \n",
       "271  0.70489  0.60338  0.58036  0.86876  0.32514  0.39888  0.84216  0.54635   \n",
       "272  0.73853  0.60151  0.55496  0.83688  0.30593  0.27159  0.86403  0.60205   \n",
       "273  0.75480  0.67830  1.00000  0.82378  0.61885  0.79128  0.85971  0.66940   \n",
       "274  0.83235  0.53244  0.45071  0.83978  0.47749  0.51073  0.88741  0.57022   \n",
       "275  0.72857  0.61692  1.00000  0.87588  0.84222  0.82291  0.83564  0.54906   \n",
       "\n",
       "         8        9    ...      266      267      268      269      270  \\\n",
       "0    0.88259  0.86237  ...  0.72379  0.73411  0.74061  0.87213  0.74235   \n",
       "1    0.63961  0.83274  ...  0.64579  0.59641  0.58089  1.00000  0.61287   \n",
       "2    1.00000  0.79435  ...  1.00000  1.00000  1.00000  0.50646  0.54051   \n",
       "3    0.86961  0.87979  ...  0.81617  0.82969  0.88110  0.85302  0.83548   \n",
       "4    0.57650  0.84392  ...  0.47961  0.60347  0.55960  0.40710  0.37040   \n",
       "..       ...      ...  ...      ...      ...      ...      ...      ...   \n",
       "271  0.64744  0.87102  ...  0.49362  0.54557  0.50186  0.40550  0.28839   \n",
       "272  0.56354  0.81008  ...  0.45742  0.64318  0.52827  0.21865  0.15904   \n",
       "273  0.74250  0.85558  ...  0.72470  0.73384  0.72319  1.00000  0.67997   \n",
       "274  0.55299  0.84032  ...  0.59369  0.60493  0.54736  0.51898  0.53704   \n",
       "275  0.83463  0.85849  ...  0.57642  0.69925  0.58345  0.65848  0.82645   \n",
       "\n",
       "         271      272      273      274      275  \n",
       "0    0.70489  0.73853  0.75480  0.83235  0.72857  \n",
       "1    0.60338  0.60151  0.67830  0.53244  0.61692  \n",
       "2    0.58036  0.55496  1.00000  0.45071  1.00000  \n",
       "3    0.86876  0.83688  0.82378  0.83978  0.87588  \n",
       "4    0.32514  0.30593  0.61885  0.47749  0.84222  \n",
       "..       ...      ...      ...      ...      ...  \n",
       "271  0.00000  0.26356  0.56338  0.50601  0.61857  \n",
       "272  0.26356  0.00000  0.63106  0.52621  0.83999  \n",
       "273  0.56338  0.63106  0.00000  0.65285  0.73147  \n",
       "274  0.50601  0.52621  0.65285  0.00000  0.55936  \n",
       "275  0.61857  0.83999  0.73147  0.55936  0.00000  \n",
       "\n",
       "[276 rows x 276 columns]"
      ]
     },
     "execution_count": 30,
     "metadata": {},
     "output_type": "execute_result"
    }
   ],
   "source": [
    "disimil_matrix"
   ]
  },
  {
   "cell_type": "markdown",
   "metadata": {},
   "source": [
    "## Clustering - Searching for number of clusters"
   ]
  },
  {
   "cell_type": "code",
   "execution_count": 31,
   "metadata": {},
   "outputs": [
    {
     "ename": "FileNotFoundError",
     "evalue": "[Errno 2] No such file or directory: 'Human_Kinases_Pockets_Sizes.txt'",
     "output_type": "error",
     "traceback": [
      "\u001b[0;31m---------------------------------------------------------------------------\u001b[0m",
      "\u001b[0;31mFileNotFoundError\u001b[0m                         Traceback (most recent call last)",
      "\u001b[0;32m<ipython-input-31-833945f1f70b>\u001b[0m in \u001b[0;36m<module>\u001b[0;34m\u001b[0m\n\u001b[1;32m      1\u001b[0m \u001b[0mpoc_size\u001b[0m \u001b[0;34m=\u001b[0m \u001b[0;34m[\u001b[0m\u001b[0;34m]\u001b[0m\u001b[0;34m\u001b[0m\u001b[0;34m\u001b[0m\u001b[0m\n\u001b[0;32m----> 2\u001b[0;31m \u001b[0;32mwith\u001b[0m \u001b[0mopen\u001b[0m\u001b[0;34m(\u001b[0m\u001b[0;34m'Human_Kinases_Pockets_Sizes.txt'\u001b[0m\u001b[0;34m,\u001b[0m\u001b[0;34m'r'\u001b[0m\u001b[0;34m)\u001b[0m \u001b[0;32mas\u001b[0m \u001b[0mf\u001b[0m\u001b[0;34m:\u001b[0m\u001b[0;34m\u001b[0m\u001b[0;34m\u001b[0m\u001b[0m\n\u001b[0m\u001b[1;32m      3\u001b[0m     \u001b[0;32mfor\u001b[0m \u001b[0mline\u001b[0m \u001b[0;32min\u001b[0m \u001b[0mf\u001b[0m\u001b[0;34m:\u001b[0m\u001b[0;34m\u001b[0m\u001b[0;34m\u001b[0m\u001b[0m\n\u001b[1;32m      4\u001b[0m         \u001b[0mcount\u001b[0m \u001b[0;34m=\u001b[0m \u001b[0;36m0\u001b[0m\u001b[0;34m\u001b[0m\u001b[0;34m\u001b[0m\u001b[0m\n\u001b[1;32m      5\u001b[0m         \u001b[0;32mfor\u001b[0m \u001b[0mword\u001b[0m \u001b[0;32min\u001b[0m \u001b[0mline\u001b[0m\u001b[0;34m.\u001b[0m\u001b[0msplit\u001b[0m\u001b[0;34m(\u001b[0m\u001b[0;34m\"||\"\u001b[0m\u001b[0;34m)\u001b[0m\u001b[0;34m:\u001b[0m\u001b[0;34m\u001b[0m\u001b[0;34m\u001b[0m\u001b[0m\n",
      "\u001b[0;31mFileNotFoundError\u001b[0m: [Errno 2] No such file or directory: 'Human_Kinases_Pockets_Sizes.txt'"
     ]
    }
   ],
   "source": [
    "poc_size = []\n",
    "with open('Human_Kinases_Pockets_Sizes.txt','r') as f:\n",
    "    for line in f:\n",
    "        count = 0\n",
    "        for word in line.split(\"||\"):\n",
    "            if count == 0:\n",
    "                name = word\n",
    "            elif count == 1:\n",
    "                name = name+\"_\"+word\n",
    "            elif count == 2:\n",
    "                siz = float(word)\n",
    "            count += 1\n",
    "        poc_size.append([name,siz])"
   ]
  },
  {
   "cell_type": "code",
   "execution_count": null,
   "metadata": {},
   "outputs": [],
   "source": [
    "kinase_names = []\n",
    "sizes = []\n",
    "count = 0\n",
    "for kinase in total_pocks:\n",
    "    kin_name = str(kinase[:4])+\"_\"+re.findall(r'[0-9]+', total_pocks[count][4:])[0]\n",
    "    kinase_names.append(kin_name)\n",
    "    for cen_poc in poc_size:\n",
    "        if cen_poc[0] == kin_name:\n",
    "            sizes.append(cen_poc[1])\n",
    "    count = count + 1"
   ]
  },
  {
   "cell_type": "code",
   "execution_count": null,
   "metadata": {},
   "outputs": [],
   "source": [
    "def create_manifold(labels):\n",
    "    final_clusters = []\n",
    "    final_clusters.append(kinase_names)\n",
    "    final_clusters.append(list(labels))\n",
    "    final_clusters = np.transpose(final_clusters)\n",
    "    data_pockets_manifold = pd.DataFrame(final_clusters, columns= ['Pockets', 'Clusters'])\n",
    "    data_pockets_manifold[\"x\"] = mds_coords[:,0]\n",
    "    data_pockets_manifold[\"y\"] = mds_coords[:,1]\n",
    "#     data_pockets_manifold[\"size\"] = sizes\n",
    "    return data_pockets_manifold"
   ]
  },
  {
   "cell_type": "code",
   "execution_count": null,
   "metadata": {},
   "outputs": [],
   "source": [
    "c=Counter([2,3,2,3,1,31,2])\n",
    "print(c.values())\n",
    "print(c)\n",
    "print(c[2])"
   ]
  },
  {
   "cell_type": "code",
   "execution_count": null,
   "metadata": {},
   "outputs": [],
   "source": [
    "def create_manifold_with_outliers(labels):\n",
    "    num_clust = len(np.unique(np.array(labels)))\n",
    "    c=Counter(labels)\n",
    "    \n",
    "    \n",
    "    final_clusters = []\n",
    "    final_clusters.append(kinase_names)\n",
    "    final_clusters.append(list(labels))\n",
    "    final_clusters = np.transpose(final_clusters)\n",
    "    data_pockets_manifold = pd.DataFrame(final_clusters, columns= ['Pockets', 'Clusters'])\n",
    "    data_pockets_manifold[\"x\"] = mds_coords[:,0]\n",
    "    data_pockets_manifold[\"y\"] = mds_coords[:,1]\n",
    "#     data_pockets_manifold[\"size\"] = sizes\n",
    "    \n",
    "    for i in range(num_clust):\n",
    "        if c[i]>25:\n",
    "            data_pockets_manifold = data_pockets_manifold[data_pockets_manifold[\"Clusters\"] != str(i)]\n",
    "   \n",
    "    return data_pockets_manifold"
   ]
  },
  {
   "cell_type": "code",
   "execution_count": null,
   "metadata": {},
   "outputs": [],
   "source": [
    "import numpy as np  \n",
    "from sklearn import metrics\n",
    "import scipy\n",
    "import matplotlib.pyplot as plt\n",
    "from sklearn import manifold  # multidimensional scaling\n",
    "from matplotlib.pyplot import figure\n",
    "\n"
   ]
  },
  {
   "cell_type": "code",
   "execution_count": 32,
   "metadata": {},
   "outputs": [],
   "source": [
    "def create_clusters_file(labels,clusters):\n",
    "    \n",
    "    final_clusters = []\n",
    "    final_clusters.append(kinase_names)\n",
    "    final_clusters.append(list(labels))\n",
    "    final_clusters = np.transpose(final_clusters)\n",
    "    df = pd.DataFrame(final_clusters, columns= ['Kinase', 'Cluster'])\n",
    "    num_clust = len(np.unique(np.array(labels)))\n",
    "    \n",
    "\n",
    "  \n",
    "    for i in range(num_clust):\n",
    "        df1 = df[df[\"Cluster\"] == str(i)]\n",
    "        df1.to_excel(\"Pockets30_Agglomerative/Cluster\"+str(clusters)+\"/Clusters_\"+str(i)+\".xlsx\", index = False, header=True)\n",
    "        \n",
    "    df.to_excel(\"Pockets30_Agglomerative/Pockets30_Clusters_\"+str(clusters)+\".xlsx\", index = False, header=True)\n"
   ]
  },
  {
   "cell_type": "code",
   "execution_count": 33,
   "metadata": {},
   "outputs": [],
   "source": [
    "def create_histogram(labels,i):\n",
    "# a histogram returns 3 objects : n (i.e. frequncies), bins, patches\n",
    "    freq, bins, patches = plt.hist(labels, edgecolor='white', label='kinases', bins=i)\n",
    "\n",
    "    # x coordinate for labels\n",
    "    bin_centers = np.diff(bins)*0.5 + bins[:-1]\n",
    "\n",
    "    n = 0\n",
    "    for fr, x, patch in zip(freq, bin_centers, patches):\n",
    "      height = int(freq[n])\n",
    "      plt.annotate(\"{}\".format(height),\n",
    "                   xy = (x, height),             # top left corner of the histogram bar\n",
    "                   xytext = (0,0.2),             # offsetting label position above its bar\n",
    "                   textcoords = \"offset points\", # Offset (in points) from the *xy* value\n",
    "                   ha = 'center', va = 'bottom'\n",
    "                   )\n",
    "      n = n+1\n",
    "\n",
    "    plt.legend()\n",
    "    plt.gca().set(title=str(i)+' Clusters Frequency Histogram', ylabel='Frequency');\n",
    "    plt.show"
   ]
  },
  {
   "cell_type": "code",
   "execution_count": 34,
   "metadata": {},
   "outputs": [],
   "source": [
    "mds_model = manifold.MDS(n_components = 2, random_state = 1,\n",
    "    dissimilarity = 'precomputed')\n",
    "mds_fit = mds_model.fit(disimil_matrix)  \n",
    "mds_coords = mds_model.fit_transform(disimil_matrix)"
   ]
  },
  {
   "cell_type": "code",
   "execution_count": 37,
   "metadata": {
    "scrolled": false
   },
   "outputs": [
    {
     "name": "stdout",
     "output_type": "stream",
     "text": [
      "Successfully created the directory /home/user/Documents/algorithms_in_structural_biology/Final/Pockets30_Agglomerative\n",
      "~~~~~~~~~~~~~~~~~~~~~~~~~~~~~~~~~~~~~~~~~~ Cluster 12 ~~~~~~~~~~~~~~~~~~~~~~~~~~~~~~~~~~~~~~~~~~~~~~~~~~~~~~\n"
     ]
    },
    {
     "data": {
      "application/vnd.plotly.v1+json": {
       "config": {
        "plotlyServerURL": "https://plot.ly"
       },
       "data": [
        {
         "customdata": [
          [
           "1blx_1"
          ],
          [
           "1byg_1"
          ],
          [
           "1fmk_1"
          ],
          [
           "1j1b_1"
          ],
          [
           "1o6l_1"
          ],
          [
           "1qpc_1"
          ],
          [
           "1s9i_1"
          ],
          [
           "1u59_1"
          ],
          [
           "1ua2_1"
          ],
          [
           "1wak_1"
          ],
          [
           "1x8b_1"
          ],
          [
           "1xjd_1"
          ],
          [
           "2a2a_1"
          ],
          [
           "2ac3_1"
          ],
          [
           "2buj_1"
          ],
          [
           "2cmw_1"
          ],
          [
           "2dq7_1"
          ],
          [
           "2dq7_2"
          ],
          [
           "2eva_1"
          ],
          [
           "2h6d_1"
          ],
          [
           "2hw6_1"
          ],
          [
           "2i0e_1"
          ],
          [
           "2izr_1"
          ],
          [
           "2j0i_1"
          ],
          [
           "2jam_1"
          ],
          [
           "2jc6_1"
          ],
          [
           "2qlu_1"
          ],
          [
           "2qol_1"
          ],
          [
           "2r2p_1"
          ],
          [
           "2r4b_1"
          ],
          [
           "2r5t_1"
          ],
          [
           "2rei_1"
          ],
          [
           "2rku_1"
          ],
          [
           "2vd5_1"
          ],
          [
           "2vz6_1"
          ],
          [
           "2w4o_1"
          ],
          [
           "2wel_1"
          ],
          [
           "2x7g_1"
          ],
          [
           "2xik_1"
          ],
          [
           "2xir_1"
          ],
          [
           "2xrw_1"
          ],
          [
           "2y4i_1"
          ],
          [
           "2y7j_1"
          ],
          [
           "2ycf_1"
          ],
          [
           "2yex_1"
          ],
          [
           "3a7i_1"
          ],
          [
           "3a99_1"
          ],
          [
           "3aln_1"
          ],
          [
           "3b2t_1"
          ],
          [
           "3bhh_1"
          ],
          [
           "3bhy_1"
          ],
          [
           "3brb_1"
          ],
          [
           "3bu3_1"
          ],
          [
           "3c0i_1"
          ],
          [
           "3cbl_1"
          ],
          [
           "3cc6_1"
          ],
          [
           "3cok_1"
          ],
          [
           "3com_1"
          ],
          [
           "3dls_1"
          ],
          [
           "3dtc_1"
          ],
          [
           "3eqc_1"
          ],
          [
           "3fe3_1"
          ],
          [
           "3fhr_1"
          ],
          [
           "3fme_1"
          ],
          [
           "3fxz_1"
          ],
          [
           "3g2f_1"
          ],
          [
           "3ggf_1"
          ],
          [
           "3gp0_1"
          ],
          [
           "3hmi_1"
          ],
          [
           "3hng_1"
          ],
          [
           "3iec_1"
          ],
          [
           "3kmu_1"
          ],
          [
           "3kul_1"
          ],
          [
           "3lco_1"
          ],
          [
           "3lm5_1"
          ],
          [
           "3lm5_2"
          ],
          [
           "3lxp_1"
          ],
          [
           "3m2w_1"
          ],
          [
           "3mdy_1"
          ],
          [
           "3mi9_1"
          ],
          [
           "3my0_1"
          ],
          [
           "3omv_1"
          ],
          [
           "3pls_1"
          ],
          [
           "3pp0_1"
          ],
          [
           "3q4u_1"
          ],
          [
           "3soc_1"
          ],
          [
           "3sxs_1"
          ],
          [
           "3txo_1"
          ],
          [
           "3ugc_1"
          ],
          [
           "3war_1"
          ],
          [
           "3zdu_1"
          ],
          [
           "3zfm_1"
          ],
          [
           "4aaa_1"
          ],
          [
           "4af3_1"
          ],
          [
           "4agu_1"
          ],
          [
           "4b6l_1"
          ],
          [
           "4b9d_1"
          ],
          [
           "4bgq_1"
          ],
          [
           "4bkj_1"
          ],
          [
           "4ckj_1"
          ],
          [
           "4crs_1"
          ],
          [
           "4euu_1"
          ],
          [
           "4f9c_1"
          ],
          [
           "4fg8_1"
          ],
          [
           "4fkl_1"
          ],
          [
           "4fr4_1"
          ],
          [
           "4gv1_1"
          ],
          [
           "4hcu_1"
          ],
          [
           "4hni_1"
          ],
          [
           "4hvs_1"
          ],
          [
           "4hzr_1"
          ],
          [
           "4i4e_1"
          ],
          [
           "4i5p_1"
          ],
          [
           "4idt_1"
          ],
          [
           "4iir_1"
          ],
          [
           "4js8_1"
          ],
          [
           "4k33_1"
          ],
          [
           "4kik_1"
          ],
          [
           "4kik_2"
          ],
          [
           "4ks7_1"
          ],
          [
           "4l00_2"
          ],
          [
           "4l42_2"
          ],
          [
           "4l6q_1"
          ],
          [
           "4lg4_1"
          ],
          [
           "4mwi_1"
          ],
          [
           "4nfn_1"
          ],
          [
           "4nst_1"
          ],
          [
           "4nw6_1"
          ],
          [
           "4oth_1"
          ],
          [
           "4pf4_1"
          ],
          [
           "4pwn_1"
          ],
          [
           "4qpm_1"
          ],
          [
           "4qqt_1"
          ],
          [
           "4qtb_1"
          ],
          [
           "4qtc_1"
          ],
          [
           "4r1v_1"
          ],
          [
           "4ra4_1"
          ],
          [
           "4tnd_2"
          ],
          [
           "4usf_1"
          ],
          [
           "4w9w_1"
          ],
          [
           "4wb8_1"
          ],
          [
           "4wno_1"
          ],
          [
           "4x7k_1"
          ],
          [
           "4x7q_1"
          ],
          [
           "4y85_1"
          ],
          [
           "4y8d_1"
          ],
          [
           "4yfi_1"
          ],
          [
           "4yhj_1"
          ],
          [
           "4yjr_1"
          ],
          [
           "4ylk_1"
          ],
          [
           "4yno_1"
          ],
          [
           "4z55_1"
          ],
          [
           "4zzn_1"
          ],
          [
           "5ax9_1"
          ],
          [
           "5b2l_1"
          ],
          [
           "5byz_1"
          ],
          [
           "5cen_1"
          ],
          [
           "5e8s_1"
          ],
          [
           "5e8v_1"
          ],
          [
           "5efq_1"
          ],
          [
           "5ew8_1"
          ],
          [
           "5g6v_1"
          ],
          [
           "5grn_1"
          ],
          [
           "5h0b_1"
          ],
          [
           "5hu9_1"
          ],
          [
           "5ita_1"
          ],
          [
           "5j5t_1"
          ],
          [
           "5jfw_1"
          ],
          [
           "5jga_1"
          ],
          [
           "5jzj_1"
          ],
          [
           "5k00_2"
          ],
          [
           "5l6o_1"
          ],
          [
           "5l8l_1"
          ],
          [
           "5li9_1"
          ],
          [
           "5lqf_1"
          ],
          [
           "5lvo_1"
          ],
          [
           "5lwm_1"
          ],
          [
           "5lxc_1"
          ],
          [
           "5mja_1"
          ],
          [
           "5ng0_1"
          ],
          [
           "5nxd_1"
          ],
          [
           "5o0y_1"
          ],
          [
           "5o1v_1"
          ],
          [
           "5ote_1"
          ],
          [
           "5p9j_1"
          ],
          [
           "5te0_1"
          ],
          [
           "5te0_2"
          ],
          [
           "5u6b_1"
          ],
          [
           "5ug9_1"
          ],
          [
           "5uit_1"
          ],
          [
           "5uyj_1"
          ],
          [
           "5vcz_1"
          ],
          [
           "5vdk_1"
          ],
          [
           "5wne_1"
          ],
          [
           "5x5o_1"
          ],
          [
           "5xs2_1"
          ],
          [
           "5y86_1"
          ],
          [
           "5yf9_1"
          ],
          [
           "5yks_1"
          ],
          [
           "6bfn_1"
          ],
          [
           "6bxi_1"
          ],
          [
           "6c0t_1"
          ],
          [
           "6c9d_1"
          ],
          [
           "6ccf_1"
          ],
          [
           "6cz4_1"
          ],
          [
           "6eim_1"
          ],
          [
           "6fd3_1"
          ],
          [
           "6fdy_1"
          ],
          [
           "6fng_1"
          ],
          [
           "6fnk_1"
          ],
          [
           "6ft8_1"
          ],
          [
           "6fyl_1"
          ],
          [
           "6fyr_1"
          ],
          [
           "6fyv_1"
          ],
          [
           "6gzm_1"
          ],
          [
           "6op9_1"
          ],
          [
           "7aqb_1"
          ]
         ],
         "hovertemplate": "Clusters=2<br>x=%{x}<br>y=%{y}<br>Pockets=%{customdata[0]}<extra></extra>",
         "legendgroup": "2",
         "marker": {
          "color": "#636efa",
          "symbol": "circle"
         },
         "mode": "markers",
         "name": "2",
         "orientation": "v",
         "showlegend": true,
         "type": "scatter",
         "x": [
          0.5961276418885346,
          0.2974440303203414,
          0.11443892299709645,
          0.146720080779309,
          0.20411135235648586,
          -0.1666629106723333,
          -0.2845426837878479,
          0.2894930321974563,
          -0.243045576641394,
          -0.020809278955456027,
          -0.042522697153416826,
          0.21781508295524263,
          0.21819619065024012,
          -0.6131260651606313,
          -0.2628575178998163,
          0.38670140310092144,
          0.1736318694111562,
          0.5988999842008791,
          0.11581640096515368,
          -0.1067058898671473,
          -0.6113170141352195,
          0.2744230825977126,
          0.3170191497111721,
          -0.025826894859162123,
          0.5905060558541326,
          0.41063429754172814,
          -0.22277299890236668,
          -0.33024971092343103,
          -0.28946446689645117,
          -0.10279157066237873,
          0.3722291957738864,
          -0.20261570404322152,
          0.31729630205282455,
          0.19962488692885477,
          0.09624495148605619,
          0.4267148779355718,
          -0.19259217594291925,
          -0.0748523824787368,
          0.018879460580682718,
          -0.35833929515996454,
          -0.1184047701695428,
          -0.21052989305791264,
          0.1650155328352711,
          -0.11382349121210909,
          -0.02216101044932757,
          -0.056227756858023406,
          0.11194027810935926,
          0.25701291695583006,
          0.05028392138287262,
          0.43408699326620487,
          0.16395373477431077,
          0.15060216768095305,
          -0.06545219633126202,
          0.30400030547726603,
          0.36196885722098343,
          0.5527746468602448,
          0.12507028906539022,
          -0.3252963009264483,
          0.4672499993203468,
          -0.041523742835097396,
          0.28056036781375876,
          0.5271569885821036,
          0.41103894430019666,
          0.11683750432551818,
          -0.4758490160539273,
          0.42464526109693135,
          -0.2364630543465834,
          -0.4317435041601726,
          -0.2774429498196382,
          -0.36413010581214367,
          -0.09078017703913907,
          -0.14258705145736475,
          -0.22452419013705188,
          -0.28811139907924443,
          0.17965089520712735,
          -0.24565409519634746,
          -0.1615992661930536,
          0.44049510156272426,
          -0.12599783290861508,
          -0.08976246062192487,
          0.07188729409485806,
          -0.3704940014840577,
          -0.10965008583227445,
          -0.2388541573569877,
          -0.02288154974000241,
          0.1294474046555576,
          0.19099678867616812,
          0.3649576851005545,
          -0.3930577739108597,
          0.048751811441543016,
          0.0782062836805481,
          -0.44764426507973953,
          0.4738355241942323,
          -0.17671429324332172,
          0.17757130011058908,
          -0.025240804320925434,
          -0.42948604527542944,
          -0.0018455029354667344,
          -0.5119378390390801,
          0.19269618956469217,
          0.22270034677181508,
          0.04408671078989062,
          0.42728990136726885,
          0.5372105183439019,
          -0.19060318172727234,
          0.06963556734257019,
          0.17118292041713437,
          -0.1958721429178437,
          0.09050574358601426,
          -0.5169650241117959,
          0.21700456232646528,
          -0.028709148309540578,
          -0.12782983624696748,
          -0.10105966383178054,
          0.2954727188737259,
          -0.3897075901427829,
          -0.0511860093117504,
          0.30977584346154036,
          0.1362974520828646,
          -0.05379303077219151,
          -0.49246654515765487,
          -0.22880509425228307,
          0.16202204139908252,
          -0.3012768162061902,
          -0.024229934651746252,
          -0.09171891048792545,
          0.28212704180488773,
          0.2088100557879533,
          0.21362756298829805,
          0.25025132306190084,
          0.5947437711985748,
          0.02282339391248028,
          -0.2085895293294772,
          0.029100293713681013,
          0.28152580890698803,
          -0.47597292015817194,
          0.43915780883449856,
          -0.06866822852281108,
          -0.5452893002360485,
          0.021382817923787545,
          0.27707226330817053,
          0.11904419025454277,
          -0.16818353015546686,
          0.28730576089916915,
          -0.15457966242713983,
          0.3441820416992452,
          -0.12722184383643997,
          -0.22138917710195852,
          -0.08077223947845884,
          0.05488117070979766,
          0.08325451760351438,
          -0.1959527520628259,
          -0.041056388673854326,
          0.010286300344762727,
          -0.2842715511229391,
          0.3271879326312918,
          -0.3703871572457089,
          -0.09572317025058218,
          0.035732668759193835,
          0.2680182928767071,
          -0.2844937539630983,
          -0.42068606838938394,
          -0.40735097787403984,
          0.08194812292942893,
          -0.35930250991885493,
          0.17857804187722812,
          -0.00010886144979932616,
          -0.3470114768522996,
          0.13901443879027642,
          0.0960917193680434,
          0.03278933347869022,
          0.2604441876143419,
          -0.07349808650326244,
          0.24792452847786248,
          0.08617917048150667,
          0.054946826568103,
          0.21743638528432951,
          0.19134039326656863,
          0.23975324960128225,
          0.07437220898674202,
          0.5189384096392753,
          0.4582749513056445,
          -0.21491804976080903,
          0.1437711027628745,
          -0.18659589870169477,
          0.04384289330928173,
          -0.4109939857193766,
          0.45121417104045747,
          0.05113162914604862,
          0.3696187519350215,
          0.3601272697625068,
          0.03579151174518896,
          0.0439939880292386,
          0.12474400990873753,
          -0.3013093081583096,
          0.14394870800948656,
          0.11522506037217076,
          0.06913892133152376,
          -0.15549323266253412,
          -0.46160472589647594,
          0.2731775330875275,
          0.2587853245902673,
          0.11246956891541383,
          0.16767508669741124,
          -0.4240008242049854,
          -0.4649646519741768,
          -0.006050506943123186,
          -0.16877796549969618,
          -0.3978151948376718,
          -0.17878402050637965,
          0.05676489792711935,
          0.07624359098767244,
          0.09233228385158473,
          0.15144863706927902,
          0.3813045300566796,
          0.1921741980676372,
          -0.08113525666176062
         ],
         "xaxis": "x",
         "y": [
          -0.33576594701830204,
          -0.2557240840679336,
          0.6508123994315878,
          -0.017323879576764328,
          0.19990805411790333,
          -0.3346200316254367,
          0.16998390303124042,
          -0.13698988221264455,
          0.08876242248718635,
          0.33128587890898603,
          0.0017008145489158931,
          -0.39545285014294673,
          0.16193221656471624,
          -0.31148518507681555,
          -0.2928421883603981,
          0.028724105823720154,
          -0.36107066901493096,
          0.24202434900550476,
          -0.47182307595037226,
          0.5057177012234702,
          -0.2418648530146871,
          -0.4777792033266974,
          -0.18027422323301984,
          -0.12702149255619058,
          -0.25972435216385437,
          0.17722187811522713,
          -0.45110128854420245,
          -0.23798405064120942,
          -0.11264180654873061,
          -0.18814403058792328,
          -0.04563483980285045,
          -0.21977017152021439,
          -0.4891008024592797,
          0.09485463012637546,
          -0.5398696980015392,
          -0.2080684566507264,
          -0.5728603219001582,
          0.2112631212221309,
          -0.33260169426879943,
          -0.16752029614082728,
          0.19705460304006178,
          0.2553274710440096,
          -0.09362038703189504,
          0.05880101394198003,
          -0.351484666113025,
          -0.23454609168947846,
          0.15503209209210647,
          0.295967577316615,
          -0.07434372346852829,
          -0.36303911901289876,
          0.02502928699001867,
          -0.5918996831692511,
          -0.5584875961565481,
          0.0026893591315200163,
          -0.19751402622553124,
          -0.16223668466270208,
          -0.14217251524010727,
          -0.45860246002657334,
          -0.3395697599465683,
          -0.1630738565320339,
          0.14125708072403775,
          -0.12316724762185952,
          0.07187459468250686,
          -0.5855265969998558,
          -0.08047480137263005,
          -0.008399147593378163,
          0.011471302141179009,
          -0.30092944363383656,
          -0.19774019396682632,
          -0.10975134236989781,
          -0.426055588245707,
          0.3936225480032141,
          -0.3645636656794383,
          -0.31075946284588907,
          -0.32979213584516925,
          0.4930810472509544,
          -0.40227685211524167,
          -0.13788280294979516,
          -0.25456337909006505,
          -0.49214743471169603,
          0.7063047385250821,
          -0.19299996523070811,
          -0.11382645400136343,
          -0.3330040035085667,
          0.1673236850962502,
          0.7500719014885926,
          -0.4763988904448907,
          -0.11186392853012768,
          -0.08008572374518748,
          0.23672917888528616,
          -0.21534431259528022,
          -0.35029214599572706,
          -0.21234117026688243,
          -0.545997251221438,
          -0.1769561712747364,
          0.10392351018865888,
          -0.41106874297672935,
          -0.41939028609525175,
          0.10953784552936964,
          -0.013217559326895535,
          0.14952556427264455,
          0.10129823822307138,
          -0.2662260389253663,
          -0.06734975922456339,
          0.10307760114771063,
          -0.35556161984638796,
          0.11028063635616454,
          0.006935747631670587,
          -0.6023962168308777,
          -0.11646336807370532,
          -0.5288247096347914,
          -0.49503404004275825,
          0.14455993971014988,
          -0.41863176570666333,
          -0.35086520356705475,
          -0.2856829094391005,
          0.02907428242119336,
          0.566712308870896,
          -0.38285463775444645,
          0.11745170000410117,
          -0.2828292431518668,
          -0.5204248298776573,
          0.1573569398461829,
          -0.1712341178933716,
          -0.04448586513355716,
          0.24199449139612605,
          0.02411121577927025,
          -0.49985232280482667,
          -0.11035682184311948,
          0.20860374967771872,
          -0.22188109919656732,
          0.20874936334699437,
          -0.09803691833463957,
          -0.03416361013482603,
          0.06751442104692276,
          -0.4047131304424597,
          -0.3966175121447739,
          0.6450058901729349,
          -0.0514849155255243,
          0.007465117173862611,
          0.1067962840276667,
          -0.050953037706135,
          0.30603261493726275,
          -0.43734148292200886,
          -0.6178067365197195,
          -0.35004984462142785,
          -0.2825541586392096,
          0.39595487265855983,
          -0.5668493913221563,
          0.05763819643652973,
          -0.26453620294177294,
          -0.3427630153226153,
          -0.4261641409023441,
          -0.5009752244676318,
          -0.5049004676385727,
          -0.41675025930243004,
          -0.48595579129108735,
          -0.31797098839328364,
          -0.12977039262752785,
          -0.03192033722896516,
          -0.39809845757103274,
          -0.47671315861203567,
          0.076065213931721,
          0.5872478166376882,
          -0.337186801444862,
          -0.29674052147181385,
          -0.3073708864037899,
          0.11796714361979427,
          -0.43223343474331577,
          0.26609207943041935,
          -0.5300752961658491,
          -0.5841707266255164,
          -0.08008942237221436,
          0.07911781941120843,
          -0.1546299845686779,
          0.008819231777131138,
          0.2660817078956108,
          0.06198211200336022,
          -0.3564426926140439,
          -0.43345982309029585,
          -0.03736518121594413,
          0.04594880191015461,
          -0.03553999361852808,
          0.22985721249432103,
          -0.1968829365952152,
          -0.3886147040383988,
          0.502752305319207,
          -0.2910304747894153,
          -0.17003755141316454,
          -0.41587904981563467,
          -0.3066346446803659,
          0.12670706396455594,
          -0.2588465520656011,
          0.13345149477479554,
          0.009220036559510234,
          0.3289953012369758,
          0.07454352948713738,
          -0.633945933861569,
          -0.5164732791157879,
          -0.246887294901041,
          0.3305206909850317,
          0.1736735428160602,
          0.2783108716178258,
          -0.22480723353861354,
          0.0379632316634156,
          -0.17283358855278558,
          0.07063309963138188,
          0.06342343937769475,
          -0.062111520586599286,
          -0.049796076380394565,
          0.3716263617790039,
          0.051034221233757934,
          0.020591414621243375,
          0.05744492777784249,
          -0.47559126377849276,
          -0.06620156692157535,
          -0.5178247172241304
         ],
         "yaxis": "y"
        },
        {
         "customdata": [
          [
           "1fmk_2"
          ],
          [
           "2xir_2"
          ],
          [
           "2y4i_3"
          ],
          [
           "3aln_2"
          ],
          [
           "3gp0_2"
          ],
          [
           "3hng_2"
          ],
          [
           "4agu_2"
          ],
          [
           "4itj_1"
          ],
          [
           "4y85_2"
          ],
          [
           "4yz9_1"
          ],
          [
           "5hu9_2"
          ]
         ],
         "hovertemplate": "Clusters=1<br>x=%{x}<br>y=%{y}<br>Pockets=%{customdata[0]}<extra></extra>",
         "legendgroup": "1",
         "marker": {
          "color": "#EF553B",
          "symbol": "circle"
         },
         "mode": "markers",
         "name": "1",
         "orientation": "v",
         "showlegend": true,
         "type": "scatter",
         "x": [
          -0.38969898792819546,
          -0.5742605279897315,
          -0.7414243106744272,
          -0.6944743794021253,
          -0.645914139109909,
          -0.6175503837024517,
          -0.7042511579383056,
          -0.6917892563530911,
          -0.6356206567680075,
          -0.7253753356891217,
          0.6306744864029277
         ],
         "xaxis": "x",
         "y": [
          0.5113798194075608,
          0.34726411075075914,
          0.03899822726129575,
          0.1083701122142418,
          0.21431288887642197,
          0.2815800890438085,
          -0.019321480417340522,
          0.03633105142600484,
          0.1529442496094333,
          -0.10044916333582966,
          0.15943007297688802
         ],
         "yaxis": "y"
        },
        {
         "customdata": [
          [
           "1p4o_1"
          ],
          [
           "1tki_1"
          ],
          [
           "1u59_2"
          ],
          [
           "1vzo_1"
          ],
          [
           "2acx_1"
          ],
          [
           "2acx_2"
          ],
          [
           "2vz6_2"
          ],
          [
           "2wel_2"
          ],
          [
           "3dtc_2"
          ],
          [
           "3e7o_1"
          ],
          [
           "3hmi_2"
          ],
          [
           "3iec_2"
          ],
          [
           "3kmu_2"
          ],
          [
           "3q4u_2"
          ],
          [
           "4l42_1"
          ],
          [
           "4tnd_3"
          ],
          [
           "4tnd_4"
          ],
          [
           "4yhj_2"
          ],
          [
           "4z55_2"
          ]
         ],
         "hovertemplate": "Clusters=0<br>x=%{x}<br>y=%{y}<br>Pockets=%{customdata[0]}<extra></extra>",
         "legendgroup": "0",
         "marker": {
          "color": "#00cc96",
          "symbol": "circle"
         },
         "mode": "markers",
         "name": "0",
         "orientation": "v",
         "showlegend": true,
         "type": "scatter",
         "x": [
          0.371458425580335,
          0.4196163396166567,
          0.5132723757103552,
          -0.5686392840153324,
          0.29609339141974483,
          -0.10177214463268368,
          0.4514598992620987,
          -0.3836823890686169,
          -0.23528108179763846,
          0.5002979221219399,
          0.6241622044705679,
          0.1997981463497105,
          0.6067224953988821,
          -0.2994894692880347,
          -0.6032115197104501,
          -0.018953223522472674,
          -0.47496626706666173,
          -0.42660398985998915,
          -0.2703961383151004
         ],
         "xaxis": "x",
         "y": [
          0.584782425042664,
          0.5454357725591823,
          0.4612600829016872,
          0.3205038759933024,
          0.6269703932031393,
          0.7857656613508469,
          0.5411426727591155,
          0.5646526595196596,
          0.7596214976236707,
          0.5033137976783609,
          0.3346655220759087,
          0.6239779841641164,
          0.3757606742693309,
          0.5953790333234537,
          0.275598543915919,
          0.7515861392929194,
          0.3922942855861326,
          0.418265943466759,
          0.5771749004776126
         ],
         "yaxis": "y"
        },
        {
         "customdata": [
          [
           "1xjd_2"
          ],
          [
           "3v5w_3"
          ],
          [
           "4tnd_1"
          ],
          [
           "4yhj_3"
          ],
          [
           "5k00_1"
          ]
         ],
         "hovertemplate": "Clusters=7<br>x=%{x}<br>y=%{y}<br>Pockets=%{customdata[0]}<extra></extra>",
         "legendgroup": "7",
         "marker": {
          "color": "#ab63fa",
          "symbol": "circle"
         },
         "mode": "markers",
         "name": "7",
         "orientation": "v",
         "showlegend": true,
         "type": "scatter",
         "x": [
          0.18800932357354508,
          0.0287186198247884,
          -0.5063029972071663,
          -0.06465061389877455,
          0.25945045820535007
         ],
         "xaxis": "x",
         "y": [
          0.6693856036085792,
          0.8090694968602165,
          0.4152838405987932,
          0.8128771410026626,
          0.6203562311181358
         ],
         "yaxis": "y"
        },
        {
         "customdata": [
          [
           "2f57_1"
          ],
          [
           "4asz_1"
          ],
          [
           "4asz_2"
          ],
          [
           "4asz_3"
          ],
          [
           "4ymj_1"
          ]
         ],
         "hovertemplate": "Clusters=4<br>x=%{x}<br>y=%{y}<br>Pockets=%{customdata[0]}<extra></extra>",
         "legendgroup": "4",
         "marker": {
          "color": "#FFA15A",
          "symbol": "circle"
         },
         "mode": "markers",
         "name": "4",
         "orientation": "v",
         "showlegend": true,
         "type": "scatter",
         "x": [
          -0.5841801746247878,
          0.8765688952097321,
          -0.8221303077876737,
          -0.9022054539497001,
          -0.7182089750739988
         ],
         "xaxis": "x",
         "y": [
          0.6598976436949139,
          0.23726144932573204,
          0.3590777928094316,
          0.0790033067989181,
          0.5296987784226596
         ],
         "yaxis": "y"
        },
        {
         "customdata": [
          [
           "2fst_1"
          ],
          [
           "4qtb_2"
          ],
          [
           "4zzn_2"
          ]
         ],
         "hovertemplate": "Clusters=8<br>x=%{x}<br>y=%{y}<br>Pockets=%{customdata[0]}<extra></extra>",
         "legendgroup": "8",
         "marker": {
          "color": "#19d3f3",
          "symbol": "circle"
         },
         "mode": "markers",
         "name": "8",
         "orientation": "v",
         "showlegend": true,
         "type": "scatter",
         "x": [
          0.28042360031413444,
          -0.20763555382828658,
          -0.17980929496148534
         ],
         "xaxis": "x",
         "y": [
          0.7612742620899166,
          0.7198732892271611,
          0.7055900387542041
         ],
         "yaxis": "y"
        },
        {
         "customdata": [
          [
           "2y4i_2"
          ],
          [
           "4crs_2"
          ],
          [
           "5li9_2"
          ]
         ],
         "hovertemplate": "Clusters=9<br>x=%{x}<br>y=%{y}<br>Pockets=%{customdata[0]}<extra></extra>",
         "legendgroup": "9",
         "marker": {
          "color": "#FF6692",
          "symbol": "circle"
         },
         "mode": "markers",
         "name": "9",
         "orientation": "v",
         "showlegend": true,
         "type": "scatter",
         "x": [
          -0.7210088535564654,
          0.679051433420849,
          0.712459571475474
         ],
         "xaxis": "x",
         "y": [
          -0.062220781362327546,
          0.18738714991358735,
          0.08174355632946526
         ],
         "yaxis": "y"
        },
        {
         "customdata": [
          [
           "3s95_1"
          ],
          [
           "3soc_2"
          ],
          [
           "3v5w_1"
          ],
          [
           "6bru_1"
          ]
         ],
         "hovertemplate": "Clusters=3<br>x=%{x}<br>y=%{y}<br>Pockets=%{customdata[0]}<extra></extra>",
         "legendgroup": "3",
         "marker": {
          "color": "#B6E880",
          "symbol": "circle"
         },
         "mode": "markers",
         "name": "3",
         "orientation": "v",
         "showlegend": true,
         "type": "scatter",
         "x": [
          -0.32276182844201246,
          0.2247170385159515,
          0.06251849271699142,
          0.5578631726506524
         ],
         "xaxis": "x",
         "y": [
          0.7906720521585726,
          0.7931133567532067,
          0.46329154684738316,
          0.3795658045105587
         ],
         "yaxis": "y"
        },
        {
         "customdata": [
          [
           "3v5w_2"
          ]
         ],
         "hovertemplate": "Clusters=11<br>x=%{x}<br>y=%{y}<br>Pockets=%{customdata[0]}<extra></extra>",
         "legendgroup": "11",
         "marker": {
          "color": "#FF97FF",
          "symbol": "circle"
         },
         "mode": "markers",
         "name": "11",
         "orientation": "v",
         "showlegend": true,
         "type": "scatter",
         "x": [
          0.42291211256416517
         ],
         "xaxis": "x",
         "y": [
          0.7480841857104454
         ],
         "yaxis": "y"
        },
        {
         "customdata": [
          [
           "4l00_1"
          ],
          [
           "6cz4_2"
          ]
         ],
         "hovertemplate": "Clusters=10<br>x=%{x}<br>y=%{y}<br>Pockets=%{customdata[0]}<extra></extra>",
         "legendgroup": "10",
         "marker": {
          "color": "#FECB52",
          "symbol": "circle"
         },
         "mode": "markers",
         "name": "10",
         "orientation": "v",
         "showlegend": true,
         "type": "scatter",
         "x": [
          0.4679207829898299,
          -0.05053508901397303
         ],
         "xaxis": "x",
         "y": [
          0.4774889447181482,
          0.6406517217609907
         ],
         "yaxis": "y"
        },
        {
         "customdata": [
          [
           "4qpm_2"
          ],
          [
           "4yfi_2"
          ],
          [
           "5grn_2"
          ],
          [
           "5j5t_2"
          ],
          [
           "6eim_2"
          ]
         ],
         "hovertemplate": "Clusters=5<br>x=%{x}<br>y=%{y}<br>Pockets=%{customdata[0]}<extra></extra>",
         "legendgroup": "5",
         "marker": {
          "color": "#636efa",
          "symbol": "circle"
         },
         "mode": "markers",
         "name": "5",
         "orientation": "v",
         "showlegend": true,
         "type": "scatter",
         "x": [
          0.5645460402463665,
          0.6633026572537147,
          -0.49151317810315015,
          -0.508462271956095,
          0.729582707498679
         ],
         "xaxis": "x",
         "y": [
          0.44236245669546564,
          0.2859610901681443,
          0.48923717101056613,
          0.46354443099003934,
          0.06633993632906818
         ],
         "yaxis": "y"
        },
        {
         "customdata": [
          [
           "5xs2_2"
          ]
         ],
         "hovertemplate": "Clusters=6<br>x=%{x}<br>y=%{y}<br>Pockets=%{customdata[0]}<extra></extra>",
         "legendgroup": "6",
         "marker": {
          "color": "#EF553B",
          "symbol": "circle"
         },
         "mode": "markers",
         "name": "6",
         "orientation": "v",
         "showlegend": true,
         "type": "scatter",
         "x": [
          -0.3470184252209653
         ],
         "xaxis": "x",
         "y": [
          0.5998500424556092
         ],
         "yaxis": "y"
        }
       ],
       "layout": {
        "legend": {
         "title": {
          "text": "Clusters"
         },
         "tracegroupgap": 0
        },
        "template": {
         "data": {
          "bar": [
           {
            "error_x": {
             "color": "#2a3f5f"
            },
            "error_y": {
             "color": "#2a3f5f"
            },
            "marker": {
             "line": {
              "color": "#E5ECF6",
              "width": 0.5
             }
            },
            "type": "bar"
           }
          ],
          "barpolar": [
           {
            "marker": {
             "line": {
              "color": "#E5ECF6",
              "width": 0.5
             }
            },
            "type": "barpolar"
           }
          ],
          "carpet": [
           {
            "aaxis": {
             "endlinecolor": "#2a3f5f",
             "gridcolor": "white",
             "linecolor": "white",
             "minorgridcolor": "white",
             "startlinecolor": "#2a3f5f"
            },
            "baxis": {
             "endlinecolor": "#2a3f5f",
             "gridcolor": "white",
             "linecolor": "white",
             "minorgridcolor": "white",
             "startlinecolor": "#2a3f5f"
            },
            "type": "carpet"
           }
          ],
          "choropleth": [
           {
            "colorbar": {
             "outlinewidth": 0,
             "ticks": ""
            },
            "type": "choropleth"
           }
          ],
          "contour": [
           {
            "colorbar": {
             "outlinewidth": 0,
             "ticks": ""
            },
            "colorscale": [
             [
              0,
              "#0d0887"
             ],
             [
              0.1111111111111111,
              "#46039f"
             ],
             [
              0.2222222222222222,
              "#7201a8"
             ],
             [
              0.3333333333333333,
              "#9c179e"
             ],
             [
              0.4444444444444444,
              "#bd3786"
             ],
             [
              0.5555555555555556,
              "#d8576b"
             ],
             [
              0.6666666666666666,
              "#ed7953"
             ],
             [
              0.7777777777777778,
              "#fb9f3a"
             ],
             [
              0.8888888888888888,
              "#fdca26"
             ],
             [
              1,
              "#f0f921"
             ]
            ],
            "type": "contour"
           }
          ],
          "contourcarpet": [
           {
            "colorbar": {
             "outlinewidth": 0,
             "ticks": ""
            },
            "type": "contourcarpet"
           }
          ],
          "heatmap": [
           {
            "colorbar": {
             "outlinewidth": 0,
             "ticks": ""
            },
            "colorscale": [
             [
              0,
              "#0d0887"
             ],
             [
              0.1111111111111111,
              "#46039f"
             ],
             [
              0.2222222222222222,
              "#7201a8"
             ],
             [
              0.3333333333333333,
              "#9c179e"
             ],
             [
              0.4444444444444444,
              "#bd3786"
             ],
             [
              0.5555555555555556,
              "#d8576b"
             ],
             [
              0.6666666666666666,
              "#ed7953"
             ],
             [
              0.7777777777777778,
              "#fb9f3a"
             ],
             [
              0.8888888888888888,
              "#fdca26"
             ],
             [
              1,
              "#f0f921"
             ]
            ],
            "type": "heatmap"
           }
          ],
          "heatmapgl": [
           {
            "colorbar": {
             "outlinewidth": 0,
             "ticks": ""
            },
            "colorscale": [
             [
              0,
              "#0d0887"
             ],
             [
              0.1111111111111111,
              "#46039f"
             ],
             [
              0.2222222222222222,
              "#7201a8"
             ],
             [
              0.3333333333333333,
              "#9c179e"
             ],
             [
              0.4444444444444444,
              "#bd3786"
             ],
             [
              0.5555555555555556,
              "#d8576b"
             ],
             [
              0.6666666666666666,
              "#ed7953"
             ],
             [
              0.7777777777777778,
              "#fb9f3a"
             ],
             [
              0.8888888888888888,
              "#fdca26"
             ],
             [
              1,
              "#f0f921"
             ]
            ],
            "type": "heatmapgl"
           }
          ],
          "histogram": [
           {
            "marker": {
             "colorbar": {
              "outlinewidth": 0,
              "ticks": ""
             }
            },
            "type": "histogram"
           }
          ],
          "histogram2d": [
           {
            "colorbar": {
             "outlinewidth": 0,
             "ticks": ""
            },
            "colorscale": [
             [
              0,
              "#0d0887"
             ],
             [
              0.1111111111111111,
              "#46039f"
             ],
             [
              0.2222222222222222,
              "#7201a8"
             ],
             [
              0.3333333333333333,
              "#9c179e"
             ],
             [
              0.4444444444444444,
              "#bd3786"
             ],
             [
              0.5555555555555556,
              "#d8576b"
             ],
             [
              0.6666666666666666,
              "#ed7953"
             ],
             [
              0.7777777777777778,
              "#fb9f3a"
             ],
             [
              0.8888888888888888,
              "#fdca26"
             ],
             [
              1,
              "#f0f921"
             ]
            ],
            "type": "histogram2d"
           }
          ],
          "histogram2dcontour": [
           {
            "colorbar": {
             "outlinewidth": 0,
             "ticks": ""
            },
            "colorscale": [
             [
              0,
              "#0d0887"
             ],
             [
              0.1111111111111111,
              "#46039f"
             ],
             [
              0.2222222222222222,
              "#7201a8"
             ],
             [
              0.3333333333333333,
              "#9c179e"
             ],
             [
              0.4444444444444444,
              "#bd3786"
             ],
             [
              0.5555555555555556,
              "#d8576b"
             ],
             [
              0.6666666666666666,
              "#ed7953"
             ],
             [
              0.7777777777777778,
              "#fb9f3a"
             ],
             [
              0.8888888888888888,
              "#fdca26"
             ],
             [
              1,
              "#f0f921"
             ]
            ],
            "type": "histogram2dcontour"
           }
          ],
          "mesh3d": [
           {
            "colorbar": {
             "outlinewidth": 0,
             "ticks": ""
            },
            "type": "mesh3d"
           }
          ],
          "parcoords": [
           {
            "line": {
             "colorbar": {
              "outlinewidth": 0,
              "ticks": ""
             }
            },
            "type": "parcoords"
           }
          ],
          "pie": [
           {
            "automargin": true,
            "type": "pie"
           }
          ],
          "scatter": [
           {
            "marker": {
             "colorbar": {
              "outlinewidth": 0,
              "ticks": ""
             }
            },
            "type": "scatter"
           }
          ],
          "scatter3d": [
           {
            "line": {
             "colorbar": {
              "outlinewidth": 0,
              "ticks": ""
             }
            },
            "marker": {
             "colorbar": {
              "outlinewidth": 0,
              "ticks": ""
             }
            },
            "type": "scatter3d"
           }
          ],
          "scattercarpet": [
           {
            "marker": {
             "colorbar": {
              "outlinewidth": 0,
              "ticks": ""
             }
            },
            "type": "scattercarpet"
           }
          ],
          "scattergeo": [
           {
            "marker": {
             "colorbar": {
              "outlinewidth": 0,
              "ticks": ""
             }
            },
            "type": "scattergeo"
           }
          ],
          "scattergl": [
           {
            "marker": {
             "colorbar": {
              "outlinewidth": 0,
              "ticks": ""
             }
            },
            "type": "scattergl"
           }
          ],
          "scattermapbox": [
           {
            "marker": {
             "colorbar": {
              "outlinewidth": 0,
              "ticks": ""
             }
            },
            "type": "scattermapbox"
           }
          ],
          "scatterpolar": [
           {
            "marker": {
             "colorbar": {
              "outlinewidth": 0,
              "ticks": ""
             }
            },
            "type": "scatterpolar"
           }
          ],
          "scatterpolargl": [
           {
            "marker": {
             "colorbar": {
              "outlinewidth": 0,
              "ticks": ""
             }
            },
            "type": "scatterpolargl"
           }
          ],
          "scatterternary": [
           {
            "marker": {
             "colorbar": {
              "outlinewidth": 0,
              "ticks": ""
             }
            },
            "type": "scatterternary"
           }
          ],
          "surface": [
           {
            "colorbar": {
             "outlinewidth": 0,
             "ticks": ""
            },
            "colorscale": [
             [
              0,
              "#0d0887"
             ],
             [
              0.1111111111111111,
              "#46039f"
             ],
             [
              0.2222222222222222,
              "#7201a8"
             ],
             [
              0.3333333333333333,
              "#9c179e"
             ],
             [
              0.4444444444444444,
              "#bd3786"
             ],
             [
              0.5555555555555556,
              "#d8576b"
             ],
             [
              0.6666666666666666,
              "#ed7953"
             ],
             [
              0.7777777777777778,
              "#fb9f3a"
             ],
             [
              0.8888888888888888,
              "#fdca26"
             ],
             [
              1,
              "#f0f921"
             ]
            ],
            "type": "surface"
           }
          ],
          "table": [
           {
            "cells": {
             "fill": {
              "color": "#EBF0F8"
             },
             "line": {
              "color": "white"
             }
            },
            "header": {
             "fill": {
              "color": "#C8D4E3"
             },
             "line": {
              "color": "white"
             }
            },
            "type": "table"
           }
          ]
         },
         "layout": {
          "annotationdefaults": {
           "arrowcolor": "#2a3f5f",
           "arrowhead": 0,
           "arrowwidth": 1
          },
          "autotypenumbers": "strict",
          "coloraxis": {
           "colorbar": {
            "outlinewidth": 0,
            "ticks": ""
           }
          },
          "colorscale": {
           "diverging": [
            [
             0,
             "#8e0152"
            ],
            [
             0.1,
             "#c51b7d"
            ],
            [
             0.2,
             "#de77ae"
            ],
            [
             0.3,
             "#f1b6da"
            ],
            [
             0.4,
             "#fde0ef"
            ],
            [
             0.5,
             "#f7f7f7"
            ],
            [
             0.6,
             "#e6f5d0"
            ],
            [
             0.7,
             "#b8e186"
            ],
            [
             0.8,
             "#7fbc41"
            ],
            [
             0.9,
             "#4d9221"
            ],
            [
             1,
             "#276419"
            ]
           ],
           "sequential": [
            [
             0,
             "#0d0887"
            ],
            [
             0.1111111111111111,
             "#46039f"
            ],
            [
             0.2222222222222222,
             "#7201a8"
            ],
            [
             0.3333333333333333,
             "#9c179e"
            ],
            [
             0.4444444444444444,
             "#bd3786"
            ],
            [
             0.5555555555555556,
             "#d8576b"
            ],
            [
             0.6666666666666666,
             "#ed7953"
            ],
            [
             0.7777777777777778,
             "#fb9f3a"
            ],
            [
             0.8888888888888888,
             "#fdca26"
            ],
            [
             1,
             "#f0f921"
            ]
           ],
           "sequentialminus": [
            [
             0,
             "#0d0887"
            ],
            [
             0.1111111111111111,
             "#46039f"
            ],
            [
             0.2222222222222222,
             "#7201a8"
            ],
            [
             0.3333333333333333,
             "#9c179e"
            ],
            [
             0.4444444444444444,
             "#bd3786"
            ],
            [
             0.5555555555555556,
             "#d8576b"
            ],
            [
             0.6666666666666666,
             "#ed7953"
            ],
            [
             0.7777777777777778,
             "#fb9f3a"
            ],
            [
             0.8888888888888888,
             "#fdca26"
            ],
            [
             1,
             "#f0f921"
            ]
           ]
          },
          "colorway": [
           "#636efa",
           "#EF553B",
           "#00cc96",
           "#ab63fa",
           "#FFA15A",
           "#19d3f3",
           "#FF6692",
           "#B6E880",
           "#FF97FF",
           "#FECB52"
          ],
          "font": {
           "color": "#2a3f5f"
          },
          "geo": {
           "bgcolor": "white",
           "lakecolor": "white",
           "landcolor": "#E5ECF6",
           "showlakes": true,
           "showland": true,
           "subunitcolor": "white"
          },
          "hoverlabel": {
           "align": "left"
          },
          "hovermode": "closest",
          "mapbox": {
           "style": "light"
          },
          "paper_bgcolor": "white",
          "plot_bgcolor": "#E5ECF6",
          "polar": {
           "angularaxis": {
            "gridcolor": "white",
            "linecolor": "white",
            "ticks": ""
           },
           "bgcolor": "#E5ECF6",
           "radialaxis": {
            "gridcolor": "white",
            "linecolor": "white",
            "ticks": ""
           }
          },
          "scene": {
           "xaxis": {
            "backgroundcolor": "#E5ECF6",
            "gridcolor": "white",
            "gridwidth": 2,
            "linecolor": "white",
            "showbackground": true,
            "ticks": "",
            "zerolinecolor": "white"
           },
           "yaxis": {
            "backgroundcolor": "#E5ECF6",
            "gridcolor": "white",
            "gridwidth": 2,
            "linecolor": "white",
            "showbackground": true,
            "ticks": "",
            "zerolinecolor": "white"
           },
           "zaxis": {
            "backgroundcolor": "#E5ECF6",
            "gridcolor": "white",
            "gridwidth": 2,
            "linecolor": "white",
            "showbackground": true,
            "ticks": "",
            "zerolinecolor": "white"
           }
          },
          "shapedefaults": {
           "line": {
            "color": "#2a3f5f"
           }
          },
          "ternary": {
           "aaxis": {
            "gridcolor": "white",
            "linecolor": "white",
            "ticks": ""
           },
           "baxis": {
            "gridcolor": "white",
            "linecolor": "white",
            "ticks": ""
           },
           "bgcolor": "#E5ECF6",
           "caxis": {
            "gridcolor": "white",
            "linecolor": "white",
            "ticks": ""
           }
          },
          "title": {
           "x": 0.05
          },
          "xaxis": {
           "automargin": true,
           "gridcolor": "white",
           "linecolor": "white",
           "ticks": "",
           "title": {
            "standoff": 15
           },
           "zerolinecolor": "white",
           "zerolinewidth": 2
          },
          "yaxis": {
           "automargin": true,
           "gridcolor": "white",
           "linecolor": "white",
           "ticks": "",
           "title": {
            "standoff": 15
           },
           "zerolinecolor": "white",
           "zerolinewidth": 2
          }
         }
        },
        "title": {
         "text": "12 Clusters"
        },
        "xaxis": {
         "anchor": "y",
         "domain": [
          0,
          1
         ],
         "title": {
          "text": "x"
         }
        },
        "yaxis": {
         "anchor": "x",
         "domain": [
          0,
          1
         ],
         "title": {
          "text": "y"
         }
        }
       }
      },
      "text/html": [
       "<div>                            <div id=\"223dd93e-c6bd-422e-bf6d-2ca713fea174\" class=\"plotly-graph-div\" style=\"height:525px; width:100%;\"></div>            <script type=\"text/javascript\">                require([\"plotly\"], function(Plotly) {                    window.PLOTLYENV=window.PLOTLYENV || {};                                    if (document.getElementById(\"223dd93e-c6bd-422e-bf6d-2ca713fea174\")) {                    Plotly.newPlot(                        \"223dd93e-c6bd-422e-bf6d-2ca713fea174\",                        [{\"customdata\": [[\"1blx_1\"], [\"1byg_1\"], [\"1fmk_1\"], [\"1j1b_1\"], [\"1o6l_1\"], [\"1qpc_1\"], [\"1s9i_1\"], [\"1u59_1\"], [\"1ua2_1\"], [\"1wak_1\"], [\"1x8b_1\"], [\"1xjd_1\"], [\"2a2a_1\"], [\"2ac3_1\"], [\"2buj_1\"], [\"2cmw_1\"], [\"2dq7_1\"], [\"2dq7_2\"], [\"2eva_1\"], [\"2h6d_1\"], [\"2hw6_1\"], [\"2i0e_1\"], [\"2izr_1\"], [\"2j0i_1\"], [\"2jam_1\"], [\"2jc6_1\"], [\"2qlu_1\"], [\"2qol_1\"], [\"2r2p_1\"], [\"2r4b_1\"], [\"2r5t_1\"], [\"2rei_1\"], [\"2rku_1\"], [\"2vd5_1\"], [\"2vz6_1\"], [\"2w4o_1\"], [\"2wel_1\"], [\"2x7g_1\"], [\"2xik_1\"], [\"2xir_1\"], [\"2xrw_1\"], [\"2y4i_1\"], [\"2y7j_1\"], [\"2ycf_1\"], [\"2yex_1\"], [\"3a7i_1\"], [\"3a99_1\"], [\"3aln_1\"], [\"3b2t_1\"], [\"3bhh_1\"], [\"3bhy_1\"], [\"3brb_1\"], [\"3bu3_1\"], [\"3c0i_1\"], [\"3cbl_1\"], [\"3cc6_1\"], [\"3cok_1\"], [\"3com_1\"], [\"3dls_1\"], [\"3dtc_1\"], [\"3eqc_1\"], [\"3fe3_1\"], [\"3fhr_1\"], [\"3fme_1\"], [\"3fxz_1\"], [\"3g2f_1\"], [\"3ggf_1\"], [\"3gp0_1\"], [\"3hmi_1\"], [\"3hng_1\"], [\"3iec_1\"], [\"3kmu_1\"], [\"3kul_1\"], [\"3lco_1\"], [\"3lm5_1\"], [\"3lm5_2\"], [\"3lxp_1\"], [\"3m2w_1\"], [\"3mdy_1\"], [\"3mi9_1\"], [\"3my0_1\"], [\"3omv_1\"], [\"3pls_1\"], [\"3pp0_1\"], [\"3q4u_1\"], [\"3soc_1\"], [\"3sxs_1\"], [\"3txo_1\"], [\"3ugc_1\"], [\"3war_1\"], [\"3zdu_1\"], [\"3zfm_1\"], [\"4aaa_1\"], [\"4af3_1\"], [\"4agu_1\"], [\"4b6l_1\"], [\"4b9d_1\"], [\"4bgq_1\"], [\"4bkj_1\"], [\"4ckj_1\"], [\"4crs_1\"], [\"4euu_1\"], [\"4f9c_1\"], [\"4fg8_1\"], [\"4fkl_1\"], [\"4fr4_1\"], [\"4gv1_1\"], [\"4hcu_1\"], [\"4hni_1\"], [\"4hvs_1\"], [\"4hzr_1\"], [\"4i4e_1\"], [\"4i5p_1\"], [\"4idt_1\"], [\"4iir_1\"], [\"4js8_1\"], [\"4k33_1\"], [\"4kik_1\"], [\"4kik_2\"], [\"4ks7_1\"], [\"4l00_2\"], [\"4l42_2\"], [\"4l6q_1\"], [\"4lg4_1\"], [\"4mwi_1\"], [\"4nfn_1\"], [\"4nst_1\"], [\"4nw6_1\"], [\"4oth_1\"], [\"4pf4_1\"], [\"4pwn_1\"], [\"4qpm_1\"], [\"4qqt_1\"], [\"4qtb_1\"], [\"4qtc_1\"], [\"4r1v_1\"], [\"4ra4_1\"], [\"4tnd_2\"], [\"4usf_1\"], [\"4w9w_1\"], [\"4wb8_1\"], [\"4wno_1\"], [\"4x7k_1\"], [\"4x7q_1\"], [\"4y85_1\"], [\"4y8d_1\"], [\"4yfi_1\"], [\"4yhj_1\"], [\"4yjr_1\"], [\"4ylk_1\"], [\"4yno_1\"], [\"4z55_1\"], [\"4zzn_1\"], [\"5ax9_1\"], [\"5b2l_1\"], [\"5byz_1\"], [\"5cen_1\"], [\"5e8s_1\"], [\"5e8v_1\"], [\"5efq_1\"], [\"5ew8_1\"], [\"5g6v_1\"], [\"5grn_1\"], [\"5h0b_1\"], [\"5hu9_1\"], [\"5ita_1\"], [\"5j5t_1\"], [\"5jfw_1\"], [\"5jga_1\"], [\"5jzj_1\"], [\"5k00_2\"], [\"5l6o_1\"], [\"5l8l_1\"], [\"5li9_1\"], [\"5lqf_1\"], [\"5lvo_1\"], [\"5lwm_1\"], [\"5lxc_1\"], [\"5mja_1\"], [\"5ng0_1\"], [\"5nxd_1\"], [\"5o0y_1\"], [\"5o1v_1\"], [\"5ote_1\"], [\"5p9j_1\"], [\"5te0_1\"], [\"5te0_2\"], [\"5u6b_1\"], [\"5ug9_1\"], [\"5uit_1\"], [\"5uyj_1\"], [\"5vcz_1\"], [\"5vdk_1\"], [\"5wne_1\"], [\"5x5o_1\"], [\"5xs2_1\"], [\"5y86_1\"], [\"5yf9_1\"], [\"5yks_1\"], [\"6bfn_1\"], [\"6bxi_1\"], [\"6c0t_1\"], [\"6c9d_1\"], [\"6ccf_1\"], [\"6cz4_1\"], [\"6eim_1\"], [\"6fd3_1\"], [\"6fdy_1\"], [\"6fng_1\"], [\"6fnk_1\"], [\"6ft8_1\"], [\"6fyl_1\"], [\"6fyr_1\"], [\"6fyv_1\"], [\"6gzm_1\"], [\"6op9_1\"], [\"7aqb_1\"]], \"hovertemplate\": \"Clusters=2<br>x=%{x}<br>y=%{y}<br>Pockets=%{customdata[0]}<extra></extra>\", \"legendgroup\": \"2\", \"marker\": {\"color\": \"#636efa\", \"symbol\": \"circle\"}, \"mode\": \"markers\", \"name\": \"2\", \"orientation\": \"v\", \"showlegend\": true, \"type\": \"scatter\", \"x\": [0.5961276418885346, 0.2974440303203414, 0.11443892299709645, 0.146720080779309, 0.20411135235648586, -0.1666629106723333, -0.2845426837878479, 0.2894930321974563, -0.243045576641394, -0.020809278955456027, -0.042522697153416826, 0.21781508295524263, 0.21819619065024012, -0.6131260651606313, -0.2628575178998163, 0.38670140310092144, 0.1736318694111562, 0.5988999842008791, 0.11581640096515368, -0.1067058898671473, -0.6113170141352195, 0.2744230825977126, 0.3170191497111721, -0.025826894859162123, 0.5905060558541326, 0.41063429754172814, -0.22277299890236668, -0.33024971092343103, -0.28946446689645117, -0.10279157066237873, 0.3722291957738864, -0.20261570404322152, 0.31729630205282455, 0.19962488692885477, 0.09624495148605619, 0.4267148779355718, -0.19259217594291925, -0.0748523824787368, 0.018879460580682718, -0.35833929515996454, -0.1184047701695428, -0.21052989305791264, 0.1650155328352711, -0.11382349121210909, -0.02216101044932757, -0.056227756858023406, 0.11194027810935926, 0.25701291695583006, 0.05028392138287262, 0.43408699326620487, 0.16395373477431077, 0.15060216768095305, -0.06545219633126202, 0.30400030547726603, 0.36196885722098343, 0.5527746468602448, 0.12507028906539022, -0.3252963009264483, 0.4672499993203468, -0.041523742835097396, 0.28056036781375876, 0.5271569885821036, 0.41103894430019666, 0.11683750432551818, -0.4758490160539273, 0.42464526109693135, -0.2364630543465834, -0.4317435041601726, -0.2774429498196382, -0.36413010581214367, -0.09078017703913907, -0.14258705145736475, -0.22452419013705188, -0.28811139907924443, 0.17965089520712735, -0.24565409519634746, -0.1615992661930536, 0.44049510156272426, -0.12599783290861508, -0.08976246062192487, 0.07188729409485806, -0.3704940014840577, -0.10965008583227445, -0.2388541573569877, -0.02288154974000241, 0.1294474046555576, 0.19099678867616812, 0.3649576851005545, -0.3930577739108597, 0.048751811441543016, 0.0782062836805481, -0.44764426507973953, 0.4738355241942323, -0.17671429324332172, 0.17757130011058908, -0.025240804320925434, -0.42948604527542944, -0.0018455029354667344, -0.5119378390390801, 0.19269618956469217, 0.22270034677181508, 0.04408671078989062, 0.42728990136726885, 0.5372105183439019, -0.19060318172727234, 0.06963556734257019, 0.17118292041713437, -0.1958721429178437, 0.09050574358601426, -0.5169650241117959, 0.21700456232646528, -0.028709148309540578, -0.12782983624696748, -0.10105966383178054, 0.2954727188737259, -0.3897075901427829, -0.0511860093117504, 0.30977584346154036, 0.1362974520828646, -0.05379303077219151, -0.49246654515765487, -0.22880509425228307, 0.16202204139908252, -0.3012768162061902, -0.024229934651746252, -0.09171891048792545, 0.28212704180488773, 0.2088100557879533, 0.21362756298829805, 0.25025132306190084, 0.5947437711985748, 0.02282339391248028, -0.2085895293294772, 0.029100293713681013, 0.28152580890698803, -0.47597292015817194, 0.43915780883449856, -0.06866822852281108, -0.5452893002360485, 0.021382817923787545, 0.27707226330817053, 0.11904419025454277, -0.16818353015546686, 0.28730576089916915, -0.15457966242713983, 0.3441820416992452, -0.12722184383643997, -0.22138917710195852, -0.08077223947845884, 0.05488117070979766, 0.08325451760351438, -0.1959527520628259, -0.041056388673854326, 0.010286300344762727, -0.2842715511229391, 0.3271879326312918, -0.3703871572457089, -0.09572317025058218, 0.035732668759193835, 0.2680182928767071, -0.2844937539630983, -0.42068606838938394, -0.40735097787403984, 0.08194812292942893, -0.35930250991885493, 0.17857804187722812, -0.00010886144979932616, -0.3470114768522996, 0.13901443879027642, 0.0960917193680434, 0.03278933347869022, 0.2604441876143419, -0.07349808650326244, 0.24792452847786248, 0.08617917048150667, 0.054946826568103, 0.21743638528432951, 0.19134039326656863, 0.23975324960128225, 0.07437220898674202, 0.5189384096392753, 0.4582749513056445, -0.21491804976080903, 0.1437711027628745, -0.18659589870169477, 0.04384289330928173, -0.4109939857193766, 0.45121417104045747, 0.05113162914604862, 0.3696187519350215, 0.3601272697625068, 0.03579151174518896, 0.0439939880292386, 0.12474400990873753, -0.3013093081583096, 0.14394870800948656, 0.11522506037217076, 0.06913892133152376, -0.15549323266253412, -0.46160472589647594, 0.2731775330875275, 0.2587853245902673, 0.11246956891541383, 0.16767508669741124, -0.4240008242049854, -0.4649646519741768, -0.006050506943123186, -0.16877796549969618, -0.3978151948376718, -0.17878402050637965, 0.05676489792711935, 0.07624359098767244, 0.09233228385158473, 0.15144863706927902, 0.3813045300566796, 0.1921741980676372, -0.08113525666176062], \"xaxis\": \"x\", \"y\": [-0.33576594701830204, -0.2557240840679336, 0.6508123994315878, -0.017323879576764328, 0.19990805411790333, -0.3346200316254367, 0.16998390303124042, -0.13698988221264455, 0.08876242248718635, 0.33128587890898603, 0.0017008145489158931, -0.39545285014294673, 0.16193221656471624, -0.31148518507681555, -0.2928421883603981, 0.028724105823720154, -0.36107066901493096, 0.24202434900550476, -0.47182307595037226, 0.5057177012234702, -0.2418648530146871, -0.4777792033266974, -0.18027422323301984, -0.12702149255619058, -0.25972435216385437, 0.17722187811522713, -0.45110128854420245, -0.23798405064120942, -0.11264180654873061, -0.18814403058792328, -0.04563483980285045, -0.21977017152021439, -0.4891008024592797, 0.09485463012637546, -0.5398696980015392, -0.2080684566507264, -0.5728603219001582, 0.2112631212221309, -0.33260169426879943, -0.16752029614082728, 0.19705460304006178, 0.2553274710440096, -0.09362038703189504, 0.05880101394198003, -0.351484666113025, -0.23454609168947846, 0.15503209209210647, 0.295967577316615, -0.07434372346852829, -0.36303911901289876, 0.02502928699001867, -0.5918996831692511, -0.5584875961565481, 0.0026893591315200163, -0.19751402622553124, -0.16223668466270208, -0.14217251524010727, -0.45860246002657334, -0.3395697599465683, -0.1630738565320339, 0.14125708072403775, -0.12316724762185952, 0.07187459468250686, -0.5855265969998558, -0.08047480137263005, -0.008399147593378163, 0.011471302141179009, -0.30092944363383656, -0.19774019396682632, -0.10975134236989781, -0.426055588245707, 0.3936225480032141, -0.3645636656794383, -0.31075946284588907, -0.32979213584516925, 0.4930810472509544, -0.40227685211524167, -0.13788280294979516, -0.25456337909006505, -0.49214743471169603, 0.7063047385250821, -0.19299996523070811, -0.11382645400136343, -0.3330040035085667, 0.1673236850962502, 0.7500719014885926, -0.4763988904448907, -0.11186392853012768, -0.08008572374518748, 0.23672917888528616, -0.21534431259528022, -0.35029214599572706, -0.21234117026688243, -0.545997251221438, -0.1769561712747364, 0.10392351018865888, -0.41106874297672935, -0.41939028609525175, 0.10953784552936964, -0.013217559326895535, 0.14952556427264455, 0.10129823822307138, -0.2662260389253663, -0.06734975922456339, 0.10307760114771063, -0.35556161984638796, 0.11028063635616454, 0.006935747631670587, -0.6023962168308777, -0.11646336807370532, -0.5288247096347914, -0.49503404004275825, 0.14455993971014988, -0.41863176570666333, -0.35086520356705475, -0.2856829094391005, 0.02907428242119336, 0.566712308870896, -0.38285463775444645, 0.11745170000410117, -0.2828292431518668, -0.5204248298776573, 0.1573569398461829, -0.1712341178933716, -0.04448586513355716, 0.24199449139612605, 0.02411121577927025, -0.49985232280482667, -0.11035682184311948, 0.20860374967771872, -0.22188109919656732, 0.20874936334699437, -0.09803691833463957, -0.03416361013482603, 0.06751442104692276, -0.4047131304424597, -0.3966175121447739, 0.6450058901729349, -0.0514849155255243, 0.007465117173862611, 0.1067962840276667, -0.050953037706135, 0.30603261493726275, -0.43734148292200886, -0.6178067365197195, -0.35004984462142785, -0.2825541586392096, 0.39595487265855983, -0.5668493913221563, 0.05763819643652973, -0.26453620294177294, -0.3427630153226153, -0.4261641409023441, -0.5009752244676318, -0.5049004676385727, -0.41675025930243004, -0.48595579129108735, -0.31797098839328364, -0.12977039262752785, -0.03192033722896516, -0.39809845757103274, -0.47671315861203567, 0.076065213931721, 0.5872478166376882, -0.337186801444862, -0.29674052147181385, -0.3073708864037899, 0.11796714361979427, -0.43223343474331577, 0.26609207943041935, -0.5300752961658491, -0.5841707266255164, -0.08008942237221436, 0.07911781941120843, -0.1546299845686779, 0.008819231777131138, 0.2660817078956108, 0.06198211200336022, -0.3564426926140439, -0.43345982309029585, -0.03736518121594413, 0.04594880191015461, -0.03553999361852808, 0.22985721249432103, -0.1968829365952152, -0.3886147040383988, 0.502752305319207, -0.2910304747894153, -0.17003755141316454, -0.41587904981563467, -0.3066346446803659, 0.12670706396455594, -0.2588465520656011, 0.13345149477479554, 0.009220036559510234, 0.3289953012369758, 0.07454352948713738, -0.633945933861569, -0.5164732791157879, -0.246887294901041, 0.3305206909850317, 0.1736735428160602, 0.2783108716178258, -0.22480723353861354, 0.0379632316634156, -0.17283358855278558, 0.07063309963138188, 0.06342343937769475, -0.062111520586599286, -0.049796076380394565, 0.3716263617790039, 0.051034221233757934, 0.020591414621243375, 0.05744492777784249, -0.47559126377849276, -0.06620156692157535, -0.5178247172241304], \"yaxis\": \"y\"}, {\"customdata\": [[\"1fmk_2\"], [\"2xir_2\"], [\"2y4i_3\"], [\"3aln_2\"], [\"3gp0_2\"], [\"3hng_2\"], [\"4agu_2\"], [\"4itj_1\"], [\"4y85_2\"], [\"4yz9_1\"], [\"5hu9_2\"]], \"hovertemplate\": \"Clusters=1<br>x=%{x}<br>y=%{y}<br>Pockets=%{customdata[0]}<extra></extra>\", \"legendgroup\": \"1\", \"marker\": {\"color\": \"#EF553B\", \"symbol\": \"circle\"}, \"mode\": \"markers\", \"name\": \"1\", \"orientation\": \"v\", \"showlegend\": true, \"type\": \"scatter\", \"x\": [-0.38969898792819546, -0.5742605279897315, -0.7414243106744272, -0.6944743794021253, -0.645914139109909, -0.6175503837024517, -0.7042511579383056, -0.6917892563530911, -0.6356206567680075, -0.7253753356891217, 0.6306744864029277], \"xaxis\": \"x\", \"y\": [0.5113798194075608, 0.34726411075075914, 0.03899822726129575, 0.1083701122142418, 0.21431288887642197, 0.2815800890438085, -0.019321480417340522, 0.03633105142600484, 0.1529442496094333, -0.10044916333582966, 0.15943007297688802], \"yaxis\": \"y\"}, {\"customdata\": [[\"1p4o_1\"], [\"1tki_1\"], [\"1u59_2\"], [\"1vzo_1\"], [\"2acx_1\"], [\"2acx_2\"], [\"2vz6_2\"], [\"2wel_2\"], [\"3dtc_2\"], [\"3e7o_1\"], [\"3hmi_2\"], [\"3iec_2\"], [\"3kmu_2\"], [\"3q4u_2\"], [\"4l42_1\"], [\"4tnd_3\"], [\"4tnd_4\"], [\"4yhj_2\"], [\"4z55_2\"]], \"hovertemplate\": \"Clusters=0<br>x=%{x}<br>y=%{y}<br>Pockets=%{customdata[0]}<extra></extra>\", \"legendgroup\": \"0\", \"marker\": {\"color\": \"#00cc96\", \"symbol\": \"circle\"}, \"mode\": \"markers\", \"name\": \"0\", \"orientation\": \"v\", \"showlegend\": true, \"type\": \"scatter\", \"x\": [0.371458425580335, 0.4196163396166567, 0.5132723757103552, -0.5686392840153324, 0.29609339141974483, -0.10177214463268368, 0.4514598992620987, -0.3836823890686169, -0.23528108179763846, 0.5002979221219399, 0.6241622044705679, 0.1997981463497105, 0.6067224953988821, -0.2994894692880347, -0.6032115197104501, -0.018953223522472674, -0.47496626706666173, -0.42660398985998915, -0.2703961383151004], \"xaxis\": \"x\", \"y\": [0.584782425042664, 0.5454357725591823, 0.4612600829016872, 0.3205038759933024, 0.6269703932031393, 0.7857656613508469, 0.5411426727591155, 0.5646526595196596, 0.7596214976236707, 0.5033137976783609, 0.3346655220759087, 0.6239779841641164, 0.3757606742693309, 0.5953790333234537, 0.275598543915919, 0.7515861392929194, 0.3922942855861326, 0.418265943466759, 0.5771749004776126], \"yaxis\": \"y\"}, {\"customdata\": [[\"1xjd_2\"], [\"3v5w_3\"], [\"4tnd_1\"], [\"4yhj_3\"], [\"5k00_1\"]], \"hovertemplate\": \"Clusters=7<br>x=%{x}<br>y=%{y}<br>Pockets=%{customdata[0]}<extra></extra>\", \"legendgroup\": \"7\", \"marker\": {\"color\": \"#ab63fa\", \"symbol\": \"circle\"}, \"mode\": \"markers\", \"name\": \"7\", \"orientation\": \"v\", \"showlegend\": true, \"type\": \"scatter\", \"x\": [0.18800932357354508, 0.0287186198247884, -0.5063029972071663, -0.06465061389877455, 0.25945045820535007], \"xaxis\": \"x\", \"y\": [0.6693856036085792, 0.8090694968602165, 0.4152838405987932, 0.8128771410026626, 0.6203562311181358], \"yaxis\": \"y\"}, {\"customdata\": [[\"2f57_1\"], [\"4asz_1\"], [\"4asz_2\"], [\"4asz_3\"], [\"4ymj_1\"]], \"hovertemplate\": \"Clusters=4<br>x=%{x}<br>y=%{y}<br>Pockets=%{customdata[0]}<extra></extra>\", \"legendgroup\": \"4\", \"marker\": {\"color\": \"#FFA15A\", \"symbol\": \"circle\"}, \"mode\": \"markers\", \"name\": \"4\", \"orientation\": \"v\", \"showlegend\": true, \"type\": \"scatter\", \"x\": [-0.5841801746247878, 0.8765688952097321, -0.8221303077876737, -0.9022054539497001, -0.7182089750739988], \"xaxis\": \"x\", \"y\": [0.6598976436949139, 0.23726144932573204, 0.3590777928094316, 0.0790033067989181, 0.5296987784226596], \"yaxis\": \"y\"}, {\"customdata\": [[\"2fst_1\"], [\"4qtb_2\"], [\"4zzn_2\"]], \"hovertemplate\": \"Clusters=8<br>x=%{x}<br>y=%{y}<br>Pockets=%{customdata[0]}<extra></extra>\", \"legendgroup\": \"8\", \"marker\": {\"color\": \"#19d3f3\", \"symbol\": \"circle\"}, \"mode\": \"markers\", \"name\": \"8\", \"orientation\": \"v\", \"showlegend\": true, \"type\": \"scatter\", \"x\": [0.28042360031413444, -0.20763555382828658, -0.17980929496148534], \"xaxis\": \"x\", \"y\": [0.7612742620899166, 0.7198732892271611, 0.7055900387542041], \"yaxis\": \"y\"}, {\"customdata\": [[\"2y4i_2\"], [\"4crs_2\"], [\"5li9_2\"]], \"hovertemplate\": \"Clusters=9<br>x=%{x}<br>y=%{y}<br>Pockets=%{customdata[0]}<extra></extra>\", \"legendgroup\": \"9\", \"marker\": {\"color\": \"#FF6692\", \"symbol\": \"circle\"}, \"mode\": \"markers\", \"name\": \"9\", \"orientation\": \"v\", \"showlegend\": true, \"type\": \"scatter\", \"x\": [-0.7210088535564654, 0.679051433420849, 0.712459571475474], \"xaxis\": \"x\", \"y\": [-0.062220781362327546, 0.18738714991358735, 0.08174355632946526], \"yaxis\": \"y\"}, {\"customdata\": [[\"3s95_1\"], [\"3soc_2\"], [\"3v5w_1\"], [\"6bru_1\"]], \"hovertemplate\": \"Clusters=3<br>x=%{x}<br>y=%{y}<br>Pockets=%{customdata[0]}<extra></extra>\", \"legendgroup\": \"3\", \"marker\": {\"color\": \"#B6E880\", \"symbol\": \"circle\"}, \"mode\": \"markers\", \"name\": \"3\", \"orientation\": \"v\", \"showlegend\": true, \"type\": \"scatter\", \"x\": [-0.32276182844201246, 0.2247170385159515, 0.06251849271699142, 0.5578631726506524], \"xaxis\": \"x\", \"y\": [0.7906720521585726, 0.7931133567532067, 0.46329154684738316, 0.3795658045105587], \"yaxis\": \"y\"}, {\"customdata\": [[\"3v5w_2\"]], \"hovertemplate\": \"Clusters=11<br>x=%{x}<br>y=%{y}<br>Pockets=%{customdata[0]}<extra></extra>\", \"legendgroup\": \"11\", \"marker\": {\"color\": \"#FF97FF\", \"symbol\": \"circle\"}, \"mode\": \"markers\", \"name\": \"11\", \"orientation\": \"v\", \"showlegend\": true, \"type\": \"scatter\", \"x\": [0.42291211256416517], \"xaxis\": \"x\", \"y\": [0.7480841857104454], \"yaxis\": \"y\"}, {\"customdata\": [[\"4l00_1\"], [\"6cz4_2\"]], \"hovertemplate\": \"Clusters=10<br>x=%{x}<br>y=%{y}<br>Pockets=%{customdata[0]}<extra></extra>\", \"legendgroup\": \"10\", \"marker\": {\"color\": \"#FECB52\", \"symbol\": \"circle\"}, \"mode\": \"markers\", \"name\": \"10\", \"orientation\": \"v\", \"showlegend\": true, \"type\": \"scatter\", \"x\": [0.4679207829898299, -0.05053508901397303], \"xaxis\": \"x\", \"y\": [0.4774889447181482, 0.6406517217609907], \"yaxis\": \"y\"}, {\"customdata\": [[\"4qpm_2\"], [\"4yfi_2\"], [\"5grn_2\"], [\"5j5t_2\"], [\"6eim_2\"]], \"hovertemplate\": \"Clusters=5<br>x=%{x}<br>y=%{y}<br>Pockets=%{customdata[0]}<extra></extra>\", \"legendgroup\": \"5\", \"marker\": {\"color\": \"#636efa\", \"symbol\": \"circle\"}, \"mode\": \"markers\", \"name\": \"5\", \"orientation\": \"v\", \"showlegend\": true, \"type\": \"scatter\", \"x\": [0.5645460402463665, 0.6633026572537147, -0.49151317810315015, -0.508462271956095, 0.729582707498679], \"xaxis\": \"x\", \"y\": [0.44236245669546564, 0.2859610901681443, 0.48923717101056613, 0.46354443099003934, 0.06633993632906818], \"yaxis\": \"y\"}, {\"customdata\": [[\"5xs2_2\"]], \"hovertemplate\": \"Clusters=6<br>x=%{x}<br>y=%{y}<br>Pockets=%{customdata[0]}<extra></extra>\", \"legendgroup\": \"6\", \"marker\": {\"color\": \"#EF553B\", \"symbol\": \"circle\"}, \"mode\": \"markers\", \"name\": \"6\", \"orientation\": \"v\", \"showlegend\": true, \"type\": \"scatter\", \"x\": [-0.3470184252209653], \"xaxis\": \"x\", \"y\": [0.5998500424556092], \"yaxis\": \"y\"}],                        {\"legend\": {\"title\": {\"text\": \"Clusters\"}, \"tracegroupgap\": 0}, \"template\": {\"data\": {\"bar\": [{\"error_x\": {\"color\": \"#2a3f5f\"}, \"error_y\": {\"color\": \"#2a3f5f\"}, \"marker\": {\"line\": {\"color\": \"#E5ECF6\", \"width\": 0.5}}, \"type\": \"bar\"}], \"barpolar\": [{\"marker\": {\"line\": {\"color\": \"#E5ECF6\", \"width\": 0.5}}, \"type\": \"barpolar\"}], \"carpet\": [{\"aaxis\": {\"endlinecolor\": \"#2a3f5f\", \"gridcolor\": \"white\", \"linecolor\": \"white\", \"minorgridcolor\": \"white\", \"startlinecolor\": \"#2a3f5f\"}, \"baxis\": {\"endlinecolor\": \"#2a3f5f\", \"gridcolor\": \"white\", \"linecolor\": \"white\", \"minorgridcolor\": \"white\", \"startlinecolor\": \"#2a3f5f\"}, \"type\": \"carpet\"}], \"choropleth\": [{\"colorbar\": {\"outlinewidth\": 0, \"ticks\": \"\"}, \"type\": \"choropleth\"}], \"contour\": [{\"colorbar\": {\"outlinewidth\": 0, \"ticks\": \"\"}, \"colorscale\": [[0.0, \"#0d0887\"], [0.1111111111111111, \"#46039f\"], [0.2222222222222222, \"#7201a8\"], [0.3333333333333333, \"#9c179e\"], [0.4444444444444444, \"#bd3786\"], [0.5555555555555556, \"#d8576b\"], [0.6666666666666666, \"#ed7953\"], [0.7777777777777778, \"#fb9f3a\"], [0.8888888888888888, \"#fdca26\"], [1.0, \"#f0f921\"]], \"type\": \"contour\"}], \"contourcarpet\": [{\"colorbar\": {\"outlinewidth\": 0, \"ticks\": \"\"}, \"type\": \"contourcarpet\"}], \"heatmap\": [{\"colorbar\": {\"outlinewidth\": 0, \"ticks\": \"\"}, \"colorscale\": [[0.0, \"#0d0887\"], [0.1111111111111111, \"#46039f\"], [0.2222222222222222, \"#7201a8\"], [0.3333333333333333, \"#9c179e\"], [0.4444444444444444, \"#bd3786\"], [0.5555555555555556, \"#d8576b\"], [0.6666666666666666, \"#ed7953\"], [0.7777777777777778, \"#fb9f3a\"], [0.8888888888888888, \"#fdca26\"], [1.0, \"#f0f921\"]], \"type\": \"heatmap\"}], \"heatmapgl\": [{\"colorbar\": {\"outlinewidth\": 0, \"ticks\": \"\"}, \"colorscale\": [[0.0, \"#0d0887\"], [0.1111111111111111, \"#46039f\"], [0.2222222222222222, \"#7201a8\"], [0.3333333333333333, \"#9c179e\"], [0.4444444444444444, \"#bd3786\"], [0.5555555555555556, \"#d8576b\"], [0.6666666666666666, \"#ed7953\"], [0.7777777777777778, \"#fb9f3a\"], [0.8888888888888888, \"#fdca26\"], [1.0, \"#f0f921\"]], \"type\": \"heatmapgl\"}], \"histogram\": [{\"marker\": {\"colorbar\": {\"outlinewidth\": 0, \"ticks\": \"\"}}, \"type\": \"histogram\"}], \"histogram2d\": [{\"colorbar\": {\"outlinewidth\": 0, \"ticks\": \"\"}, \"colorscale\": [[0.0, \"#0d0887\"], [0.1111111111111111, \"#46039f\"], [0.2222222222222222, \"#7201a8\"], [0.3333333333333333, \"#9c179e\"], [0.4444444444444444, \"#bd3786\"], [0.5555555555555556, \"#d8576b\"], [0.6666666666666666, \"#ed7953\"], [0.7777777777777778, \"#fb9f3a\"], [0.8888888888888888, \"#fdca26\"], [1.0, \"#f0f921\"]], \"type\": \"histogram2d\"}], \"histogram2dcontour\": [{\"colorbar\": {\"outlinewidth\": 0, \"ticks\": \"\"}, \"colorscale\": [[0.0, \"#0d0887\"], [0.1111111111111111, \"#46039f\"], [0.2222222222222222, \"#7201a8\"], [0.3333333333333333, \"#9c179e\"], [0.4444444444444444, \"#bd3786\"], [0.5555555555555556, \"#d8576b\"], [0.6666666666666666, \"#ed7953\"], [0.7777777777777778, \"#fb9f3a\"], [0.8888888888888888, \"#fdca26\"], [1.0, \"#f0f921\"]], \"type\": \"histogram2dcontour\"}], \"mesh3d\": [{\"colorbar\": {\"outlinewidth\": 0, \"ticks\": \"\"}, \"type\": \"mesh3d\"}], \"parcoords\": [{\"line\": {\"colorbar\": {\"outlinewidth\": 0, \"ticks\": \"\"}}, \"type\": \"parcoords\"}], \"pie\": [{\"automargin\": true, \"type\": \"pie\"}], \"scatter\": [{\"marker\": {\"colorbar\": {\"outlinewidth\": 0, \"ticks\": \"\"}}, \"type\": \"scatter\"}], \"scatter3d\": [{\"line\": {\"colorbar\": {\"outlinewidth\": 0, \"ticks\": \"\"}}, \"marker\": {\"colorbar\": {\"outlinewidth\": 0, \"ticks\": \"\"}}, \"type\": \"scatter3d\"}], \"scattercarpet\": [{\"marker\": {\"colorbar\": {\"outlinewidth\": 0, \"ticks\": \"\"}}, \"type\": \"scattercarpet\"}], \"scattergeo\": [{\"marker\": {\"colorbar\": {\"outlinewidth\": 0, \"ticks\": \"\"}}, \"type\": \"scattergeo\"}], \"scattergl\": [{\"marker\": {\"colorbar\": {\"outlinewidth\": 0, \"ticks\": \"\"}}, \"type\": \"scattergl\"}], \"scattermapbox\": [{\"marker\": {\"colorbar\": {\"outlinewidth\": 0, \"ticks\": \"\"}}, \"type\": \"scattermapbox\"}], \"scatterpolar\": [{\"marker\": {\"colorbar\": {\"outlinewidth\": 0, \"ticks\": \"\"}}, \"type\": \"scatterpolar\"}], \"scatterpolargl\": [{\"marker\": {\"colorbar\": {\"outlinewidth\": 0, \"ticks\": \"\"}}, \"type\": \"scatterpolargl\"}], \"scatterternary\": [{\"marker\": {\"colorbar\": {\"outlinewidth\": 0, \"ticks\": \"\"}}, \"type\": \"scatterternary\"}], \"surface\": [{\"colorbar\": {\"outlinewidth\": 0, \"ticks\": \"\"}, \"colorscale\": [[0.0, \"#0d0887\"], [0.1111111111111111, \"#46039f\"], [0.2222222222222222, \"#7201a8\"], [0.3333333333333333, \"#9c179e\"], [0.4444444444444444, \"#bd3786\"], [0.5555555555555556, \"#d8576b\"], [0.6666666666666666, \"#ed7953\"], [0.7777777777777778, \"#fb9f3a\"], [0.8888888888888888, \"#fdca26\"], [1.0, \"#f0f921\"]], \"type\": \"surface\"}], \"table\": [{\"cells\": {\"fill\": {\"color\": \"#EBF0F8\"}, \"line\": {\"color\": \"white\"}}, \"header\": {\"fill\": {\"color\": \"#C8D4E3\"}, \"line\": {\"color\": \"white\"}}, \"type\": \"table\"}]}, \"layout\": {\"annotationdefaults\": {\"arrowcolor\": \"#2a3f5f\", \"arrowhead\": 0, \"arrowwidth\": 1}, \"autotypenumbers\": \"strict\", \"coloraxis\": {\"colorbar\": {\"outlinewidth\": 0, \"ticks\": \"\"}}, \"colorscale\": {\"diverging\": [[0, \"#8e0152\"], [0.1, \"#c51b7d\"], [0.2, \"#de77ae\"], [0.3, \"#f1b6da\"], [0.4, \"#fde0ef\"], [0.5, \"#f7f7f7\"], [0.6, \"#e6f5d0\"], [0.7, \"#b8e186\"], [0.8, \"#7fbc41\"], [0.9, \"#4d9221\"], [1, \"#276419\"]], \"sequential\": [[0.0, \"#0d0887\"], [0.1111111111111111, \"#46039f\"], [0.2222222222222222, \"#7201a8\"], [0.3333333333333333, \"#9c179e\"], [0.4444444444444444, \"#bd3786\"], [0.5555555555555556, \"#d8576b\"], [0.6666666666666666, \"#ed7953\"], [0.7777777777777778, \"#fb9f3a\"], [0.8888888888888888, \"#fdca26\"], [1.0, \"#f0f921\"]], \"sequentialminus\": [[0.0, \"#0d0887\"], [0.1111111111111111, \"#46039f\"], [0.2222222222222222, \"#7201a8\"], [0.3333333333333333, \"#9c179e\"], [0.4444444444444444, \"#bd3786\"], [0.5555555555555556, \"#d8576b\"], [0.6666666666666666, \"#ed7953\"], [0.7777777777777778, \"#fb9f3a\"], [0.8888888888888888, \"#fdca26\"], [1.0, \"#f0f921\"]]}, \"colorway\": [\"#636efa\", \"#EF553B\", \"#00cc96\", \"#ab63fa\", \"#FFA15A\", \"#19d3f3\", \"#FF6692\", \"#B6E880\", \"#FF97FF\", \"#FECB52\"], \"font\": {\"color\": \"#2a3f5f\"}, \"geo\": {\"bgcolor\": \"white\", \"lakecolor\": \"white\", \"landcolor\": \"#E5ECF6\", \"showlakes\": true, \"showland\": true, \"subunitcolor\": \"white\"}, \"hoverlabel\": {\"align\": \"left\"}, \"hovermode\": \"closest\", \"mapbox\": {\"style\": \"light\"}, \"paper_bgcolor\": \"white\", \"plot_bgcolor\": \"#E5ECF6\", \"polar\": {\"angularaxis\": {\"gridcolor\": \"white\", \"linecolor\": \"white\", \"ticks\": \"\"}, \"bgcolor\": \"#E5ECF6\", \"radialaxis\": {\"gridcolor\": \"white\", \"linecolor\": \"white\", \"ticks\": \"\"}}, \"scene\": {\"xaxis\": {\"backgroundcolor\": \"#E5ECF6\", \"gridcolor\": \"white\", \"gridwidth\": 2, \"linecolor\": \"white\", \"showbackground\": true, \"ticks\": \"\", \"zerolinecolor\": \"white\"}, \"yaxis\": {\"backgroundcolor\": \"#E5ECF6\", \"gridcolor\": \"white\", \"gridwidth\": 2, \"linecolor\": \"white\", \"showbackground\": true, \"ticks\": \"\", \"zerolinecolor\": \"white\"}, \"zaxis\": {\"backgroundcolor\": \"#E5ECF6\", \"gridcolor\": \"white\", \"gridwidth\": 2, \"linecolor\": \"white\", \"showbackground\": true, \"ticks\": \"\", \"zerolinecolor\": \"white\"}}, \"shapedefaults\": {\"line\": {\"color\": \"#2a3f5f\"}}, \"ternary\": {\"aaxis\": {\"gridcolor\": \"white\", \"linecolor\": \"white\", \"ticks\": \"\"}, \"baxis\": {\"gridcolor\": \"white\", \"linecolor\": \"white\", \"ticks\": \"\"}, \"bgcolor\": \"#E5ECF6\", \"caxis\": {\"gridcolor\": \"white\", \"linecolor\": \"white\", \"ticks\": \"\"}}, \"title\": {\"x\": 0.05}, \"xaxis\": {\"automargin\": true, \"gridcolor\": \"white\", \"linecolor\": \"white\", \"ticks\": \"\", \"title\": {\"standoff\": 15}, \"zerolinecolor\": \"white\", \"zerolinewidth\": 2}, \"yaxis\": {\"automargin\": true, \"gridcolor\": \"white\", \"linecolor\": \"white\", \"ticks\": \"\", \"title\": {\"standoff\": 15}, \"zerolinecolor\": \"white\", \"zerolinewidth\": 2}}}, \"title\": {\"text\": \"12 Clusters\"}, \"xaxis\": {\"anchor\": \"y\", \"domain\": [0.0, 1.0], \"title\": {\"text\": \"x\"}}, \"yaxis\": {\"anchor\": \"x\", \"domain\": [0.0, 1.0], \"title\": {\"text\": \"y\"}}},                        {\"responsive\": true}                    ).then(function(){\n",
       "                            \n",
       "var gd = document.getElementById('223dd93e-c6bd-422e-bf6d-2ca713fea174');\n",
       "var x = new MutationObserver(function (mutations, observer) {{\n",
       "        var display = window.getComputedStyle(gd).display;\n",
       "        if (!display || display === 'none') {{\n",
       "            console.log([gd, 'removed!']);\n",
       "            Plotly.purge(gd);\n",
       "            observer.disconnect();\n",
       "        }}\n",
       "}});\n",
       "\n",
       "// Listen for the removal of the full notebook cells\n",
       "var notebookContainer = gd.closest('#notebook-container');\n",
       "if (notebookContainer) {{\n",
       "    x.observe(notebookContainer, {childList: true});\n",
       "}}\n",
       "\n",
       "// Listen for the clearing of the current output cell\n",
       "var outputEl = gd.closest('.output');\n",
       "if (outputEl) {{\n",
       "    x.observe(outputEl, {childList: true});\n",
       "}}\n",
       "\n",
       "                        })                };                });            </script>        </div>"
      ]
     },
     "metadata": {},
     "output_type": "display_data"
    },
    {
     "data": {
      "application/vnd.plotly.v1+json": {
       "config": {
        "plotlyServerURL": "https://plot.ly"
       },
       "data": [
        {
         "customdata": [
          [
           "1fmk_2"
          ],
          [
           "2xir_2"
          ],
          [
           "2y4i_3"
          ],
          [
           "3aln_2"
          ],
          [
           "3gp0_2"
          ],
          [
           "3hng_2"
          ],
          [
           "4agu_2"
          ],
          [
           "4itj_1"
          ],
          [
           "4y85_2"
          ],
          [
           "4yz9_1"
          ],
          [
           "5hu9_2"
          ]
         ],
         "hovertemplate": "Clusters=1<br>x=%{x}<br>y=%{y}<br>Pockets=%{customdata[0]}<extra></extra>",
         "legendgroup": "1",
         "marker": {
          "color": "#636efa",
          "symbol": "circle"
         },
         "mode": "markers",
         "name": "1",
         "orientation": "v",
         "showlegend": true,
         "type": "scatter",
         "x": [
          -0.38969898792819546,
          -0.5742605279897315,
          -0.7414243106744272,
          -0.6944743794021253,
          -0.645914139109909,
          -0.6175503837024517,
          -0.7042511579383056,
          -0.6917892563530911,
          -0.6356206567680075,
          -0.7253753356891217,
          0.6306744864029277
         ],
         "xaxis": "x",
         "y": [
          0.5113798194075608,
          0.34726411075075914,
          0.03899822726129575,
          0.1083701122142418,
          0.21431288887642197,
          0.2815800890438085,
          -0.019321480417340522,
          0.03633105142600484,
          0.1529442496094333,
          -0.10044916333582966,
          0.15943007297688802
         ],
         "yaxis": "y"
        },
        {
         "customdata": [
          [
           "1p4o_1"
          ],
          [
           "1tki_1"
          ],
          [
           "1u59_2"
          ],
          [
           "1vzo_1"
          ],
          [
           "2acx_1"
          ],
          [
           "2acx_2"
          ],
          [
           "2vz6_2"
          ],
          [
           "2wel_2"
          ],
          [
           "3dtc_2"
          ],
          [
           "3e7o_1"
          ],
          [
           "3hmi_2"
          ],
          [
           "3iec_2"
          ],
          [
           "3kmu_2"
          ],
          [
           "3q4u_2"
          ],
          [
           "4l42_1"
          ],
          [
           "4tnd_3"
          ],
          [
           "4tnd_4"
          ],
          [
           "4yhj_2"
          ],
          [
           "4z55_2"
          ]
         ],
         "hovertemplate": "Clusters=0<br>x=%{x}<br>y=%{y}<br>Pockets=%{customdata[0]}<extra></extra>",
         "legendgroup": "0",
         "marker": {
          "color": "#EF553B",
          "symbol": "circle"
         },
         "mode": "markers",
         "name": "0",
         "orientation": "v",
         "showlegend": true,
         "type": "scatter",
         "x": [
          0.371458425580335,
          0.4196163396166567,
          0.5132723757103552,
          -0.5686392840153324,
          0.29609339141974483,
          -0.10177214463268368,
          0.4514598992620987,
          -0.3836823890686169,
          -0.23528108179763846,
          0.5002979221219399,
          0.6241622044705679,
          0.1997981463497105,
          0.6067224953988821,
          -0.2994894692880347,
          -0.6032115197104501,
          -0.018953223522472674,
          -0.47496626706666173,
          -0.42660398985998915,
          -0.2703961383151004
         ],
         "xaxis": "x",
         "y": [
          0.584782425042664,
          0.5454357725591823,
          0.4612600829016872,
          0.3205038759933024,
          0.6269703932031393,
          0.7857656613508469,
          0.5411426727591155,
          0.5646526595196596,
          0.7596214976236707,
          0.5033137976783609,
          0.3346655220759087,
          0.6239779841641164,
          0.3757606742693309,
          0.5953790333234537,
          0.275598543915919,
          0.7515861392929194,
          0.3922942855861326,
          0.418265943466759,
          0.5771749004776126
         ],
         "yaxis": "y"
        },
        {
         "customdata": [
          [
           "1xjd_2"
          ],
          [
           "3v5w_3"
          ],
          [
           "4tnd_1"
          ],
          [
           "4yhj_3"
          ],
          [
           "5k00_1"
          ]
         ],
         "hovertemplate": "Clusters=7<br>x=%{x}<br>y=%{y}<br>Pockets=%{customdata[0]}<extra></extra>",
         "legendgroup": "7",
         "marker": {
          "color": "#00cc96",
          "symbol": "circle"
         },
         "mode": "markers",
         "name": "7",
         "orientation": "v",
         "showlegend": true,
         "type": "scatter",
         "x": [
          0.18800932357354508,
          0.0287186198247884,
          -0.5063029972071663,
          -0.06465061389877455,
          0.25945045820535007
         ],
         "xaxis": "x",
         "y": [
          0.6693856036085792,
          0.8090694968602165,
          0.4152838405987932,
          0.8128771410026626,
          0.6203562311181358
         ],
         "yaxis": "y"
        },
        {
         "customdata": [
          [
           "2f57_1"
          ],
          [
           "4asz_1"
          ],
          [
           "4asz_2"
          ],
          [
           "4asz_3"
          ],
          [
           "4ymj_1"
          ]
         ],
         "hovertemplate": "Clusters=4<br>x=%{x}<br>y=%{y}<br>Pockets=%{customdata[0]}<extra></extra>",
         "legendgroup": "4",
         "marker": {
          "color": "#ab63fa",
          "symbol": "circle"
         },
         "mode": "markers",
         "name": "4",
         "orientation": "v",
         "showlegend": true,
         "type": "scatter",
         "x": [
          -0.5841801746247878,
          0.8765688952097321,
          -0.8221303077876737,
          -0.9022054539497001,
          -0.7182089750739988
         ],
         "xaxis": "x",
         "y": [
          0.6598976436949139,
          0.23726144932573204,
          0.3590777928094316,
          0.0790033067989181,
          0.5296987784226596
         ],
         "yaxis": "y"
        },
        {
         "customdata": [
          [
           "2fst_1"
          ],
          [
           "4qtb_2"
          ],
          [
           "4zzn_2"
          ]
         ],
         "hovertemplate": "Clusters=8<br>x=%{x}<br>y=%{y}<br>Pockets=%{customdata[0]}<extra></extra>",
         "legendgroup": "8",
         "marker": {
          "color": "#FFA15A",
          "symbol": "circle"
         },
         "mode": "markers",
         "name": "8",
         "orientation": "v",
         "showlegend": true,
         "type": "scatter",
         "x": [
          0.28042360031413444,
          -0.20763555382828658,
          -0.17980929496148534
         ],
         "xaxis": "x",
         "y": [
          0.7612742620899166,
          0.7198732892271611,
          0.7055900387542041
         ],
         "yaxis": "y"
        },
        {
         "customdata": [
          [
           "2y4i_2"
          ],
          [
           "4crs_2"
          ],
          [
           "5li9_2"
          ]
         ],
         "hovertemplate": "Clusters=9<br>x=%{x}<br>y=%{y}<br>Pockets=%{customdata[0]}<extra></extra>",
         "legendgroup": "9",
         "marker": {
          "color": "#19d3f3",
          "symbol": "circle"
         },
         "mode": "markers",
         "name": "9",
         "orientation": "v",
         "showlegend": true,
         "type": "scatter",
         "x": [
          -0.7210088535564654,
          0.679051433420849,
          0.712459571475474
         ],
         "xaxis": "x",
         "y": [
          -0.062220781362327546,
          0.18738714991358735,
          0.08174355632946526
         ],
         "yaxis": "y"
        },
        {
         "customdata": [
          [
           "3s95_1"
          ],
          [
           "3soc_2"
          ],
          [
           "3v5w_1"
          ],
          [
           "6bru_1"
          ]
         ],
         "hovertemplate": "Clusters=3<br>x=%{x}<br>y=%{y}<br>Pockets=%{customdata[0]}<extra></extra>",
         "legendgroup": "3",
         "marker": {
          "color": "#FF6692",
          "symbol": "circle"
         },
         "mode": "markers",
         "name": "3",
         "orientation": "v",
         "showlegend": true,
         "type": "scatter",
         "x": [
          -0.32276182844201246,
          0.2247170385159515,
          0.06251849271699142,
          0.5578631726506524
         ],
         "xaxis": "x",
         "y": [
          0.7906720521585726,
          0.7931133567532067,
          0.46329154684738316,
          0.3795658045105587
         ],
         "yaxis": "y"
        },
        {
         "customdata": [
          [
           "3v5w_2"
          ]
         ],
         "hovertemplate": "Clusters=11<br>x=%{x}<br>y=%{y}<br>Pockets=%{customdata[0]}<extra></extra>",
         "legendgroup": "11",
         "marker": {
          "color": "#B6E880",
          "symbol": "circle"
         },
         "mode": "markers",
         "name": "11",
         "orientation": "v",
         "showlegend": true,
         "type": "scatter",
         "x": [
          0.42291211256416517
         ],
         "xaxis": "x",
         "y": [
          0.7480841857104454
         ],
         "yaxis": "y"
        },
        {
         "customdata": [
          [
           "4l00_1"
          ],
          [
           "6cz4_2"
          ]
         ],
         "hovertemplate": "Clusters=10<br>x=%{x}<br>y=%{y}<br>Pockets=%{customdata[0]}<extra></extra>",
         "legendgroup": "10",
         "marker": {
          "color": "#FF97FF",
          "symbol": "circle"
         },
         "mode": "markers",
         "name": "10",
         "orientation": "v",
         "showlegend": true,
         "type": "scatter",
         "x": [
          0.4679207829898299,
          -0.05053508901397303
         ],
         "xaxis": "x",
         "y": [
          0.4774889447181482,
          0.6406517217609907
         ],
         "yaxis": "y"
        },
        {
         "customdata": [
          [
           "4qpm_2"
          ],
          [
           "4yfi_2"
          ],
          [
           "5grn_2"
          ],
          [
           "5j5t_2"
          ],
          [
           "6eim_2"
          ]
         ],
         "hovertemplate": "Clusters=5<br>x=%{x}<br>y=%{y}<br>Pockets=%{customdata[0]}<extra></extra>",
         "legendgroup": "5",
         "marker": {
          "color": "#FECB52",
          "symbol": "circle"
         },
         "mode": "markers",
         "name": "5",
         "orientation": "v",
         "showlegend": true,
         "type": "scatter",
         "x": [
          0.5645460402463665,
          0.6633026572537147,
          -0.49151317810315015,
          -0.508462271956095,
          0.729582707498679
         ],
         "xaxis": "x",
         "y": [
          0.44236245669546564,
          0.2859610901681443,
          0.48923717101056613,
          0.46354443099003934,
          0.06633993632906818
         ],
         "yaxis": "y"
        },
        {
         "customdata": [
          [
           "5xs2_2"
          ]
         ],
         "hovertemplate": "Clusters=6<br>x=%{x}<br>y=%{y}<br>Pockets=%{customdata[0]}<extra></extra>",
         "legendgroup": "6",
         "marker": {
          "color": "#636efa",
          "symbol": "circle"
         },
         "mode": "markers",
         "name": "6",
         "orientation": "v",
         "showlegend": true,
         "type": "scatter",
         "x": [
          -0.3470184252209653
         ],
         "xaxis": "x",
         "y": [
          0.5998500424556092
         ],
         "yaxis": "y"
        }
       ],
       "layout": {
        "legend": {
         "title": {
          "text": "Clusters"
         },
         "tracegroupgap": 0
        },
        "template": {
         "data": {
          "bar": [
           {
            "error_x": {
             "color": "#2a3f5f"
            },
            "error_y": {
             "color": "#2a3f5f"
            },
            "marker": {
             "line": {
              "color": "#E5ECF6",
              "width": 0.5
             }
            },
            "type": "bar"
           }
          ],
          "barpolar": [
           {
            "marker": {
             "line": {
              "color": "#E5ECF6",
              "width": 0.5
             }
            },
            "type": "barpolar"
           }
          ],
          "carpet": [
           {
            "aaxis": {
             "endlinecolor": "#2a3f5f",
             "gridcolor": "white",
             "linecolor": "white",
             "minorgridcolor": "white",
             "startlinecolor": "#2a3f5f"
            },
            "baxis": {
             "endlinecolor": "#2a3f5f",
             "gridcolor": "white",
             "linecolor": "white",
             "minorgridcolor": "white",
             "startlinecolor": "#2a3f5f"
            },
            "type": "carpet"
           }
          ],
          "choropleth": [
           {
            "colorbar": {
             "outlinewidth": 0,
             "ticks": ""
            },
            "type": "choropleth"
           }
          ],
          "contour": [
           {
            "colorbar": {
             "outlinewidth": 0,
             "ticks": ""
            },
            "colorscale": [
             [
              0,
              "#0d0887"
             ],
             [
              0.1111111111111111,
              "#46039f"
             ],
             [
              0.2222222222222222,
              "#7201a8"
             ],
             [
              0.3333333333333333,
              "#9c179e"
             ],
             [
              0.4444444444444444,
              "#bd3786"
             ],
             [
              0.5555555555555556,
              "#d8576b"
             ],
             [
              0.6666666666666666,
              "#ed7953"
             ],
             [
              0.7777777777777778,
              "#fb9f3a"
             ],
             [
              0.8888888888888888,
              "#fdca26"
             ],
             [
              1,
              "#f0f921"
             ]
            ],
            "type": "contour"
           }
          ],
          "contourcarpet": [
           {
            "colorbar": {
             "outlinewidth": 0,
             "ticks": ""
            },
            "type": "contourcarpet"
           }
          ],
          "heatmap": [
           {
            "colorbar": {
             "outlinewidth": 0,
             "ticks": ""
            },
            "colorscale": [
             [
              0,
              "#0d0887"
             ],
             [
              0.1111111111111111,
              "#46039f"
             ],
             [
              0.2222222222222222,
              "#7201a8"
             ],
             [
              0.3333333333333333,
              "#9c179e"
             ],
             [
              0.4444444444444444,
              "#bd3786"
             ],
             [
              0.5555555555555556,
              "#d8576b"
             ],
             [
              0.6666666666666666,
              "#ed7953"
             ],
             [
              0.7777777777777778,
              "#fb9f3a"
             ],
             [
              0.8888888888888888,
              "#fdca26"
             ],
             [
              1,
              "#f0f921"
             ]
            ],
            "type": "heatmap"
           }
          ],
          "heatmapgl": [
           {
            "colorbar": {
             "outlinewidth": 0,
             "ticks": ""
            },
            "colorscale": [
             [
              0,
              "#0d0887"
             ],
             [
              0.1111111111111111,
              "#46039f"
             ],
             [
              0.2222222222222222,
              "#7201a8"
             ],
             [
              0.3333333333333333,
              "#9c179e"
             ],
             [
              0.4444444444444444,
              "#bd3786"
             ],
             [
              0.5555555555555556,
              "#d8576b"
             ],
             [
              0.6666666666666666,
              "#ed7953"
             ],
             [
              0.7777777777777778,
              "#fb9f3a"
             ],
             [
              0.8888888888888888,
              "#fdca26"
             ],
             [
              1,
              "#f0f921"
             ]
            ],
            "type": "heatmapgl"
           }
          ],
          "histogram": [
           {
            "marker": {
             "colorbar": {
              "outlinewidth": 0,
              "ticks": ""
             }
            },
            "type": "histogram"
           }
          ],
          "histogram2d": [
           {
            "colorbar": {
             "outlinewidth": 0,
             "ticks": ""
            },
            "colorscale": [
             [
              0,
              "#0d0887"
             ],
             [
              0.1111111111111111,
              "#46039f"
             ],
             [
              0.2222222222222222,
              "#7201a8"
             ],
             [
              0.3333333333333333,
              "#9c179e"
             ],
             [
              0.4444444444444444,
              "#bd3786"
             ],
             [
              0.5555555555555556,
              "#d8576b"
             ],
             [
              0.6666666666666666,
              "#ed7953"
             ],
             [
              0.7777777777777778,
              "#fb9f3a"
             ],
             [
              0.8888888888888888,
              "#fdca26"
             ],
             [
              1,
              "#f0f921"
             ]
            ],
            "type": "histogram2d"
           }
          ],
          "histogram2dcontour": [
           {
            "colorbar": {
             "outlinewidth": 0,
             "ticks": ""
            },
            "colorscale": [
             [
              0,
              "#0d0887"
             ],
             [
              0.1111111111111111,
              "#46039f"
             ],
             [
              0.2222222222222222,
              "#7201a8"
             ],
             [
              0.3333333333333333,
              "#9c179e"
             ],
             [
              0.4444444444444444,
              "#bd3786"
             ],
             [
              0.5555555555555556,
              "#d8576b"
             ],
             [
              0.6666666666666666,
              "#ed7953"
             ],
             [
              0.7777777777777778,
              "#fb9f3a"
             ],
             [
              0.8888888888888888,
              "#fdca26"
             ],
             [
              1,
              "#f0f921"
             ]
            ],
            "type": "histogram2dcontour"
           }
          ],
          "mesh3d": [
           {
            "colorbar": {
             "outlinewidth": 0,
             "ticks": ""
            },
            "type": "mesh3d"
           }
          ],
          "parcoords": [
           {
            "line": {
             "colorbar": {
              "outlinewidth": 0,
              "ticks": ""
             }
            },
            "type": "parcoords"
           }
          ],
          "pie": [
           {
            "automargin": true,
            "type": "pie"
           }
          ],
          "scatter": [
           {
            "marker": {
             "colorbar": {
              "outlinewidth": 0,
              "ticks": ""
             }
            },
            "type": "scatter"
           }
          ],
          "scatter3d": [
           {
            "line": {
             "colorbar": {
              "outlinewidth": 0,
              "ticks": ""
             }
            },
            "marker": {
             "colorbar": {
              "outlinewidth": 0,
              "ticks": ""
             }
            },
            "type": "scatter3d"
           }
          ],
          "scattercarpet": [
           {
            "marker": {
             "colorbar": {
              "outlinewidth": 0,
              "ticks": ""
             }
            },
            "type": "scattercarpet"
           }
          ],
          "scattergeo": [
           {
            "marker": {
             "colorbar": {
              "outlinewidth": 0,
              "ticks": ""
             }
            },
            "type": "scattergeo"
           }
          ],
          "scattergl": [
           {
            "marker": {
             "colorbar": {
              "outlinewidth": 0,
              "ticks": ""
             }
            },
            "type": "scattergl"
           }
          ],
          "scattermapbox": [
           {
            "marker": {
             "colorbar": {
              "outlinewidth": 0,
              "ticks": ""
             }
            },
            "type": "scattermapbox"
           }
          ],
          "scatterpolar": [
           {
            "marker": {
             "colorbar": {
              "outlinewidth": 0,
              "ticks": ""
             }
            },
            "type": "scatterpolar"
           }
          ],
          "scatterpolargl": [
           {
            "marker": {
             "colorbar": {
              "outlinewidth": 0,
              "ticks": ""
             }
            },
            "type": "scatterpolargl"
           }
          ],
          "scatterternary": [
           {
            "marker": {
             "colorbar": {
              "outlinewidth": 0,
              "ticks": ""
             }
            },
            "type": "scatterternary"
           }
          ],
          "surface": [
           {
            "colorbar": {
             "outlinewidth": 0,
             "ticks": ""
            },
            "colorscale": [
             [
              0,
              "#0d0887"
             ],
             [
              0.1111111111111111,
              "#46039f"
             ],
             [
              0.2222222222222222,
              "#7201a8"
             ],
             [
              0.3333333333333333,
              "#9c179e"
             ],
             [
              0.4444444444444444,
              "#bd3786"
             ],
             [
              0.5555555555555556,
              "#d8576b"
             ],
             [
              0.6666666666666666,
              "#ed7953"
             ],
             [
              0.7777777777777778,
              "#fb9f3a"
             ],
             [
              0.8888888888888888,
              "#fdca26"
             ],
             [
              1,
              "#f0f921"
             ]
            ],
            "type": "surface"
           }
          ],
          "table": [
           {
            "cells": {
             "fill": {
              "color": "#EBF0F8"
             },
             "line": {
              "color": "white"
             }
            },
            "header": {
             "fill": {
              "color": "#C8D4E3"
             },
             "line": {
              "color": "white"
             }
            },
            "type": "table"
           }
          ]
         },
         "layout": {
          "annotationdefaults": {
           "arrowcolor": "#2a3f5f",
           "arrowhead": 0,
           "arrowwidth": 1
          },
          "autotypenumbers": "strict",
          "coloraxis": {
           "colorbar": {
            "outlinewidth": 0,
            "ticks": ""
           }
          },
          "colorscale": {
           "diverging": [
            [
             0,
             "#8e0152"
            ],
            [
             0.1,
             "#c51b7d"
            ],
            [
             0.2,
             "#de77ae"
            ],
            [
             0.3,
             "#f1b6da"
            ],
            [
             0.4,
             "#fde0ef"
            ],
            [
             0.5,
             "#f7f7f7"
            ],
            [
             0.6,
             "#e6f5d0"
            ],
            [
             0.7,
             "#b8e186"
            ],
            [
             0.8,
             "#7fbc41"
            ],
            [
             0.9,
             "#4d9221"
            ],
            [
             1,
             "#276419"
            ]
           ],
           "sequential": [
            [
             0,
             "#0d0887"
            ],
            [
             0.1111111111111111,
             "#46039f"
            ],
            [
             0.2222222222222222,
             "#7201a8"
            ],
            [
             0.3333333333333333,
             "#9c179e"
            ],
            [
             0.4444444444444444,
             "#bd3786"
            ],
            [
             0.5555555555555556,
             "#d8576b"
            ],
            [
             0.6666666666666666,
             "#ed7953"
            ],
            [
             0.7777777777777778,
             "#fb9f3a"
            ],
            [
             0.8888888888888888,
             "#fdca26"
            ],
            [
             1,
             "#f0f921"
            ]
           ],
           "sequentialminus": [
            [
             0,
             "#0d0887"
            ],
            [
             0.1111111111111111,
             "#46039f"
            ],
            [
             0.2222222222222222,
             "#7201a8"
            ],
            [
             0.3333333333333333,
             "#9c179e"
            ],
            [
             0.4444444444444444,
             "#bd3786"
            ],
            [
             0.5555555555555556,
             "#d8576b"
            ],
            [
             0.6666666666666666,
             "#ed7953"
            ],
            [
             0.7777777777777778,
             "#fb9f3a"
            ],
            [
             0.8888888888888888,
             "#fdca26"
            ],
            [
             1,
             "#f0f921"
            ]
           ]
          },
          "colorway": [
           "#636efa",
           "#EF553B",
           "#00cc96",
           "#ab63fa",
           "#FFA15A",
           "#19d3f3",
           "#FF6692",
           "#B6E880",
           "#FF97FF",
           "#FECB52"
          ],
          "font": {
           "color": "#2a3f5f"
          },
          "geo": {
           "bgcolor": "white",
           "lakecolor": "white",
           "landcolor": "#E5ECF6",
           "showlakes": true,
           "showland": true,
           "subunitcolor": "white"
          },
          "hoverlabel": {
           "align": "left"
          },
          "hovermode": "closest",
          "mapbox": {
           "style": "light"
          },
          "paper_bgcolor": "white",
          "plot_bgcolor": "#E5ECF6",
          "polar": {
           "angularaxis": {
            "gridcolor": "white",
            "linecolor": "white",
            "ticks": ""
           },
           "bgcolor": "#E5ECF6",
           "radialaxis": {
            "gridcolor": "white",
            "linecolor": "white",
            "ticks": ""
           }
          },
          "scene": {
           "xaxis": {
            "backgroundcolor": "#E5ECF6",
            "gridcolor": "white",
            "gridwidth": 2,
            "linecolor": "white",
            "showbackground": true,
            "ticks": "",
            "zerolinecolor": "white"
           },
           "yaxis": {
            "backgroundcolor": "#E5ECF6",
            "gridcolor": "white",
            "gridwidth": 2,
            "linecolor": "white",
            "showbackground": true,
            "ticks": "",
            "zerolinecolor": "white"
           },
           "zaxis": {
            "backgroundcolor": "#E5ECF6",
            "gridcolor": "white",
            "gridwidth": 2,
            "linecolor": "white",
            "showbackground": true,
            "ticks": "",
            "zerolinecolor": "white"
           }
          },
          "shapedefaults": {
           "line": {
            "color": "#2a3f5f"
           }
          },
          "ternary": {
           "aaxis": {
            "gridcolor": "white",
            "linecolor": "white",
            "ticks": ""
           },
           "baxis": {
            "gridcolor": "white",
            "linecolor": "white",
            "ticks": ""
           },
           "bgcolor": "#E5ECF6",
           "caxis": {
            "gridcolor": "white",
            "linecolor": "white",
            "ticks": ""
           }
          },
          "title": {
           "x": 0.05
          },
          "xaxis": {
           "automargin": true,
           "gridcolor": "white",
           "linecolor": "white",
           "ticks": "",
           "title": {
            "standoff": 15
           },
           "zerolinecolor": "white",
           "zerolinewidth": 2
          },
          "yaxis": {
           "automargin": true,
           "gridcolor": "white",
           "linecolor": "white",
           "ticks": "",
           "title": {
            "standoff": 15
           },
           "zerolinecolor": "white",
           "zerolinewidth": 2
          }
         }
        },
        "title": {
         "text": "12 Clusters"
        },
        "xaxis": {
         "anchor": "y",
         "domain": [
          0,
          1
         ],
         "title": {
          "text": "x"
         }
        },
        "yaxis": {
         "anchor": "x",
         "domain": [
          0,
          1
         ],
         "title": {
          "text": "y"
         }
        }
       }
      },
      "text/html": [
       "<div>                            <div id=\"e1620f97-77c2-479c-8452-d8569a31a299\" class=\"plotly-graph-div\" style=\"height:525px; width:100%;\"></div>            <script type=\"text/javascript\">                require([\"plotly\"], function(Plotly) {                    window.PLOTLYENV=window.PLOTLYENV || {};                                    if (document.getElementById(\"e1620f97-77c2-479c-8452-d8569a31a299\")) {                    Plotly.newPlot(                        \"e1620f97-77c2-479c-8452-d8569a31a299\",                        [{\"customdata\": [[\"1fmk_2\"], [\"2xir_2\"], [\"2y4i_3\"], [\"3aln_2\"], [\"3gp0_2\"], [\"3hng_2\"], [\"4agu_2\"], [\"4itj_1\"], [\"4y85_2\"], [\"4yz9_1\"], [\"5hu9_2\"]], \"hovertemplate\": \"Clusters=1<br>x=%{x}<br>y=%{y}<br>Pockets=%{customdata[0]}<extra></extra>\", \"legendgroup\": \"1\", \"marker\": {\"color\": \"#636efa\", \"symbol\": \"circle\"}, \"mode\": \"markers\", \"name\": \"1\", \"orientation\": \"v\", \"showlegend\": true, \"type\": \"scatter\", \"x\": [-0.38969898792819546, -0.5742605279897315, -0.7414243106744272, -0.6944743794021253, -0.645914139109909, -0.6175503837024517, -0.7042511579383056, -0.6917892563530911, -0.6356206567680075, -0.7253753356891217, 0.6306744864029277], \"xaxis\": \"x\", \"y\": [0.5113798194075608, 0.34726411075075914, 0.03899822726129575, 0.1083701122142418, 0.21431288887642197, 0.2815800890438085, -0.019321480417340522, 0.03633105142600484, 0.1529442496094333, -0.10044916333582966, 0.15943007297688802], \"yaxis\": \"y\"}, {\"customdata\": [[\"1p4o_1\"], [\"1tki_1\"], [\"1u59_2\"], [\"1vzo_1\"], [\"2acx_1\"], [\"2acx_2\"], [\"2vz6_2\"], [\"2wel_2\"], [\"3dtc_2\"], [\"3e7o_1\"], [\"3hmi_2\"], [\"3iec_2\"], [\"3kmu_2\"], [\"3q4u_2\"], [\"4l42_1\"], [\"4tnd_3\"], [\"4tnd_4\"], [\"4yhj_2\"], [\"4z55_2\"]], \"hovertemplate\": \"Clusters=0<br>x=%{x}<br>y=%{y}<br>Pockets=%{customdata[0]}<extra></extra>\", \"legendgroup\": \"0\", \"marker\": {\"color\": \"#EF553B\", \"symbol\": \"circle\"}, \"mode\": \"markers\", \"name\": \"0\", \"orientation\": \"v\", \"showlegend\": true, \"type\": \"scatter\", \"x\": [0.371458425580335, 0.4196163396166567, 0.5132723757103552, -0.5686392840153324, 0.29609339141974483, -0.10177214463268368, 0.4514598992620987, -0.3836823890686169, -0.23528108179763846, 0.5002979221219399, 0.6241622044705679, 0.1997981463497105, 0.6067224953988821, -0.2994894692880347, -0.6032115197104501, -0.018953223522472674, -0.47496626706666173, -0.42660398985998915, -0.2703961383151004], \"xaxis\": \"x\", \"y\": [0.584782425042664, 0.5454357725591823, 0.4612600829016872, 0.3205038759933024, 0.6269703932031393, 0.7857656613508469, 0.5411426727591155, 0.5646526595196596, 0.7596214976236707, 0.5033137976783609, 0.3346655220759087, 0.6239779841641164, 0.3757606742693309, 0.5953790333234537, 0.275598543915919, 0.7515861392929194, 0.3922942855861326, 0.418265943466759, 0.5771749004776126], \"yaxis\": \"y\"}, {\"customdata\": [[\"1xjd_2\"], [\"3v5w_3\"], [\"4tnd_1\"], [\"4yhj_3\"], [\"5k00_1\"]], \"hovertemplate\": \"Clusters=7<br>x=%{x}<br>y=%{y}<br>Pockets=%{customdata[0]}<extra></extra>\", \"legendgroup\": \"7\", \"marker\": {\"color\": \"#00cc96\", \"symbol\": \"circle\"}, \"mode\": \"markers\", \"name\": \"7\", \"orientation\": \"v\", \"showlegend\": true, \"type\": \"scatter\", \"x\": [0.18800932357354508, 0.0287186198247884, -0.5063029972071663, -0.06465061389877455, 0.25945045820535007], \"xaxis\": \"x\", \"y\": [0.6693856036085792, 0.8090694968602165, 0.4152838405987932, 0.8128771410026626, 0.6203562311181358], \"yaxis\": \"y\"}, {\"customdata\": [[\"2f57_1\"], [\"4asz_1\"], [\"4asz_2\"], [\"4asz_3\"], [\"4ymj_1\"]], \"hovertemplate\": \"Clusters=4<br>x=%{x}<br>y=%{y}<br>Pockets=%{customdata[0]}<extra></extra>\", \"legendgroup\": \"4\", \"marker\": {\"color\": \"#ab63fa\", \"symbol\": \"circle\"}, \"mode\": \"markers\", \"name\": \"4\", \"orientation\": \"v\", \"showlegend\": true, \"type\": \"scatter\", \"x\": [-0.5841801746247878, 0.8765688952097321, -0.8221303077876737, -0.9022054539497001, -0.7182089750739988], \"xaxis\": \"x\", \"y\": [0.6598976436949139, 0.23726144932573204, 0.3590777928094316, 0.0790033067989181, 0.5296987784226596], \"yaxis\": \"y\"}, {\"customdata\": [[\"2fst_1\"], [\"4qtb_2\"], [\"4zzn_2\"]], \"hovertemplate\": \"Clusters=8<br>x=%{x}<br>y=%{y}<br>Pockets=%{customdata[0]}<extra></extra>\", \"legendgroup\": \"8\", \"marker\": {\"color\": \"#FFA15A\", \"symbol\": \"circle\"}, \"mode\": \"markers\", \"name\": \"8\", \"orientation\": \"v\", \"showlegend\": true, \"type\": \"scatter\", \"x\": [0.28042360031413444, -0.20763555382828658, -0.17980929496148534], \"xaxis\": \"x\", \"y\": [0.7612742620899166, 0.7198732892271611, 0.7055900387542041], \"yaxis\": \"y\"}, {\"customdata\": [[\"2y4i_2\"], [\"4crs_2\"], [\"5li9_2\"]], \"hovertemplate\": \"Clusters=9<br>x=%{x}<br>y=%{y}<br>Pockets=%{customdata[0]}<extra></extra>\", \"legendgroup\": \"9\", \"marker\": {\"color\": \"#19d3f3\", \"symbol\": \"circle\"}, \"mode\": \"markers\", \"name\": \"9\", \"orientation\": \"v\", \"showlegend\": true, \"type\": \"scatter\", \"x\": [-0.7210088535564654, 0.679051433420849, 0.712459571475474], \"xaxis\": \"x\", \"y\": [-0.062220781362327546, 0.18738714991358735, 0.08174355632946526], \"yaxis\": \"y\"}, {\"customdata\": [[\"3s95_1\"], [\"3soc_2\"], [\"3v5w_1\"], [\"6bru_1\"]], \"hovertemplate\": \"Clusters=3<br>x=%{x}<br>y=%{y}<br>Pockets=%{customdata[0]}<extra></extra>\", \"legendgroup\": \"3\", \"marker\": {\"color\": \"#FF6692\", \"symbol\": \"circle\"}, \"mode\": \"markers\", \"name\": \"3\", \"orientation\": \"v\", \"showlegend\": true, \"type\": \"scatter\", \"x\": [-0.32276182844201246, 0.2247170385159515, 0.06251849271699142, 0.5578631726506524], \"xaxis\": \"x\", \"y\": [0.7906720521585726, 0.7931133567532067, 0.46329154684738316, 0.3795658045105587], \"yaxis\": \"y\"}, {\"customdata\": [[\"3v5w_2\"]], \"hovertemplate\": \"Clusters=11<br>x=%{x}<br>y=%{y}<br>Pockets=%{customdata[0]}<extra></extra>\", \"legendgroup\": \"11\", \"marker\": {\"color\": \"#B6E880\", \"symbol\": \"circle\"}, \"mode\": \"markers\", \"name\": \"11\", \"orientation\": \"v\", \"showlegend\": true, \"type\": \"scatter\", \"x\": [0.42291211256416517], \"xaxis\": \"x\", \"y\": [0.7480841857104454], \"yaxis\": \"y\"}, {\"customdata\": [[\"4l00_1\"], [\"6cz4_2\"]], \"hovertemplate\": \"Clusters=10<br>x=%{x}<br>y=%{y}<br>Pockets=%{customdata[0]}<extra></extra>\", \"legendgroup\": \"10\", \"marker\": {\"color\": \"#FF97FF\", \"symbol\": \"circle\"}, \"mode\": \"markers\", \"name\": \"10\", \"orientation\": \"v\", \"showlegend\": true, \"type\": \"scatter\", \"x\": [0.4679207829898299, -0.05053508901397303], \"xaxis\": \"x\", \"y\": [0.4774889447181482, 0.6406517217609907], \"yaxis\": \"y\"}, {\"customdata\": [[\"4qpm_2\"], [\"4yfi_2\"], [\"5grn_2\"], [\"5j5t_2\"], [\"6eim_2\"]], \"hovertemplate\": \"Clusters=5<br>x=%{x}<br>y=%{y}<br>Pockets=%{customdata[0]}<extra></extra>\", \"legendgroup\": \"5\", \"marker\": {\"color\": \"#FECB52\", \"symbol\": \"circle\"}, \"mode\": \"markers\", \"name\": \"5\", \"orientation\": \"v\", \"showlegend\": true, \"type\": \"scatter\", \"x\": [0.5645460402463665, 0.6633026572537147, -0.49151317810315015, -0.508462271956095, 0.729582707498679], \"xaxis\": \"x\", \"y\": [0.44236245669546564, 0.2859610901681443, 0.48923717101056613, 0.46354443099003934, 0.06633993632906818], \"yaxis\": \"y\"}, {\"customdata\": [[\"5xs2_2\"]], \"hovertemplate\": \"Clusters=6<br>x=%{x}<br>y=%{y}<br>Pockets=%{customdata[0]}<extra></extra>\", \"legendgroup\": \"6\", \"marker\": {\"color\": \"#636efa\", \"symbol\": \"circle\"}, \"mode\": \"markers\", \"name\": \"6\", \"orientation\": \"v\", \"showlegend\": true, \"type\": \"scatter\", \"x\": [-0.3470184252209653], \"xaxis\": \"x\", \"y\": [0.5998500424556092], \"yaxis\": \"y\"}],                        {\"legend\": {\"title\": {\"text\": \"Clusters\"}, \"tracegroupgap\": 0}, \"template\": {\"data\": {\"bar\": [{\"error_x\": {\"color\": \"#2a3f5f\"}, \"error_y\": {\"color\": \"#2a3f5f\"}, \"marker\": {\"line\": {\"color\": \"#E5ECF6\", \"width\": 0.5}}, \"type\": \"bar\"}], \"barpolar\": [{\"marker\": {\"line\": {\"color\": \"#E5ECF6\", \"width\": 0.5}}, \"type\": \"barpolar\"}], \"carpet\": [{\"aaxis\": {\"endlinecolor\": \"#2a3f5f\", \"gridcolor\": \"white\", \"linecolor\": \"white\", \"minorgridcolor\": \"white\", \"startlinecolor\": \"#2a3f5f\"}, \"baxis\": {\"endlinecolor\": \"#2a3f5f\", \"gridcolor\": \"white\", \"linecolor\": \"white\", \"minorgridcolor\": \"white\", \"startlinecolor\": \"#2a3f5f\"}, \"type\": \"carpet\"}], \"choropleth\": [{\"colorbar\": {\"outlinewidth\": 0, \"ticks\": \"\"}, \"type\": \"choropleth\"}], \"contour\": [{\"colorbar\": {\"outlinewidth\": 0, \"ticks\": \"\"}, \"colorscale\": [[0.0, \"#0d0887\"], [0.1111111111111111, \"#46039f\"], [0.2222222222222222, \"#7201a8\"], [0.3333333333333333, \"#9c179e\"], [0.4444444444444444, \"#bd3786\"], [0.5555555555555556, \"#d8576b\"], [0.6666666666666666, \"#ed7953\"], [0.7777777777777778, \"#fb9f3a\"], [0.8888888888888888, \"#fdca26\"], [1.0, \"#f0f921\"]], \"type\": \"contour\"}], \"contourcarpet\": [{\"colorbar\": {\"outlinewidth\": 0, \"ticks\": \"\"}, \"type\": \"contourcarpet\"}], \"heatmap\": [{\"colorbar\": {\"outlinewidth\": 0, \"ticks\": \"\"}, \"colorscale\": [[0.0, \"#0d0887\"], [0.1111111111111111, \"#46039f\"], [0.2222222222222222, \"#7201a8\"], [0.3333333333333333, \"#9c179e\"], [0.4444444444444444, \"#bd3786\"], [0.5555555555555556, \"#d8576b\"], [0.6666666666666666, \"#ed7953\"], [0.7777777777777778, \"#fb9f3a\"], [0.8888888888888888, \"#fdca26\"], [1.0, \"#f0f921\"]], \"type\": \"heatmap\"}], \"heatmapgl\": [{\"colorbar\": {\"outlinewidth\": 0, \"ticks\": \"\"}, \"colorscale\": [[0.0, \"#0d0887\"], [0.1111111111111111, \"#46039f\"], [0.2222222222222222, \"#7201a8\"], [0.3333333333333333, \"#9c179e\"], [0.4444444444444444, \"#bd3786\"], [0.5555555555555556, \"#d8576b\"], [0.6666666666666666, \"#ed7953\"], [0.7777777777777778, \"#fb9f3a\"], [0.8888888888888888, \"#fdca26\"], [1.0, \"#f0f921\"]], \"type\": \"heatmapgl\"}], \"histogram\": [{\"marker\": {\"colorbar\": {\"outlinewidth\": 0, \"ticks\": \"\"}}, \"type\": \"histogram\"}], \"histogram2d\": [{\"colorbar\": {\"outlinewidth\": 0, \"ticks\": \"\"}, \"colorscale\": [[0.0, \"#0d0887\"], [0.1111111111111111, \"#46039f\"], [0.2222222222222222, \"#7201a8\"], [0.3333333333333333, \"#9c179e\"], [0.4444444444444444, \"#bd3786\"], [0.5555555555555556, \"#d8576b\"], [0.6666666666666666, \"#ed7953\"], [0.7777777777777778, \"#fb9f3a\"], [0.8888888888888888, \"#fdca26\"], [1.0, \"#f0f921\"]], \"type\": \"histogram2d\"}], \"histogram2dcontour\": [{\"colorbar\": {\"outlinewidth\": 0, \"ticks\": \"\"}, \"colorscale\": [[0.0, \"#0d0887\"], [0.1111111111111111, \"#46039f\"], [0.2222222222222222, \"#7201a8\"], [0.3333333333333333, \"#9c179e\"], [0.4444444444444444, \"#bd3786\"], [0.5555555555555556, \"#d8576b\"], [0.6666666666666666, \"#ed7953\"], [0.7777777777777778, \"#fb9f3a\"], [0.8888888888888888, \"#fdca26\"], [1.0, \"#f0f921\"]], \"type\": \"histogram2dcontour\"}], \"mesh3d\": [{\"colorbar\": {\"outlinewidth\": 0, \"ticks\": \"\"}, \"type\": \"mesh3d\"}], \"parcoords\": [{\"line\": {\"colorbar\": {\"outlinewidth\": 0, \"ticks\": \"\"}}, \"type\": \"parcoords\"}], \"pie\": [{\"automargin\": true, \"type\": \"pie\"}], \"scatter\": [{\"marker\": {\"colorbar\": {\"outlinewidth\": 0, \"ticks\": \"\"}}, \"type\": \"scatter\"}], \"scatter3d\": [{\"line\": {\"colorbar\": {\"outlinewidth\": 0, \"ticks\": \"\"}}, \"marker\": {\"colorbar\": {\"outlinewidth\": 0, \"ticks\": \"\"}}, \"type\": \"scatter3d\"}], \"scattercarpet\": [{\"marker\": {\"colorbar\": {\"outlinewidth\": 0, \"ticks\": \"\"}}, \"type\": \"scattercarpet\"}], \"scattergeo\": [{\"marker\": {\"colorbar\": {\"outlinewidth\": 0, \"ticks\": \"\"}}, \"type\": \"scattergeo\"}], \"scattergl\": [{\"marker\": {\"colorbar\": {\"outlinewidth\": 0, \"ticks\": \"\"}}, \"type\": \"scattergl\"}], \"scattermapbox\": [{\"marker\": {\"colorbar\": {\"outlinewidth\": 0, \"ticks\": \"\"}}, \"type\": \"scattermapbox\"}], \"scatterpolar\": [{\"marker\": {\"colorbar\": {\"outlinewidth\": 0, \"ticks\": \"\"}}, \"type\": \"scatterpolar\"}], \"scatterpolargl\": [{\"marker\": {\"colorbar\": {\"outlinewidth\": 0, \"ticks\": \"\"}}, \"type\": \"scatterpolargl\"}], \"scatterternary\": [{\"marker\": {\"colorbar\": {\"outlinewidth\": 0, \"ticks\": \"\"}}, \"type\": \"scatterternary\"}], \"surface\": [{\"colorbar\": {\"outlinewidth\": 0, \"ticks\": \"\"}, \"colorscale\": [[0.0, \"#0d0887\"], [0.1111111111111111, \"#46039f\"], [0.2222222222222222, \"#7201a8\"], [0.3333333333333333, \"#9c179e\"], [0.4444444444444444, \"#bd3786\"], [0.5555555555555556, \"#d8576b\"], [0.6666666666666666, \"#ed7953\"], [0.7777777777777778, \"#fb9f3a\"], [0.8888888888888888, \"#fdca26\"], [1.0, \"#f0f921\"]], \"type\": \"surface\"}], \"table\": [{\"cells\": {\"fill\": {\"color\": \"#EBF0F8\"}, \"line\": {\"color\": \"white\"}}, \"header\": {\"fill\": {\"color\": \"#C8D4E3\"}, \"line\": {\"color\": \"white\"}}, \"type\": \"table\"}]}, \"layout\": {\"annotationdefaults\": {\"arrowcolor\": \"#2a3f5f\", \"arrowhead\": 0, \"arrowwidth\": 1}, \"autotypenumbers\": \"strict\", \"coloraxis\": {\"colorbar\": {\"outlinewidth\": 0, \"ticks\": \"\"}}, \"colorscale\": {\"diverging\": [[0, \"#8e0152\"], [0.1, \"#c51b7d\"], [0.2, \"#de77ae\"], [0.3, \"#f1b6da\"], [0.4, \"#fde0ef\"], [0.5, \"#f7f7f7\"], [0.6, \"#e6f5d0\"], [0.7, \"#b8e186\"], [0.8, \"#7fbc41\"], [0.9, \"#4d9221\"], [1, \"#276419\"]], \"sequential\": [[0.0, \"#0d0887\"], [0.1111111111111111, \"#46039f\"], [0.2222222222222222, \"#7201a8\"], [0.3333333333333333, \"#9c179e\"], [0.4444444444444444, \"#bd3786\"], [0.5555555555555556, \"#d8576b\"], [0.6666666666666666, \"#ed7953\"], [0.7777777777777778, \"#fb9f3a\"], [0.8888888888888888, \"#fdca26\"], [1.0, \"#f0f921\"]], \"sequentialminus\": [[0.0, \"#0d0887\"], [0.1111111111111111, \"#46039f\"], [0.2222222222222222, \"#7201a8\"], [0.3333333333333333, \"#9c179e\"], [0.4444444444444444, \"#bd3786\"], [0.5555555555555556, \"#d8576b\"], [0.6666666666666666, \"#ed7953\"], [0.7777777777777778, \"#fb9f3a\"], [0.8888888888888888, \"#fdca26\"], [1.0, \"#f0f921\"]]}, \"colorway\": [\"#636efa\", \"#EF553B\", \"#00cc96\", \"#ab63fa\", \"#FFA15A\", \"#19d3f3\", \"#FF6692\", \"#B6E880\", \"#FF97FF\", \"#FECB52\"], \"font\": {\"color\": \"#2a3f5f\"}, \"geo\": {\"bgcolor\": \"white\", \"lakecolor\": \"white\", \"landcolor\": \"#E5ECF6\", \"showlakes\": true, \"showland\": true, \"subunitcolor\": \"white\"}, \"hoverlabel\": {\"align\": \"left\"}, \"hovermode\": \"closest\", \"mapbox\": {\"style\": \"light\"}, \"paper_bgcolor\": \"white\", \"plot_bgcolor\": \"#E5ECF6\", \"polar\": {\"angularaxis\": {\"gridcolor\": \"white\", \"linecolor\": \"white\", \"ticks\": \"\"}, \"bgcolor\": \"#E5ECF6\", \"radialaxis\": {\"gridcolor\": \"white\", \"linecolor\": \"white\", \"ticks\": \"\"}}, \"scene\": {\"xaxis\": {\"backgroundcolor\": \"#E5ECF6\", \"gridcolor\": \"white\", \"gridwidth\": 2, \"linecolor\": \"white\", \"showbackground\": true, \"ticks\": \"\", \"zerolinecolor\": \"white\"}, \"yaxis\": {\"backgroundcolor\": \"#E5ECF6\", \"gridcolor\": \"white\", \"gridwidth\": 2, \"linecolor\": \"white\", \"showbackground\": true, \"ticks\": \"\", \"zerolinecolor\": \"white\"}, \"zaxis\": {\"backgroundcolor\": \"#E5ECF6\", \"gridcolor\": \"white\", \"gridwidth\": 2, \"linecolor\": \"white\", \"showbackground\": true, \"ticks\": \"\", \"zerolinecolor\": \"white\"}}, \"shapedefaults\": {\"line\": {\"color\": \"#2a3f5f\"}}, \"ternary\": {\"aaxis\": {\"gridcolor\": \"white\", \"linecolor\": \"white\", \"ticks\": \"\"}, \"baxis\": {\"gridcolor\": \"white\", \"linecolor\": \"white\", \"ticks\": \"\"}, \"bgcolor\": \"#E5ECF6\", \"caxis\": {\"gridcolor\": \"white\", \"linecolor\": \"white\", \"ticks\": \"\"}}, \"title\": {\"x\": 0.05}, \"xaxis\": {\"automargin\": true, \"gridcolor\": \"white\", \"linecolor\": \"white\", \"ticks\": \"\", \"title\": {\"standoff\": 15}, \"zerolinecolor\": \"white\", \"zerolinewidth\": 2}, \"yaxis\": {\"automargin\": true, \"gridcolor\": \"white\", \"linecolor\": \"white\", \"ticks\": \"\", \"title\": {\"standoff\": 15}, \"zerolinecolor\": \"white\", \"zerolinewidth\": 2}}}, \"title\": {\"text\": \"12 Clusters\"}, \"xaxis\": {\"anchor\": \"y\", \"domain\": [0.0, 1.0], \"title\": {\"text\": \"x\"}}, \"yaxis\": {\"anchor\": \"x\", \"domain\": [0.0, 1.0], \"title\": {\"text\": \"y\"}}},                        {\"responsive\": true}                    ).then(function(){\n",
       "                            \n",
       "var gd = document.getElementById('e1620f97-77c2-479c-8452-d8569a31a299');\n",
       "var x = new MutationObserver(function (mutations, observer) {{\n",
       "        var display = window.getComputedStyle(gd).display;\n",
       "        if (!display || display === 'none') {{\n",
       "            console.log([gd, 'removed!']);\n",
       "            Plotly.purge(gd);\n",
       "            observer.disconnect();\n",
       "        }}\n",
       "}});\n",
       "\n",
       "// Listen for the removal of the full notebook cells\n",
       "var notebookContainer = gd.closest('#notebook-container');\n",
       "if (notebookContainer) {{\n",
       "    x.observe(notebookContainer, {childList: true});\n",
       "}}\n",
       "\n",
       "// Listen for the clearing of the current output cell\n",
       "var outputEl = gd.closest('.output');\n",
       "if (outputEl) {{\n",
       "    x.observe(outputEl, {childList: true});\n",
       "}}\n",
       "\n",
       "                        })                };                });            </script>        </div>"
      ]
     },
     "metadata": {},
     "output_type": "display_data"
    },
    {
     "data": {
      "application/vnd.plotly.v1+json": {
       "config": {
        "plotlyServerURL": "https://plot.ly"
       },
       "data": [
        {
         "customdata": [
          [
           "1blx_1"
          ],
          [
           "1byg_1"
          ],
          [
           "1fmk_1"
          ],
          [
           "1j1b_1"
          ],
          [
           "1o6l_1"
          ],
          [
           "1qpc_1"
          ],
          [
           "1s9i_1"
          ],
          [
           "1u59_1"
          ],
          [
           "1ua2_1"
          ],
          [
           "1wak_1"
          ],
          [
           "1x8b_1"
          ],
          [
           "1xjd_1"
          ],
          [
           "2a2a_1"
          ],
          [
           "2ac3_1"
          ],
          [
           "2buj_1"
          ],
          [
           "2cmw_1"
          ],
          [
           "2dq7_1"
          ],
          [
           "2dq7_2"
          ],
          [
           "2eva_1"
          ],
          [
           "2h6d_1"
          ],
          [
           "2hw6_1"
          ],
          [
           "2i0e_1"
          ],
          [
           "2izr_1"
          ],
          [
           "2j0i_1"
          ],
          [
           "2jam_1"
          ],
          [
           "2jc6_1"
          ],
          [
           "2qlu_1"
          ],
          [
           "2qol_1"
          ],
          [
           "2r2p_1"
          ],
          [
           "2r4b_1"
          ],
          [
           "2r5t_1"
          ],
          [
           "2rei_1"
          ],
          [
           "2rku_1"
          ],
          [
           "2vd5_1"
          ],
          [
           "2vz6_1"
          ],
          [
           "2w4o_1"
          ],
          [
           "2wel_1"
          ],
          [
           "2x7g_1"
          ],
          [
           "2xik_1"
          ],
          [
           "2xir_1"
          ],
          [
           "2xrw_1"
          ],
          [
           "2y4i_1"
          ],
          [
           "2y7j_1"
          ],
          [
           "2ycf_1"
          ],
          [
           "2yex_1"
          ],
          [
           "3a7i_1"
          ],
          [
           "3a99_1"
          ],
          [
           "3aln_1"
          ],
          [
           "3b2t_1"
          ],
          [
           "3bhh_1"
          ],
          [
           "3bhy_1"
          ],
          [
           "3brb_1"
          ],
          [
           "3bu3_1"
          ],
          [
           "3c0i_1"
          ],
          [
           "3cbl_1"
          ],
          [
           "3cc6_1"
          ],
          [
           "3cok_1"
          ],
          [
           "3com_1"
          ],
          [
           "3dls_1"
          ],
          [
           "3dtc_1"
          ],
          [
           "3eqc_1"
          ],
          [
           "3fe3_1"
          ],
          [
           "3fhr_1"
          ],
          [
           "3fme_1"
          ],
          [
           "3fxz_1"
          ],
          [
           "3g2f_1"
          ],
          [
           "3ggf_1"
          ],
          [
           "3gp0_1"
          ],
          [
           "3hmi_1"
          ],
          [
           "3hng_1"
          ],
          [
           "3iec_1"
          ],
          [
           "3kmu_1"
          ],
          [
           "3kul_1"
          ],
          [
           "3lco_1"
          ],
          [
           "3lm5_1"
          ],
          [
           "3lm5_2"
          ],
          [
           "3lxp_1"
          ],
          [
           "3m2w_1"
          ],
          [
           "3mdy_1"
          ],
          [
           "3mi9_1"
          ],
          [
           "3my0_1"
          ],
          [
           "3omv_1"
          ],
          [
           "3pls_1"
          ],
          [
           "3pp0_1"
          ],
          [
           "3q4u_1"
          ],
          [
           "3soc_1"
          ],
          [
           "3sxs_1"
          ],
          [
           "3txo_1"
          ],
          [
           "3ugc_1"
          ],
          [
           "3war_1"
          ],
          [
           "3zdu_1"
          ],
          [
           "3zfm_1"
          ],
          [
           "4aaa_1"
          ],
          [
           "4af3_1"
          ],
          [
           "4agu_1"
          ],
          [
           "4b6l_1"
          ],
          [
           "4b9d_1"
          ],
          [
           "4bgq_1"
          ],
          [
           "4bkj_1"
          ],
          [
           "4ckj_1"
          ],
          [
           "4crs_1"
          ],
          [
           "4euu_1"
          ],
          [
           "4f9c_1"
          ],
          [
           "4fg8_1"
          ],
          [
           "4fkl_1"
          ],
          [
           "4fr4_1"
          ],
          [
           "4gv1_1"
          ],
          [
           "4hcu_1"
          ],
          [
           "4hni_1"
          ],
          [
           "4hvs_1"
          ],
          [
           "4hzr_1"
          ],
          [
           "4i4e_1"
          ],
          [
           "4i5p_1"
          ],
          [
           "4idt_1"
          ],
          [
           "4iir_1"
          ],
          [
           "4js8_1"
          ],
          [
           "4k33_1"
          ],
          [
           "4kik_1"
          ],
          [
           "4kik_2"
          ],
          [
           "4ks7_1"
          ],
          [
           "4l00_2"
          ],
          [
           "4l42_2"
          ],
          [
           "4l6q_1"
          ],
          [
           "4lg4_1"
          ],
          [
           "4mwi_1"
          ],
          [
           "4nfn_1"
          ],
          [
           "4nst_1"
          ],
          [
           "4nw6_1"
          ],
          [
           "4oth_1"
          ],
          [
           "4pf4_1"
          ],
          [
           "4pwn_1"
          ],
          [
           "4qpm_1"
          ],
          [
           "4qqt_1"
          ],
          [
           "4qtb_1"
          ],
          [
           "4qtc_1"
          ],
          [
           "4r1v_1"
          ],
          [
           "4ra4_1"
          ],
          [
           "4tnd_2"
          ],
          [
           "4usf_1"
          ],
          [
           "4w9w_1"
          ],
          [
           "4wb8_1"
          ],
          [
           "4wno_1"
          ],
          [
           "4x7k_1"
          ],
          [
           "4x7q_1"
          ],
          [
           "4y85_1"
          ],
          [
           "4y8d_1"
          ],
          [
           "4yfi_1"
          ],
          [
           "4yhj_1"
          ],
          [
           "4yjr_1"
          ],
          [
           "4ylk_1"
          ],
          [
           "4yno_1"
          ],
          [
           "4z55_1"
          ],
          [
           "4zzn_1"
          ],
          [
           "5ax9_1"
          ],
          [
           "5b2l_1"
          ],
          [
           "5byz_1"
          ],
          [
           "5cen_1"
          ],
          [
           "5e8s_1"
          ],
          [
           "5e8v_1"
          ],
          [
           "5efq_1"
          ],
          [
           "5ew8_1"
          ],
          [
           "5g6v_1"
          ],
          [
           "5grn_1"
          ],
          [
           "5h0b_1"
          ],
          [
           "5hu9_1"
          ],
          [
           "5ita_1"
          ],
          [
           "5j5t_1"
          ],
          [
           "5jfw_1"
          ],
          [
           "5jga_1"
          ],
          [
           "5jzj_1"
          ],
          [
           "5k00_2"
          ],
          [
           "5l6o_1"
          ],
          [
           "5l8l_1"
          ],
          [
           "5li9_1"
          ],
          [
           "5lqf_1"
          ],
          [
           "5lvo_1"
          ],
          [
           "5lwm_1"
          ],
          [
           "5lxc_1"
          ],
          [
           "5mja_1"
          ],
          [
           "5ng0_1"
          ],
          [
           "5nxd_1"
          ],
          [
           "5o0y_1"
          ],
          [
           "5o1v_1"
          ],
          [
           "5ote_1"
          ],
          [
           "5p9j_1"
          ],
          [
           "5te0_1"
          ],
          [
           "5te0_2"
          ],
          [
           "5u6b_1"
          ],
          [
           "5ug9_1"
          ],
          [
           "5uit_1"
          ],
          [
           "5uyj_1"
          ],
          [
           "5vcz_1"
          ],
          [
           "5vdk_1"
          ],
          [
           "5wne_1"
          ],
          [
           "5x5o_1"
          ],
          [
           "5xs2_1"
          ],
          [
           "5y86_1"
          ],
          [
           "5yf9_1"
          ],
          [
           "5yks_1"
          ],
          [
           "6bfn_1"
          ],
          [
           "6bxi_1"
          ],
          [
           "6c0t_1"
          ],
          [
           "6c9d_1"
          ],
          [
           "6ccf_1"
          ],
          [
           "6cz4_1"
          ],
          [
           "6eim_1"
          ],
          [
           "6fd3_1"
          ],
          [
           "6fdy_1"
          ],
          [
           "6fng_1"
          ],
          [
           "6fnk_1"
          ],
          [
           "6ft8_1"
          ],
          [
           "6fyl_1"
          ],
          [
           "6fyr_1"
          ],
          [
           "6fyv_1"
          ],
          [
           "6gzm_1"
          ],
          [
           "6op9_1"
          ],
          [
           "7aqb_1"
          ]
         ],
         "hovertemplate": "Clusters=2<br>x=%{x}<br>y=%{y}<br>Pockets=%{customdata[0]}<extra></extra>",
         "legendgroup": "2",
         "marker": {
          "color": "#636efa",
          "symbol": "circle"
         },
         "mode": "markers",
         "name": "2",
         "scene": "scene",
         "showlegend": true,
         "type": "scatter3d",
         "x": [
          0.5961276418885346,
          0.2974440303203414,
          0.11443892299709645,
          0.146720080779309,
          0.20411135235648586,
          -0.1666629106723333,
          -0.2845426837878479,
          0.2894930321974563,
          -0.243045576641394,
          -0.020809278955456027,
          -0.042522697153416826,
          0.21781508295524263,
          0.21819619065024012,
          -0.6131260651606313,
          -0.2628575178998163,
          0.38670140310092144,
          0.1736318694111562,
          0.5988999842008791,
          0.11581640096515368,
          -0.1067058898671473,
          -0.6113170141352195,
          0.2744230825977126,
          0.3170191497111721,
          -0.025826894859162123,
          0.5905060558541326,
          0.41063429754172814,
          -0.22277299890236668,
          -0.33024971092343103,
          -0.28946446689645117,
          -0.10279157066237873,
          0.3722291957738864,
          -0.20261570404322152,
          0.31729630205282455,
          0.19962488692885477,
          0.09624495148605619,
          0.4267148779355718,
          -0.19259217594291925,
          -0.0748523824787368,
          0.018879460580682718,
          -0.35833929515996454,
          -0.1184047701695428,
          -0.21052989305791264,
          0.1650155328352711,
          -0.11382349121210909,
          -0.02216101044932757,
          -0.056227756858023406,
          0.11194027810935926,
          0.25701291695583006,
          0.05028392138287262,
          0.43408699326620487,
          0.16395373477431077,
          0.15060216768095305,
          -0.06545219633126202,
          0.30400030547726603,
          0.36196885722098343,
          0.5527746468602448,
          0.12507028906539022,
          -0.3252963009264483,
          0.4672499993203468,
          -0.041523742835097396,
          0.28056036781375876,
          0.5271569885821036,
          0.41103894430019666,
          0.11683750432551818,
          -0.4758490160539273,
          0.42464526109693135,
          -0.2364630543465834,
          -0.4317435041601726,
          -0.2774429498196382,
          -0.36413010581214367,
          -0.09078017703913907,
          -0.14258705145736475,
          -0.22452419013705188,
          -0.28811139907924443,
          0.17965089520712735,
          -0.24565409519634746,
          -0.1615992661930536,
          0.44049510156272426,
          -0.12599783290861508,
          -0.08976246062192487,
          0.07188729409485806,
          -0.3704940014840577,
          -0.10965008583227445,
          -0.2388541573569877,
          -0.02288154974000241,
          0.1294474046555576,
          0.19099678867616812,
          0.3649576851005545,
          -0.3930577739108597,
          0.048751811441543016,
          0.0782062836805481,
          -0.44764426507973953,
          0.4738355241942323,
          -0.17671429324332172,
          0.17757130011058908,
          -0.025240804320925434,
          -0.42948604527542944,
          -0.0018455029354667344,
          -0.5119378390390801,
          0.19269618956469217,
          0.22270034677181508,
          0.04408671078989062,
          0.42728990136726885,
          0.5372105183439019,
          -0.19060318172727234,
          0.06963556734257019,
          0.17118292041713437,
          -0.1958721429178437,
          0.09050574358601426,
          -0.5169650241117959,
          0.21700456232646528,
          -0.028709148309540578,
          -0.12782983624696748,
          -0.10105966383178054,
          0.2954727188737259,
          -0.3897075901427829,
          -0.0511860093117504,
          0.30977584346154036,
          0.1362974520828646,
          -0.05379303077219151,
          -0.49246654515765487,
          -0.22880509425228307,
          0.16202204139908252,
          -0.3012768162061902,
          -0.024229934651746252,
          -0.09171891048792545,
          0.28212704180488773,
          0.2088100557879533,
          0.21362756298829805,
          0.25025132306190084,
          0.5947437711985748,
          0.02282339391248028,
          -0.2085895293294772,
          0.029100293713681013,
          0.28152580890698803,
          -0.47597292015817194,
          0.43915780883449856,
          -0.06866822852281108,
          -0.5452893002360485,
          0.021382817923787545,
          0.27707226330817053,
          0.11904419025454277,
          -0.16818353015546686,
          0.28730576089916915,
          -0.15457966242713983,
          0.3441820416992452,
          -0.12722184383643997,
          -0.22138917710195852,
          -0.08077223947845884,
          0.05488117070979766,
          0.08325451760351438,
          -0.1959527520628259,
          -0.041056388673854326,
          0.010286300344762727,
          -0.2842715511229391,
          0.3271879326312918,
          -0.3703871572457089,
          -0.09572317025058218,
          0.035732668759193835,
          0.2680182928767071,
          -0.2844937539630983,
          -0.42068606838938394,
          -0.40735097787403984,
          0.08194812292942893,
          -0.35930250991885493,
          0.17857804187722812,
          -0.00010886144979932616,
          -0.3470114768522996,
          0.13901443879027642,
          0.0960917193680434,
          0.03278933347869022,
          0.2604441876143419,
          -0.07349808650326244,
          0.24792452847786248,
          0.08617917048150667,
          0.054946826568103,
          0.21743638528432951,
          0.19134039326656863,
          0.23975324960128225,
          0.07437220898674202,
          0.5189384096392753,
          0.4582749513056445,
          -0.21491804976080903,
          0.1437711027628745,
          -0.18659589870169477,
          0.04384289330928173,
          -0.4109939857193766,
          0.45121417104045747,
          0.05113162914604862,
          0.3696187519350215,
          0.3601272697625068,
          0.03579151174518896,
          0.0439939880292386,
          0.12474400990873753,
          -0.3013093081583096,
          0.14394870800948656,
          0.11522506037217076,
          0.06913892133152376,
          -0.15549323266253412,
          -0.46160472589647594,
          0.2731775330875275,
          0.2587853245902673,
          0.11246956891541383,
          0.16767508669741124,
          -0.4240008242049854,
          -0.4649646519741768,
          -0.006050506943123186,
          -0.16877796549969618,
          -0.3978151948376718,
          -0.17878402050637965,
          0.05676489792711935,
          0.07624359098767244,
          0.09233228385158473,
          0.15144863706927902,
          0.3813045300566796,
          0.1921741980676372,
          -0.08113525666176062
         ],
         "y": [
          -0.33576594701830204,
          -0.2557240840679336,
          0.6508123994315878,
          -0.017323879576764328,
          0.19990805411790333,
          -0.3346200316254367,
          0.16998390303124042,
          -0.13698988221264455,
          0.08876242248718635,
          0.33128587890898603,
          0.0017008145489158931,
          -0.39545285014294673,
          0.16193221656471624,
          -0.31148518507681555,
          -0.2928421883603981,
          0.028724105823720154,
          -0.36107066901493096,
          0.24202434900550476,
          -0.47182307595037226,
          0.5057177012234702,
          -0.2418648530146871,
          -0.4777792033266974,
          -0.18027422323301984,
          -0.12702149255619058,
          -0.25972435216385437,
          0.17722187811522713,
          -0.45110128854420245,
          -0.23798405064120942,
          -0.11264180654873061,
          -0.18814403058792328,
          -0.04563483980285045,
          -0.21977017152021439,
          -0.4891008024592797,
          0.09485463012637546,
          -0.5398696980015392,
          -0.2080684566507264,
          -0.5728603219001582,
          0.2112631212221309,
          -0.33260169426879943,
          -0.16752029614082728,
          0.19705460304006178,
          0.2553274710440096,
          -0.09362038703189504,
          0.05880101394198003,
          -0.351484666113025,
          -0.23454609168947846,
          0.15503209209210647,
          0.295967577316615,
          -0.07434372346852829,
          -0.36303911901289876,
          0.02502928699001867,
          -0.5918996831692511,
          -0.5584875961565481,
          0.0026893591315200163,
          -0.19751402622553124,
          -0.16223668466270208,
          -0.14217251524010727,
          -0.45860246002657334,
          -0.3395697599465683,
          -0.1630738565320339,
          0.14125708072403775,
          -0.12316724762185952,
          0.07187459468250686,
          -0.5855265969998558,
          -0.08047480137263005,
          -0.008399147593378163,
          0.011471302141179009,
          -0.30092944363383656,
          -0.19774019396682632,
          -0.10975134236989781,
          -0.426055588245707,
          0.3936225480032141,
          -0.3645636656794383,
          -0.31075946284588907,
          -0.32979213584516925,
          0.4930810472509544,
          -0.40227685211524167,
          -0.13788280294979516,
          -0.25456337909006505,
          -0.49214743471169603,
          0.7063047385250821,
          -0.19299996523070811,
          -0.11382645400136343,
          -0.3330040035085667,
          0.1673236850962502,
          0.7500719014885926,
          -0.4763988904448907,
          -0.11186392853012768,
          -0.08008572374518748,
          0.23672917888528616,
          -0.21534431259528022,
          -0.35029214599572706,
          -0.21234117026688243,
          -0.545997251221438,
          -0.1769561712747364,
          0.10392351018865888,
          -0.41106874297672935,
          -0.41939028609525175,
          0.10953784552936964,
          -0.013217559326895535,
          0.14952556427264455,
          0.10129823822307138,
          -0.2662260389253663,
          -0.06734975922456339,
          0.10307760114771063,
          -0.35556161984638796,
          0.11028063635616454,
          0.006935747631670587,
          -0.6023962168308777,
          -0.11646336807370532,
          -0.5288247096347914,
          -0.49503404004275825,
          0.14455993971014988,
          -0.41863176570666333,
          -0.35086520356705475,
          -0.2856829094391005,
          0.02907428242119336,
          0.566712308870896,
          -0.38285463775444645,
          0.11745170000410117,
          -0.2828292431518668,
          -0.5204248298776573,
          0.1573569398461829,
          -0.1712341178933716,
          -0.04448586513355716,
          0.24199449139612605,
          0.02411121577927025,
          -0.49985232280482667,
          -0.11035682184311948,
          0.20860374967771872,
          -0.22188109919656732,
          0.20874936334699437,
          -0.09803691833463957,
          -0.03416361013482603,
          0.06751442104692276,
          -0.4047131304424597,
          -0.3966175121447739,
          0.6450058901729349,
          -0.0514849155255243,
          0.007465117173862611,
          0.1067962840276667,
          -0.050953037706135,
          0.30603261493726275,
          -0.43734148292200886,
          -0.6178067365197195,
          -0.35004984462142785,
          -0.2825541586392096,
          0.39595487265855983,
          -0.5668493913221563,
          0.05763819643652973,
          -0.26453620294177294,
          -0.3427630153226153,
          -0.4261641409023441,
          -0.5009752244676318,
          -0.5049004676385727,
          -0.41675025930243004,
          -0.48595579129108735,
          -0.31797098839328364,
          -0.12977039262752785,
          -0.03192033722896516,
          -0.39809845757103274,
          -0.47671315861203567,
          0.076065213931721,
          0.5872478166376882,
          -0.337186801444862,
          -0.29674052147181385,
          -0.3073708864037899,
          0.11796714361979427,
          -0.43223343474331577,
          0.26609207943041935,
          -0.5300752961658491,
          -0.5841707266255164,
          -0.08008942237221436,
          0.07911781941120843,
          -0.1546299845686779,
          0.008819231777131138,
          0.2660817078956108,
          0.06198211200336022,
          -0.3564426926140439,
          -0.43345982309029585,
          -0.03736518121594413,
          0.04594880191015461,
          -0.03553999361852808,
          0.22985721249432103,
          -0.1968829365952152,
          -0.3886147040383988,
          0.502752305319207,
          -0.2910304747894153,
          -0.17003755141316454,
          -0.41587904981563467,
          -0.3066346446803659,
          0.12670706396455594,
          -0.2588465520656011,
          0.13345149477479554,
          0.009220036559510234,
          0.3289953012369758,
          0.07454352948713738,
          -0.633945933861569,
          -0.5164732791157879,
          -0.246887294901041,
          0.3305206909850317,
          0.1736735428160602,
          0.2783108716178258,
          -0.22480723353861354,
          0.0379632316634156,
          -0.17283358855278558,
          0.07063309963138188,
          0.06342343937769475,
          -0.062111520586599286,
          -0.049796076380394565,
          0.3716263617790039,
          0.051034221233757934,
          0.020591414621243375,
          0.05744492777784249,
          -0.47559126377849276,
          -0.06620156692157535,
          -0.5178247172241304
         ]
        },
        {
         "customdata": [
          [
           "1fmk_2"
          ],
          [
           "2xir_2"
          ],
          [
           "2y4i_3"
          ],
          [
           "3aln_2"
          ],
          [
           "3gp0_2"
          ],
          [
           "3hng_2"
          ],
          [
           "4agu_2"
          ],
          [
           "4itj_1"
          ],
          [
           "4y85_2"
          ],
          [
           "4yz9_1"
          ],
          [
           "5hu9_2"
          ]
         ],
         "hovertemplate": "Clusters=1<br>x=%{x}<br>y=%{y}<br>Pockets=%{customdata[0]}<extra></extra>",
         "legendgroup": "1",
         "marker": {
          "color": "#EF553B",
          "symbol": "circle"
         },
         "mode": "markers",
         "name": "1",
         "scene": "scene",
         "showlegend": true,
         "type": "scatter3d",
         "x": [
          -0.38969898792819546,
          -0.5742605279897315,
          -0.7414243106744272,
          -0.6944743794021253,
          -0.645914139109909,
          -0.6175503837024517,
          -0.7042511579383056,
          -0.6917892563530911,
          -0.6356206567680075,
          -0.7253753356891217,
          0.6306744864029277
         ],
         "y": [
          0.5113798194075608,
          0.34726411075075914,
          0.03899822726129575,
          0.1083701122142418,
          0.21431288887642197,
          0.2815800890438085,
          -0.019321480417340522,
          0.03633105142600484,
          0.1529442496094333,
          -0.10044916333582966,
          0.15943007297688802
         ]
        },
        {
         "customdata": [
          [
           "1p4o_1"
          ],
          [
           "1tki_1"
          ],
          [
           "1u59_2"
          ],
          [
           "1vzo_1"
          ],
          [
           "2acx_1"
          ],
          [
           "2acx_2"
          ],
          [
           "2vz6_2"
          ],
          [
           "2wel_2"
          ],
          [
           "3dtc_2"
          ],
          [
           "3e7o_1"
          ],
          [
           "3hmi_2"
          ],
          [
           "3iec_2"
          ],
          [
           "3kmu_2"
          ],
          [
           "3q4u_2"
          ],
          [
           "4l42_1"
          ],
          [
           "4tnd_3"
          ],
          [
           "4tnd_4"
          ],
          [
           "4yhj_2"
          ],
          [
           "4z55_2"
          ]
         ],
         "hovertemplate": "Clusters=0<br>x=%{x}<br>y=%{y}<br>Pockets=%{customdata[0]}<extra></extra>",
         "legendgroup": "0",
         "marker": {
          "color": "#00cc96",
          "symbol": "circle"
         },
         "mode": "markers",
         "name": "0",
         "scene": "scene",
         "showlegend": true,
         "type": "scatter3d",
         "x": [
          0.371458425580335,
          0.4196163396166567,
          0.5132723757103552,
          -0.5686392840153324,
          0.29609339141974483,
          -0.10177214463268368,
          0.4514598992620987,
          -0.3836823890686169,
          -0.23528108179763846,
          0.5002979221219399,
          0.6241622044705679,
          0.1997981463497105,
          0.6067224953988821,
          -0.2994894692880347,
          -0.6032115197104501,
          -0.018953223522472674,
          -0.47496626706666173,
          -0.42660398985998915,
          -0.2703961383151004
         ],
         "y": [
          0.584782425042664,
          0.5454357725591823,
          0.4612600829016872,
          0.3205038759933024,
          0.6269703932031393,
          0.7857656613508469,
          0.5411426727591155,
          0.5646526595196596,
          0.7596214976236707,
          0.5033137976783609,
          0.3346655220759087,
          0.6239779841641164,
          0.3757606742693309,
          0.5953790333234537,
          0.275598543915919,
          0.7515861392929194,
          0.3922942855861326,
          0.418265943466759,
          0.5771749004776126
         ]
        },
        {
         "customdata": [
          [
           "1xjd_2"
          ],
          [
           "3v5w_3"
          ],
          [
           "4tnd_1"
          ],
          [
           "4yhj_3"
          ],
          [
           "5k00_1"
          ]
         ],
         "hovertemplate": "Clusters=7<br>x=%{x}<br>y=%{y}<br>Pockets=%{customdata[0]}<extra></extra>",
         "legendgroup": "7",
         "marker": {
          "color": "#ab63fa",
          "symbol": "circle"
         },
         "mode": "markers",
         "name": "7",
         "scene": "scene",
         "showlegend": true,
         "type": "scatter3d",
         "x": [
          0.18800932357354508,
          0.0287186198247884,
          -0.5063029972071663,
          -0.06465061389877455,
          0.25945045820535007
         ],
         "y": [
          0.6693856036085792,
          0.8090694968602165,
          0.4152838405987932,
          0.8128771410026626,
          0.6203562311181358
         ]
        },
        {
         "customdata": [
          [
           "2f57_1"
          ],
          [
           "4asz_1"
          ],
          [
           "4asz_2"
          ],
          [
           "4asz_3"
          ],
          [
           "4ymj_1"
          ]
         ],
         "hovertemplate": "Clusters=4<br>x=%{x}<br>y=%{y}<br>Pockets=%{customdata[0]}<extra></extra>",
         "legendgroup": "4",
         "marker": {
          "color": "#FFA15A",
          "symbol": "circle"
         },
         "mode": "markers",
         "name": "4",
         "scene": "scene",
         "showlegend": true,
         "type": "scatter3d",
         "x": [
          -0.5841801746247878,
          0.8765688952097321,
          -0.8221303077876737,
          -0.9022054539497001,
          -0.7182089750739988
         ],
         "y": [
          0.6598976436949139,
          0.23726144932573204,
          0.3590777928094316,
          0.0790033067989181,
          0.5296987784226596
         ]
        },
        {
         "customdata": [
          [
           "2fst_1"
          ],
          [
           "4qtb_2"
          ],
          [
           "4zzn_2"
          ]
         ],
         "hovertemplate": "Clusters=8<br>x=%{x}<br>y=%{y}<br>Pockets=%{customdata[0]}<extra></extra>",
         "legendgroup": "8",
         "marker": {
          "color": "#19d3f3",
          "symbol": "circle"
         },
         "mode": "markers",
         "name": "8",
         "scene": "scene",
         "showlegend": true,
         "type": "scatter3d",
         "x": [
          0.28042360031413444,
          -0.20763555382828658,
          -0.17980929496148534
         ],
         "y": [
          0.7612742620899166,
          0.7198732892271611,
          0.7055900387542041
         ]
        },
        {
         "customdata": [
          [
           "2y4i_2"
          ],
          [
           "4crs_2"
          ],
          [
           "5li9_2"
          ]
         ],
         "hovertemplate": "Clusters=9<br>x=%{x}<br>y=%{y}<br>Pockets=%{customdata[0]}<extra></extra>",
         "legendgroup": "9",
         "marker": {
          "color": "#FF6692",
          "symbol": "circle"
         },
         "mode": "markers",
         "name": "9",
         "scene": "scene",
         "showlegend": true,
         "type": "scatter3d",
         "x": [
          -0.7210088535564654,
          0.679051433420849,
          0.712459571475474
         ],
         "y": [
          -0.062220781362327546,
          0.18738714991358735,
          0.08174355632946526
         ]
        },
        {
         "customdata": [
          [
           "3s95_1"
          ],
          [
           "3soc_2"
          ],
          [
           "3v5w_1"
          ],
          [
           "6bru_1"
          ]
         ],
         "hovertemplate": "Clusters=3<br>x=%{x}<br>y=%{y}<br>Pockets=%{customdata[0]}<extra></extra>",
         "legendgroup": "3",
         "marker": {
          "color": "#B6E880",
          "symbol": "circle"
         },
         "mode": "markers",
         "name": "3",
         "scene": "scene",
         "showlegend": true,
         "type": "scatter3d",
         "x": [
          -0.32276182844201246,
          0.2247170385159515,
          0.06251849271699142,
          0.5578631726506524
         ],
         "y": [
          0.7906720521585726,
          0.7931133567532067,
          0.46329154684738316,
          0.3795658045105587
         ]
        },
        {
         "customdata": [
          [
           "3v5w_2"
          ]
         ],
         "hovertemplate": "Clusters=11<br>x=%{x}<br>y=%{y}<br>Pockets=%{customdata[0]}<extra></extra>",
         "legendgroup": "11",
         "marker": {
          "color": "#FF97FF",
          "symbol": "circle"
         },
         "mode": "markers",
         "name": "11",
         "scene": "scene",
         "showlegend": true,
         "type": "scatter3d",
         "x": [
          0.42291211256416517
         ],
         "y": [
          0.7480841857104454
         ]
        },
        {
         "customdata": [
          [
           "4l00_1"
          ],
          [
           "6cz4_2"
          ]
         ],
         "hovertemplate": "Clusters=10<br>x=%{x}<br>y=%{y}<br>Pockets=%{customdata[0]}<extra></extra>",
         "legendgroup": "10",
         "marker": {
          "color": "#FECB52",
          "symbol": "circle"
         },
         "mode": "markers",
         "name": "10",
         "scene": "scene",
         "showlegend": true,
         "type": "scatter3d",
         "x": [
          0.4679207829898299,
          -0.05053508901397303
         ],
         "y": [
          0.4774889447181482,
          0.6406517217609907
         ]
        },
        {
         "customdata": [
          [
           "4qpm_2"
          ],
          [
           "4yfi_2"
          ],
          [
           "5grn_2"
          ],
          [
           "5j5t_2"
          ],
          [
           "6eim_2"
          ]
         ],
         "hovertemplate": "Clusters=5<br>x=%{x}<br>y=%{y}<br>Pockets=%{customdata[0]}<extra></extra>",
         "legendgroup": "5",
         "marker": {
          "color": "#636efa",
          "symbol": "circle"
         },
         "mode": "markers",
         "name": "5",
         "scene": "scene",
         "showlegend": true,
         "type": "scatter3d",
         "x": [
          0.5645460402463665,
          0.6633026572537147,
          -0.49151317810315015,
          -0.508462271956095,
          0.729582707498679
         ],
         "y": [
          0.44236245669546564,
          0.2859610901681443,
          0.48923717101056613,
          0.46354443099003934,
          0.06633993632906818
         ]
        },
        {
         "customdata": [
          [
           "5xs2_2"
          ]
         ],
         "hovertemplate": "Clusters=6<br>x=%{x}<br>y=%{y}<br>Pockets=%{customdata[0]}<extra></extra>",
         "legendgroup": "6",
         "marker": {
          "color": "#EF553B",
          "symbol": "circle"
         },
         "mode": "markers",
         "name": "6",
         "scene": "scene",
         "showlegend": true,
         "type": "scatter3d",
         "x": [
          -0.3470184252209653
         ],
         "y": [
          0.5998500424556092
         ]
        }
       ],
       "layout": {
        "legend": {
         "title": {
          "text": "Clusters"
         },
         "tracegroupgap": 0
        },
        "scene": {
         "domain": {
          "x": [
           0,
           1
          ],
          "y": [
           0,
           1
          ]
         },
         "xaxis": {
          "title": {
           "text": "x"
          }
         },
         "yaxis": {
          "title": {
           "text": "y"
          }
         },
         "zaxis": {
          "range": [
           0,
           300
          ]
         }
        },
        "template": {
         "data": {
          "bar": [
           {
            "error_x": {
             "color": "#2a3f5f"
            },
            "error_y": {
             "color": "#2a3f5f"
            },
            "marker": {
             "line": {
              "color": "#E5ECF6",
              "width": 0.5
             }
            },
            "type": "bar"
           }
          ],
          "barpolar": [
           {
            "marker": {
             "line": {
              "color": "#E5ECF6",
              "width": 0.5
             }
            },
            "type": "barpolar"
           }
          ],
          "carpet": [
           {
            "aaxis": {
             "endlinecolor": "#2a3f5f",
             "gridcolor": "white",
             "linecolor": "white",
             "minorgridcolor": "white",
             "startlinecolor": "#2a3f5f"
            },
            "baxis": {
             "endlinecolor": "#2a3f5f",
             "gridcolor": "white",
             "linecolor": "white",
             "minorgridcolor": "white",
             "startlinecolor": "#2a3f5f"
            },
            "type": "carpet"
           }
          ],
          "choropleth": [
           {
            "colorbar": {
             "outlinewidth": 0,
             "ticks": ""
            },
            "type": "choropleth"
           }
          ],
          "contour": [
           {
            "colorbar": {
             "outlinewidth": 0,
             "ticks": ""
            },
            "colorscale": [
             [
              0,
              "#0d0887"
             ],
             [
              0.1111111111111111,
              "#46039f"
             ],
             [
              0.2222222222222222,
              "#7201a8"
             ],
             [
              0.3333333333333333,
              "#9c179e"
             ],
             [
              0.4444444444444444,
              "#bd3786"
             ],
             [
              0.5555555555555556,
              "#d8576b"
             ],
             [
              0.6666666666666666,
              "#ed7953"
             ],
             [
              0.7777777777777778,
              "#fb9f3a"
             ],
             [
              0.8888888888888888,
              "#fdca26"
             ],
             [
              1,
              "#f0f921"
             ]
            ],
            "type": "contour"
           }
          ],
          "contourcarpet": [
           {
            "colorbar": {
             "outlinewidth": 0,
             "ticks": ""
            },
            "type": "contourcarpet"
           }
          ],
          "heatmap": [
           {
            "colorbar": {
             "outlinewidth": 0,
             "ticks": ""
            },
            "colorscale": [
             [
              0,
              "#0d0887"
             ],
             [
              0.1111111111111111,
              "#46039f"
             ],
             [
              0.2222222222222222,
              "#7201a8"
             ],
             [
              0.3333333333333333,
              "#9c179e"
             ],
             [
              0.4444444444444444,
              "#bd3786"
             ],
             [
              0.5555555555555556,
              "#d8576b"
             ],
             [
              0.6666666666666666,
              "#ed7953"
             ],
             [
              0.7777777777777778,
              "#fb9f3a"
             ],
             [
              0.8888888888888888,
              "#fdca26"
             ],
             [
              1,
              "#f0f921"
             ]
            ],
            "type": "heatmap"
           }
          ],
          "heatmapgl": [
           {
            "colorbar": {
             "outlinewidth": 0,
             "ticks": ""
            },
            "colorscale": [
             [
              0,
              "#0d0887"
             ],
             [
              0.1111111111111111,
              "#46039f"
             ],
             [
              0.2222222222222222,
              "#7201a8"
             ],
             [
              0.3333333333333333,
              "#9c179e"
             ],
             [
              0.4444444444444444,
              "#bd3786"
             ],
             [
              0.5555555555555556,
              "#d8576b"
             ],
             [
              0.6666666666666666,
              "#ed7953"
             ],
             [
              0.7777777777777778,
              "#fb9f3a"
             ],
             [
              0.8888888888888888,
              "#fdca26"
             ],
             [
              1,
              "#f0f921"
             ]
            ],
            "type": "heatmapgl"
           }
          ],
          "histogram": [
           {
            "marker": {
             "colorbar": {
              "outlinewidth": 0,
              "ticks": ""
             }
            },
            "type": "histogram"
           }
          ],
          "histogram2d": [
           {
            "colorbar": {
             "outlinewidth": 0,
             "ticks": ""
            },
            "colorscale": [
             [
              0,
              "#0d0887"
             ],
             [
              0.1111111111111111,
              "#46039f"
             ],
             [
              0.2222222222222222,
              "#7201a8"
             ],
             [
              0.3333333333333333,
              "#9c179e"
             ],
             [
              0.4444444444444444,
              "#bd3786"
             ],
             [
              0.5555555555555556,
              "#d8576b"
             ],
             [
              0.6666666666666666,
              "#ed7953"
             ],
             [
              0.7777777777777778,
              "#fb9f3a"
             ],
             [
              0.8888888888888888,
              "#fdca26"
             ],
             [
              1,
              "#f0f921"
             ]
            ],
            "type": "histogram2d"
           }
          ],
          "histogram2dcontour": [
           {
            "colorbar": {
             "outlinewidth": 0,
             "ticks": ""
            },
            "colorscale": [
             [
              0,
              "#0d0887"
             ],
             [
              0.1111111111111111,
              "#46039f"
             ],
             [
              0.2222222222222222,
              "#7201a8"
             ],
             [
              0.3333333333333333,
              "#9c179e"
             ],
             [
              0.4444444444444444,
              "#bd3786"
             ],
             [
              0.5555555555555556,
              "#d8576b"
             ],
             [
              0.6666666666666666,
              "#ed7953"
             ],
             [
              0.7777777777777778,
              "#fb9f3a"
             ],
             [
              0.8888888888888888,
              "#fdca26"
             ],
             [
              1,
              "#f0f921"
             ]
            ],
            "type": "histogram2dcontour"
           }
          ],
          "mesh3d": [
           {
            "colorbar": {
             "outlinewidth": 0,
             "ticks": ""
            },
            "type": "mesh3d"
           }
          ],
          "parcoords": [
           {
            "line": {
             "colorbar": {
              "outlinewidth": 0,
              "ticks": ""
             }
            },
            "type": "parcoords"
           }
          ],
          "pie": [
           {
            "automargin": true,
            "type": "pie"
           }
          ],
          "scatter": [
           {
            "marker": {
             "colorbar": {
              "outlinewidth": 0,
              "ticks": ""
             }
            },
            "type": "scatter"
           }
          ],
          "scatter3d": [
           {
            "line": {
             "colorbar": {
              "outlinewidth": 0,
              "ticks": ""
             }
            },
            "marker": {
             "colorbar": {
              "outlinewidth": 0,
              "ticks": ""
             }
            },
            "type": "scatter3d"
           }
          ],
          "scattercarpet": [
           {
            "marker": {
             "colorbar": {
              "outlinewidth": 0,
              "ticks": ""
             }
            },
            "type": "scattercarpet"
           }
          ],
          "scattergeo": [
           {
            "marker": {
             "colorbar": {
              "outlinewidth": 0,
              "ticks": ""
             }
            },
            "type": "scattergeo"
           }
          ],
          "scattergl": [
           {
            "marker": {
             "colorbar": {
              "outlinewidth": 0,
              "ticks": ""
             }
            },
            "type": "scattergl"
           }
          ],
          "scattermapbox": [
           {
            "marker": {
             "colorbar": {
              "outlinewidth": 0,
              "ticks": ""
             }
            },
            "type": "scattermapbox"
           }
          ],
          "scatterpolar": [
           {
            "marker": {
             "colorbar": {
              "outlinewidth": 0,
              "ticks": ""
             }
            },
            "type": "scatterpolar"
           }
          ],
          "scatterpolargl": [
           {
            "marker": {
             "colorbar": {
              "outlinewidth": 0,
              "ticks": ""
             }
            },
            "type": "scatterpolargl"
           }
          ],
          "scatterternary": [
           {
            "marker": {
             "colorbar": {
              "outlinewidth": 0,
              "ticks": ""
             }
            },
            "type": "scatterternary"
           }
          ],
          "surface": [
           {
            "colorbar": {
             "outlinewidth": 0,
             "ticks": ""
            },
            "colorscale": [
             [
              0,
              "#0d0887"
             ],
             [
              0.1111111111111111,
              "#46039f"
             ],
             [
              0.2222222222222222,
              "#7201a8"
             ],
             [
              0.3333333333333333,
              "#9c179e"
             ],
             [
              0.4444444444444444,
              "#bd3786"
             ],
             [
              0.5555555555555556,
              "#d8576b"
             ],
             [
              0.6666666666666666,
              "#ed7953"
             ],
             [
              0.7777777777777778,
              "#fb9f3a"
             ],
             [
              0.8888888888888888,
              "#fdca26"
             ],
             [
              1,
              "#f0f921"
             ]
            ],
            "type": "surface"
           }
          ],
          "table": [
           {
            "cells": {
             "fill": {
              "color": "#EBF0F8"
             },
             "line": {
              "color": "white"
             }
            },
            "header": {
             "fill": {
              "color": "#C8D4E3"
             },
             "line": {
              "color": "white"
             }
            },
            "type": "table"
           }
          ]
         },
         "layout": {
          "annotationdefaults": {
           "arrowcolor": "#2a3f5f",
           "arrowhead": 0,
           "arrowwidth": 1
          },
          "autotypenumbers": "strict",
          "coloraxis": {
           "colorbar": {
            "outlinewidth": 0,
            "ticks": ""
           }
          },
          "colorscale": {
           "diverging": [
            [
             0,
             "#8e0152"
            ],
            [
             0.1,
             "#c51b7d"
            ],
            [
             0.2,
             "#de77ae"
            ],
            [
             0.3,
             "#f1b6da"
            ],
            [
             0.4,
             "#fde0ef"
            ],
            [
             0.5,
             "#f7f7f7"
            ],
            [
             0.6,
             "#e6f5d0"
            ],
            [
             0.7,
             "#b8e186"
            ],
            [
             0.8,
             "#7fbc41"
            ],
            [
             0.9,
             "#4d9221"
            ],
            [
             1,
             "#276419"
            ]
           ],
           "sequential": [
            [
             0,
             "#0d0887"
            ],
            [
             0.1111111111111111,
             "#46039f"
            ],
            [
             0.2222222222222222,
             "#7201a8"
            ],
            [
             0.3333333333333333,
             "#9c179e"
            ],
            [
             0.4444444444444444,
             "#bd3786"
            ],
            [
             0.5555555555555556,
             "#d8576b"
            ],
            [
             0.6666666666666666,
             "#ed7953"
            ],
            [
             0.7777777777777778,
             "#fb9f3a"
            ],
            [
             0.8888888888888888,
             "#fdca26"
            ],
            [
             1,
             "#f0f921"
            ]
           ],
           "sequentialminus": [
            [
             0,
             "#0d0887"
            ],
            [
             0.1111111111111111,
             "#46039f"
            ],
            [
             0.2222222222222222,
             "#7201a8"
            ],
            [
             0.3333333333333333,
             "#9c179e"
            ],
            [
             0.4444444444444444,
             "#bd3786"
            ],
            [
             0.5555555555555556,
             "#d8576b"
            ],
            [
             0.6666666666666666,
             "#ed7953"
            ],
            [
             0.7777777777777778,
             "#fb9f3a"
            ],
            [
             0.8888888888888888,
             "#fdca26"
            ],
            [
             1,
             "#f0f921"
            ]
           ]
          },
          "colorway": [
           "#636efa",
           "#EF553B",
           "#00cc96",
           "#ab63fa",
           "#FFA15A",
           "#19d3f3",
           "#FF6692",
           "#B6E880",
           "#FF97FF",
           "#FECB52"
          ],
          "font": {
           "color": "#2a3f5f"
          },
          "geo": {
           "bgcolor": "white",
           "lakecolor": "white",
           "landcolor": "#E5ECF6",
           "showlakes": true,
           "showland": true,
           "subunitcolor": "white"
          },
          "hoverlabel": {
           "align": "left"
          },
          "hovermode": "closest",
          "mapbox": {
           "style": "light"
          },
          "paper_bgcolor": "white",
          "plot_bgcolor": "#E5ECF6",
          "polar": {
           "angularaxis": {
            "gridcolor": "white",
            "linecolor": "white",
            "ticks": ""
           },
           "bgcolor": "#E5ECF6",
           "radialaxis": {
            "gridcolor": "white",
            "linecolor": "white",
            "ticks": ""
           }
          },
          "scene": {
           "xaxis": {
            "backgroundcolor": "#E5ECF6",
            "gridcolor": "white",
            "gridwidth": 2,
            "linecolor": "white",
            "showbackground": true,
            "ticks": "",
            "zerolinecolor": "white"
           },
           "yaxis": {
            "backgroundcolor": "#E5ECF6",
            "gridcolor": "white",
            "gridwidth": 2,
            "linecolor": "white",
            "showbackground": true,
            "ticks": "",
            "zerolinecolor": "white"
           },
           "zaxis": {
            "backgroundcolor": "#E5ECF6",
            "gridcolor": "white",
            "gridwidth": 2,
            "linecolor": "white",
            "showbackground": true,
            "ticks": "",
            "zerolinecolor": "white"
           }
          },
          "shapedefaults": {
           "line": {
            "color": "#2a3f5f"
           }
          },
          "ternary": {
           "aaxis": {
            "gridcolor": "white",
            "linecolor": "white",
            "ticks": ""
           },
           "baxis": {
            "gridcolor": "white",
            "linecolor": "white",
            "ticks": ""
           },
           "bgcolor": "#E5ECF6",
           "caxis": {
            "gridcolor": "white",
            "linecolor": "white",
            "ticks": ""
           }
          },
          "title": {
           "x": 0.05
          },
          "xaxis": {
           "automargin": true,
           "gridcolor": "white",
           "linecolor": "white",
           "ticks": "",
           "title": {
            "standoff": 15
           },
           "zerolinecolor": "white",
           "zerolinewidth": 2
          },
          "yaxis": {
           "automargin": true,
           "gridcolor": "white",
           "linecolor": "white",
           "ticks": "",
           "title": {
            "standoff": 15
           },
           "zerolinecolor": "white",
           "zerolinewidth": 2
          }
         }
        },
        "title": {
         "text": "12 Clusters"
        }
       }
      },
      "text/html": [
       "<div>                            <div id=\"76b7e501-5e4f-4f9c-94bb-674ddf3a756d\" class=\"plotly-graph-div\" style=\"height:525px; width:100%;\"></div>            <script type=\"text/javascript\">                require([\"plotly\"], function(Plotly) {                    window.PLOTLYENV=window.PLOTLYENV || {};                                    if (document.getElementById(\"76b7e501-5e4f-4f9c-94bb-674ddf3a756d\")) {                    Plotly.newPlot(                        \"76b7e501-5e4f-4f9c-94bb-674ddf3a756d\",                        [{\"customdata\": [[\"1blx_1\"], [\"1byg_1\"], [\"1fmk_1\"], [\"1j1b_1\"], [\"1o6l_1\"], [\"1qpc_1\"], [\"1s9i_1\"], [\"1u59_1\"], [\"1ua2_1\"], [\"1wak_1\"], [\"1x8b_1\"], [\"1xjd_1\"], [\"2a2a_1\"], [\"2ac3_1\"], [\"2buj_1\"], [\"2cmw_1\"], [\"2dq7_1\"], [\"2dq7_2\"], [\"2eva_1\"], [\"2h6d_1\"], [\"2hw6_1\"], [\"2i0e_1\"], [\"2izr_1\"], [\"2j0i_1\"], [\"2jam_1\"], [\"2jc6_1\"], [\"2qlu_1\"], [\"2qol_1\"], [\"2r2p_1\"], [\"2r4b_1\"], [\"2r5t_1\"], [\"2rei_1\"], [\"2rku_1\"], [\"2vd5_1\"], [\"2vz6_1\"], [\"2w4o_1\"], [\"2wel_1\"], [\"2x7g_1\"], [\"2xik_1\"], [\"2xir_1\"], [\"2xrw_1\"], [\"2y4i_1\"], [\"2y7j_1\"], [\"2ycf_1\"], [\"2yex_1\"], [\"3a7i_1\"], [\"3a99_1\"], [\"3aln_1\"], [\"3b2t_1\"], [\"3bhh_1\"], [\"3bhy_1\"], [\"3brb_1\"], [\"3bu3_1\"], [\"3c0i_1\"], [\"3cbl_1\"], [\"3cc6_1\"], [\"3cok_1\"], [\"3com_1\"], [\"3dls_1\"], [\"3dtc_1\"], [\"3eqc_1\"], [\"3fe3_1\"], [\"3fhr_1\"], [\"3fme_1\"], [\"3fxz_1\"], [\"3g2f_1\"], [\"3ggf_1\"], [\"3gp0_1\"], [\"3hmi_1\"], [\"3hng_1\"], [\"3iec_1\"], [\"3kmu_1\"], [\"3kul_1\"], [\"3lco_1\"], [\"3lm5_1\"], [\"3lm5_2\"], [\"3lxp_1\"], [\"3m2w_1\"], [\"3mdy_1\"], [\"3mi9_1\"], [\"3my0_1\"], [\"3omv_1\"], [\"3pls_1\"], [\"3pp0_1\"], [\"3q4u_1\"], [\"3soc_1\"], [\"3sxs_1\"], [\"3txo_1\"], [\"3ugc_1\"], [\"3war_1\"], [\"3zdu_1\"], [\"3zfm_1\"], [\"4aaa_1\"], [\"4af3_1\"], [\"4agu_1\"], [\"4b6l_1\"], [\"4b9d_1\"], [\"4bgq_1\"], [\"4bkj_1\"], [\"4ckj_1\"], [\"4crs_1\"], [\"4euu_1\"], [\"4f9c_1\"], [\"4fg8_1\"], [\"4fkl_1\"], [\"4fr4_1\"], [\"4gv1_1\"], [\"4hcu_1\"], [\"4hni_1\"], [\"4hvs_1\"], [\"4hzr_1\"], [\"4i4e_1\"], [\"4i5p_1\"], [\"4idt_1\"], [\"4iir_1\"], [\"4js8_1\"], [\"4k33_1\"], [\"4kik_1\"], [\"4kik_2\"], [\"4ks7_1\"], [\"4l00_2\"], [\"4l42_2\"], [\"4l6q_1\"], [\"4lg4_1\"], [\"4mwi_1\"], [\"4nfn_1\"], [\"4nst_1\"], [\"4nw6_1\"], [\"4oth_1\"], [\"4pf4_1\"], [\"4pwn_1\"], [\"4qpm_1\"], [\"4qqt_1\"], [\"4qtb_1\"], [\"4qtc_1\"], [\"4r1v_1\"], [\"4ra4_1\"], [\"4tnd_2\"], [\"4usf_1\"], [\"4w9w_1\"], [\"4wb8_1\"], [\"4wno_1\"], [\"4x7k_1\"], [\"4x7q_1\"], [\"4y85_1\"], [\"4y8d_1\"], [\"4yfi_1\"], [\"4yhj_1\"], [\"4yjr_1\"], [\"4ylk_1\"], [\"4yno_1\"], [\"4z55_1\"], [\"4zzn_1\"], [\"5ax9_1\"], [\"5b2l_1\"], [\"5byz_1\"], [\"5cen_1\"], [\"5e8s_1\"], [\"5e8v_1\"], [\"5efq_1\"], [\"5ew8_1\"], [\"5g6v_1\"], [\"5grn_1\"], [\"5h0b_1\"], [\"5hu9_1\"], [\"5ita_1\"], [\"5j5t_1\"], [\"5jfw_1\"], [\"5jga_1\"], [\"5jzj_1\"], [\"5k00_2\"], [\"5l6o_1\"], [\"5l8l_1\"], [\"5li9_1\"], [\"5lqf_1\"], [\"5lvo_1\"], [\"5lwm_1\"], [\"5lxc_1\"], [\"5mja_1\"], [\"5ng0_1\"], [\"5nxd_1\"], [\"5o0y_1\"], [\"5o1v_1\"], [\"5ote_1\"], [\"5p9j_1\"], [\"5te0_1\"], [\"5te0_2\"], [\"5u6b_1\"], [\"5ug9_1\"], [\"5uit_1\"], [\"5uyj_1\"], [\"5vcz_1\"], [\"5vdk_1\"], [\"5wne_1\"], [\"5x5o_1\"], [\"5xs2_1\"], [\"5y86_1\"], [\"5yf9_1\"], [\"5yks_1\"], [\"6bfn_1\"], [\"6bxi_1\"], [\"6c0t_1\"], [\"6c9d_1\"], [\"6ccf_1\"], [\"6cz4_1\"], [\"6eim_1\"], [\"6fd3_1\"], [\"6fdy_1\"], [\"6fng_1\"], [\"6fnk_1\"], [\"6ft8_1\"], [\"6fyl_1\"], [\"6fyr_1\"], [\"6fyv_1\"], [\"6gzm_1\"], [\"6op9_1\"], [\"7aqb_1\"]], \"hovertemplate\": \"Clusters=2<br>x=%{x}<br>y=%{y}<br>Pockets=%{customdata[0]}<extra></extra>\", \"legendgroup\": \"2\", \"marker\": {\"color\": \"#636efa\", \"symbol\": \"circle\"}, \"mode\": \"markers\", \"name\": \"2\", \"scene\": \"scene\", \"showlegend\": true, \"type\": \"scatter3d\", \"x\": [0.5961276418885346, 0.2974440303203414, 0.11443892299709645, 0.146720080779309, 0.20411135235648586, -0.1666629106723333, -0.2845426837878479, 0.2894930321974563, -0.243045576641394, -0.020809278955456027, -0.042522697153416826, 0.21781508295524263, 0.21819619065024012, -0.6131260651606313, -0.2628575178998163, 0.38670140310092144, 0.1736318694111562, 0.5988999842008791, 0.11581640096515368, -0.1067058898671473, -0.6113170141352195, 0.2744230825977126, 0.3170191497111721, -0.025826894859162123, 0.5905060558541326, 0.41063429754172814, -0.22277299890236668, -0.33024971092343103, -0.28946446689645117, -0.10279157066237873, 0.3722291957738864, -0.20261570404322152, 0.31729630205282455, 0.19962488692885477, 0.09624495148605619, 0.4267148779355718, -0.19259217594291925, -0.0748523824787368, 0.018879460580682718, -0.35833929515996454, -0.1184047701695428, -0.21052989305791264, 0.1650155328352711, -0.11382349121210909, -0.02216101044932757, -0.056227756858023406, 0.11194027810935926, 0.25701291695583006, 0.05028392138287262, 0.43408699326620487, 0.16395373477431077, 0.15060216768095305, -0.06545219633126202, 0.30400030547726603, 0.36196885722098343, 0.5527746468602448, 0.12507028906539022, -0.3252963009264483, 0.4672499993203468, -0.041523742835097396, 0.28056036781375876, 0.5271569885821036, 0.41103894430019666, 0.11683750432551818, -0.4758490160539273, 0.42464526109693135, -0.2364630543465834, -0.4317435041601726, -0.2774429498196382, -0.36413010581214367, -0.09078017703913907, -0.14258705145736475, -0.22452419013705188, -0.28811139907924443, 0.17965089520712735, -0.24565409519634746, -0.1615992661930536, 0.44049510156272426, -0.12599783290861508, -0.08976246062192487, 0.07188729409485806, -0.3704940014840577, -0.10965008583227445, -0.2388541573569877, -0.02288154974000241, 0.1294474046555576, 0.19099678867616812, 0.3649576851005545, -0.3930577739108597, 0.048751811441543016, 0.0782062836805481, -0.44764426507973953, 0.4738355241942323, -0.17671429324332172, 0.17757130011058908, -0.025240804320925434, -0.42948604527542944, -0.0018455029354667344, -0.5119378390390801, 0.19269618956469217, 0.22270034677181508, 0.04408671078989062, 0.42728990136726885, 0.5372105183439019, -0.19060318172727234, 0.06963556734257019, 0.17118292041713437, -0.1958721429178437, 0.09050574358601426, -0.5169650241117959, 0.21700456232646528, -0.028709148309540578, -0.12782983624696748, -0.10105966383178054, 0.2954727188737259, -0.3897075901427829, -0.0511860093117504, 0.30977584346154036, 0.1362974520828646, -0.05379303077219151, -0.49246654515765487, -0.22880509425228307, 0.16202204139908252, -0.3012768162061902, -0.024229934651746252, -0.09171891048792545, 0.28212704180488773, 0.2088100557879533, 0.21362756298829805, 0.25025132306190084, 0.5947437711985748, 0.02282339391248028, -0.2085895293294772, 0.029100293713681013, 0.28152580890698803, -0.47597292015817194, 0.43915780883449856, -0.06866822852281108, -0.5452893002360485, 0.021382817923787545, 0.27707226330817053, 0.11904419025454277, -0.16818353015546686, 0.28730576089916915, -0.15457966242713983, 0.3441820416992452, -0.12722184383643997, -0.22138917710195852, -0.08077223947845884, 0.05488117070979766, 0.08325451760351438, -0.1959527520628259, -0.041056388673854326, 0.010286300344762727, -0.2842715511229391, 0.3271879326312918, -0.3703871572457089, -0.09572317025058218, 0.035732668759193835, 0.2680182928767071, -0.2844937539630983, -0.42068606838938394, -0.40735097787403984, 0.08194812292942893, -0.35930250991885493, 0.17857804187722812, -0.00010886144979932616, -0.3470114768522996, 0.13901443879027642, 0.0960917193680434, 0.03278933347869022, 0.2604441876143419, -0.07349808650326244, 0.24792452847786248, 0.08617917048150667, 0.054946826568103, 0.21743638528432951, 0.19134039326656863, 0.23975324960128225, 0.07437220898674202, 0.5189384096392753, 0.4582749513056445, -0.21491804976080903, 0.1437711027628745, -0.18659589870169477, 0.04384289330928173, -0.4109939857193766, 0.45121417104045747, 0.05113162914604862, 0.3696187519350215, 0.3601272697625068, 0.03579151174518896, 0.0439939880292386, 0.12474400990873753, -0.3013093081583096, 0.14394870800948656, 0.11522506037217076, 0.06913892133152376, -0.15549323266253412, -0.46160472589647594, 0.2731775330875275, 0.2587853245902673, 0.11246956891541383, 0.16767508669741124, -0.4240008242049854, -0.4649646519741768, -0.006050506943123186, -0.16877796549969618, -0.3978151948376718, -0.17878402050637965, 0.05676489792711935, 0.07624359098767244, 0.09233228385158473, 0.15144863706927902, 0.3813045300566796, 0.1921741980676372, -0.08113525666176062], \"y\": [-0.33576594701830204, -0.2557240840679336, 0.6508123994315878, -0.017323879576764328, 0.19990805411790333, -0.3346200316254367, 0.16998390303124042, -0.13698988221264455, 0.08876242248718635, 0.33128587890898603, 0.0017008145489158931, -0.39545285014294673, 0.16193221656471624, -0.31148518507681555, -0.2928421883603981, 0.028724105823720154, -0.36107066901493096, 0.24202434900550476, -0.47182307595037226, 0.5057177012234702, -0.2418648530146871, -0.4777792033266974, -0.18027422323301984, -0.12702149255619058, -0.25972435216385437, 0.17722187811522713, -0.45110128854420245, -0.23798405064120942, -0.11264180654873061, -0.18814403058792328, -0.04563483980285045, -0.21977017152021439, -0.4891008024592797, 0.09485463012637546, -0.5398696980015392, -0.2080684566507264, -0.5728603219001582, 0.2112631212221309, -0.33260169426879943, -0.16752029614082728, 0.19705460304006178, 0.2553274710440096, -0.09362038703189504, 0.05880101394198003, -0.351484666113025, -0.23454609168947846, 0.15503209209210647, 0.295967577316615, -0.07434372346852829, -0.36303911901289876, 0.02502928699001867, -0.5918996831692511, -0.5584875961565481, 0.0026893591315200163, -0.19751402622553124, -0.16223668466270208, -0.14217251524010727, -0.45860246002657334, -0.3395697599465683, -0.1630738565320339, 0.14125708072403775, -0.12316724762185952, 0.07187459468250686, -0.5855265969998558, -0.08047480137263005, -0.008399147593378163, 0.011471302141179009, -0.30092944363383656, -0.19774019396682632, -0.10975134236989781, -0.426055588245707, 0.3936225480032141, -0.3645636656794383, -0.31075946284588907, -0.32979213584516925, 0.4930810472509544, -0.40227685211524167, -0.13788280294979516, -0.25456337909006505, -0.49214743471169603, 0.7063047385250821, -0.19299996523070811, -0.11382645400136343, -0.3330040035085667, 0.1673236850962502, 0.7500719014885926, -0.4763988904448907, -0.11186392853012768, -0.08008572374518748, 0.23672917888528616, -0.21534431259528022, -0.35029214599572706, -0.21234117026688243, -0.545997251221438, -0.1769561712747364, 0.10392351018865888, -0.41106874297672935, -0.41939028609525175, 0.10953784552936964, -0.013217559326895535, 0.14952556427264455, 0.10129823822307138, -0.2662260389253663, -0.06734975922456339, 0.10307760114771063, -0.35556161984638796, 0.11028063635616454, 0.006935747631670587, -0.6023962168308777, -0.11646336807370532, -0.5288247096347914, -0.49503404004275825, 0.14455993971014988, -0.41863176570666333, -0.35086520356705475, -0.2856829094391005, 0.02907428242119336, 0.566712308870896, -0.38285463775444645, 0.11745170000410117, -0.2828292431518668, -0.5204248298776573, 0.1573569398461829, -0.1712341178933716, -0.04448586513355716, 0.24199449139612605, 0.02411121577927025, -0.49985232280482667, -0.11035682184311948, 0.20860374967771872, -0.22188109919656732, 0.20874936334699437, -0.09803691833463957, -0.03416361013482603, 0.06751442104692276, -0.4047131304424597, -0.3966175121447739, 0.6450058901729349, -0.0514849155255243, 0.007465117173862611, 0.1067962840276667, -0.050953037706135, 0.30603261493726275, -0.43734148292200886, -0.6178067365197195, -0.35004984462142785, -0.2825541586392096, 0.39595487265855983, -0.5668493913221563, 0.05763819643652973, -0.26453620294177294, -0.3427630153226153, -0.4261641409023441, -0.5009752244676318, -0.5049004676385727, -0.41675025930243004, -0.48595579129108735, -0.31797098839328364, -0.12977039262752785, -0.03192033722896516, -0.39809845757103274, -0.47671315861203567, 0.076065213931721, 0.5872478166376882, -0.337186801444862, -0.29674052147181385, -0.3073708864037899, 0.11796714361979427, -0.43223343474331577, 0.26609207943041935, -0.5300752961658491, -0.5841707266255164, -0.08008942237221436, 0.07911781941120843, -0.1546299845686779, 0.008819231777131138, 0.2660817078956108, 0.06198211200336022, -0.3564426926140439, -0.43345982309029585, -0.03736518121594413, 0.04594880191015461, -0.03553999361852808, 0.22985721249432103, -0.1968829365952152, -0.3886147040383988, 0.502752305319207, -0.2910304747894153, -0.17003755141316454, -0.41587904981563467, -0.3066346446803659, 0.12670706396455594, -0.2588465520656011, 0.13345149477479554, 0.009220036559510234, 0.3289953012369758, 0.07454352948713738, -0.633945933861569, -0.5164732791157879, -0.246887294901041, 0.3305206909850317, 0.1736735428160602, 0.2783108716178258, -0.22480723353861354, 0.0379632316634156, -0.17283358855278558, 0.07063309963138188, 0.06342343937769475, -0.062111520586599286, -0.049796076380394565, 0.3716263617790039, 0.051034221233757934, 0.020591414621243375, 0.05744492777784249, -0.47559126377849276, -0.06620156692157535, -0.5178247172241304]}, {\"customdata\": [[\"1fmk_2\"], [\"2xir_2\"], [\"2y4i_3\"], [\"3aln_2\"], [\"3gp0_2\"], [\"3hng_2\"], [\"4agu_2\"], [\"4itj_1\"], [\"4y85_2\"], [\"4yz9_1\"], [\"5hu9_2\"]], \"hovertemplate\": \"Clusters=1<br>x=%{x}<br>y=%{y}<br>Pockets=%{customdata[0]}<extra></extra>\", \"legendgroup\": \"1\", \"marker\": {\"color\": \"#EF553B\", \"symbol\": \"circle\"}, \"mode\": \"markers\", \"name\": \"1\", \"scene\": \"scene\", \"showlegend\": true, \"type\": \"scatter3d\", \"x\": [-0.38969898792819546, -0.5742605279897315, -0.7414243106744272, -0.6944743794021253, -0.645914139109909, -0.6175503837024517, -0.7042511579383056, -0.6917892563530911, -0.6356206567680075, -0.7253753356891217, 0.6306744864029277], \"y\": [0.5113798194075608, 0.34726411075075914, 0.03899822726129575, 0.1083701122142418, 0.21431288887642197, 0.2815800890438085, -0.019321480417340522, 0.03633105142600484, 0.1529442496094333, -0.10044916333582966, 0.15943007297688802]}, {\"customdata\": [[\"1p4o_1\"], [\"1tki_1\"], [\"1u59_2\"], [\"1vzo_1\"], [\"2acx_1\"], [\"2acx_2\"], [\"2vz6_2\"], [\"2wel_2\"], [\"3dtc_2\"], [\"3e7o_1\"], [\"3hmi_2\"], [\"3iec_2\"], [\"3kmu_2\"], [\"3q4u_2\"], [\"4l42_1\"], [\"4tnd_3\"], [\"4tnd_4\"], [\"4yhj_2\"], [\"4z55_2\"]], \"hovertemplate\": \"Clusters=0<br>x=%{x}<br>y=%{y}<br>Pockets=%{customdata[0]}<extra></extra>\", \"legendgroup\": \"0\", \"marker\": {\"color\": \"#00cc96\", \"symbol\": \"circle\"}, \"mode\": \"markers\", \"name\": \"0\", \"scene\": \"scene\", \"showlegend\": true, \"type\": \"scatter3d\", \"x\": [0.371458425580335, 0.4196163396166567, 0.5132723757103552, -0.5686392840153324, 0.29609339141974483, -0.10177214463268368, 0.4514598992620987, -0.3836823890686169, -0.23528108179763846, 0.5002979221219399, 0.6241622044705679, 0.1997981463497105, 0.6067224953988821, -0.2994894692880347, -0.6032115197104501, -0.018953223522472674, -0.47496626706666173, -0.42660398985998915, -0.2703961383151004], \"y\": [0.584782425042664, 0.5454357725591823, 0.4612600829016872, 0.3205038759933024, 0.6269703932031393, 0.7857656613508469, 0.5411426727591155, 0.5646526595196596, 0.7596214976236707, 0.5033137976783609, 0.3346655220759087, 0.6239779841641164, 0.3757606742693309, 0.5953790333234537, 0.275598543915919, 0.7515861392929194, 0.3922942855861326, 0.418265943466759, 0.5771749004776126]}, {\"customdata\": [[\"1xjd_2\"], [\"3v5w_3\"], [\"4tnd_1\"], [\"4yhj_3\"], [\"5k00_1\"]], \"hovertemplate\": \"Clusters=7<br>x=%{x}<br>y=%{y}<br>Pockets=%{customdata[0]}<extra></extra>\", \"legendgroup\": \"7\", \"marker\": {\"color\": \"#ab63fa\", \"symbol\": \"circle\"}, \"mode\": \"markers\", \"name\": \"7\", \"scene\": \"scene\", \"showlegend\": true, \"type\": \"scatter3d\", \"x\": [0.18800932357354508, 0.0287186198247884, -0.5063029972071663, -0.06465061389877455, 0.25945045820535007], \"y\": [0.6693856036085792, 0.8090694968602165, 0.4152838405987932, 0.8128771410026626, 0.6203562311181358]}, {\"customdata\": [[\"2f57_1\"], [\"4asz_1\"], [\"4asz_2\"], [\"4asz_3\"], [\"4ymj_1\"]], \"hovertemplate\": \"Clusters=4<br>x=%{x}<br>y=%{y}<br>Pockets=%{customdata[0]}<extra></extra>\", \"legendgroup\": \"4\", \"marker\": {\"color\": \"#FFA15A\", \"symbol\": \"circle\"}, \"mode\": \"markers\", \"name\": \"4\", \"scene\": \"scene\", \"showlegend\": true, \"type\": \"scatter3d\", \"x\": [-0.5841801746247878, 0.8765688952097321, -0.8221303077876737, -0.9022054539497001, -0.7182089750739988], \"y\": [0.6598976436949139, 0.23726144932573204, 0.3590777928094316, 0.0790033067989181, 0.5296987784226596]}, {\"customdata\": [[\"2fst_1\"], [\"4qtb_2\"], [\"4zzn_2\"]], \"hovertemplate\": \"Clusters=8<br>x=%{x}<br>y=%{y}<br>Pockets=%{customdata[0]}<extra></extra>\", \"legendgroup\": \"8\", \"marker\": {\"color\": \"#19d3f3\", \"symbol\": \"circle\"}, \"mode\": \"markers\", \"name\": \"8\", \"scene\": \"scene\", \"showlegend\": true, \"type\": \"scatter3d\", \"x\": [0.28042360031413444, -0.20763555382828658, -0.17980929496148534], \"y\": [0.7612742620899166, 0.7198732892271611, 0.7055900387542041]}, {\"customdata\": [[\"2y4i_2\"], [\"4crs_2\"], [\"5li9_2\"]], \"hovertemplate\": \"Clusters=9<br>x=%{x}<br>y=%{y}<br>Pockets=%{customdata[0]}<extra></extra>\", \"legendgroup\": \"9\", \"marker\": {\"color\": \"#FF6692\", \"symbol\": \"circle\"}, \"mode\": \"markers\", \"name\": \"9\", \"scene\": \"scene\", \"showlegend\": true, \"type\": \"scatter3d\", \"x\": [-0.7210088535564654, 0.679051433420849, 0.712459571475474], \"y\": [-0.062220781362327546, 0.18738714991358735, 0.08174355632946526]}, {\"customdata\": [[\"3s95_1\"], [\"3soc_2\"], [\"3v5w_1\"], [\"6bru_1\"]], \"hovertemplate\": \"Clusters=3<br>x=%{x}<br>y=%{y}<br>Pockets=%{customdata[0]}<extra></extra>\", \"legendgroup\": \"3\", \"marker\": {\"color\": \"#B6E880\", \"symbol\": \"circle\"}, \"mode\": \"markers\", \"name\": \"3\", \"scene\": \"scene\", \"showlegend\": true, \"type\": \"scatter3d\", \"x\": [-0.32276182844201246, 0.2247170385159515, 0.06251849271699142, 0.5578631726506524], \"y\": [0.7906720521585726, 0.7931133567532067, 0.46329154684738316, 0.3795658045105587]}, {\"customdata\": [[\"3v5w_2\"]], \"hovertemplate\": \"Clusters=11<br>x=%{x}<br>y=%{y}<br>Pockets=%{customdata[0]}<extra></extra>\", \"legendgroup\": \"11\", \"marker\": {\"color\": \"#FF97FF\", \"symbol\": \"circle\"}, \"mode\": \"markers\", \"name\": \"11\", \"scene\": \"scene\", \"showlegend\": true, \"type\": \"scatter3d\", \"x\": [0.42291211256416517], \"y\": [0.7480841857104454]}, {\"customdata\": [[\"4l00_1\"], [\"6cz4_2\"]], \"hovertemplate\": \"Clusters=10<br>x=%{x}<br>y=%{y}<br>Pockets=%{customdata[0]}<extra></extra>\", \"legendgroup\": \"10\", \"marker\": {\"color\": \"#FECB52\", \"symbol\": \"circle\"}, \"mode\": \"markers\", \"name\": \"10\", \"scene\": \"scene\", \"showlegend\": true, \"type\": \"scatter3d\", \"x\": [0.4679207829898299, -0.05053508901397303], \"y\": [0.4774889447181482, 0.6406517217609907]}, {\"customdata\": [[\"4qpm_2\"], [\"4yfi_2\"], [\"5grn_2\"], [\"5j5t_2\"], [\"6eim_2\"]], \"hovertemplate\": \"Clusters=5<br>x=%{x}<br>y=%{y}<br>Pockets=%{customdata[0]}<extra></extra>\", \"legendgroup\": \"5\", \"marker\": {\"color\": \"#636efa\", \"symbol\": \"circle\"}, \"mode\": \"markers\", \"name\": \"5\", \"scene\": \"scene\", \"showlegend\": true, \"type\": \"scatter3d\", \"x\": [0.5645460402463665, 0.6633026572537147, -0.49151317810315015, -0.508462271956095, 0.729582707498679], \"y\": [0.44236245669546564, 0.2859610901681443, 0.48923717101056613, 0.46354443099003934, 0.06633993632906818]}, {\"customdata\": [[\"5xs2_2\"]], \"hovertemplate\": \"Clusters=6<br>x=%{x}<br>y=%{y}<br>Pockets=%{customdata[0]}<extra></extra>\", \"legendgroup\": \"6\", \"marker\": {\"color\": \"#EF553B\", \"symbol\": \"circle\"}, \"mode\": \"markers\", \"name\": \"6\", \"scene\": \"scene\", \"showlegend\": true, \"type\": \"scatter3d\", \"x\": [-0.3470184252209653], \"y\": [0.5998500424556092]}],                        {\"legend\": {\"title\": {\"text\": \"Clusters\"}, \"tracegroupgap\": 0}, \"scene\": {\"domain\": {\"x\": [0.0, 1.0], \"y\": [0.0, 1.0]}, \"xaxis\": {\"title\": {\"text\": \"x\"}}, \"yaxis\": {\"title\": {\"text\": \"y\"}}, \"zaxis\": {\"range\": [0, 300]}}, \"template\": {\"data\": {\"bar\": [{\"error_x\": {\"color\": \"#2a3f5f\"}, \"error_y\": {\"color\": \"#2a3f5f\"}, \"marker\": {\"line\": {\"color\": \"#E5ECF6\", \"width\": 0.5}}, \"type\": \"bar\"}], \"barpolar\": [{\"marker\": {\"line\": {\"color\": \"#E5ECF6\", \"width\": 0.5}}, \"type\": \"barpolar\"}], \"carpet\": [{\"aaxis\": {\"endlinecolor\": \"#2a3f5f\", \"gridcolor\": \"white\", \"linecolor\": \"white\", \"minorgridcolor\": \"white\", \"startlinecolor\": \"#2a3f5f\"}, \"baxis\": {\"endlinecolor\": \"#2a3f5f\", \"gridcolor\": \"white\", \"linecolor\": \"white\", \"minorgridcolor\": \"white\", \"startlinecolor\": \"#2a3f5f\"}, \"type\": \"carpet\"}], \"choropleth\": [{\"colorbar\": {\"outlinewidth\": 0, \"ticks\": \"\"}, \"type\": \"choropleth\"}], \"contour\": [{\"colorbar\": {\"outlinewidth\": 0, \"ticks\": \"\"}, \"colorscale\": [[0.0, \"#0d0887\"], [0.1111111111111111, \"#46039f\"], [0.2222222222222222, \"#7201a8\"], [0.3333333333333333, \"#9c179e\"], [0.4444444444444444, \"#bd3786\"], [0.5555555555555556, \"#d8576b\"], [0.6666666666666666, \"#ed7953\"], [0.7777777777777778, \"#fb9f3a\"], [0.8888888888888888, \"#fdca26\"], [1.0, \"#f0f921\"]], \"type\": \"contour\"}], \"contourcarpet\": [{\"colorbar\": {\"outlinewidth\": 0, \"ticks\": \"\"}, \"type\": \"contourcarpet\"}], \"heatmap\": [{\"colorbar\": {\"outlinewidth\": 0, \"ticks\": \"\"}, \"colorscale\": [[0.0, \"#0d0887\"], [0.1111111111111111, \"#46039f\"], [0.2222222222222222, \"#7201a8\"], [0.3333333333333333, \"#9c179e\"], [0.4444444444444444, \"#bd3786\"], [0.5555555555555556, \"#d8576b\"], [0.6666666666666666, \"#ed7953\"], [0.7777777777777778, \"#fb9f3a\"], [0.8888888888888888, \"#fdca26\"], [1.0, \"#f0f921\"]], \"type\": \"heatmap\"}], \"heatmapgl\": [{\"colorbar\": {\"outlinewidth\": 0, \"ticks\": \"\"}, \"colorscale\": [[0.0, \"#0d0887\"], [0.1111111111111111, \"#46039f\"], [0.2222222222222222, \"#7201a8\"], [0.3333333333333333, \"#9c179e\"], [0.4444444444444444, \"#bd3786\"], [0.5555555555555556, \"#d8576b\"], [0.6666666666666666, \"#ed7953\"], [0.7777777777777778, \"#fb9f3a\"], [0.8888888888888888, \"#fdca26\"], [1.0, \"#f0f921\"]], \"type\": \"heatmapgl\"}], \"histogram\": [{\"marker\": {\"colorbar\": {\"outlinewidth\": 0, \"ticks\": \"\"}}, \"type\": \"histogram\"}], \"histogram2d\": [{\"colorbar\": {\"outlinewidth\": 0, \"ticks\": \"\"}, \"colorscale\": [[0.0, \"#0d0887\"], [0.1111111111111111, \"#46039f\"], [0.2222222222222222, \"#7201a8\"], [0.3333333333333333, \"#9c179e\"], [0.4444444444444444, \"#bd3786\"], [0.5555555555555556, \"#d8576b\"], [0.6666666666666666, \"#ed7953\"], [0.7777777777777778, \"#fb9f3a\"], [0.8888888888888888, \"#fdca26\"], [1.0, \"#f0f921\"]], \"type\": \"histogram2d\"}], \"histogram2dcontour\": [{\"colorbar\": {\"outlinewidth\": 0, \"ticks\": \"\"}, \"colorscale\": [[0.0, \"#0d0887\"], [0.1111111111111111, \"#46039f\"], [0.2222222222222222, \"#7201a8\"], [0.3333333333333333, \"#9c179e\"], [0.4444444444444444, \"#bd3786\"], [0.5555555555555556, \"#d8576b\"], [0.6666666666666666, \"#ed7953\"], [0.7777777777777778, \"#fb9f3a\"], [0.8888888888888888, \"#fdca26\"], [1.0, \"#f0f921\"]], \"type\": \"histogram2dcontour\"}], \"mesh3d\": [{\"colorbar\": {\"outlinewidth\": 0, \"ticks\": \"\"}, \"type\": \"mesh3d\"}], \"parcoords\": [{\"line\": {\"colorbar\": {\"outlinewidth\": 0, \"ticks\": \"\"}}, \"type\": \"parcoords\"}], \"pie\": [{\"automargin\": true, \"type\": \"pie\"}], \"scatter\": [{\"marker\": {\"colorbar\": {\"outlinewidth\": 0, \"ticks\": \"\"}}, \"type\": \"scatter\"}], \"scatter3d\": [{\"line\": {\"colorbar\": {\"outlinewidth\": 0, \"ticks\": \"\"}}, \"marker\": {\"colorbar\": {\"outlinewidth\": 0, \"ticks\": \"\"}}, \"type\": \"scatter3d\"}], \"scattercarpet\": [{\"marker\": {\"colorbar\": {\"outlinewidth\": 0, \"ticks\": \"\"}}, \"type\": \"scattercarpet\"}], \"scattergeo\": [{\"marker\": {\"colorbar\": {\"outlinewidth\": 0, \"ticks\": \"\"}}, \"type\": \"scattergeo\"}], \"scattergl\": [{\"marker\": {\"colorbar\": {\"outlinewidth\": 0, \"ticks\": \"\"}}, \"type\": \"scattergl\"}], \"scattermapbox\": [{\"marker\": {\"colorbar\": {\"outlinewidth\": 0, \"ticks\": \"\"}}, \"type\": \"scattermapbox\"}], \"scatterpolar\": [{\"marker\": {\"colorbar\": {\"outlinewidth\": 0, \"ticks\": \"\"}}, \"type\": \"scatterpolar\"}], \"scatterpolargl\": [{\"marker\": {\"colorbar\": {\"outlinewidth\": 0, \"ticks\": \"\"}}, \"type\": \"scatterpolargl\"}], \"scatterternary\": [{\"marker\": {\"colorbar\": {\"outlinewidth\": 0, \"ticks\": \"\"}}, \"type\": \"scatterternary\"}], \"surface\": [{\"colorbar\": {\"outlinewidth\": 0, \"ticks\": \"\"}, \"colorscale\": [[0.0, \"#0d0887\"], [0.1111111111111111, \"#46039f\"], [0.2222222222222222, \"#7201a8\"], [0.3333333333333333, \"#9c179e\"], [0.4444444444444444, \"#bd3786\"], [0.5555555555555556, \"#d8576b\"], [0.6666666666666666, \"#ed7953\"], [0.7777777777777778, \"#fb9f3a\"], [0.8888888888888888, \"#fdca26\"], [1.0, \"#f0f921\"]], \"type\": \"surface\"}], \"table\": [{\"cells\": {\"fill\": {\"color\": \"#EBF0F8\"}, \"line\": {\"color\": \"white\"}}, \"header\": {\"fill\": {\"color\": \"#C8D4E3\"}, \"line\": {\"color\": \"white\"}}, \"type\": \"table\"}]}, \"layout\": {\"annotationdefaults\": {\"arrowcolor\": \"#2a3f5f\", \"arrowhead\": 0, \"arrowwidth\": 1}, \"autotypenumbers\": \"strict\", \"coloraxis\": {\"colorbar\": {\"outlinewidth\": 0, \"ticks\": \"\"}}, \"colorscale\": {\"diverging\": [[0, \"#8e0152\"], [0.1, \"#c51b7d\"], [0.2, \"#de77ae\"], [0.3, \"#f1b6da\"], [0.4, \"#fde0ef\"], [0.5, \"#f7f7f7\"], [0.6, \"#e6f5d0\"], [0.7, \"#b8e186\"], [0.8, \"#7fbc41\"], [0.9, \"#4d9221\"], [1, \"#276419\"]], \"sequential\": [[0.0, \"#0d0887\"], [0.1111111111111111, \"#46039f\"], [0.2222222222222222, \"#7201a8\"], [0.3333333333333333, \"#9c179e\"], [0.4444444444444444, \"#bd3786\"], [0.5555555555555556, \"#d8576b\"], [0.6666666666666666, \"#ed7953\"], [0.7777777777777778, \"#fb9f3a\"], [0.8888888888888888, \"#fdca26\"], [1.0, \"#f0f921\"]], \"sequentialminus\": [[0.0, \"#0d0887\"], [0.1111111111111111, \"#46039f\"], [0.2222222222222222, \"#7201a8\"], [0.3333333333333333, \"#9c179e\"], [0.4444444444444444, \"#bd3786\"], [0.5555555555555556, \"#d8576b\"], [0.6666666666666666, \"#ed7953\"], [0.7777777777777778, \"#fb9f3a\"], [0.8888888888888888, \"#fdca26\"], [1.0, \"#f0f921\"]]}, \"colorway\": [\"#636efa\", \"#EF553B\", \"#00cc96\", \"#ab63fa\", \"#FFA15A\", \"#19d3f3\", \"#FF6692\", \"#B6E880\", \"#FF97FF\", \"#FECB52\"], \"font\": {\"color\": \"#2a3f5f\"}, \"geo\": {\"bgcolor\": \"white\", \"lakecolor\": \"white\", \"landcolor\": \"#E5ECF6\", \"showlakes\": true, \"showland\": true, \"subunitcolor\": \"white\"}, \"hoverlabel\": {\"align\": \"left\"}, \"hovermode\": \"closest\", \"mapbox\": {\"style\": \"light\"}, \"paper_bgcolor\": \"white\", \"plot_bgcolor\": \"#E5ECF6\", \"polar\": {\"angularaxis\": {\"gridcolor\": \"white\", \"linecolor\": \"white\", \"ticks\": \"\"}, \"bgcolor\": \"#E5ECF6\", \"radialaxis\": {\"gridcolor\": \"white\", \"linecolor\": \"white\", \"ticks\": \"\"}}, \"scene\": {\"xaxis\": {\"backgroundcolor\": \"#E5ECF6\", \"gridcolor\": \"white\", \"gridwidth\": 2, \"linecolor\": \"white\", \"showbackground\": true, \"ticks\": \"\", \"zerolinecolor\": \"white\"}, \"yaxis\": {\"backgroundcolor\": \"#E5ECF6\", \"gridcolor\": \"white\", \"gridwidth\": 2, \"linecolor\": \"white\", \"showbackground\": true, \"ticks\": \"\", \"zerolinecolor\": \"white\"}, \"zaxis\": {\"backgroundcolor\": \"#E5ECF6\", \"gridcolor\": \"white\", \"gridwidth\": 2, \"linecolor\": \"white\", \"showbackground\": true, \"ticks\": \"\", \"zerolinecolor\": \"white\"}}, \"shapedefaults\": {\"line\": {\"color\": \"#2a3f5f\"}}, \"ternary\": {\"aaxis\": {\"gridcolor\": \"white\", \"linecolor\": \"white\", \"ticks\": \"\"}, \"baxis\": {\"gridcolor\": \"white\", \"linecolor\": \"white\", \"ticks\": \"\"}, \"bgcolor\": \"#E5ECF6\", \"caxis\": {\"gridcolor\": \"white\", \"linecolor\": \"white\", \"ticks\": \"\"}}, \"title\": {\"x\": 0.05}, \"xaxis\": {\"automargin\": true, \"gridcolor\": \"white\", \"linecolor\": \"white\", \"ticks\": \"\", \"title\": {\"standoff\": 15}, \"zerolinecolor\": \"white\", \"zerolinewidth\": 2}, \"yaxis\": {\"automargin\": true, \"gridcolor\": \"white\", \"linecolor\": \"white\", \"ticks\": \"\", \"title\": {\"standoff\": 15}, \"zerolinecolor\": \"white\", \"zerolinewidth\": 2}}}, \"title\": {\"text\": \"12 Clusters\"}},                        {\"responsive\": true}                    ).then(function(){\n",
       "                            \n",
       "var gd = document.getElementById('76b7e501-5e4f-4f9c-94bb-674ddf3a756d');\n",
       "var x = new MutationObserver(function (mutations, observer) {{\n",
       "        var display = window.getComputedStyle(gd).display;\n",
       "        if (!display || display === 'none') {{\n",
       "            console.log([gd, 'removed!']);\n",
       "            Plotly.purge(gd);\n",
       "            observer.disconnect();\n",
       "        }}\n",
       "}});\n",
       "\n",
       "// Listen for the removal of the full notebook cells\n",
       "var notebookContainer = gd.closest('#notebook-container');\n",
       "if (notebookContainer) {{\n",
       "    x.observe(notebookContainer, {childList: true});\n",
       "}}\n",
       "\n",
       "// Listen for the clearing of the current output cell\n",
       "var outputEl = gd.closest('.output');\n",
       "if (outputEl) {{\n",
       "    x.observe(outputEl, {childList: true});\n",
       "}}\n",
       "\n",
       "                        })                };                });            </script>        </div>"
      ]
     },
     "metadata": {},
     "output_type": "display_data"
    },
    {
     "data": {
      "image/png": "[encoded data removed]",
      "text/plain": [
       "<Figure size 432x288 with 1 Axes>"
      ]
     },
     "metadata": {
      "needs_background": "light"
     },
     "output_type": "display_data"
    },
    {
     "data": {
      "image/png": "[encoded data removed]",
      "text/plain": [
       "<Figure size 800x640 with 1 Axes>"
      ]
     },
     "metadata": {
      "needs_background": "light"
     },
     "output_type": "display_data"
    }
   ],
   "source": [
    "silhouette_totals = []\n",
    "path = \"/home/user/Documents/algorithms_in_structural_biology/Final/Pockets30_Agglomerative\"\n",
    "try:\n",
    "    os.makedirs(path, exist_ok=True)\n",
    "except OSError:\n",
    "    print (\"Creation of the directory %s failed\" % path)\n",
    "else:\n",
    "    print(\"Successfully created the directory %s\" % path)\n",
    "    \n",
    "    \n",
    "K = range(12,13)\n",
    "for i in K:\n",
    "    cluster = AgglomerativeClustering(n_clusters=i,affinity='precomputed', linkage='average')\n",
    "    cluster.fit(disimil_matrix)\n",
    "    create_histogram(cluster.labels_,i)\n",
    "    path = \"/home/user/Documents/algorithms_in_structural_biology/Final/Pockets30_Agglomerative/Cluster\"+str(i)\n",
    "    try:\n",
    "        os.makedirs(path, exist_ok=True)\n",
    "    except OSError:\n",
    "        print (\"Creation of the directory %s failed\" % path)\n",
    "        \n",
    "    create_clusters_file(cluster.labels_,i)\n",
    "    print(\"~~~~~~~~~~~~~~~~~~~~~~~~~~~~~~~~~~~~~~~~~~ Cluster \"+str(i)+\" ~~~~~~~~~~~~~~~~~~~~~~~~~~~~~~~~~~~~~~~~~~~~~~~~~~~~~~\")\n",
    "    ###### plot 1 ################\n",
    "    data_kinases_manifold = create_manifold(cluster.labels_)\n",
    "    fig = px.scatter(data_kinases_manifold, x=\"x\", y=\"y\", color=\"Clusters\", hover_data=[\"Pockets\"],title=str(i)+' Clusters')\n",
    "#     , size='size'\n",
    "    fig.write_html(\"agglomerative2D.html\")\n",
    "    fig.show()\n",
    "    ###### plot 1.1 ################\n",
    "    data_kinases_manifold_outliers = create_manifold_with_outliers(cluster.labels_)\n",
    "    fig = px.scatter(data_kinases_manifold_outliers, x=\"x\", y=\"y\", color=\"Clusters\", hover_data=[\"Pockets\"],title=str(i)+' Clusters')\n",
    "#     , size='size'\n",
    "    fig.show()\n",
    "    ###### plot 2 ################\n",
    "    fig = px.scatter_3d(data_kinases_manifold, x='x', y='y',\n",
    "              color=\"Clusters\",range_z = (0, 300),hover_data=[\"Pockets\"], title=str(i)+' Clusters')\n",
    "#     , z='size'\n",
    "    fig.show()\n",
    "    ##### plot 3 ###############\n",
    "    plt.figure(figsize=(10, 8), dpi=80)\n",
    "    plt.scatter(mds_coords[:,0],mds_coords[:,1], c=cluster.labels_, cmap='rainbow')\n",
    "    #     facecolors = 'red', edgecolors = 'none')  # points in white (invisible)\n",
    "    labels = kinase_names\n",
    "    for label, x, y in zip(labels, mds_coords[:,0], mds_coords[:,1]):\n",
    "        plt.annotate(label, (x,y), xycoords = 'data')\n",
    "    plt.xlabel('First Dimension')\n",
    "    plt.ylabel('Second Dimension')\n",
    "    plt.title(str(i)+\" Clusters\")   \n",
    "    plt.show()\n",
    "    silhouette_totals.append(metrics.silhouette_score(disimil_matrix, cluster.labels_, metric='precomputed'))"
   ]
  },
  {
   "cell_type": "code",
   "execution_count": 30,
   "metadata": {
    "scrolled": false
   },
   "outputs": [
    {
     "data": {
      "text/plain": [
       "[0.12589805189074127,\n",
       " 0.11762370743221054,\n",
       " 0.08060366642830365,\n",
       " 0.08108411224427986,\n",
       " 0.07903712846758945,\n",
       " 0.07135179301404106,\n",
       " 0.07021469358540212,\n",
       " 0.07078362855354871,\n",
       " 0.08800486506776038,\n",
       " 0.08521589222941849,\n",
       " 0.08489010309723825,\n",
       " 0.08201606139049245,\n",
       " 0.08772184703346178,\n",
       " 0.08793207031593517,\n",
       " 0.09804047755056107]"
      ]
     },
     "execution_count": 30,
     "metadata": {},
     "output_type": "execute_result"
    }
   ],
   "source": [
    "silhouette_totals"
   ]
  },
  {
   "cell_type": "code",
   "execution_count": 31,
   "metadata": {},
   "outputs": [
    {
     "data": {
      "image/png": "[encoded data removed]",
      "text/plain": [
       "<Figure size 800x640 with 1 Axes>"
      ]
     },
     "metadata": {
      "needs_background": "light"
     },
     "output_type": "display_data"
    }
   ],
   "source": [
    "import numpy as np\n",
    "import matplotlib.pyplot as plt\n",
    "\n",
    "plt.figure(figsize=(10, 8), dpi=80)\n",
    "plt.plot(K, silhouette_totals)\n",
    "plt.plot(K, silhouette_totals, 'o')\n",
    "plt.show()"
   ]
  },
  {
   "cell_type": "code",
   "execution_count": null,
   "metadata": {},
   "outputs": [],
   "source": []
  }
 ],
 "metadata": {
  "kernelspec": {
   "display_name": "Python 3",
   "language": "python",
   "name": "python3"
  },
  "language_info": {
   "codemirror_mode": {
    "name": "ipython",
    "version": 3
   },
   "file_extension": ".py",
   "mimetype": "text/x-python",
   "name": "python",
   "nbconvert_exporter": "python",
   "pygments_lexer": "ipython3",
   "version": "3.7.6"
  }
 },
 "nbformat": 4,
 "nbformat_minor": 4
}
