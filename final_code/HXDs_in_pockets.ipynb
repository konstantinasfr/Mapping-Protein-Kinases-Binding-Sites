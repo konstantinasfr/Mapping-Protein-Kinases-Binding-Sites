{
 "cells": [
  {
   "cell_type": "code",
   "execution_count": 1,
   "metadata": {},
   "outputs": [],
   "source": [
    "import subprocess\n",
    "import os \n",
    "import re\n",
    "import numpy as np\n",
    "import pandas as pd\n",
    "from collections import Counter"
   ]
  },
  {
   "cell_type": "code",
   "execution_count": 2,
   "metadata": {},
   "outputs": [],
   "source": [
    "class color:\n",
    "   PURPLE = '\\033[95m'\n",
    "   CYAN = '\\033[96m'\n",
    "   DARKCYAN = '\\033[36m'\n",
    "   BLUE = '\\033[94m'\n",
    "   GREEN = '\\033[92m'\n",
    "   YELLOW = '\\033[93m'\n",
    "   RED = '\\033[91m'\n",
    "   BOLD = '\\033[1m'\n",
    "   UNDERLINE = '\\033[4m'\n",
    "   END = '\\033[0m'"
   ]
  },
  {
   "cell_type": "code",
   "execution_count": null,
   "metadata": {},
   "outputs": [],
   "source": []
  },
  {
   "cell_type": "code",
   "execution_count": 3,
   "metadata": {},
   "outputs": [],
   "source": [
    "hxd_pocks = pd.read_excel('hxd_pockets.xlsx', columns= ['Pockets', 'Clusters'])\n",
    "hxd_pocks = hxd_pocks.drop(['Unnamed: 0'], axis=1)\n",
    "hxd_pocks.columns = ['Kinase', 'hxd']\n",
    "hxd_pocks = hxd_pocks[hxd_pocks[\"hxd\"]==\"hxd\"]"
   ]
  },
  {
   "cell_type": "code",
   "execution_count": 4,
   "metadata": {},
   "outputs": [
    {
     "ename": "NameError",
     "evalue": "name 'atp_pocks' is not defined",
     "output_type": "error",
     "traceback": [
      "\u001b[0;31m---------------------------------------------------------------------------\u001b[0m",
      "\u001b[0;31mNameError\u001b[0m                                 Traceback (most recent call last)",
      "\u001b[0;32m<ipython-input-4-709aaf4e12db>\u001b[0m in \u001b[0;36m<module>\u001b[0;34m\u001b[0m\n\u001b[0;32m----> 1\u001b[0;31m \u001b[0mprint\u001b[0m\u001b[0;34m(\u001b[0m\u001b[0mnp\u001b[0m\u001b[0;34m.\u001b[0m\u001b[0marray\u001b[0m\u001b[0;34m(\u001b[0m\u001b[0mhxd_pocks\u001b[0m\u001b[0;34m[\u001b[0m\u001b[0matp_pocks\u001b[0m\u001b[0;34m[\u001b[0m\u001b[0;34m\"Kinase\"\u001b[0m\u001b[0;34m]\u001b[0m \u001b[0;34m==\u001b[0m \u001b[0;34m\"1blx_1\"\u001b[0m\u001b[0;34m]\u001b[0m\u001b[0;34m)\u001b[0m\u001b[0;34m[\u001b[0m\u001b[0;36m0\u001b[0m\u001b[0;34m]\u001b[0m\u001b[0;34m[\u001b[0m\u001b[0;36m1\u001b[0m\u001b[0;34m]\u001b[0m\u001b[0;34m)\u001b[0m\u001b[0;34m\u001b[0m\u001b[0;34m\u001b[0m\u001b[0m\n\u001b[0m",
      "\u001b[0;31mNameError\u001b[0m: name 'atp_pocks' is not defined"
     ]
    }
   ],
   "source": [
    "print(np.array(hxd_pocks[atp_pocks[\"Kinase\"] == \"1blx_1\"])[0][1])"
   ]
  },
  {
   "cell_type": "code",
   "execution_count": null,
   "metadata": {},
   "outputs": [],
   "source": [
    "hxd_pocks.shape[0]"
   ]
  },
  {
   "cell_type": "code",
   "execution_count": 4,
   "metadata": {},
   "outputs": [],
   "source": [
    "def find_unique_common(data1,data2,field):\n",
    "    # belong to data1 and doesn't belong to data2\n",
    "    data1_unique = data1[~data1[field].isin(data2 [field])]\n",
    "#     print(color.BOLD + \"Data 1 only: \"+str(len(data1_unique)) + color.END)\n",
    "#     if len(data1_unique) < 6:\n",
    "#         print(data1_unique)\n",
    "\n",
    "#     # belong to data2 and doesn't belong to data1\n",
    "#     data2_unique = data2[~data2[field].isin(data1 [field])]\n",
    "#     print(color.BOLD + \"Data 2 only: \"+str(len(data2_unique)) + color.END)\n",
    "#     if len(data2_unique) != 0:\n",
    "#         print(data2_unique)\n",
    "#     # they have in common\n",
    "    common = pd.merge(data1, data2, on=field)\n",
    "    print(color.RED + \"HXDs: \"+str(len(common)) + color.END)\n",
    "    print(color.YELLOW + \"Non HXDs: \"+str(data1.shape[0]-len(common)) + color.END)\n",
    "    print(color.YELLOW + \"Total: \"+str(data1.shape[0]) + color.END)\n",
    "    \n",
    "#     if len(common)<6:\n",
    "#         print(common)\n",
    "#     total_prot = pd.concat([data1_unique,data2_unique,common])\n",
    "#     print(len(total_prot))\n",
    "    return common"
   ]
  },
  {
   "cell_type": "code",
   "execution_count": 6,
   "metadata": {},
   "outputs": [],
   "source": [
    "def find_hxd(num_clust,path1):\n",
    "    for i in range(num_clust):\n",
    "        path = path1+\"/Clusters_\"+str(i)+\".xlsx\"\n",
    "        cluster = pd.read_excel(path)\n",
    "        print(color.UNDERLINE + \"----------------------Cluster \"+str(i)+\"------------------------------------\"+ color.END)\n",
    "        find_unique_common(cluster,hxd_pocks,\"Kinase\")"
   ]
  },
  {
   "cell_type": "code",
   "execution_count": 13,
   "metadata": {},
   "outputs": [
    {
     "name": "stdout",
     "output_type": "stream",
     "text": [
      "\u001b[4m----------------------Cluster 0------------------------------------\u001b[0m\n",
      "\u001b[1mData 1 only: 10\u001b[0m\n",
      "\u001b[91mHXDs: 0\u001b[0m\n",
      "\u001b[93mNon HXDs: 10\u001b[0m\n",
      "\u001b[93mTotal: 10\u001b[0m\n",
      "\u001b[4m----------------------Cluster 1------------------------------------\u001b[0m\n",
      "\u001b[1mData 1 only: 227\u001b[0m\n",
      "\u001b[91mHXDs: 6\u001b[0m\n",
      "\u001b[93mNon HXDs: 227\u001b[0m\n",
      "\u001b[93mTotal: 233\u001b[0m\n",
      "\u001b[4m----------------------Cluster 2------------------------------------\u001b[0m\n",
      "\u001b[1mData 1 only: 21\u001b[0m\n",
      "\u001b[91mHXDs: 1\u001b[0m\n",
      "\u001b[93mNon HXDs: 21\u001b[0m\n",
      "\u001b[93mTotal: 22\u001b[0m\n",
      "\u001b[4m----------------------Cluster 3------------------------------------\u001b[0m\n",
      "\u001b[1mData 1 only: 4\u001b[0m\n",
      "   Kinase  Cluster\n",
      "0  3s95_1        3\n",
      "1  3soc_2        3\n",
      "2  3v5w_1        3\n",
      "3  6bru_1        3\n",
      "\u001b[91mHXDs: 0\u001b[0m\n",
      "\u001b[93mNon HXDs: 4\u001b[0m\n",
      "\u001b[93mTotal: 4\u001b[0m\n",
      "\u001b[4m----------------------Cluster 4------------------------------------\u001b[0m\n",
      "\u001b[1mData 1 only: 2\u001b[0m\n",
      "   Kinase  Cluster\n",
      "0  2f57_1        4\n",
      "3  4asz_3        4\n",
      "\u001b[91mHXDs: 3\u001b[0m\n",
      "\u001b[93mNon HXDs: 2\u001b[0m\n",
      "\u001b[93mTotal: 5\u001b[0m\n",
      "\u001b[4m----------------------Cluster 5------------------------------------\u001b[0m\n",
      "\u001b[1mData 1 only: 1\u001b[0m\n",
      "   Kinase  Cluster\n",
      "0  3v5w_2        5\n",
      "\u001b[91mHXDs: 0\u001b[0m\n",
      "\u001b[93mNon HXDs: 1\u001b[0m\n",
      "\u001b[93mTotal: 1\u001b[0m\n",
      "\u001b[4m----------------------Cluster 6------------------------------------\u001b[0m\n",
      "\u001b[1mData 1 only: 1\u001b[0m\n",
      "   Kinase  Cluster\n",
      "0  5xs2_2        6\n",
      "\u001b[91mHXDs: 0\u001b[0m\n",
      "\u001b[93mNon HXDs: 1\u001b[0m\n",
      "\u001b[93mTotal: 1\u001b[0m\n"
     ]
    }
   ],
   "source": [
    "find_hxd(7,\"Pockets30_Agglomerative/Cluster7/\")"
   ]
  },
  {
   "cell_type": "code",
   "execution_count": 16,
   "metadata": {},
   "outputs": [
    {
     "name": "stdout",
     "output_type": "stream",
     "text": [
      "\u001b[4m----------------------Cluster 0------------------------------------\u001b[0m\n",
      "\u001b[91mATPs: 5\u001b[0m\n",
      "\u001b[93mNon ATPs: 27\u001b[0m\n",
      "\u001b[93mTotal: 32\u001b[0m\n",
      "\u001b[4m----------------------Cluster 1------------------------------------\u001b[0m\n",
      "\u001b[91mATPs: 180\u001b[0m\n",
      "\u001b[93mNon ATPs: 53\u001b[0m\n",
      "\u001b[93mTotal: 233\u001b[0m\n",
      "\u001b[4m----------------------Cluster 2------------------------------------\u001b[0m\n",
      "\u001b[91mATPs: 0\u001b[0m\n",
      "\u001b[93mNon ATPs: 1\u001b[0m\n",
      "\u001b[93mTotal: 1\u001b[0m\n",
      "\u001b[4m----------------------Cluster 3------------------------------------\u001b[0m\n",
      "\u001b[91mATPs: 2\u001b[0m\n",
      "\u001b[93mNon ATPs: 2\u001b[0m\n",
      "\u001b[93mTotal: 4\u001b[0m\n",
      "\u001b[4m----------------------Cluster 4------------------------------------\u001b[0m\n",
      "\u001b[91mATPs: 4\u001b[0m\n",
      "\u001b[93mNon ATPs: 1\u001b[0m\n",
      "\u001b[93mTotal: 5\u001b[0m\n",
      "\u001b[4m----------------------Cluster 5------------------------------------\u001b[0m\n",
      "\u001b[91mATPs: 0\u001b[0m\n",
      "\u001b[93mNon ATPs: 1\u001b[0m\n",
      "\u001b[93mTotal: 1\u001b[0m\n"
     ]
    }
   ],
   "source": [
    "find_atps(6,\"Pockets30_Agglomerative/Cluster6/\")"
   ]
  },
  {
   "cell_type": "code",
   "execution_count": 9,
   "metadata": {},
   "outputs": [
    {
     "name": "stdout",
     "output_type": "stream",
     "text": [
      "\u001b[4m----------------------Cluster 0------------------------------------\u001b[0m\n",
      "\u001b[91mATPs: 180\u001b[0m\n",
      "\u001b[93mNon ATPs: 48\u001b[0m\n",
      "\u001b[93mTotal: 228\u001b[0m\n",
      "\u001b[4m----------------------Cluster 1------------------------------------\u001b[0m\n",
      "\u001b[91mATPs: 4\u001b[0m\n",
      "\u001b[93mNon ATPs: 15\u001b[0m\n",
      "\u001b[93mTotal: 19\u001b[0m\n",
      "\u001b[4m----------------------Cluster 2------------------------------------\u001b[0m\n",
      "\u001b[91mATPs: 1\u001b[0m\n",
      "\u001b[93mNon ATPs: 4\u001b[0m\n",
      "\u001b[93mTotal: 5\u001b[0m\n",
      "\u001b[4m----------------------Cluster 3------------------------------------\u001b[0m\n",
      "\u001b[91mATPs: 2\u001b[0m\n",
      "\u001b[93mNon ATPs: 2\u001b[0m\n",
      "\u001b[93mTotal: 4\u001b[0m\n",
      "\u001b[4m----------------------Cluster 4------------------------------------\u001b[0m\n",
      "\u001b[91mATPs: 4\u001b[0m\n",
      "\u001b[93mNon ATPs: 1\u001b[0m\n",
      "\u001b[93mTotal: 5\u001b[0m\n",
      "\u001b[4m----------------------Cluster 5------------------------------------\u001b[0m\n",
      "\u001b[91mATPs: 0\u001b[0m\n",
      "\u001b[93mNon ATPs: 1\u001b[0m\n",
      "\u001b[93mTotal: 1\u001b[0m\n",
      "\u001b[4m----------------------Cluster 6------------------------------------\u001b[0m\n",
      "\u001b[91mATPs: 0\u001b[0m\n",
      "\u001b[93mNon ATPs: 1\u001b[0m\n",
      "\u001b[93mTotal: 1\u001b[0m\n",
      "\u001b[4m----------------------Cluster 7------------------------------------\u001b[0m\n",
      "\u001b[91mATPs: 0\u001b[0m\n",
      "\u001b[93mNon ATPs: 5\u001b[0m\n",
      "\u001b[93mTotal: 5\u001b[0m\n",
      "\u001b[4m----------------------Cluster 8------------------------------------\u001b[0m\n",
      "\u001b[91mATPs: 0\u001b[0m\n",
      "\u001b[93mNon ATPs: 3\u001b[0m\n",
      "\u001b[93mTotal: 3\u001b[0m\n",
      "\u001b[4m----------------------Cluster 9------------------------------------\u001b[0m\n",
      "\u001b[91mATPs: 0\u001b[0m\n",
      "\u001b[93mNon ATPs: 3\u001b[0m\n",
      "\u001b[93mTotal: 3\u001b[0m\n",
      "\u001b[4m----------------------Cluster 10------------------------------------\u001b[0m\n",
      "\u001b[91mATPs: 0\u001b[0m\n",
      "\u001b[93mNon ATPs: 2\u001b[0m\n",
      "\u001b[93mTotal: 2\u001b[0m\n"
     ]
    }
   ],
   "source": [
    "find_atps(11,\"Pockets30_Agglomerative/Cluster11/\")"
   ]
  },
  {
   "cell_type": "code",
   "execution_count": 10,
   "metadata": {},
   "outputs": [
    {
     "name": "stdout",
     "output_type": "stream",
     "text": [
      "\u001b[4m----------------------Cluster 0------------------------------------\u001b[0m\n",
      "\u001b[91mATPs: 150\u001b[0m\n",
      "\u001b[93mNon ATPs: 78\u001b[0m\n",
      "\u001b[93mTotal: 228\u001b[0m\n",
      "\u001b[4m----------------------Cluster 1------------------------------------\u001b[0m\n",
      "\u001b[91mATPs: 30\u001b[0m\n",
      "\u001b[93mNon ATPs: 3\u001b[0m\n",
      "\u001b[93mTotal: 33\u001b[0m\n",
      "\u001b[4m----------------------Cluster 2------------------------------------\u001b[0m\n",
      "\u001b[91mATPs: 0\u001b[0m\n",
      "\u001b[93mNon ATPs: 2\u001b[0m\n",
      "\u001b[93mTotal: 2\u001b[0m\n",
      "\u001b[4m----------------------Cluster 3------------------------------------\u001b[0m\n",
      "\u001b[91mATPs: 2\u001b[0m\n",
      "\u001b[93mNon ATPs: 0\u001b[0m\n",
      "\u001b[93mTotal: 2\u001b[0m\n",
      "\u001b[4m----------------------Cluster 4------------------------------------\u001b[0m\n",
      "\u001b[91mATPs: 3\u001b[0m\n",
      "\u001b[93mNon ATPs: 0\u001b[0m\n",
      "\u001b[93mTotal: 3\u001b[0m\n",
      "\u001b[4m----------------------Cluster 5------------------------------------\u001b[0m\n",
      "\u001b[91mATPs: 2\u001b[0m\n",
      "\u001b[93mNon ATPs: 0\u001b[0m\n",
      "\u001b[93mTotal: 2\u001b[0m\n",
      "\u001b[4m----------------------Cluster 6------------------------------------\u001b[0m\n",
      "\u001b[91mATPs: 0\u001b[0m\n",
      "\u001b[93mNon ATPs: 2\u001b[0m\n",
      "\u001b[93mTotal: 2\u001b[0m\n",
      "\u001b[4m----------------------Cluster 7------------------------------------\u001b[0m\n",
      "\u001b[91mATPs: 2\u001b[0m\n",
      "\u001b[93mNon ATPs: 0\u001b[0m\n",
      "\u001b[93mTotal: 2\u001b[0m\n",
      "\u001b[4m----------------------Cluster 8------------------------------------\u001b[0m\n",
      "\u001b[91mATPs: 2\u001b[0m\n",
      "\u001b[93mNon ATPs: 0\u001b[0m\n",
      "\u001b[93mTotal: 2\u001b[0m\n"
     ]
    }
   ],
   "source": [
    "find_atps(9,\"Pockets30_DBScan/Cluster9_e0.3_s2/\")"
   ]
  },
  {
   "cell_type": "code",
   "execution_count": 52,
   "metadata": {},
   "outputs": [
    {
     "name": "stdout",
     "output_type": "stream",
     "text": [
      "\u001b[4m----------------------Cluster 0------------------------------------\u001b[0m\n",
      "\u001b[1mData 1 only: 20\u001b[0m\n",
      "\u001b[91mATPs: 5\u001b[0m\n",
      "\u001b[93mNon ATPs: 20\u001b[0m\n",
      "\u001b[93mTotal: 25\u001b[0m\n",
      "\u001b[4m----------------------Cluster 1------------------------------------\u001b[0m\n",
      "\u001b[1mData 1 only: 49\u001b[0m\n",
      "\u001b[91mATPs: 186\u001b[0m\n",
      "\u001b[93mNon ATPs: 49\u001b[0m\n",
      "\u001b[93mTotal: 235\u001b[0m\n",
      "\u001b[4m----------------------Cluster 2------------------------------------\u001b[0m\n",
      "\u001b[1mData 1 only: 2\u001b[0m\n",
      "   Kinase  Cluster\n",
      "0  1xjd_2        2\n",
      "1  5k00_1        2\n",
      "\u001b[91mATPs: 0\u001b[0m\n",
      "\u001b[93mNon ATPs: 2\u001b[0m\n",
      "\u001b[93mTotal: 2\u001b[0m\n",
      "\u001b[4m----------------------Cluster 3------------------------------------\u001b[0m\n",
      "\u001b[1mData 1 only: 3\u001b[0m\n",
      "   Kinase  Cluster\n",
      "0  2acx_1        3\n",
      "1  4tnd_4        3\n",
      "2  4yhj_2        3\n",
      "\u001b[91mATPs: 0\u001b[0m\n",
      "\u001b[93mNon ATPs: 3\u001b[0m\n",
      "\u001b[93mTotal: 3\u001b[0m\n",
      "\u001b[4m----------------------Cluster 4------------------------------------\u001b[0m\n",
      "\u001b[1mData 1 only: 2\u001b[0m\n",
      "   Kinase  Cluster\n",
      "0  2vz6_2        4\n",
      "1  2wel_2        4\n",
      "\u001b[91mATPs: 0\u001b[0m\n",
      "\u001b[93mNon ATPs: 2\u001b[0m\n",
      "\u001b[93mTotal: 2\u001b[0m\n",
      "\u001b[4m----------------------Cluster 5------------------------------------\u001b[0m\n",
      "\u001b[1mData 1 only: 2\u001b[0m\n",
      "   Kinase  Cluster\n",
      "0  4agu_2        5\n",
      "1  4y85_2        5\n",
      "\u001b[91mATPs: 0\u001b[0m\n",
      "\u001b[93mNon ATPs: 2\u001b[0m\n",
      "\u001b[93mTotal: 2\u001b[0m\n",
      "\u001b[4m----------------------Cluster 6------------------------------------\u001b[0m\n",
      "\u001b[1mData 1 only: 2\u001b[0m\n",
      "   Kinase  Cluster\n",
      "0  4qtb_2        6\n",
      "1  4zzn_2        6\n",
      "\u001b[91mATPs: 0\u001b[0m\n",
      "\u001b[93mNon ATPs: 2\u001b[0m\n",
      "\u001b[93mTotal: 2\u001b[0m\n",
      "\u001b[4m----------------------Cluster 7------------------------------------\u001b[0m\n",
      "\u001b[1mData 1 only: 2\u001b[0m\n",
      "   Kinase  Cluster\n",
      "0  4tnd_1        7\n",
      "1  4yhj_3        7\n",
      "\u001b[91mATPs: 0\u001b[0m\n",
      "\u001b[93mNon ATPs: 2\u001b[0m\n",
      "\u001b[93mTotal: 2\u001b[0m\n",
      "\u001b[4m----------------------Cluster 8------------------------------------\u001b[0m\n",
      "\u001b[1mData 1 only: 3\u001b[0m\n",
      "   Kinase  Cluster\n",
      "0  4yfi_2        8\n",
      "1  5j5t_2        8\n",
      "2  6eim_2        8\n",
      "\u001b[91mATPs: 0\u001b[0m\n",
      "\u001b[93mNon ATPs: 3\u001b[0m\n",
      "\u001b[93mTotal: 3\u001b[0m\n"
     ]
    }
   ],
   "source": [
    "find_atps(9,\"Pockets30_DBScan/Cluster9_e0.7_s2/\")"
   ]
  },
  {
   "cell_type": "code",
   "execution_count": 12,
   "metadata": {},
   "outputs": [
    {
     "name": "stdout",
     "output_type": "stream",
     "text": [
      "\u001b[4m----------------------Cluster 0------------------------------------\u001b[0m\n",
      "\u001b[91mATPs: 11\u001b[0m\n",
      "\u001b[93mNon ATPs: 32\u001b[0m\n",
      "\u001b[93mTotal: 43\u001b[0m\n",
      "\u001b[4m----------------------Cluster 1------------------------------------\u001b[0m\n",
      "\u001b[91mATPs: 180\u001b[0m\n",
      "\u001b[93mNon ATPs: 42\u001b[0m\n",
      "\u001b[93mTotal: 222\u001b[0m\n",
      "\u001b[4m----------------------Cluster 2------------------------------------\u001b[0m\n",
      "\u001b[91mATPs: 0\u001b[0m\n",
      "\u001b[93mNon ATPs: 3\u001b[0m\n",
      "\u001b[93mTotal: 3\u001b[0m\n",
      "\u001b[4m----------------------Cluster 3------------------------------------\u001b[0m\n",
      "\u001b[91mATPs: 0\u001b[0m\n",
      "\u001b[93mNon ATPs: 2\u001b[0m\n",
      "\u001b[93mTotal: 2\u001b[0m\n",
      "\u001b[4m----------------------Cluster 4------------------------------------\u001b[0m\n",
      "\u001b[91mATPs: 0\u001b[0m\n",
      "\u001b[93mNon ATPs: 2\u001b[0m\n",
      "\u001b[93mTotal: 2\u001b[0m\n",
      "\u001b[4m----------------------Cluster 5------------------------------------\u001b[0m\n",
      "\u001b[91mATPs: 0\u001b[0m\n",
      "\u001b[93mNon ATPs: 2\u001b[0m\n",
      "\u001b[93mTotal: 2\u001b[0m\n",
      "\u001b[4m----------------------Cluster 6------------------------------------\u001b[0m\n",
      "\u001b[91mATPs: 0\u001b[0m\n",
      "\u001b[93mNon ATPs: 2\u001b[0m\n",
      "\u001b[93mTotal: 2\u001b[0m\n"
     ]
    }
   ],
   "source": [
    "find_atps(7,\"Pockets30_DBScan/Cluster7_e0.6_s2/\")"
   ]
  },
  {
   "cell_type": "code",
   "execution_count": 13,
   "metadata": {},
   "outputs": [
    {
     "name": "stdout",
     "output_type": "stream",
     "text": [
      "\u001b[4m----------------------Cluster 0------------------------------------\u001b[0m\n",
      "\u001b[91mATPs: 105\u001b[0m\n",
      "\u001b[93mNon ATPs: 63\u001b[0m\n",
      "\u001b[93mTotal: 168\u001b[0m\n",
      "\u001b[4m----------------------Cluster 1------------------------------------\u001b[0m\n",
      "\u001b[91mATPs: 79\u001b[0m\n",
      "\u001b[93mNon ATPs: 19\u001b[0m\n",
      "\u001b[93mTotal: 98\u001b[0m\n",
      "\u001b[4m----------------------Cluster 2------------------------------------\u001b[0m\n",
      "\u001b[91mATPs: 7\u001b[0m\n",
      "\u001b[93mNon ATPs: 0\u001b[0m\n",
      "\u001b[93mTotal: 7\u001b[0m\n",
      "\u001b[4m----------------------Cluster 3------------------------------------\u001b[0m\n",
      "\u001b[91mATPs: 0\u001b[0m\n",
      "\u001b[93mNon ATPs: 3\u001b[0m\n",
      "\u001b[93mTotal: 3\u001b[0m\n"
     ]
    }
   ],
   "source": [
    "find_atps(4,\"Pockets30_DBScan/Cluster4_e0.4_s3/\")"
   ]
  },
  {
   "cell_type": "code",
   "execution_count": 14,
   "metadata": {},
   "outputs": [
    {
     "name": "stdout",
     "output_type": "stream",
     "text": [
      "\u001b[4m----------------------Cluster 0------------------------------------\u001b[0m\n",
      "\u001b[91mATPs: 106\u001b[0m\n",
      "\u001b[93mNon ATPs: 67\u001b[0m\n",
      "\u001b[93mTotal: 173\u001b[0m\n",
      "\u001b[4m----------------------Cluster 1------------------------------------\u001b[0m\n",
      "\u001b[91mATPs: 74\u001b[0m\n",
      "\u001b[93mNon ATPs: 15\u001b[0m\n",
      "\u001b[93mTotal: 89\u001b[0m\n",
      "\u001b[4m----------------------Cluster 2------------------------------------\u001b[0m\n",
      "\u001b[91mATPs: 5\u001b[0m\n",
      "\u001b[93mNon ATPs: 3\u001b[0m\n",
      "\u001b[93mTotal: 8\u001b[0m\n",
      "\u001b[4m----------------------Cluster 3------------------------------------\u001b[0m\n",
      "\u001b[91mATPs: 6\u001b[0m\n",
      "\u001b[93mNon ATPs: 0\u001b[0m\n",
      "\u001b[93mTotal: 6\u001b[0m\n"
     ]
    }
   ],
   "source": [
    "find_atps(4,\"Pockets30_DBScan/Cluster4_e0.4_s4/\")"
   ]
  },
  {
   "cell_type": "code",
   "execution_count": 15,
   "metadata": {},
   "outputs": [
    {
     "name": "stdout",
     "output_type": "stream",
     "text": [
      "\u001b[4m----------------------Cluster 0------------------------------------\u001b[0m\n",
      "\u001b[91mATPs: 112\u001b[0m\n",
      "\u001b[93mNon ATPs: 69\u001b[0m\n",
      "\u001b[93mTotal: 181\u001b[0m\n",
      "\u001b[4m----------------------Cluster 1------------------------------------\u001b[0m\n",
      "\u001b[91mATPs: 71\u001b[0m\n",
      "\u001b[93mNon ATPs: 14\u001b[0m\n",
      "\u001b[93mTotal: 85\u001b[0m\n",
      "\u001b[4m----------------------Cluster 2------------------------------------\u001b[0m\n",
      "\u001b[91mATPs: 3\u001b[0m\n",
      "\u001b[93mNon ATPs: 2\u001b[0m\n",
      "\u001b[93mTotal: 5\u001b[0m\n",
      "\u001b[4m----------------------Cluster 3------------------------------------\u001b[0m\n",
      "\u001b[91mATPs: 5\u001b[0m\n",
      "\u001b[93mNon ATPs: 0\u001b[0m\n",
      "\u001b[93mTotal: 5\u001b[0m\n"
     ]
    }
   ],
   "source": [
    "find_atps(4,\"Pockets30_DBScan/Cluster4_e0.4_s5/\")"
   ]
  },
  {
   "cell_type": "code",
   "execution_count": 7,
   "metadata": {
    "scrolled": false
   },
   "outputs": [
    {
     "name": "stdout",
     "output_type": "stream",
     "text": [
      "\u001b[4m----------------------Cluster 0------------------------------------\u001b[0m\n",
      "\u001b[91mHXDs: 6\u001b[0m\n",
      "\u001b[93mNon HXDs: 41\u001b[0m\n",
      "\u001b[93mTotal: 47\u001b[0m\n",
      "\u001b[4m----------------------Cluster 1------------------------------------\u001b[0m\n",
      "\u001b[91mHXDs: 0\u001b[0m\n",
      "\u001b[93mNon HXDs: 3\u001b[0m\n",
      "\u001b[93mTotal: 3\u001b[0m\n",
      "\u001b[4m----------------------Cluster 2------------------------------------\u001b[0m\n",
      "\u001b[91mHXDs: 0\u001b[0m\n",
      "\u001b[93mNon HXDs: 3\u001b[0m\n",
      "\u001b[93mTotal: 3\u001b[0m\n",
      "\u001b[4m----------------------Cluster 3------------------------------------\u001b[0m\n",
      "\u001b[91mHXDs: 0\u001b[0m\n",
      "\u001b[93mNon HXDs: 3\u001b[0m\n",
      "\u001b[93mTotal: 3\u001b[0m\n",
      "\u001b[4m----------------------Cluster 4------------------------------------\u001b[0m\n",
      "\u001b[91mHXDs: 0\u001b[0m\n",
      "\u001b[93mNon HXDs: 3\u001b[0m\n",
      "\u001b[93mTotal: 3\u001b[0m\n",
      "\u001b[4m----------------------Cluster 5------------------------------------\u001b[0m\n",
      "\u001b[91mHXDs: 0\u001b[0m\n",
      "\u001b[93mNon HXDs: 3\u001b[0m\n",
      "\u001b[93mTotal: 3\u001b[0m\n",
      "\u001b[4m----------------------Cluster 6------------------------------------\u001b[0m\n",
      "\u001b[91mHXDs: 0\u001b[0m\n",
      "\u001b[93mNon HXDs: 2\u001b[0m\n",
      "\u001b[93mTotal: 2\u001b[0m\n",
      "\u001b[4m----------------------Cluster 7------------------------------------\u001b[0m\n",
      "\u001b[91mHXDs: 0\u001b[0m\n",
      "\u001b[93mNon HXDs: 3\u001b[0m\n",
      "\u001b[93mTotal: 3\u001b[0m\n",
      "\u001b[4m----------------------Cluster 8------------------------------------\u001b[0m\n",
      "\u001b[91mHXDs: 0\u001b[0m\n",
      "\u001b[93mNon HXDs: 2\u001b[0m\n",
      "\u001b[93mTotal: 2\u001b[0m\n",
      "\u001b[4m----------------------Cluster 9------------------------------------\u001b[0m\n",
      "\u001b[91mHXDs: 0\u001b[0m\n",
      "\u001b[93mNon HXDs: 2\u001b[0m\n",
      "\u001b[93mTotal: 2\u001b[0m\n",
      "\u001b[4m----------------------Cluster 10------------------------------------\u001b[0m\n",
      "\u001b[91mHXDs: 0\u001b[0m\n",
      "\u001b[93mNon HXDs: 2\u001b[0m\n",
      "\u001b[93mTotal: 2\u001b[0m\n",
      "\u001b[4m----------------------Cluster 11------------------------------------\u001b[0m\n",
      "\u001b[91mHXDs: 0\u001b[0m\n",
      "\u001b[93mNon HXDs: 2\u001b[0m\n",
      "\u001b[93mTotal: 2\u001b[0m\n",
      "\u001b[4m----------------------Cluster 12------------------------------------\u001b[0m\n",
      "\u001b[91mHXDs: 4\u001b[0m\n",
      "\u001b[93mNon HXDs: 195\u001b[0m\n",
      "\u001b[93mTotal: 199\u001b[0m\n",
      "\u001b[4m----------------------Cluster 13------------------------------------\u001b[0m\n",
      "\u001b[91mHXDs: 0\u001b[0m\n",
      "\u001b[93mNon HXDs: 2\u001b[0m\n",
      "\u001b[93mTotal: 2\u001b[0m\n"
     ]
    }
   ],
   "source": [
    "find_hxd(14,\"Pockets30_HDBScan/Cluster14_min_cluster2_min_sample1/\")"
   ]
  },
  {
   "cell_type": "code",
   "execution_count": 17,
   "metadata": {
    "scrolled": false
   },
   "outputs": [
    {
     "name": "stdout",
     "output_type": "stream",
     "text": [
      "\u001b[4m----------------------Cluster 0------------------------------------\u001b[0m\n",
      "\u001b[1mData 1 only: 18\u001b[0m\n",
      "\u001b[91mHXDs: 1\u001b[0m\n",
      "\u001b[93mNon HXDs: 18\u001b[0m\n",
      "\u001b[93mTotal: 19\u001b[0m\n",
      "\u001b[4m----------------------Cluster 1------------------------------------\u001b[0m\n",
      "\u001b[1mData 1 only: 3\u001b[0m\n",
      "   Kinase  Cluster\n",
      "0  3v5w_3        1\n",
      "1  4tnd_1        1\n",
      "2  4yhj_3        1\n",
      "\u001b[91mHXDs: 0\u001b[0m\n",
      "\u001b[93mNon HXDs: 3\u001b[0m\n",
      "\u001b[93mTotal: 3\u001b[0m\n",
      "\u001b[4m----------------------Cluster 2------------------------------------\u001b[0m\n",
      "\u001b[1mData 1 only: 3\u001b[0m\n",
      "   Kinase  Cluster\n",
      "0  2fst_1        2\n",
      "1  4qtb_2        2\n",
      "2  4zzn_2        2\n",
      "\u001b[91mHXDs: 0\u001b[0m\n",
      "\u001b[93mNon HXDs: 3\u001b[0m\n",
      "\u001b[93mTotal: 3\u001b[0m\n",
      "\u001b[4m----------------------Cluster 3------------------------------------\u001b[0m\n",
      "\u001b[1mData 1 only: 3\u001b[0m\n",
      "   Kinase  Cluster\n",
      "0  4yfi_2        3\n",
      "1  5j5t_2        3\n",
      "2  6eim_2        3\n",
      "\u001b[91mHXDs: 0\u001b[0m\n",
      "\u001b[93mNon HXDs: 3\u001b[0m\n",
      "\u001b[93mTotal: 3\u001b[0m\n",
      "\u001b[4m----------------------Cluster 4------------------------------------\u001b[0m\n",
      "\u001b[1mData 1 only: 3\u001b[0m\n",
      "   Kinase  Cluster\n",
      "0  1fmk_2        4\n",
      "1  1xjd_2        4\n",
      "2  5k00_1        4\n",
      "\u001b[91mHXDs: 0\u001b[0m\n",
      "\u001b[93mNon HXDs: 3\u001b[0m\n",
      "\u001b[93mTotal: 3\u001b[0m\n",
      "\u001b[4m----------------------Cluster 5------------------------------------\u001b[0m\n",
      "\u001b[1mData 1 only: 3\u001b[0m\n",
      "   Kinase  Cluster\n",
      "0  2acx_1        5\n",
      "1  4tnd_4        5\n",
      "2  4yhj_2        5\n",
      "\u001b[91mHXDs: 0\u001b[0m\n",
      "\u001b[93mNon HXDs: 3\u001b[0m\n",
      "\u001b[93mTotal: 3\u001b[0m\n",
      "\u001b[4m----------------------Cluster 6------------------------------------\u001b[0m\n",
      "\u001b[1mData 1 only: 230\u001b[0m\n",
      "\u001b[91mHXDs: 9\u001b[0m\n",
      "\u001b[93mNon HXDs: 230\u001b[0m\n",
      "\u001b[93mTotal: 239\u001b[0m\n",
      "\u001b[4m----------------------Cluster 7------------------------------------\u001b[0m\n",
      "\u001b[1mData 1 only: 3\u001b[0m\n",
      "   Kinase  Cluster\n",
      "0  1u59_2        7\n",
      "1  3e7o_1        7\n",
      "2  3hmi_2        7\n",
      "\u001b[91mHXDs: 0\u001b[0m\n",
      "\u001b[93mNon HXDs: 3\u001b[0m\n",
      "\u001b[93mTotal: 3\u001b[0m\n"
     ]
    }
   ],
   "source": [
    "find_hxd(8,\"Pockets30_HDBScan/Cluster8_min_cluster3_min_sample1/\")"
   ]
  },
  {
   "cell_type": "code",
   "execution_count": 22,
   "metadata": {},
   "outputs": [
    {
     "name": "stdout",
     "output_type": "stream",
     "text": [
      "\u001b[4m----------------------Cluster 0------------------------------------\u001b[0m\n",
      "\u001b[91mATPs: 7\u001b[0m\n",
      "\u001b[93mNon ATPs: 25\u001b[0m\n",
      "\u001b[93mTotal: 32\u001b[0m\n",
      "\u001b[4m----------------------Cluster 1------------------------------------\u001b[0m\n",
      "\u001b[91mATPs: 0\u001b[0m\n",
      "\u001b[93mNon ATPs: 3\u001b[0m\n",
      "\u001b[93mTotal: 3\u001b[0m\n",
      "\u001b[4m----------------------Cluster 2------------------------------------\u001b[0m\n",
      "\u001b[91mATPs: 0\u001b[0m\n",
      "\u001b[93mNon ATPs: 3\u001b[0m\n",
      "\u001b[93mTotal: 3\u001b[0m\n",
      "\u001b[4m----------------------Cluster 3------------------------------------\u001b[0m\n",
      "\u001b[91mATPs: 0\u001b[0m\n",
      "\u001b[93mNon ATPs: 3\u001b[0m\n",
      "\u001b[93mTotal: 3\u001b[0m\n",
      "\u001b[4m----------------------Cluster 4------------------------------------\u001b[0m\n",
      "\u001b[91mATPs: 184\u001b[0m\n",
      "\u001b[93mNon ATPs: 49\u001b[0m\n",
      "\u001b[93mTotal: 233\u001b[0m\n",
      "\u001b[4m----------------------Cluster 5------------------------------------\u001b[0m\n",
      "\u001b[91mATPs: 0\u001b[0m\n",
      "\u001b[93mNon ATPs: 2\u001b[0m\n",
      "\u001b[93mTotal: 2\u001b[0m\n"
     ]
    }
   ],
   "source": [
    "find_atps(6,\"Pockets30_HDBScan/Cluster6_min_cluster2_min_sample2/\")"
   ]
  },
  {
   "cell_type": "code",
   "execution_count": 23,
   "metadata": {},
   "outputs": [
    {
     "name": "stdout",
     "output_type": "stream",
     "text": [
      "\u001b[4m----------------------Cluster 0------------------------------------\u001b[0m\n",
      "\u001b[91mATPs: 7\u001b[0m\n",
      "\u001b[93mNon ATPs: 20\u001b[0m\n",
      "\u001b[93mTotal: 27\u001b[0m\n",
      "\u001b[4m----------------------Cluster 1------------------------------------\u001b[0m\n",
      "\u001b[91mATPs: 0\u001b[0m\n",
      "\u001b[93mNon ATPs: 3\u001b[0m\n",
      "\u001b[93mTotal: 3\u001b[0m\n",
      "\u001b[4m----------------------Cluster 2------------------------------------\u001b[0m\n",
      "\u001b[91mATPs: 0\u001b[0m\n",
      "\u001b[93mNon ATPs: 3\u001b[0m\n",
      "\u001b[93mTotal: 3\u001b[0m\n",
      "\u001b[4m----------------------Cluster 3------------------------------------\u001b[0m\n",
      "\u001b[91mATPs: 184\u001b[0m\n",
      "\u001b[93mNon ATPs: 56\u001b[0m\n",
      "\u001b[93mTotal: 240\u001b[0m\n",
      "\u001b[4m----------------------Cluster 4------------------------------------\u001b[0m\n",
      "\u001b[91mATPs: 0\u001b[0m\n",
      "\u001b[93mNon ATPs: 3\u001b[0m\n",
      "\u001b[93mTotal: 3\u001b[0m\n"
     ]
    }
   ],
   "source": [
    "find_atps(5,\"Pockets30_HDBScan/Cluster5_min_cluster3_min_sample2/\")"
   ]
  },
  {
   "cell_type": "code",
   "execution_count": 27,
   "metadata": {},
   "outputs": [
    {
     "name": "stdout",
     "output_type": "stream",
     "text": [
      "\u001b[4m----------------------Cluster 0------------------------------------\u001b[0m\n",
      "\u001b[91mATPs: 138\u001b[0m\n",
      "\u001b[93mNon ATPs: 75\u001b[0m\n",
      "\u001b[93mTotal: 213\u001b[0m\n",
      "\u001b[4m----------------------Cluster 1------------------------------------\u001b[0m\n",
      "\u001b[91mATPs: 2\u001b[0m\n",
      "\u001b[93mNon ATPs: 0\u001b[0m\n",
      "\u001b[93mTotal: 2\u001b[0m\n",
      "\u001b[4m----------------------Cluster 2------------------------------------\u001b[0m\n",
      "\u001b[91mATPs: 49\u001b[0m\n",
      "\u001b[93mNon ATPs: 10\u001b[0m\n",
      "\u001b[93mTotal: 59\u001b[0m\n",
      "\u001b[4m----------------------Cluster 3------------------------------------\u001b[0m\n",
      "\u001b[91mATPs: 2\u001b[0m\n",
      "\u001b[93mNon ATPs: 0\u001b[0m\n",
      "\u001b[93mTotal: 2\u001b[0m\n"
     ]
    }
   ],
   "source": [
    "find_atps(4,\"Pockets30_HDBScan/Cluster4_min_cluster2_min_sample5/\")"
   ]
  },
  {
   "cell_type": "code",
   "execution_count": 7,
   "metadata": {},
   "outputs": [],
   "source": [
    "hxd_pocks = pd.read_excel('hxd_pockets3.xlsx', columns= ['Pockets', 'Clusters'])\n",
    "hxd_pocks = hxd_pocks.drop(['Unnamed: 0'], axis=1)\n",
    "hxd_pocks.columns = ['Kinase', 'hxd']\n",
    "hxd_pocks = hxd_pocks[hxd_pocks[\"hxd\"]==\"hxd\"]"
   ]
  },
  {
   "cell_type": "code",
   "execution_count": 8,
   "metadata": {
    "scrolled": false
   },
   "outputs": [
    {
     "name": "stdout",
     "output_type": "stream",
     "text": [
      "\u001b[4m----------------------Cluster 0------------------------------------\u001b[0m\n",
      "\u001b[91mHXDs: 19\u001b[0m\n",
      "\u001b[93mNon HXDs: 28\u001b[0m\n",
      "\u001b[93mTotal: 47\u001b[0m\n",
      "\u001b[4m----------------------Cluster 1------------------------------------\u001b[0m\n",
      "\u001b[91mHXDs: 0\u001b[0m\n",
      "\u001b[93mNon HXDs: 3\u001b[0m\n",
      "\u001b[93mTotal: 3\u001b[0m\n",
      "\u001b[4m----------------------Cluster 2------------------------------------\u001b[0m\n",
      "\u001b[91mHXDs: 0\u001b[0m\n",
      "\u001b[93mNon HXDs: 3\u001b[0m\n",
      "\u001b[93mTotal: 3\u001b[0m\n",
      "\u001b[4m----------------------Cluster 3------------------------------------\u001b[0m\n",
      "\u001b[91mHXDs: 3\u001b[0m\n",
      "\u001b[93mNon HXDs: 0\u001b[0m\n",
      "\u001b[93mTotal: 3\u001b[0m\n",
      "\u001b[4m----------------------Cluster 4------------------------------------\u001b[0m\n",
      "\u001b[91mHXDs: 0\u001b[0m\n",
      "\u001b[93mNon HXDs: 3\u001b[0m\n",
      "\u001b[93mTotal: 3\u001b[0m\n",
      "\u001b[4m----------------------Cluster 5------------------------------------\u001b[0m\n",
      "\u001b[91mHXDs: 0\u001b[0m\n",
      "\u001b[93mNon HXDs: 3\u001b[0m\n",
      "\u001b[93mTotal: 3\u001b[0m\n",
      "\u001b[4m----------------------Cluster 6------------------------------------\u001b[0m\n",
      "\u001b[91mHXDs: 0\u001b[0m\n",
      "\u001b[93mNon HXDs: 2\u001b[0m\n",
      "\u001b[93mTotal: 2\u001b[0m\n",
      "\u001b[4m----------------------Cluster 7------------------------------------\u001b[0m\n",
      "\u001b[91mHXDs: 0\u001b[0m\n",
      "\u001b[93mNon HXDs: 3\u001b[0m\n",
      "\u001b[93mTotal: 3\u001b[0m\n",
      "\u001b[4m----------------------Cluster 8------------------------------------\u001b[0m\n",
      "\u001b[91mHXDs: 0\u001b[0m\n",
      "\u001b[93mNon HXDs: 2\u001b[0m\n",
      "\u001b[93mTotal: 2\u001b[0m\n",
      "\u001b[4m----------------------Cluster 9------------------------------------\u001b[0m\n",
      "\u001b[91mHXDs: 1\u001b[0m\n",
      "\u001b[93mNon HXDs: 1\u001b[0m\n",
      "\u001b[93mTotal: 2\u001b[0m\n",
      "\u001b[4m----------------------Cluster 10------------------------------------\u001b[0m\n",
      "\u001b[91mHXDs: 0\u001b[0m\n",
      "\u001b[93mNon HXDs: 2\u001b[0m\n",
      "\u001b[93mTotal: 2\u001b[0m\n",
      "\u001b[4m----------------------Cluster 11------------------------------------\u001b[0m\n",
      "\u001b[91mHXDs: 0\u001b[0m\n",
      "\u001b[93mNon HXDs: 2\u001b[0m\n",
      "\u001b[93mTotal: 2\u001b[0m\n",
      "\u001b[4m----------------------Cluster 12------------------------------------\u001b[0m\n",
      "\u001b[91mHXDs: 78\u001b[0m\n",
      "\u001b[93mNon HXDs: 121\u001b[0m\n",
      "\u001b[93mTotal: 199\u001b[0m\n",
      "\u001b[4m----------------------Cluster 13------------------------------------\u001b[0m\n",
      "\u001b[91mHXDs: 0\u001b[0m\n",
      "\u001b[93mNon HXDs: 2\u001b[0m\n",
      "\u001b[93mTotal: 2\u001b[0m\n"
     ]
    }
   ],
   "source": [
    "find_hxd(14,\"Pockets30_HDBScan/Cluster14_min_cluster2_min_sample1/\")"
   ]
  },
  {
   "cell_type": "code",
   "execution_count": null,
   "metadata": {},
   "outputs": [],
   "source": []
  }
 ],
 "metadata": {
  "kernelspec": {
   "display_name": "Python 3",
   "language": "python",
   "name": "python3"
  },
  "language_info": {
   "codemirror_mode": {
    "name": "ipython",
    "version": 3
   },
   "file_extension": ".py",
   "mimetype": "text/x-python",
   "name": "python",
   "nbconvert_exporter": "python",
   "pygments_lexer": "ipython3",
   "version": "3.7.6"
  }
 },
 "nbformat": 4,
 "nbformat_minor": 4
}
