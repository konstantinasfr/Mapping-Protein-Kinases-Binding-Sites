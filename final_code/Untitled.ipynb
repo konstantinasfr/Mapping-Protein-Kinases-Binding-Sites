{
 "cells": [
  {
   "cell_type": "code",
   "execution_count": 1,
   "metadata": {},
   "outputs": [],
   "source": [
    "import subprocess\n",
    "import os \n",
    "import re\n",
    "import numpy as np\n",
    "import pandas as pd\n",
    "import plotly.express as px\n",
    "from sklearn_extra.cluster import KMedoids\n",
    "from sklearn.cluster import AgglomerativeClustering\n",
    "from collections import Counter"
   ]
  },
  {
   "cell_type": "code",
   "execution_count": 2,
   "metadata": {},
   "outputs": [],
   "source": [
    "pockets_order = pd.read_excel('pockets_order.xlsx')\n",
    "total_pocks=list(pockets_order[0])"
   ]
  },
  {
   "cell_type": "code",
   "execution_count": null,
   "metadata": {},
   "outputs": [],
   "source": [
    "simil_matrix = np.ones((len(total_pocks),len(total_pocks)))\n",
    "simil_matrix = np.ones((len(total_pocks),len(total_pocks)))\n",
    "for i in range(len(total_pocks)):\n",
    "    for j in range(i+1,len(total_pocks)):\n",
    "        print(str(i) +\" \"+ str(j)+\"   \"+str(total_pocks[i])+\" \"+str(total_pocks[j]),end=\"\\r\")\n",
    "        command = \"./find_similarities.sh pockets70/\"+str(total_pocks[i])+\" pockets70/\"+str(total_pocks[j])\n",
    "#         print(sp.getoutput(command))\n",
    "        simil_matrix[i,j] = simil_matrix[j,i] = float(sp.getoutput(command))\n",
    "#         simil_matrix[i,j] = simil_matrix[j,i] = float(sp.getoutput(\"./find_similarities.sh pocket10.pdb pocket8.pdb\"))"
   ]
  }
 ],
 "metadata": {
  "kernelspec": {
   "display_name": "Python 3",
   "language": "python",
   "name": "python3"
  },
  "language_info": {
   "codemirror_mode": {
    "name": "ipython",
    "version": 3
   },
   "file_extension": ".py",
   "mimetype": "text/x-python",
   "name": "python",
   "nbconvert_exporter": "python",
   "pygments_lexer": "ipython3",
   "version": "3.7.6"
  }
 },
 "nbformat": 4,
 "nbformat_minor": 4
}
