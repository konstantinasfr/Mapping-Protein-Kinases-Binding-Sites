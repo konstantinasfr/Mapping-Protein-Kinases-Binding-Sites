{
 "cells": [
  {
   "cell_type": "code",
   "execution_count": 1,
   "metadata": {},
   "outputs": [],
   "source": [
    "import subprocess\n",
    "import os \n",
    "import re\n",
    "import numpy as np\n",
    "import pandas as pd\n",
    "from collections import Counter"
   ]
  },
  {
   "cell_type": "code",
   "execution_count": 2,
   "metadata": {},
   "outputs": [],
   "source": [
    "class color:\n",
    "   PURPLE = '\\033[95m'\n",
    "   CYAN = '\\033[96m'\n",
    "   DARKCYAN = '\\033[36m'\n",
    "   BLUE = '\\033[94m'\n",
    "   GREEN = '\\033[92m'\n",
    "   YELLOW = '\\033[93m'\n",
    "   RED = '\\033[91m'\n",
    "   BOLD = '\\033[1m'\n",
    "   UNDERLINE = '\\033[4m'\n",
    "   END = '\\033[0m'"
   ]
  },
  {
   "cell_type": "code",
   "execution_count": null,
   "metadata": {},
   "outputs": [],
   "source": []
  },
  {
   "cell_type": "code",
   "execution_count": 3,
   "metadata": {},
   "outputs": [],
   "source": [
    "atp_pocks = pd.read_excel('atp_pockets.xlsx', columns= ['Pockets', 'Clusters'])\n",
    "atp_pocks = atp_pocks.drop(['Unnamed: 0'], axis=1)\n",
    "atp_pocks.columns = ['Kinase', 'atp']\n",
    "atp_pocks = atp_pocks[atp_pocks[\"atp\"]==\"atp\"]"
   ]
  },
  {
   "cell_type": "code",
   "execution_count": 4,
   "metadata": {},
   "outputs": [
    {
     "name": "stdout",
     "output_type": "stream",
     "text": [
      "atp\n"
     ]
    }
   ],
   "source": [
    "print(np.array(atp_pocks[atp_pocks[\"Kinase\"] == \"1blx_1\"])[0][1])"
   ]
  },
  {
   "cell_type": "code",
   "execution_count": 5,
   "metadata": {},
   "outputs": [
    {
     "data": {
      "text/plain": [
       "191"
      ]
     },
     "execution_count": 5,
     "metadata": {},
     "output_type": "execute_result"
    }
   ],
   "source": [
    "atp_pocks.shape[0]"
   ]
  },
  {
   "cell_type": "code",
   "execution_count": 6,
   "metadata": {},
   "outputs": [],
   "source": [
    "def find_unique_common(data1,data2,field):\n",
    "    outliers = []\n",
    "    # belong to data1 and doesn't belong to data2\n",
    "    data1_unique = data1[~data1[field].isin(data2 [field])]\n",
    "    print(color.BOLD + \"Data 1 only: \"+str(len(data1_unique)) + color.END)\n",
    "    if len(data1_unique) < 6:\n",
    "        print(data1_unique)\n",
    "        outliers = outliers + data1_unique[\"Kinase\"].tolist()\n",
    "#     # belong to data2 and doesn't belong to data1\n",
    "#     data2_unique = data2[~data2[field].isin(data1 [field])]\n",
    "#     print(color.BOLD + \"Data 2 only: \"+str(len(data2_unique)) + color.END)\n",
    "#     if len(data2_unique) != 0:\n",
    "#         print(data2_unique)\n",
    "#     # they have in common\n",
    "    common = pd.merge(data1, data2, on=field)\n",
    "    print(color.RED + \"ATPs: \"+str(len(common)) + color.END)\n",
    "    print(color.YELLOW + \"Non ATPs: \"+str(data1.shape[0]-len(common)) + color.END)\n",
    "    print(color.YELLOW + \"Total: \"+str(data1.shape[0]) + color.END)\n",
    "    \n",
    "    if len(common)<6:\n",
    "        print(common)\n",
    "#     total_prot = pd.concat([data1_unique,data2_unique,common])\n",
    "#     print(len(total_prot))\n",
    "    return outliers"
   ]
  },
  {
   "cell_type": "code",
   "execution_count": 7,
   "metadata": {},
   "outputs": [],
   "source": [
    "def find_atps(num_clust,path1):\n",
    "    outliers_total = []\n",
    "    for i in range(num_clust):\n",
    "        path = path1+\"/Clusters_\"+str(i)+\".xlsx\"\n",
    "        cluster = pd.read_excel(path)\n",
    "        print(color.UNDERLINE + \"----------------------Cluster \"+str(i)+\"------------------------------------\"+ color.END)\n",
    "        outliers = find_unique_common(cluster,atp_pocks,\"Kinase\")\n",
    "        outliers_total = outliers_total + outliers\n",
    "    return outliers_total"
   ]
  },
  {
   "cell_type": "code",
   "execution_count": 10,
   "metadata": {
    "collapsed": true
   },
   "outputs": [
    {
     "name": "stdout",
     "output_type": "stream",
     "text": [
      "\u001b[4m----------------------Cluster 0------------------------------------\u001b[0m\n",
      "\u001b[1mData 1 only: 15\u001b[0m\n",
      "\u001b[91mATPs: 4\u001b[0m\n",
      "\u001b[93mNon ATPs: 15\u001b[0m\n",
      "\u001b[93mTotal: 19\u001b[0m\n",
      "   Kinase  Cluster  atp\n",
      "0  1p4o_1        0  atp\n",
      "1  1vzo_1        0  atp\n",
      "2  4l42_1        0  atp\n",
      "3  4z55_2        0  atp\n",
      "\u001b[4m----------------------Cluster 1------------------------------------\u001b[0m\n",
      "\u001b[1mData 1 only: 6\u001b[0m\n",
      "\u001b[91mATPs: 5\u001b[0m\n",
      "\u001b[93mNon ATPs: 6\u001b[0m\n",
      "\u001b[93mTotal: 11\u001b[0m\n",
      "   Kinase  Cluster  atp\n",
      "0  2xir_2        1  atp\n",
      "1  3gp0_2        1  atp\n",
      "2  3hng_2        1  atp\n",
      "3  4yz9_1        1  atp\n",
      "4  5hu9_2        1  atp\n",
      "\u001b[4m----------------------Cluster 2------------------------------------\u001b[0m\n",
      "\u001b[1mData 1 only: 42\u001b[0m\n",
      "\u001b[91mATPs: 175\u001b[0m\n",
      "\u001b[93mNon ATPs: 42\u001b[0m\n",
      "\u001b[93mTotal: 217\u001b[0m\n",
      "\u001b[4m----------------------Cluster 3------------------------------------\u001b[0m\n",
      "\u001b[1mData 1 only: 2\u001b[0m\n",
      "   Kinase  Cluster\n",
      "2  3v5w_1        3\n",
      "3  6bru_1        3\n",
      "\u001b[91mATPs: 2\u001b[0m\n",
      "\u001b[93mNon ATPs: 2\u001b[0m\n",
      "\u001b[93mTotal: 4\u001b[0m\n",
      "   Kinase  Cluster  atp\n",
      "0  3s95_1        3  atp\n",
      "1  3soc_2        3  atp\n",
      "\u001b[4m----------------------Cluster 4------------------------------------\u001b[0m\n",
      "\u001b[1mData 1 only: 1\u001b[0m\n",
      "   Kinase  Cluster\n",
      "3  4asz_3        4\n",
      "\u001b[91mATPs: 4\u001b[0m\n",
      "\u001b[93mNon ATPs: 1\u001b[0m\n",
      "\u001b[93mTotal: 5\u001b[0m\n",
      "   Kinase  Cluster  atp\n",
      "0  2f57_1        4  atp\n",
      "1  4asz_1        4  atp\n",
      "2  4asz_2        4  atp\n",
      "3  4ymj_1        4  atp\n",
      "\u001b[4m----------------------Cluster 5------------------------------------\u001b[0m\n",
      "\u001b[1mData 1 only: 4\u001b[0m\n",
      "   Kinase  Cluster\n",
      "0  4qpm_2        5\n",
      "1  4yfi_2        5\n",
      "3  5j5t_2        5\n",
      "4  6eim_2        5\n",
      "\u001b[91mATPs: 1\u001b[0m\n",
      "\u001b[93mNon ATPs: 4\u001b[0m\n",
      "\u001b[93mTotal: 5\u001b[0m\n",
      "   Kinase  Cluster  atp\n",
      "0  5grn_2        5  atp\n",
      "\u001b[4m----------------------Cluster 6------------------------------------\u001b[0m\n",
      "\u001b[1mData 1 only: 1\u001b[0m\n",
      "   Kinase  Cluster\n",
      "0  5xs2_2        6\n",
      "\u001b[91mATPs: 0\u001b[0m\n",
      "\u001b[93mNon ATPs: 1\u001b[0m\n",
      "\u001b[93mTotal: 1\u001b[0m\n",
      "Empty DataFrame\n",
      "Columns: [Kinase, Cluster, atp]\n",
      "Index: []\n",
      "\u001b[4m----------------------Cluster 7------------------------------------\u001b[0m\n",
      "\u001b[1mData 1 only: 5\u001b[0m\n",
      "   Kinase  Cluster\n",
      "0  1xjd_2        7\n",
      "1  3v5w_3        7\n",
      "2  4tnd_1        7\n",
      "3  4yhj_3        7\n",
      "4  5k00_1        7\n",
      "\u001b[91mATPs: 0\u001b[0m\n",
      "\u001b[93mNon ATPs: 5\u001b[0m\n",
      "\u001b[93mTotal: 5\u001b[0m\n",
      "Empty DataFrame\n",
      "Columns: [Kinase, Cluster, atp]\n",
      "Index: []\n",
      "\u001b[4m----------------------Cluster 8------------------------------------\u001b[0m\n",
      "\u001b[1mData 1 only: 3\u001b[0m\n",
      "   Kinase  Cluster\n",
      "0  2fst_1        8\n",
      "1  4qtb_2        8\n",
      "2  4zzn_2        8\n",
      "\u001b[91mATPs: 0\u001b[0m\n",
      "\u001b[93mNon ATPs: 3\u001b[0m\n",
      "\u001b[93mTotal: 3\u001b[0m\n",
      "Empty DataFrame\n",
      "Columns: [Kinase, Cluster, atp]\n",
      "Index: []\n",
      "\u001b[4m----------------------Cluster 9------------------------------------\u001b[0m\n",
      "\u001b[1mData 1 only: 3\u001b[0m\n",
      "   Kinase  Cluster\n",
      "0  2y4i_2        9\n",
      "1  4crs_2        9\n",
      "2  5li9_2        9\n",
      "\u001b[91mATPs: 0\u001b[0m\n",
      "\u001b[93mNon ATPs: 3\u001b[0m\n",
      "\u001b[93mTotal: 3\u001b[0m\n",
      "Empty DataFrame\n",
      "Columns: [Kinase, Cluster, atp]\n",
      "Index: []\n",
      "\u001b[4m----------------------Cluster 10------------------------------------\u001b[0m\n",
      "\u001b[1mData 1 only: 2\u001b[0m\n",
      "   Kinase  Cluster\n",
      "0  4l00_1       10\n",
      "1  6cz4_2       10\n",
      "\u001b[91mATPs: 0\u001b[0m\n",
      "\u001b[93mNon ATPs: 2\u001b[0m\n",
      "\u001b[93mTotal: 2\u001b[0m\n",
      "Empty DataFrame\n",
      "Columns: [Kinase, Cluster, atp]\n",
      "Index: []\n",
      "\u001b[4m----------------------Cluster 11------------------------------------\u001b[0m\n",
      "\u001b[1mData 1 only: 1\u001b[0m\n",
      "   Kinase  Cluster\n",
      "0  3v5w_2       11\n",
      "\u001b[91mATPs: 0\u001b[0m\n",
      "\u001b[93mNon ATPs: 1\u001b[0m\n",
      "\u001b[93mTotal: 1\u001b[0m\n",
      "Empty DataFrame\n",
      "Columns: [Kinase, Cluster, atp]\n",
      "Index: []\n"
     ]
    },
    {
     "data": {
      "text/plain": [
       "['3v5w_1',\n",
       " '6bru_1',\n",
       " '4asz_3',\n",
       " '4qpm_2',\n",
       " '4yfi_2',\n",
       " '5j5t_2',\n",
       " '6eim_2',\n",
       " '5xs2_2',\n",
       " '1xjd_2',\n",
       " '3v5w_3',\n",
       " '4tnd_1',\n",
       " '4yhj_3',\n",
       " '5k00_1',\n",
       " '2fst_1',\n",
       " '4qtb_2',\n",
       " '4zzn_2',\n",
       " '2y4i_2',\n",
       " '4crs_2',\n",
       " '5li9_2',\n",
       " '4l00_1',\n",
       " '6cz4_2',\n",
       " '3v5w_2']"
      ]
     },
     "execution_count": 10,
     "metadata": {},
     "output_type": "execute_result"
    }
   ],
   "source": [
    "find_atps(12,\"Pockets30_Agglomerative/Cluster12/\")"
   ]
  },
  {
   "cell_type": "code",
   "execution_count": 8,
   "metadata": {
    "collapsed": true
   },
   "outputs": [
    {
     "name": "stdout",
     "output_type": "stream",
     "text": [
      "\u001b[4m----------------------Cluster 0------------------------------------\u001b[0m\n",
      "\u001b[1mData 1 only: 18\u001b[0m\n",
      "\u001b[91mATPs: 4\u001b[0m\n",
      "\u001b[93mNon ATPs: 18\u001b[0m\n",
      "\u001b[93mTotal: 22\u001b[0m\n",
      "   Kinase  Cluster  atp\n",
      "0  1p4o_1        0  atp\n",
      "1  1vzo_1        0  atp\n",
      "2  4l42_1        0  atp\n",
      "3  4z55_2        0  atp\n",
      "\u001b[4m----------------------Cluster 1------------------------------------\u001b[0m\n",
      "\u001b[1mData 1 only: 53\u001b[0m\n",
      "\u001b[91mATPs: 180\u001b[0m\n",
      "\u001b[93mNon ATPs: 53\u001b[0m\n",
      "\u001b[93mTotal: 233\u001b[0m\n",
      "\u001b[4m----------------------Cluster 2------------------------------------\u001b[0m\n",
      "\u001b[1mData 1 only: 4\u001b[0m\n",
      "   Kinase  Cluster\n",
      "0  4qpm_2        2\n",
      "1  4yfi_2        2\n",
      "3  5j5t_2        2\n",
      "4  6eim_2        2\n",
      "\u001b[91mATPs: 1\u001b[0m\n",
      "\u001b[93mNon ATPs: 4\u001b[0m\n",
      "\u001b[93mTotal: 5\u001b[0m\n",
      "   Kinase  Cluster  atp\n",
      "0  5grn_2        2  atp\n",
      "\u001b[4m----------------------Cluster 3------------------------------------\u001b[0m\n",
      "\u001b[1mData 1 only: 2\u001b[0m\n",
      "   Kinase  Cluster\n",
      "2  3v5w_1        3\n",
      "3  6bru_1        3\n",
      "\u001b[91mATPs: 2\u001b[0m\n",
      "\u001b[93mNon ATPs: 2\u001b[0m\n",
      "\u001b[93mTotal: 4\u001b[0m\n",
      "   Kinase  Cluster  atp\n",
      "0  3s95_1        3  atp\n",
      "1  3soc_2        3  atp\n",
      "\u001b[4m----------------------Cluster 4------------------------------------\u001b[0m\n",
      "\u001b[1mData 1 only: 1\u001b[0m\n",
      "   Kinase  Cluster\n",
      "3  4asz_3        4\n",
      "\u001b[91mATPs: 4\u001b[0m\n",
      "\u001b[93mNon ATPs: 1\u001b[0m\n",
      "\u001b[93mTotal: 5\u001b[0m\n",
      "   Kinase  Cluster  atp\n",
      "0  2f57_1        4  atp\n",
      "1  4asz_1        4  atp\n",
      "2  4asz_2        4  atp\n",
      "3  4ymj_1        4  atp\n",
      "\u001b[4m----------------------Cluster 5------------------------------------\u001b[0m\n",
      "\u001b[1mData 1 only: 1\u001b[0m\n",
      "   Kinase  Cluster\n",
      "0  3v5w_2        5\n",
      "\u001b[91mATPs: 0\u001b[0m\n",
      "\u001b[93mNon ATPs: 1\u001b[0m\n",
      "\u001b[93mTotal: 1\u001b[0m\n",
      "Empty DataFrame\n",
      "Columns: [Kinase, Cluster, atp]\n",
      "Index: []\n",
      "\u001b[4m----------------------Cluster 6------------------------------------\u001b[0m\n",
      "\u001b[1mData 1 only: 1\u001b[0m\n",
      "   Kinase  Cluster\n",
      "0  5xs2_2        6\n",
      "\u001b[91mATPs: 0\u001b[0m\n",
      "\u001b[93mNon ATPs: 1\u001b[0m\n",
      "\u001b[93mTotal: 1\u001b[0m\n",
      "Empty DataFrame\n",
      "Columns: [Kinase, Cluster, atp]\n",
      "Index: []\n",
      "\u001b[4m----------------------Cluster 7------------------------------------\u001b[0m\n",
      "\u001b[1mData 1 only: 5\u001b[0m\n",
      "   Kinase  Cluster\n",
      "0  1xjd_2        7\n",
      "1  3v5w_3        7\n",
      "2  4tnd_1        7\n",
      "3  4yhj_3        7\n",
      "4  5k00_1        7\n",
      "\u001b[91mATPs: 0\u001b[0m\n",
      "\u001b[93mNon ATPs: 5\u001b[0m\n",
      "\u001b[93mTotal: 5\u001b[0m\n",
      "Empty DataFrame\n",
      "Columns: [Kinase, Cluster, atp]\n",
      "Index: []\n"
     ]
    },
    {
     "data": {
      "text/plain": [
       "['4qpm_2',\n",
       " '4yfi_2',\n",
       " '5j5t_2',\n",
       " '6eim_2',\n",
       " '3v5w_1',\n",
       " '6bru_1',\n",
       " '4asz_3',\n",
       " '3v5w_2',\n",
       " '5xs2_2',\n",
       " '1xjd_2',\n",
       " '3v5w_3',\n",
       " '4tnd_1',\n",
       " '4yhj_3',\n",
       " '5k00_1']"
      ]
     },
     "execution_count": 8,
     "metadata": {},
     "output_type": "execute_result"
    }
   ],
   "source": [
    "find_atps(8,\"Pockets30_Agglomerative/Cluster8/\")"
   ]
  },
  {
   "cell_type": "code",
   "execution_count": 8,
   "metadata": {
    "collapsed": true
   },
   "outputs": [
    {
     "name": "stdout",
     "output_type": "stream",
     "text": [
      "\u001b[4m----------------------Cluster 0------------------------------------\u001b[0m\n",
      "\u001b[91mATPs: 1\u001b[0m\n",
      "\u001b[93mNon ATPs: 9\u001b[0m\n",
      "\u001b[93mTotal: 10\u001b[0m\n",
      "\u001b[4m----------------------Cluster 1------------------------------------\u001b[0m\n",
      "\u001b[91mATPs: 180\u001b[0m\n",
      "\u001b[93mNon ATPs: 53\u001b[0m\n",
      "\u001b[93mTotal: 233\u001b[0m\n",
      "\u001b[4m----------------------Cluster 2------------------------------------\u001b[0m\n",
      "\u001b[91mATPs: 4\u001b[0m\n",
      "\u001b[93mNon ATPs: 18\u001b[0m\n",
      "\u001b[93mTotal: 22\u001b[0m\n",
      "\u001b[4m----------------------Cluster 3------------------------------------\u001b[0m\n",
      "\u001b[91mATPs: 2\u001b[0m\n",
      "\u001b[93mNon ATPs: 2\u001b[0m\n",
      "\u001b[93mTotal: 4\u001b[0m\n",
      "\u001b[4m----------------------Cluster 4------------------------------------\u001b[0m\n",
      "\u001b[91mATPs: 4\u001b[0m\n",
      "\u001b[93mNon ATPs: 1\u001b[0m\n",
      "\u001b[93mTotal: 5\u001b[0m\n",
      "\u001b[4m----------------------Cluster 5------------------------------------\u001b[0m\n",
      "\u001b[91mATPs: 0\u001b[0m\n",
      "\u001b[93mNon ATPs: 1\u001b[0m\n",
      "\u001b[93mTotal: 1\u001b[0m\n",
      "\u001b[4m----------------------Cluster 6------------------------------------\u001b[0m\n",
      "\u001b[91mATPs: 0\u001b[0m\n",
      "\u001b[93mNon ATPs: 1\u001b[0m\n",
      "\u001b[93mTotal: 1\u001b[0m\n"
     ]
    }
   ],
   "source": [
    "find_atps(7,\"Pockets30_Agglomerative/Cluster7/\")"
   ]
  },
  {
   "cell_type": "code",
   "execution_count": 16,
   "metadata": {
    "collapsed": true
   },
   "outputs": [
    {
     "name": "stdout",
     "output_type": "stream",
     "text": [
      "\u001b[4m----------------------Cluster 0------------------------------------\u001b[0m\n",
      "\u001b[91mATPs: 5\u001b[0m\n",
      "\u001b[93mNon ATPs: 27\u001b[0m\n",
      "\u001b[93mTotal: 32\u001b[0m\n",
      "\u001b[4m----------------------Cluster 1------------------------------------\u001b[0m\n",
      "\u001b[91mATPs: 180\u001b[0m\n",
      "\u001b[93mNon ATPs: 53\u001b[0m\n",
      "\u001b[93mTotal: 233\u001b[0m\n",
      "\u001b[4m----------------------Cluster 2------------------------------------\u001b[0m\n",
      "\u001b[91mATPs: 0\u001b[0m\n",
      "\u001b[93mNon ATPs: 1\u001b[0m\n",
      "\u001b[93mTotal: 1\u001b[0m\n",
      "\u001b[4m----------------------Cluster 3------------------------------------\u001b[0m\n",
      "\u001b[91mATPs: 2\u001b[0m\n",
      "\u001b[93mNon ATPs: 2\u001b[0m\n",
      "\u001b[93mTotal: 4\u001b[0m\n",
      "\u001b[4m----------------------Cluster 4------------------------------------\u001b[0m\n",
      "\u001b[91mATPs: 4\u001b[0m\n",
      "\u001b[93mNon ATPs: 1\u001b[0m\n",
      "\u001b[93mTotal: 5\u001b[0m\n",
      "\u001b[4m----------------------Cluster 5------------------------------------\u001b[0m\n",
      "\u001b[91mATPs: 0\u001b[0m\n",
      "\u001b[93mNon ATPs: 1\u001b[0m\n",
      "\u001b[93mTotal: 1\u001b[0m\n"
     ]
    }
   ],
   "source": [
    "find_atps(6,\"Pockets30_Agglomerative/Cluster6/\")"
   ]
  },
  {
   "cell_type": "code",
   "execution_count": 11,
   "metadata": {
    "collapsed": true
   },
   "outputs": [
    {
     "name": "stdout",
     "output_type": "stream",
     "text": [
      "\u001b[4m----------------------Cluster 0------------------------------------\u001b[0m\n",
      "\u001b[1mData 1 only: 1\u001b[0m\n",
      "   Kinase  Cluster\n",
      "3  4asz_3        0\n",
      "\u001b[91mATPs: 4\u001b[0m\n",
      "\u001b[93mNon ATPs: 1\u001b[0m\n",
      "\u001b[93mTotal: 5\u001b[0m\n",
      "   Kinase  Cluster  atp\n",
      "0  2f57_1        0  atp\n",
      "1  4asz_1        0  atp\n",
      "2  4asz_2        0  atp\n",
      "3  4ymj_1        0  atp\n",
      "\u001b[4m----------------------Cluster 1------------------------------------\u001b[0m\n",
      "\u001b[1mData 1 only: 13\u001b[0m\n",
      "\u001b[91mATPs: 3\u001b[0m\n",
      "\u001b[93mNon ATPs: 13\u001b[0m\n",
      "\u001b[93mTotal: 16\u001b[0m\n",
      "   Kinase  Cluster  atp\n",
      "0  1p4o_1        1  atp\n",
      "1  1vzo_1        1  atp\n",
      "2  4l42_1        1  atp\n",
      "\u001b[4m----------------------Cluster 2------------------------------------\u001b[0m\n",
      "\u001b[1mData 1 only: 42\u001b[0m\n",
      "\u001b[91mATPs: 175\u001b[0m\n",
      "\u001b[93mNon ATPs: 42\u001b[0m\n",
      "\u001b[93mTotal: 217\u001b[0m\n",
      "\u001b[4m----------------------Cluster 3------------------------------------\u001b[0m\n",
      "\u001b[1mData 1 only: 2\u001b[0m\n",
      "   Kinase  Cluster\n",
      "2  3v5w_1        3\n",
      "3  6bru_1        3\n",
      "\u001b[91mATPs: 2\u001b[0m\n",
      "\u001b[93mNon ATPs: 2\u001b[0m\n",
      "\u001b[93mTotal: 4\u001b[0m\n",
      "   Kinase  Cluster  atp\n",
      "0  3s95_1        3  atp\n",
      "1  3soc_2        3  atp\n",
      "\u001b[4m----------------------Cluster 4------------------------------------\u001b[0m\n",
      "\u001b[1mData 1 only: 3\u001b[0m\n",
      "   Kinase  Cluster\n",
      "0  2y4i_2        4\n",
      "1  4crs_2        4\n",
      "2  5li9_2        4\n",
      "\u001b[91mATPs: 0\u001b[0m\n",
      "\u001b[93mNon ATPs: 3\u001b[0m\n",
      "\u001b[93mTotal: 3\u001b[0m\n",
      "Empty DataFrame\n",
      "Columns: [Kinase, Cluster, atp]\n",
      "Index: []\n",
      "\u001b[4m----------------------Cluster 5------------------------------------\u001b[0m\n",
      "\u001b[1mData 1 only: 4\u001b[0m\n",
      "   Kinase  Cluster\n",
      "0  4qpm_2        5\n",
      "1  4yfi_2        5\n",
      "3  5j5t_2        5\n",
      "4  6eim_2        5\n",
      "\u001b[91mATPs: 1\u001b[0m\n",
      "\u001b[93mNon ATPs: 4\u001b[0m\n",
      "\u001b[93mTotal: 5\u001b[0m\n",
      "   Kinase  Cluster  atp\n",
      "0  5grn_2        5  atp\n",
      "\u001b[4m----------------------Cluster 6------------------------------------\u001b[0m\n",
      "\u001b[1mData 1 only: 1\u001b[0m\n",
      "   Kinase  Cluster\n",
      "3  4itj_1        6\n",
      "\u001b[91mATPs: 5\u001b[0m\n",
      "\u001b[93mNon ATPs: 1\u001b[0m\n",
      "\u001b[93mTotal: 6\u001b[0m\n",
      "   Kinase  Cluster  atp\n",
      "0  2xir_2        6  atp\n",
      "1  3gp0_2        6  atp\n",
      "2  3hng_2        6  atp\n",
      "3  4yz9_1        6  atp\n",
      "4  5hu9_2        6  atp\n",
      "\u001b[4m----------------------Cluster 7------------------------------------\u001b[0m\n",
      "\u001b[1mData 1 only: 5\u001b[0m\n",
      "   Kinase  Cluster\n",
      "0  1xjd_2        7\n",
      "1  3v5w_3        7\n",
      "2  4tnd_1        7\n",
      "3  4yhj_3        7\n",
      "4  5k00_1        7\n",
      "\u001b[91mATPs: 0\u001b[0m\n",
      "\u001b[93mNon ATPs: 5\u001b[0m\n",
      "\u001b[93mTotal: 5\u001b[0m\n",
      "Empty DataFrame\n",
      "Columns: [Kinase, Cluster, atp]\n",
      "Index: []\n",
      "\u001b[4m----------------------Cluster 8------------------------------------\u001b[0m\n",
      "\u001b[1mData 1 only: 3\u001b[0m\n",
      "   Kinase  Cluster\n",
      "0  2fst_1        8\n",
      "1  4qtb_2        8\n",
      "2  4zzn_2        8\n",
      "\u001b[91mATPs: 0\u001b[0m\n",
      "\u001b[93mNon ATPs: 3\u001b[0m\n",
      "\u001b[93mTotal: 3\u001b[0m\n",
      "Empty DataFrame\n",
      "Columns: [Kinase, Cluster, atp]\n",
      "Index: []\n",
      "\u001b[4m----------------------Cluster 9------------------------------------\u001b[0m\n",
      "\u001b[1mData 1 only: 5\u001b[0m\n",
      "   Kinase  Cluster\n",
      "0  1fmk_2        9\n",
      "1  2y4i_3        9\n",
      "2  3aln_2        9\n",
      "3  4agu_2        9\n",
      "4  4y85_2        9\n",
      "\u001b[91mATPs: 0\u001b[0m\n",
      "\u001b[93mNon ATPs: 5\u001b[0m\n",
      "\u001b[93mTotal: 5\u001b[0m\n",
      "Empty DataFrame\n",
      "Columns: [Kinase, Cluster, atp]\n",
      "Index: []\n",
      "\u001b[4m----------------------Cluster 10------------------------------------\u001b[0m\n",
      "\u001b[1mData 1 only: 2\u001b[0m\n",
      "   Kinase  Cluster\n",
      "0  4l00_1       10\n",
      "1  6cz4_2       10\n",
      "\u001b[91mATPs: 0\u001b[0m\n",
      "\u001b[93mNon ATPs: 2\u001b[0m\n",
      "\u001b[93mTotal: 2\u001b[0m\n",
      "Empty DataFrame\n",
      "Columns: [Kinase, Cluster, atp]\n",
      "Index: []\n",
      "\u001b[4m----------------------Cluster 11------------------------------------\u001b[0m\n",
      "\u001b[1mData 1 only: 1\u001b[0m\n",
      "   Kinase  Cluster\n",
      "0  3v5w_2       11\n",
      "\u001b[91mATPs: 0\u001b[0m\n",
      "\u001b[93mNon ATPs: 1\u001b[0m\n",
      "\u001b[93mTotal: 1\u001b[0m\n",
      "Empty DataFrame\n",
      "Columns: [Kinase, Cluster, atp]\n",
      "Index: []\n",
      "\u001b[4m----------------------Cluster 12------------------------------------\u001b[0m\n",
      "\u001b[1mData 1 only: 2\u001b[0m\n",
      "   Kinase  Cluster\n",
      "0  2acx_2       12\n",
      "1  4tnd_3       12\n",
      "\u001b[91mATPs: 1\u001b[0m\n",
      "\u001b[93mNon ATPs: 2\u001b[0m\n",
      "\u001b[93mTotal: 3\u001b[0m\n",
      "   Kinase  Cluster  atp\n",
      "0  4z55_2       12  atp\n",
      "\u001b[4m----------------------Cluster 13------------------------------------\u001b[0m\n",
      "\u001b[1mData 1 only: 1\u001b[0m\n",
      "   Kinase  Cluster\n",
      "0  5xs2_2       13\n",
      "\u001b[91mATPs: 0\u001b[0m\n",
      "\u001b[93mNon ATPs: 1\u001b[0m\n",
      "\u001b[93mTotal: 1\u001b[0m\n",
      "Empty DataFrame\n",
      "Columns: [Kinase, Cluster, atp]\n",
      "Index: []\n"
     ]
    }
   ],
   "source": [
    "agglo14 = find_atps(14,\"Pockets30_Agglomerative/Cluster14/\")"
   ]
  },
  {
   "cell_type": "code",
   "execution_count": 32,
   "metadata": {},
   "outputs": [
    {
     "name": "stdout",
     "output_type": "stream",
     "text": [
      "['4asz_3', '3v5w_1', '6bru_1', '2y4i_2', '4crs_2', '5li9_2', '4qpm_2', '4yfi_2', '5j5t_2', '6eim_2', '4itj_1', '1xjd_2', '3v5w_3', '4tnd_1', '4yhj_3', '5k00_1', '2fst_1', '4qtb_2', '4zzn_2', '1fmk_2', '2y4i_3', '3aln_2', '4agu_2', '4y85_2', '4l00_1', '6cz4_2', '3v5w_2', '2acx_2', '4tnd_3', '5xs2_2']\n"
     ]
    }
   ],
   "source": [
    "print(agglo14)"
   ]
  },
  {
   "cell_type": "code",
   "execution_count": 12,
   "metadata": {
    "collapsed": true
   },
   "outputs": [
    {
     "name": "stdout",
     "output_type": "stream",
     "text": [
      "\u001b[4m----------------------Cluster 0------------------------------------\u001b[0m\n",
      "\u001b[1mData 1 only: 15\u001b[0m\n",
      "\u001b[91mATPs: 4\u001b[0m\n",
      "\u001b[93mNon ATPs: 15\u001b[0m\n",
      "\u001b[93mTotal: 19\u001b[0m\n",
      "   Kinase  Cluster  atp\n",
      "0  1p4o_1        0  atp\n",
      "1  1vzo_1        0  atp\n",
      "2  4l42_1        0  atp\n",
      "3  4z55_2        0  atp\n",
      "\u001b[4m----------------------Cluster 1------------------------------------\u001b[0m\n",
      "\u001b[1mData 1 only: 6\u001b[0m\n",
      "\u001b[91mATPs: 5\u001b[0m\n",
      "\u001b[93mNon ATPs: 6\u001b[0m\n",
      "\u001b[93mTotal: 11\u001b[0m\n",
      "   Kinase  Cluster  atp\n",
      "0  2xir_2        1  atp\n",
      "1  3gp0_2        1  atp\n",
      "2  3hng_2        1  atp\n",
      "3  4yz9_1        1  atp\n",
      "4  5hu9_2        1  atp\n",
      "\u001b[4m----------------------Cluster 2------------------------------------\u001b[0m\n",
      "\u001b[1mData 1 only: 42\u001b[0m\n",
      "\u001b[91mATPs: 175\u001b[0m\n",
      "\u001b[93mNon ATPs: 42\u001b[0m\n",
      "\u001b[93mTotal: 217\u001b[0m\n",
      "\u001b[4m----------------------Cluster 3------------------------------------\u001b[0m\n",
      "\u001b[1mData 1 only: 2\u001b[0m\n",
      "   Kinase  Cluster\n",
      "2  3v5w_1        3\n",
      "3  6bru_1        3\n",
      "\u001b[91mATPs: 2\u001b[0m\n",
      "\u001b[93mNon ATPs: 2\u001b[0m\n",
      "\u001b[93mTotal: 4\u001b[0m\n",
      "   Kinase  Cluster  atp\n",
      "0  3s95_1        3  atp\n",
      "1  3soc_2        3  atp\n",
      "\u001b[4m----------------------Cluster 4------------------------------------\u001b[0m\n",
      "\u001b[1mData 1 only: 1\u001b[0m\n",
      "   Kinase  Cluster\n",
      "3  4asz_3        4\n",
      "\u001b[91mATPs: 4\u001b[0m\n",
      "\u001b[93mNon ATPs: 1\u001b[0m\n",
      "\u001b[93mTotal: 5\u001b[0m\n",
      "   Kinase  Cluster  atp\n",
      "0  2f57_1        4  atp\n",
      "1  4asz_1        4  atp\n",
      "2  4asz_2        4  atp\n",
      "3  4ymj_1        4  atp\n",
      "\u001b[4m----------------------Cluster 5------------------------------------\u001b[0m\n",
      "\u001b[1mData 1 only: 4\u001b[0m\n",
      "   Kinase  Cluster\n",
      "0  4qpm_2        5\n",
      "1  4yfi_2        5\n",
      "3  5j5t_2        5\n",
      "4  6eim_2        5\n",
      "\u001b[91mATPs: 1\u001b[0m\n",
      "\u001b[93mNon ATPs: 4\u001b[0m\n",
      "\u001b[93mTotal: 5\u001b[0m\n",
      "   Kinase  Cluster  atp\n",
      "0  5grn_2        5  atp\n",
      "\u001b[4m----------------------Cluster 6------------------------------------\u001b[0m\n",
      "\u001b[1mData 1 only: 1\u001b[0m\n",
      "   Kinase  Cluster\n",
      "0  5xs2_2        6\n",
      "\u001b[91mATPs: 0\u001b[0m\n",
      "\u001b[93mNon ATPs: 1\u001b[0m\n",
      "\u001b[93mTotal: 1\u001b[0m\n",
      "Empty DataFrame\n",
      "Columns: [Kinase, Cluster, atp]\n",
      "Index: []\n",
      "\u001b[4m----------------------Cluster 7------------------------------------\u001b[0m\n",
      "\u001b[1mData 1 only: 5\u001b[0m\n",
      "   Kinase  Cluster\n",
      "0  1xjd_2        7\n",
      "1  3v5w_3        7\n",
      "2  4tnd_1        7\n",
      "3  4yhj_3        7\n",
      "4  5k00_1        7\n",
      "\u001b[91mATPs: 0\u001b[0m\n",
      "\u001b[93mNon ATPs: 5\u001b[0m\n",
      "\u001b[93mTotal: 5\u001b[0m\n",
      "Empty DataFrame\n",
      "Columns: [Kinase, Cluster, atp]\n",
      "Index: []\n",
      "\u001b[4m----------------------Cluster 8------------------------------------\u001b[0m\n",
      "\u001b[1mData 1 only: 3\u001b[0m\n",
      "   Kinase  Cluster\n",
      "0  2fst_1        8\n",
      "1  4qtb_2        8\n",
      "2  4zzn_2        8\n",
      "\u001b[91mATPs: 0\u001b[0m\n",
      "\u001b[93mNon ATPs: 3\u001b[0m\n",
      "\u001b[93mTotal: 3\u001b[0m\n",
      "Empty DataFrame\n",
      "Columns: [Kinase, Cluster, atp]\n",
      "Index: []\n",
      "\u001b[4m----------------------Cluster 9------------------------------------\u001b[0m\n",
      "\u001b[1mData 1 only: 3\u001b[0m\n",
      "   Kinase  Cluster\n",
      "0  2y4i_2        9\n",
      "1  4crs_2        9\n",
      "2  5li9_2        9\n",
      "\u001b[91mATPs: 0\u001b[0m\n",
      "\u001b[93mNon ATPs: 3\u001b[0m\n",
      "\u001b[93mTotal: 3\u001b[0m\n",
      "Empty DataFrame\n",
      "Columns: [Kinase, Cluster, atp]\n",
      "Index: []\n",
      "\u001b[4m----------------------Cluster 10------------------------------------\u001b[0m\n",
      "\u001b[1mData 1 only: 2\u001b[0m\n",
      "   Kinase  Cluster\n",
      "0  4l00_1       10\n",
      "1  6cz4_2       10\n",
      "\u001b[91mATPs: 0\u001b[0m\n",
      "\u001b[93mNon ATPs: 2\u001b[0m\n",
      "\u001b[93mTotal: 2\u001b[0m\n",
      "Empty DataFrame\n",
      "Columns: [Kinase, Cluster, atp]\n",
      "Index: []\n",
      "\u001b[4m----------------------Cluster 11------------------------------------\u001b[0m\n",
      "\u001b[1mData 1 only: 1\u001b[0m\n",
      "   Kinase  Cluster\n",
      "0  3v5w_2       11\n",
      "\u001b[91mATPs: 0\u001b[0m\n",
      "\u001b[93mNon ATPs: 1\u001b[0m\n",
      "\u001b[93mTotal: 1\u001b[0m\n",
      "Empty DataFrame\n",
      "Columns: [Kinase, Cluster, atp]\n",
      "Index: []\n"
     ]
    }
   ],
   "source": [
    "agglo12 = find_atps(12,\"Pockets30_Agglomerative/Cluster12/\")"
   ]
  },
  {
   "cell_type": "code",
   "execution_count": 10,
   "metadata": {
    "collapsed": true
   },
   "outputs": [
    {
     "name": "stdout",
     "output_type": "stream",
     "text": [
      "\u001b[4m----------------------Cluster 0------------------------------------\u001b[0m\n",
      "\u001b[91mATPs: 150\u001b[0m\n",
      "\u001b[93mNon ATPs: 78\u001b[0m\n",
      "\u001b[93mTotal: 228\u001b[0m\n",
      "\u001b[4m----------------------Cluster 1------------------------------------\u001b[0m\n",
      "\u001b[91mATPs: 30\u001b[0m\n",
      "\u001b[93mNon ATPs: 3\u001b[0m\n",
      "\u001b[93mTotal: 33\u001b[0m\n",
      "\u001b[4m----------------------Cluster 2------------------------------------\u001b[0m\n",
      "\u001b[91mATPs: 0\u001b[0m\n",
      "\u001b[93mNon ATPs: 2\u001b[0m\n",
      "\u001b[93mTotal: 2\u001b[0m\n",
      "\u001b[4m----------------------Cluster 3------------------------------------\u001b[0m\n",
      "\u001b[91mATPs: 2\u001b[0m\n",
      "\u001b[93mNon ATPs: 0\u001b[0m\n",
      "\u001b[93mTotal: 2\u001b[0m\n",
      "\u001b[4m----------------------Cluster 4------------------------------------\u001b[0m\n",
      "\u001b[91mATPs: 3\u001b[0m\n",
      "\u001b[93mNon ATPs: 0\u001b[0m\n",
      "\u001b[93mTotal: 3\u001b[0m\n",
      "\u001b[4m----------------------Cluster 5------------------------------------\u001b[0m\n",
      "\u001b[91mATPs: 2\u001b[0m\n",
      "\u001b[93mNon ATPs: 0\u001b[0m\n",
      "\u001b[93mTotal: 2\u001b[0m\n",
      "\u001b[4m----------------------Cluster 6------------------------------------\u001b[0m\n",
      "\u001b[91mATPs: 0\u001b[0m\n",
      "\u001b[93mNon ATPs: 2\u001b[0m\n",
      "\u001b[93mTotal: 2\u001b[0m\n",
      "\u001b[4m----------------------Cluster 7------------------------------------\u001b[0m\n",
      "\u001b[91mATPs: 2\u001b[0m\n",
      "\u001b[93mNon ATPs: 0\u001b[0m\n",
      "\u001b[93mTotal: 2\u001b[0m\n",
      "\u001b[4m----------------------Cluster 8------------------------------------\u001b[0m\n",
      "\u001b[91mATPs: 2\u001b[0m\n",
      "\u001b[93mNon ATPs: 0\u001b[0m\n",
      "\u001b[93mTotal: 2\u001b[0m\n"
     ]
    }
   ],
   "source": [
    "find_atps(9,\"Pockets30_DBScan/Cluster9_e0.3_s2/\")"
   ]
  },
  {
   "cell_type": "code",
   "execution_count": 13,
   "metadata": {},
   "outputs": [
    {
     "name": "stdout",
     "output_type": "stream",
     "text": [
      "\u001b[4m----------------------Cluster 0------------------------------------\u001b[0m\n",
      "\u001b[1mData 1 only: 20\u001b[0m\n",
      "\u001b[91mATPs: 5\u001b[0m\n",
      "\u001b[93mNon ATPs: 20\u001b[0m\n",
      "\u001b[93mTotal: 25\u001b[0m\n",
      "   Kinase  Cluster  atp\n",
      "0  1p4o_1        0  atp\n",
      "1  1vzo_1        0  atp\n",
      "2  4asz_2        0  atp\n",
      "3  4l42_1        0  atp\n",
      "4  5grn_2        0  atp\n",
      "\u001b[4m----------------------Cluster 1------------------------------------\u001b[0m\n",
      "\u001b[1mData 1 only: 49\u001b[0m\n",
      "\u001b[91mATPs: 186\u001b[0m\n",
      "\u001b[93mNon ATPs: 49\u001b[0m\n",
      "\u001b[93mTotal: 235\u001b[0m\n",
      "\u001b[4m----------------------Cluster 2------------------------------------\u001b[0m\n",
      "\u001b[1mData 1 only: 2\u001b[0m\n",
      "   Kinase  Cluster\n",
      "0  1xjd_2        2\n",
      "1  5k00_1        2\n",
      "\u001b[91mATPs: 0\u001b[0m\n",
      "\u001b[93mNon ATPs: 2\u001b[0m\n",
      "\u001b[93mTotal: 2\u001b[0m\n",
      "Empty DataFrame\n",
      "Columns: [Kinase, Cluster, atp]\n",
      "Index: []\n",
      "\u001b[4m----------------------Cluster 3------------------------------------\u001b[0m\n",
      "\u001b[1mData 1 only: 3\u001b[0m\n",
      "   Kinase  Cluster\n",
      "0  2acx_1        3\n",
      "1  4tnd_4        3\n",
      "2  4yhj_2        3\n",
      "\u001b[91mATPs: 0\u001b[0m\n",
      "\u001b[93mNon ATPs: 3\u001b[0m\n",
      "\u001b[93mTotal: 3\u001b[0m\n",
      "Empty DataFrame\n",
      "Columns: [Kinase, Cluster, atp]\n",
      "Index: []\n",
      "\u001b[4m----------------------Cluster 4------------------------------------\u001b[0m\n",
      "\u001b[1mData 1 only: 2\u001b[0m\n",
      "   Kinase  Cluster\n",
      "0  2vz6_2        4\n",
      "1  2wel_2        4\n",
      "\u001b[91mATPs: 0\u001b[0m\n",
      "\u001b[93mNon ATPs: 2\u001b[0m\n",
      "\u001b[93mTotal: 2\u001b[0m\n",
      "Empty DataFrame\n",
      "Columns: [Kinase, Cluster, atp]\n",
      "Index: []\n",
      "\u001b[4m----------------------Cluster 5------------------------------------\u001b[0m\n",
      "\u001b[1mData 1 only: 2\u001b[0m\n",
      "   Kinase  Cluster\n",
      "0  4agu_2        5\n",
      "1  4y85_2        5\n",
      "\u001b[91mATPs: 0\u001b[0m\n",
      "\u001b[93mNon ATPs: 2\u001b[0m\n",
      "\u001b[93mTotal: 2\u001b[0m\n",
      "Empty DataFrame\n",
      "Columns: [Kinase, Cluster, atp]\n",
      "Index: []\n",
      "\u001b[4m----------------------Cluster 6------------------------------------\u001b[0m\n",
      "\u001b[1mData 1 only: 2\u001b[0m\n",
      "   Kinase  Cluster\n",
      "0  4qtb_2        6\n",
      "1  4zzn_2        6\n",
      "\u001b[91mATPs: 0\u001b[0m\n",
      "\u001b[93mNon ATPs: 2\u001b[0m\n",
      "\u001b[93mTotal: 2\u001b[0m\n",
      "Empty DataFrame\n",
      "Columns: [Kinase, Cluster, atp]\n",
      "Index: []\n",
      "\u001b[4m----------------------Cluster 7------------------------------------\u001b[0m\n",
      "\u001b[1mData 1 only: 2\u001b[0m\n",
      "   Kinase  Cluster\n",
      "0  4tnd_1        7\n",
      "1  4yhj_3        7\n",
      "\u001b[91mATPs: 0\u001b[0m\n",
      "\u001b[93mNon ATPs: 2\u001b[0m\n",
      "\u001b[93mTotal: 2\u001b[0m\n",
      "Empty DataFrame\n",
      "Columns: [Kinase, Cluster, atp]\n",
      "Index: []\n",
      "\u001b[4m----------------------Cluster 8------------------------------------\u001b[0m\n",
      "\u001b[1mData 1 only: 3\u001b[0m\n",
      "   Kinase  Cluster\n",
      "0  4yfi_2        8\n",
      "1  5j5t_2        8\n",
      "2  6eim_2        8\n",
      "\u001b[91mATPs: 0\u001b[0m\n",
      "\u001b[93mNon ATPs: 3\u001b[0m\n",
      "\u001b[93mTotal: 3\u001b[0m\n",
      "Empty DataFrame\n",
      "Columns: [Kinase, Cluster, atp]\n",
      "Index: []\n"
     ]
    }
   ],
   "source": [
    "dbscan9 = find_atps(9,\"Pockets30_DBScan/Cluster9_e0.7_s2/\")"
   ]
  },
  {
   "cell_type": "code",
   "execution_count": 34,
   "metadata": {
    "collapsed": true
   },
   "outputs": [
    {
     "data": {
      "text/plain": [
       "['1xjd_2',\n",
       " '5k00_1',\n",
       " '2acx_1',\n",
       " '4tnd_4',\n",
       " '4yhj_2',\n",
       " '2vz6_2',\n",
       " '2wel_2',\n",
       " '4agu_2',\n",
       " '4y85_2',\n",
       " '4qtb_2',\n",
       " '4zzn_2',\n",
       " '4tnd_1',\n",
       " '4yhj_3',\n",
       " '4yfi_2',\n",
       " '5j5t_2',\n",
       " '6eim_2']"
      ]
     },
     "execution_count": 34,
     "metadata": {},
     "output_type": "execute_result"
    }
   ],
   "source": [
    "dbscan9"
   ]
  },
  {
   "cell_type": "code",
   "execution_count": 12,
   "metadata": {
    "collapsed": true
   },
   "outputs": [
    {
     "name": "stdout",
     "output_type": "stream",
     "text": [
      "\u001b[4m----------------------Cluster 0------------------------------------\u001b[0m\n",
      "\u001b[91mATPs: 11\u001b[0m\n",
      "\u001b[93mNon ATPs: 32\u001b[0m\n",
      "\u001b[93mTotal: 43\u001b[0m\n",
      "\u001b[4m----------------------Cluster 1------------------------------------\u001b[0m\n",
      "\u001b[91mATPs: 180\u001b[0m\n",
      "\u001b[93mNon ATPs: 42\u001b[0m\n",
      "\u001b[93mTotal: 222\u001b[0m\n",
      "\u001b[4m----------------------Cluster 2------------------------------------\u001b[0m\n",
      "\u001b[91mATPs: 0\u001b[0m\n",
      "\u001b[93mNon ATPs: 3\u001b[0m\n",
      "\u001b[93mTotal: 3\u001b[0m\n",
      "\u001b[4m----------------------Cluster 3------------------------------------\u001b[0m\n",
      "\u001b[91mATPs: 0\u001b[0m\n",
      "\u001b[93mNon ATPs: 2\u001b[0m\n",
      "\u001b[93mTotal: 2\u001b[0m\n",
      "\u001b[4m----------------------Cluster 4------------------------------------\u001b[0m\n",
      "\u001b[91mATPs: 0\u001b[0m\n",
      "\u001b[93mNon ATPs: 2\u001b[0m\n",
      "\u001b[93mTotal: 2\u001b[0m\n",
      "\u001b[4m----------------------Cluster 5------------------------------------\u001b[0m\n",
      "\u001b[91mATPs: 0\u001b[0m\n",
      "\u001b[93mNon ATPs: 2\u001b[0m\n",
      "\u001b[93mTotal: 2\u001b[0m\n",
      "\u001b[4m----------------------Cluster 6------------------------------------\u001b[0m\n",
      "\u001b[91mATPs: 0\u001b[0m\n",
      "\u001b[93mNon ATPs: 2\u001b[0m\n",
      "\u001b[93mTotal: 2\u001b[0m\n"
     ]
    }
   ],
   "source": [
    "find_atps(7,\"Pockets30_DBScan/Cluster7_e0.6_s2/\")"
   ]
  },
  {
   "cell_type": "code",
   "execution_count": 13,
   "metadata": {
    "collapsed": true
   },
   "outputs": [
    {
     "name": "stdout",
     "output_type": "stream",
     "text": [
      "\u001b[4m----------------------Cluster 0------------------------------------\u001b[0m\n",
      "\u001b[91mATPs: 105\u001b[0m\n",
      "\u001b[93mNon ATPs: 63\u001b[0m\n",
      "\u001b[93mTotal: 168\u001b[0m\n",
      "\u001b[4m----------------------Cluster 1------------------------------------\u001b[0m\n",
      "\u001b[91mATPs: 79\u001b[0m\n",
      "\u001b[93mNon ATPs: 19\u001b[0m\n",
      "\u001b[93mTotal: 98\u001b[0m\n",
      "\u001b[4m----------------------Cluster 2------------------------------------\u001b[0m\n",
      "\u001b[91mATPs: 7\u001b[0m\n",
      "\u001b[93mNon ATPs: 0\u001b[0m\n",
      "\u001b[93mTotal: 7\u001b[0m\n",
      "\u001b[4m----------------------Cluster 3------------------------------------\u001b[0m\n",
      "\u001b[91mATPs: 0\u001b[0m\n",
      "\u001b[93mNon ATPs: 3\u001b[0m\n",
      "\u001b[93mTotal: 3\u001b[0m\n"
     ]
    }
   ],
   "source": [
    "find_atps(4,\"Pockets30_DBScan/Cluster4_e0.4_s3/\")"
   ]
  },
  {
   "cell_type": "code",
   "execution_count": 14,
   "metadata": {
    "collapsed": true
   },
   "outputs": [
    {
     "name": "stdout",
     "output_type": "stream",
     "text": [
      "\u001b[4m----------------------Cluster 0------------------------------------\u001b[0m\n",
      "\u001b[91mATPs: 106\u001b[0m\n",
      "\u001b[93mNon ATPs: 67\u001b[0m\n",
      "\u001b[93mTotal: 173\u001b[0m\n",
      "\u001b[4m----------------------Cluster 1------------------------------------\u001b[0m\n",
      "\u001b[91mATPs: 74\u001b[0m\n",
      "\u001b[93mNon ATPs: 15\u001b[0m\n",
      "\u001b[93mTotal: 89\u001b[0m\n",
      "\u001b[4m----------------------Cluster 2------------------------------------\u001b[0m\n",
      "\u001b[91mATPs: 5\u001b[0m\n",
      "\u001b[93mNon ATPs: 3\u001b[0m\n",
      "\u001b[93mTotal: 8\u001b[0m\n",
      "\u001b[4m----------------------Cluster 3------------------------------------\u001b[0m\n",
      "\u001b[91mATPs: 6\u001b[0m\n",
      "\u001b[93mNon ATPs: 0\u001b[0m\n",
      "\u001b[93mTotal: 6\u001b[0m\n"
     ]
    }
   ],
   "source": [
    "find_atps(4,\"Pockets30_DBScan/Cluster4_e0.4_s4/\")"
   ]
  },
  {
   "cell_type": "code",
   "execution_count": 15,
   "metadata": {
    "collapsed": true
   },
   "outputs": [
    {
     "name": "stdout",
     "output_type": "stream",
     "text": [
      "\u001b[4m----------------------Cluster 0------------------------------------\u001b[0m\n",
      "\u001b[91mATPs: 112\u001b[0m\n",
      "\u001b[93mNon ATPs: 69\u001b[0m\n",
      "\u001b[93mTotal: 181\u001b[0m\n",
      "\u001b[4m----------------------Cluster 1------------------------------------\u001b[0m\n",
      "\u001b[91mATPs: 71\u001b[0m\n",
      "\u001b[93mNon ATPs: 14\u001b[0m\n",
      "\u001b[93mTotal: 85\u001b[0m\n",
      "\u001b[4m----------------------Cluster 2------------------------------------\u001b[0m\n",
      "\u001b[91mATPs: 3\u001b[0m\n",
      "\u001b[93mNon ATPs: 2\u001b[0m\n",
      "\u001b[93mTotal: 5\u001b[0m\n",
      "\u001b[4m----------------------Cluster 3------------------------------------\u001b[0m\n",
      "\u001b[91mATPs: 5\u001b[0m\n",
      "\u001b[93mNon ATPs: 0\u001b[0m\n",
      "\u001b[93mTotal: 5\u001b[0m\n"
     ]
    }
   ],
   "source": [
    "find_atps(4,\"Pockets30_DBScan/Cluster4_e0.4_s5/\")"
   ]
  },
  {
   "cell_type": "code",
   "execution_count": 15,
   "metadata": {
    "scrolled": false
   },
   "outputs": [
    {
     "name": "stdout",
     "output_type": "stream",
     "text": [
      "\u001b[4m----------------------Cluster 0------------------------------------\u001b[0m\n",
      "\u001b[1mData 1 only: 22\u001b[0m\n",
      "\u001b[91mATPs: 25\u001b[0m\n",
      "\u001b[93mNon ATPs: 22\u001b[0m\n",
      "\u001b[93mTotal: 47\u001b[0m\n",
      "\u001b[4m----------------------Cluster 1------------------------------------\u001b[0m\n",
      "\u001b[1mData 1 only: 3\u001b[0m\n",
      "   Kinase  Cluster\n",
      "0  3v5w_3        1\n",
      "1  4tnd_1        1\n",
      "2  4yhj_3        1\n",
      "\u001b[91mATPs: 0\u001b[0m\n",
      "\u001b[93mNon ATPs: 3\u001b[0m\n",
      "\u001b[93mTotal: 3\u001b[0m\n",
      "Empty DataFrame\n",
      "Columns: [Kinase, Cluster, atp]\n",
      "Index: []\n",
      "\u001b[4m----------------------Cluster 2------------------------------------\u001b[0m\n",
      "\u001b[1mData 1 only: 3\u001b[0m\n",
      "   Kinase  Cluster\n",
      "0  2fst_1        2\n",
      "1  4qtb_2        2\n",
      "2  4zzn_2        2\n",
      "\u001b[91mATPs: 0\u001b[0m\n",
      "\u001b[93mNon ATPs: 3\u001b[0m\n",
      "\u001b[93mTotal: 3\u001b[0m\n",
      "Empty DataFrame\n",
      "Columns: [Kinase, Cluster, atp]\n",
      "Index: []\n",
      "\u001b[4m----------------------Cluster 3------------------------------------\u001b[0m\n",
      "\u001b[1mData 1 only: 3\u001b[0m\n",
      "   Kinase  Cluster\n",
      "0  4yfi_2        3\n",
      "1  5j5t_2        3\n",
      "2  6eim_2        3\n",
      "\u001b[91mATPs: 0\u001b[0m\n",
      "\u001b[93mNon ATPs: 3\u001b[0m\n",
      "\u001b[93mTotal: 3\u001b[0m\n",
      "Empty DataFrame\n",
      "Columns: [Kinase, Cluster, atp]\n",
      "Index: []\n",
      "\u001b[4m----------------------Cluster 4------------------------------------\u001b[0m\n",
      "\u001b[1mData 1 only: 3\u001b[0m\n",
      "   Kinase  Cluster\n",
      "0  1fmk_2        4\n",
      "1  1xjd_2        4\n",
      "2  5k00_1        4\n",
      "\u001b[91mATPs: 0\u001b[0m\n",
      "\u001b[93mNon ATPs: 3\u001b[0m\n",
      "\u001b[93mTotal: 3\u001b[0m\n",
      "Empty DataFrame\n",
      "Columns: [Kinase, Cluster, atp]\n",
      "Index: []\n",
      "\u001b[4m----------------------Cluster 5------------------------------------\u001b[0m\n",
      "\u001b[1mData 1 only: 3\u001b[0m\n",
      "   Kinase  Cluster\n",
      "0  2acx_1        5\n",
      "1  4tnd_4        5\n",
      "2  4yhj_2        5\n",
      "\u001b[91mATPs: 0\u001b[0m\n",
      "\u001b[93mNon ATPs: 3\u001b[0m\n",
      "\u001b[93mTotal: 3\u001b[0m\n",
      "Empty DataFrame\n",
      "Columns: [Kinase, Cluster, atp]\n",
      "Index: []\n",
      "\u001b[4m----------------------Cluster 6------------------------------------\u001b[0m\n",
      "\u001b[1mData 1 only: 2\u001b[0m\n",
      "   Kinase  Cluster\n",
      "0  2vz6_2        6\n",
      "1  2wel_2        6\n",
      "\u001b[91mATPs: 0\u001b[0m\n",
      "\u001b[93mNon ATPs: 2\u001b[0m\n",
      "\u001b[93mTotal: 2\u001b[0m\n",
      "Empty DataFrame\n",
      "Columns: [Kinase, Cluster, atp]\n",
      "Index: []\n",
      "\u001b[4m----------------------Cluster 7------------------------------------\u001b[0m\n",
      "\u001b[1mData 1 only: 3\u001b[0m\n",
      "   Kinase  Cluster\n",
      "0  1u59_2        7\n",
      "1  3e7o_1        7\n",
      "2  3hmi_2        7\n",
      "\u001b[91mATPs: 0\u001b[0m\n",
      "\u001b[93mNon ATPs: 3\u001b[0m\n",
      "\u001b[93mTotal: 3\u001b[0m\n",
      "Empty DataFrame\n",
      "Columns: [Kinase, Cluster, atp]\n",
      "Index: []\n",
      "\u001b[4m----------------------Cluster 8------------------------------------\u001b[0m\n",
      "\u001b[1mData 1 only: 2\u001b[0m\n",
      "   Kinase  Cluster\n",
      "0  4agu_2        8\n",
      "1  4y85_2        8\n",
      "\u001b[91mATPs: 0\u001b[0m\n",
      "\u001b[93mNon ATPs: 2\u001b[0m\n",
      "\u001b[93mTotal: 2\u001b[0m\n",
      "Empty DataFrame\n",
      "Columns: [Kinase, Cluster, atp]\n",
      "Index: []\n",
      "\u001b[4m----------------------Cluster 9------------------------------------\u001b[0m\n",
      "\u001b[1mData 1 only: 2\u001b[0m\n",
      "   Kinase  Cluster\n",
      "0  4l00_1        9\n",
      "1  6cz4_2        9\n",
      "\u001b[91mATPs: 0\u001b[0m\n",
      "\u001b[93mNon ATPs: 2\u001b[0m\n",
      "\u001b[93mTotal: 2\u001b[0m\n",
      "Empty DataFrame\n",
      "Columns: [Kinase, Cluster, atp]\n",
      "Index: []\n",
      "\u001b[4m----------------------Cluster 10------------------------------------\u001b[0m\n",
      "\u001b[1mData 1 only: 2\u001b[0m\n",
      "   Kinase  Cluster\n",
      "0  2acx_2       10\n",
      "1  4tnd_3       10\n",
      "\u001b[91mATPs: 0\u001b[0m\n",
      "\u001b[93mNon ATPs: 2\u001b[0m\n",
      "\u001b[93mTotal: 2\u001b[0m\n",
      "Empty DataFrame\n",
      "Columns: [Kinase, Cluster, atp]\n",
      "Index: []\n",
      "\u001b[4m----------------------Cluster 11------------------------------------\u001b[0m\n",
      "\u001b[1mData 1 only: 0\u001b[0m\n",
      "Empty DataFrame\n",
      "Columns: [Kinase, Cluster]\n",
      "Index: []\n",
      "\u001b[91mATPs: 2\u001b[0m\n",
      "\u001b[93mNon ATPs: 0\u001b[0m\n",
      "\u001b[93mTotal: 2\u001b[0m\n",
      "   Kinase  Cluster  atp\n",
      "0  2xir_2       11  atp\n",
      "1  3gp0_2       11  atp\n",
      "\u001b[4m----------------------Cluster 12------------------------------------\u001b[0m\n",
      "\u001b[1mData 1 only: 37\u001b[0m\n",
      "\u001b[91mATPs: 162\u001b[0m\n",
      "\u001b[93mNon ATPs: 37\u001b[0m\n",
      "\u001b[93mTotal: 199\u001b[0m\n",
      "\u001b[4m----------------------Cluster 13------------------------------------\u001b[0m\n",
      "\u001b[1mData 1 only: 0\u001b[0m\n",
      "Empty DataFrame\n",
      "Columns: [Kinase, Cluster]\n",
      "Index: []\n",
      "\u001b[91mATPs: 2\u001b[0m\n",
      "\u001b[93mNon ATPs: 0\u001b[0m\n",
      "\u001b[93mTotal: 2\u001b[0m\n",
      "   Kinase  Cluster  atp\n",
      "0  4hni_1       13  atp\n",
      "1  6gzm_1       13  atp\n"
     ]
    }
   ],
   "source": [
    "hdbscan14 = find_atps(14,\"Pockets30_HDBScan/Cluster14_min_cluster2_min_sample1/\")"
   ]
  },
  {
   "cell_type": "code",
   "execution_count": 16,
   "metadata": {},
   "outputs": [
    {
     "data": {
      "text/plain": [
       "['3v5w_3',\n",
       " '4tnd_1',\n",
       " '4yhj_3',\n",
       " '2fst_1',\n",
       " '4qtb_2',\n",
       " '4zzn_2',\n",
       " '4yfi_2',\n",
       " '5j5t_2',\n",
       " '6eim_2',\n",
       " '1fmk_2',\n",
       " '1xjd_2',\n",
       " '5k00_1',\n",
       " '2acx_1',\n",
       " '4tnd_4',\n",
       " '4yhj_2',\n",
       " '2vz6_2',\n",
       " '2wel_2',\n",
       " '1u59_2',\n",
       " '3e7o_1',\n",
       " '3hmi_2',\n",
       " '4agu_2',\n",
       " '4y85_2',\n",
       " '4l00_1',\n",
       " '6cz4_2',\n",
       " '2acx_2',\n",
       " '4tnd_3']"
      ]
     },
     "execution_count": 16,
     "metadata": {},
     "output_type": "execute_result"
    }
   ],
   "source": [
    "hdbscan14"
   ]
  },
  {
   "cell_type": "code",
   "execution_count": 18,
   "metadata": {
    "scrolled": false
   },
   "outputs": [
    {
     "name": "stdout",
     "output_type": "stream",
     "text": [
      "\u001b[4m----------------------Cluster 0------------------------------------\u001b[0m\n",
      "\u001b[91mATPs: 4\u001b[0m\n",
      "\u001b[93mNon ATPs: 15\u001b[0m\n",
      "\u001b[93mTotal: 19\u001b[0m\n",
      "\u001b[4m----------------------Cluster 1------------------------------------\u001b[0m\n",
      "\u001b[91mATPs: 0\u001b[0m\n",
      "\u001b[93mNon ATPs: 3\u001b[0m\n",
      "\u001b[93mTotal: 3\u001b[0m\n",
      "\u001b[4m----------------------Cluster 2------------------------------------\u001b[0m\n",
      "\u001b[91mATPs: 0\u001b[0m\n",
      "\u001b[93mNon ATPs: 3\u001b[0m\n",
      "\u001b[93mTotal: 3\u001b[0m\n",
      "\u001b[4m----------------------Cluster 3------------------------------------\u001b[0m\n",
      "\u001b[91mATPs: 0\u001b[0m\n",
      "\u001b[93mNon ATPs: 3\u001b[0m\n",
      "\u001b[93mTotal: 3\u001b[0m\n",
      "\u001b[4m----------------------Cluster 4------------------------------------\u001b[0m\n",
      "\u001b[91mATPs: 0\u001b[0m\n",
      "\u001b[93mNon ATPs: 3\u001b[0m\n",
      "\u001b[93mTotal: 3\u001b[0m\n",
      "\u001b[4m----------------------Cluster 5------------------------------------\u001b[0m\n",
      "\u001b[91mATPs: 0\u001b[0m\n",
      "\u001b[93mNon ATPs: 3\u001b[0m\n",
      "\u001b[93mTotal: 3\u001b[0m\n",
      "\u001b[4m----------------------Cluster 6------------------------------------\u001b[0m\n",
      "\u001b[91mATPs: 187\u001b[0m\n",
      "\u001b[93mNon ATPs: 52\u001b[0m\n",
      "\u001b[93mTotal: 239\u001b[0m\n",
      "\u001b[4m----------------------Cluster 7------------------------------------\u001b[0m\n",
      "\u001b[91mATPs: 0\u001b[0m\n",
      "\u001b[93mNon ATPs: 3\u001b[0m\n",
      "\u001b[93mTotal: 3\u001b[0m\n"
     ]
    }
   ],
   "source": [
    "find_atps(8,\"Pockets30_HDBScan/Cluster8_min_cluster3_min_sample1/\")"
   ]
  },
  {
   "cell_type": "code",
   "execution_count": 22,
   "metadata": {},
   "outputs": [
    {
     "name": "stdout",
     "output_type": "stream",
     "text": [
      "\u001b[4m----------------------Cluster 0------------------------------------\u001b[0m\n",
      "\u001b[91mATPs: 7\u001b[0m\n",
      "\u001b[93mNon ATPs: 25\u001b[0m\n",
      "\u001b[93mTotal: 32\u001b[0m\n",
      "\u001b[4m----------------------Cluster 1------------------------------------\u001b[0m\n",
      "\u001b[91mATPs: 0\u001b[0m\n",
      "\u001b[93mNon ATPs: 3\u001b[0m\n",
      "\u001b[93mTotal: 3\u001b[0m\n",
      "\u001b[4m----------------------Cluster 2------------------------------------\u001b[0m\n",
      "\u001b[91mATPs: 0\u001b[0m\n",
      "\u001b[93mNon ATPs: 3\u001b[0m\n",
      "\u001b[93mTotal: 3\u001b[0m\n",
      "\u001b[4m----------------------Cluster 3------------------------------------\u001b[0m\n",
      "\u001b[91mATPs: 0\u001b[0m\n",
      "\u001b[93mNon ATPs: 3\u001b[0m\n",
      "\u001b[93mTotal: 3\u001b[0m\n",
      "\u001b[4m----------------------Cluster 4------------------------------------\u001b[0m\n",
      "\u001b[91mATPs: 184\u001b[0m\n",
      "\u001b[93mNon ATPs: 49\u001b[0m\n",
      "\u001b[93mTotal: 233\u001b[0m\n",
      "\u001b[4m----------------------Cluster 5------------------------------------\u001b[0m\n",
      "\u001b[91mATPs: 0\u001b[0m\n",
      "\u001b[93mNon ATPs: 2\u001b[0m\n",
      "\u001b[93mTotal: 2\u001b[0m\n"
     ]
    }
   ],
   "source": [
    "find_atps(6,\"Pockets30_HDBScan/Cluster6_min_cluster2_min_sample2/\")"
   ]
  },
  {
   "cell_type": "code",
   "execution_count": 23,
   "metadata": {},
   "outputs": [
    {
     "name": "stdout",
     "output_type": "stream",
     "text": [
      "\u001b[4m----------------------Cluster 0------------------------------------\u001b[0m\n",
      "\u001b[91mATPs: 7\u001b[0m\n",
      "\u001b[93mNon ATPs: 20\u001b[0m\n",
      "\u001b[93mTotal: 27\u001b[0m\n",
      "\u001b[4m----------------------Cluster 1------------------------------------\u001b[0m\n",
      "\u001b[91mATPs: 0\u001b[0m\n",
      "\u001b[93mNon ATPs: 3\u001b[0m\n",
      "\u001b[93mTotal: 3\u001b[0m\n",
      "\u001b[4m----------------------Cluster 2------------------------------------\u001b[0m\n",
      "\u001b[91mATPs: 0\u001b[0m\n",
      "\u001b[93mNon ATPs: 3\u001b[0m\n",
      "\u001b[93mTotal: 3\u001b[0m\n",
      "\u001b[4m----------------------Cluster 3------------------------------------\u001b[0m\n",
      "\u001b[91mATPs: 184\u001b[0m\n",
      "\u001b[93mNon ATPs: 56\u001b[0m\n",
      "\u001b[93mTotal: 240\u001b[0m\n",
      "\u001b[4m----------------------Cluster 4------------------------------------\u001b[0m\n",
      "\u001b[91mATPs: 0\u001b[0m\n",
      "\u001b[93mNon ATPs: 3\u001b[0m\n",
      "\u001b[93mTotal: 3\u001b[0m\n"
     ]
    }
   ],
   "source": [
    "find_atps(5,\"Pockets30_HDBScan/Cluster5_min_cluster3_min_sample2/\")"
   ]
  },
  {
   "cell_type": "code",
   "execution_count": 27,
   "metadata": {},
   "outputs": [
    {
     "name": "stdout",
     "output_type": "stream",
     "text": [
      "\u001b[4m----------------------Cluster 0------------------------------------\u001b[0m\n",
      "\u001b[91mATPs: 138\u001b[0m\n",
      "\u001b[93mNon ATPs: 75\u001b[0m\n",
      "\u001b[93mTotal: 213\u001b[0m\n",
      "\u001b[4m----------------------Cluster 1------------------------------------\u001b[0m\n",
      "\u001b[91mATPs: 2\u001b[0m\n",
      "\u001b[93mNon ATPs: 0\u001b[0m\n",
      "\u001b[93mTotal: 2\u001b[0m\n",
      "\u001b[4m----------------------Cluster 2------------------------------------\u001b[0m\n",
      "\u001b[91mATPs: 49\u001b[0m\n",
      "\u001b[93mNon ATPs: 10\u001b[0m\n",
      "\u001b[93mTotal: 59\u001b[0m\n",
      "\u001b[4m----------------------Cluster 3------------------------------------\u001b[0m\n",
      "\u001b[91mATPs: 2\u001b[0m\n",
      "\u001b[93mNon ATPs: 0\u001b[0m\n",
      "\u001b[93mTotal: 2\u001b[0m\n"
     ]
    }
   ],
   "source": [
    "find_atps(4,\"Pockets30_HDBScan/Cluster4_min_cluster2_min_sample5/\")"
   ]
  },
  {
   "cell_type": "code",
   "execution_count": 14,
   "metadata": {},
   "outputs": [
    {
     "data": {
      "image/png": "[encoded data removed]",
      "text/plain": [
       "<Figure size 432x288 with 1 Axes>"
      ]
     },
     "metadata": {},
     "output_type": "display_data"
    }
   ],
   "source": [
    "from matplotlib_venn import venn3\n",
    "import matplotlib.pyplot as plt\n",
    "fig = plt.figure()\n",
    "set1 = set(agglo14)\n",
    "set2 = set(dbscan9)\n",
    "set3 = set(hdbscan14)\n",
    "\n",
    "v = venn3([set1, set2, set3], ('Agglo', 'DBScan', 'HDBScan'))"
   ]
  },
  {
   "cell_type": "code",
   "execution_count": 17,
   "metadata": {},
   "outputs": [
    {
     "data": {
      "image/png": "[encoded data removed]",
      "text/plain": [
       "<Figure size 432x288 with 1 Axes>"
      ]
     },
     "metadata": {},
     "output_type": "display_data"
    }
   ],
   "source": [
    "from matplotlib_venn import venn3\n",
    "import matplotlib.pyplot as plt\n",
    "fig = plt.figure()\n",
    "set1 = set(dbscan9)\n",
    "set2 = set(agglo12)\n",
    "set3 = set(hdbscan14)\n",
    "\n",
    "v = venn3([set1, set2, set3], ('DBScan', 'Agglo', 'HDBScan'))"
   ]
  },
  {
   "cell_type": "code",
   "execution_count": 10,
   "metadata": {},
   "outputs": [
    {
     "data": {
      "image/png": "[encoded data removed]",
      "text/plain": [
       "<Figure size 432x288 with 1 Axes>"
      ]
     },
     "metadata": {},
     "output_type": "display_data"
    }
   ],
   "source": [
    "from matplotlib_venn import venn3\n",
    "import matplotlib.pyplot as plt\n",
    "fig = plt.figure()\n",
    "set1 = set(dbscan9)\n",
    "set2 = set(agglo11)\n",
    "set3 = set(hdbscan14)\n",
    "\n",
    "v = venn3([set1, set2, set3], ('DBScan', 'Agglo', 'HDBScan'))"
   ]
  },
  {
   "cell_type": "code",
   "execution_count": 13,
   "metadata": {},
   "outputs": [],
   "source": [
    "import numpy as geek\n",
    "c = geek.load('Protein-Structure-DL-master/data/pairwise2d/1a4z_4_0.npz')"
   ]
  },
  {
   "cell_type": "code",
   "execution_count": 14,
   "metadata": {},
   "outputs": [
    {
     "data": {
      "text/plain": [
       "<numpy.lib.npyio.NpzFile at 0x7f83958ec250>"
      ]
     },
     "execution_count": 14,
     "metadata": {},
     "output_type": "execute_result"
    }
   ],
   "source": [
    "c"
   ]
  },
  {
   "cell_type": "code",
   "execution_count": 19,
   "metadata": {},
   "outputs": [
    {
     "data": {
      "image/png": "[encoded data removed]",
      "text/plain": [
       "<Figure size 432x288 with 1 Axes>"
      ]
     },
     "metadata": {},
     "output_type": "display_data"
    }
   ],
   "source": [
    "from matplotlib_venn import venn2\n",
    "import matplotlib.pyplot as plt\n",
    "fig = plt.figure()\n",
    "set1 = set(dbscan9)\n",
    "set2 = set(hdbscan14)\n",
    "\n",
    "v = venn2([set1, set2], ('DBScan', 'HDBScan'))"
   ]
  },
  {
   "cell_type": "code",
   "execution_count": 46,
   "metadata": {},
   "outputs": [
    {
     "name": "stdout",
     "output_type": "stream",
     "text": [
      "4asz_3\n",
      "3v5w_1\n",
      "6bru_1\n",
      "2y4i_2\n",
      "4crs_2\n",
      "5li9_2\n",
      "4qpm_2\n",
      "4itj_1\n",
      "2y4i_3\n",
      "3aln_2\n",
      "3v5w_2\n",
      "5xs2_2\n"
     ]
    }
   ],
   "source": [
    "for pock in agglo14:\n",
    "    if pock not in hdbscan14:\n",
    "        print(pock)"
   ]
  },
  {
   "cell_type": "code",
   "execution_count": null,
   "metadata": {},
   "outputs": [],
   "source": []
  }
 ],
 "metadata": {
  "kernelspec": {
   "display_name": "Python 3",
   "language": "python",
   "name": "python3"
  },
  "language_info": {
   "codemirror_mode": {
    "name": "ipython",
    "version": 3
   },
   "file_extension": ".py",
   "mimetype": "text/x-python",
   "name": "python",
   "nbconvert_exporter": "python",
   "pygments_lexer": "ipython3",
   "version": "3.7.6"
  }
 },
 "nbformat": 4,
 "nbformat_minor": 4
}
